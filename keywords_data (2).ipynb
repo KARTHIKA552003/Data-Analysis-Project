{
 "cells": [
  {
   "cell_type": "code",
   "execution_count": 1,
   "id": "27d070ab-5e16-48fc-a8cb-15c190caddda",
   "metadata": {
    "execution": {
     "iopub.execute_input": "2024-09-25T04:35:21.176945Z",
     "iopub.status.busy": "2024-09-25T04:35:21.176537Z",
     "iopub.status.idle": "2024-09-25T04:35:46.815144Z",
     "shell.execute_reply": "2024-09-25T04:35:46.814331Z",
     "shell.execute_reply.started": "2024-09-25T04:35:21.176871Z"
    },
    "tags": []
   },
   "outputs": [
    {
     "data": {
      "application/vnd.jupyter.widget-view+json": {
       "model_id": "2d4f007517d04cc29461ccfde141fb8b",
       "version_major": 2,
       "version_minor": 0
      },
      "text/plain": [
       "VBox()"
      ]
     },
     "metadata": {},
     "output_type": "display_data"
    },
    {
     "name": "stdout",
     "output_type": "stream",
     "text": [
      "Starting Spark application\n"
     ]
    },
    {
     "data": {
      "text/html": [
       "<table>\n",
       "<tbody><tr><th>ID</th><th>YARN Application ID</th><th>Kind</th><th>State</th><th>Spark UI</th><th>Driver log</th><th>User</th><th>Current session?</th></tr><tr><td>5</td><td>application_1727235573085_0007</td><td>pyspark</td><td>idle</td><td><a target=\"_blank\" href=\"http://ip-172-22-10-120.us-east-2.compute.internal:20888/proxy/application_1727235573085_0007/\" class=\"emr-proxy-link j-1MD1S7TTNFJSS application_1727235573085_0007\" emr-resource=\"j-1MD1S7TTNFJSS\n",
       "\" application-id=\"application_1727235573085_0007\">Link</a></td><td><a target=\"_blank\" href=\"http://ip-172-22-10-47.us-east-2.compute.internal:8042/node/containerlogs/container_1727235573085_0007_01_000001/user_n-renukumar_rajendran_draup_com\">Link</a></td><td>user_n-renukumar_rajendran_draup_com</td><td>✔</td></tr></tbody></table>"
      ],
      "text/plain": [
       "<IPython.core.display.HTML object>"
      ]
     },
     "metadata": {},
     "output_type": "display_data"
    },
    {
     "data": {
      "application/vnd.jupyter.widget-view+json": {
       "model_id": "",
       "version_major": 2,
       "version_minor": 0
      },
      "text/plain": [
       "FloatProgress(value=0.0, bar_style='info', description='Progress:', layout=Layout(height='25px', width='50%'),…"
      ]
     },
     "metadata": {},
     "output_type": "display_data"
    },
    {
     "name": "stdout",
     "output_type": "stream",
     "text": [
      "SparkSession available as 'spark'.\n"
     ]
    },
    {
     "data": {
      "application/vnd.jupyter.widget-view+json": {
       "model_id": "",
       "version_major": 2,
       "version_minor": 0
      },
      "text/plain": [
       "FloatProgress(value=0.0, bar_style='info', description='Progress:', layout=Layout(height='25px', width='50%'),…"
      ]
     },
     "metadata": {},
     "output_type": "display_data"
    }
   ],
   "source": [
    "# start"
   ]
  },
  {
   "cell_type": "code",
   "execution_count": 2,
   "id": "eafac7ab-d2f8-42e6-ac07-4764e2da4c47",
   "metadata": {
    "execution": {
     "iopub.execute_input": "2024-09-25T04:35:46.816652Z",
     "iopub.status.busy": "2024-09-25T04:35:46.816435Z",
     "iopub.status.idle": "2024-09-25T04:35:52.116500Z",
     "shell.execute_reply": "2024-09-25T04:35:52.115554Z",
     "shell.execute_reply.started": "2024-09-25T04:35:46.816622Z"
    },
    "tags": []
   },
   "outputs": [
    {
     "data": {
      "application/vnd.jupyter.widget-view+json": {
       "model_id": "ba94243e670544da87f8a203bdfd56cd",
       "version_major": 2,
       "version_minor": 0
      },
      "text/plain": [
       "VBox()"
      ]
     },
     "metadata": {},
     "output_type": "display_data"
    },
    {
     "data": {
      "application/vnd.jupyter.widget-view+json": {
       "model_id": "",
       "version_major": 2,
       "version_minor": 0
      },
      "text/plain": [
       "FloatProgress(value=0.0, bar_style='info', description='Progress:', layout=Layout(height='25px', width='50%'),…"
      ]
     },
     "metadata": {},
     "output_type": "display_data"
    },
    {
     "name": "stdout",
     "output_type": "stream",
     "text": [
      "404\n",
      "404\n",
      "/usr/local/lib/python3.9/site-packages/urllib3/connectionpool.py:1063: InsecureRequestWarning: Unverified HTTPS request is being made to host 'gateway.draup.com'. Adding certificate verification is strongly advised. See: https://urllib3.readthedocs.io/en/1.26.x/advanced-usage.html#ssl-warnings\n",
      "  warnings.warn(\n",
      "/usr/local/lib/python3.9/site-packages/urllib3/connectionpool.py:1063: InsecureRequestWarning: Unverified HTTPS request is being made to host 'gateway.draup.com'. Adding certificate verification is strongly advised. See: https://urllib3.readthedocs.io/en/1.26.x/advanced-usage.html#ssl-warnings\n",
      "  warnings.warn("
     ]
    }
   ],
   "source": [
    "sc.addPyFile(\"s3://jobs-emr-etl-config/jobs_run/prod/cc/ML_ETL_Config.py\")\n",
    "from ML_ETL_Config import *\n",
    "utils_module = MlEtlUtils(spark, sc)\n",
    "to_import = [name for name in dir(utils_module) if not (name.startswith('_') | (name==\"spark\") | (name==\"sc\"))]\n",
    "globals().update({name: getattr(utils_module, name) for name in to_import})\n",
    "from pyspark.sql.functions import *\n",
    "from pyspark.sql import Window"
   ]
  },
  {
   "cell_type": "code",
   "execution_count": 4,
   "id": "fae18a32-020e-42b9-a125-daa328977781",
   "metadata": {
    "execution": {
     "iopub.execute_input": "2024-09-25T04:38:49.910466Z",
     "iopub.status.busy": "2024-09-25T04:38:49.910112Z",
     "iopub.status.idle": "2024-09-25T04:38:59.221155Z",
     "shell.execute_reply": "2024-09-25T04:38:59.220312Z",
     "shell.execute_reply.started": "2024-09-25T04:38:49.910405Z"
    },
    "tags": []
   },
   "outputs": [
    {
     "data": {
      "application/vnd.jupyter.widget-view+json": {
       "model_id": "32b1f8d95d6d4feb876d984bf5a771d2",
       "version_major": 2,
       "version_minor": 0
      },
      "text/plain": [
       "VBox()"
      ]
     },
     "metadata": {},
     "output_type": "display_data"
    },
    {
     "data": {
      "application/vnd.jupyter.widget-view+json": {
       "model_id": "",
       "version_major": 2,
       "version_minor": 0
      },
      "text/plain": [
       "FloatProgress(value=0.0, bar_style='info', description='Progress:', layout=Layout(height='25px', width='50%'),…"
      ]
     },
     "metadata": {},
     "output_type": "display_data"
    }
   ],
   "source": [
    "pce_df = spark.read.format(\"delta\").load(\"s3://etl-datahouse/prod/profiles/pce/pce_calc/pce_snapshot/delta\").select('mvp_company_name','currentPositions','pastPositions','publicLink','functional_workload','business_function','core_Skills','msa','years_of_experience','publications','patents','certifications').selectExpr('*','currentPositions[0].companyName as curr_company','currentPositions[0].company_industry as current_industry','currentPositions[0].job_title_lemmatized as current_job_title','currentPositions.job_role[0] as current_job_role','currentPositions[0].msa as current_msa','currentPositions[0].i18nStartDate as current_StartDate','currentPositions[0].i18nEndDate as current_EndDate','currentPositions[0].startDateYear as startDateYear','currentPositions[0].endDateYear as endDateYear','pastPositions[0].companyName as past_company','pastPositions[0].company_industry as past_industry','pastPositions[0].experience_years as past_company_experience','pastPositions[0].msa as past_msa','patents[0].title as patents_title','publications[0].title as publication_title','certifications[0].name as certifications_name').drop('currentPositions','pastPositions','past_data','deleted','patents','publications','certifications')"
   ]
  },
  {
   "cell_type": "code",
   "execution_count": 5,
   "id": "cd06f8b3-b96f-4916-b15e-e460294605f2",
   "metadata": {
    "execution": {
     "iopub.execute_input": "2024-09-25T04:39:00.767542Z",
     "iopub.status.busy": "2024-09-25T04:39:00.767237Z",
     "iopub.status.idle": "2024-09-25T04:48:42.184847Z",
     "shell.execute_reply": "2024-09-25T04:48:42.183933Z",
     "shell.execute_reply.started": "2024-09-25T04:39:00.767486Z"
    },
    "tags": []
   },
   "outputs": [
    {
     "data": {
      "application/vnd.jupyter.widget-view+json": {
       "model_id": "c0c30e21941a42a1998837292cfc8908",
       "version_major": 2,
       "version_minor": 0
      },
      "text/plain": [
       "VBox()"
      ]
     },
     "metadata": {},
     "output_type": "display_data"
    },
    {
     "data": {
      "application/vnd.jupyter.widget-view+json": {
       "model_id": "",
       "version_major": 2,
       "version_minor": 0
      },
      "text/plain": [
       "FloatProgress(value=0.0, bar_style='info', description='Progress:', layout=Layout(height='25px', width='50%'),…"
      ]
     },
     "metadata": {},
     "output_type": "display_data"
    }
   ],
   "source": [
    "#pce_df.write.mode(\"overwrite\").parquet('s3://draup-command-center/temp/cc/Renukumar_Draup/karthika/pce_keyword_data_task_25-09-2024')"
   ]
  },
  {
   "cell_type": "code",
   "execution_count": 3,
   "id": "a76feed9-262b-43f7-b330-167d6f3cb442",
   "metadata": {
    "collapsed": true,
    "execution": {
     "iopub.execute_input": "2024-09-25T04:35:52.118393Z",
     "iopub.status.busy": "2024-09-25T04:35:52.118162Z",
     "iopub.status.idle": "2024-09-25T04:35:52.891387Z",
     "shell.execute_reply": "2024-09-25T04:35:52.890547Z",
     "shell.execute_reply.started": "2024-09-25T04:35:52.118361Z"
    },
    "jupyter": {
     "outputs_hidden": true
    },
    "tags": []
   },
   "outputs": [
    {
     "data": {
      "application/vnd.jupyter.widget-view+json": {
       "model_id": "12ada8fc74b3480bbbefc2b2652f6ec3",
       "version_major": 2,
       "version_minor": 0
      },
      "text/plain": [
       "VBox()"
      ]
     },
     "metadata": {},
     "output_type": "display_data"
    },
    {
     "data": {
      "application/vnd.jupyter.widget-view+json": {
       "model_id": "",
       "version_major": 2,
       "version_minor": 0
      },
      "text/plain": [
       "FloatProgress(value=0.0, bar_style='info', description='Progress:', layout=Layout(height='25px', width='50%'),…"
      ]
     },
     "metadata": {},
     "output_type": "display_data"
    },
    {
     "name": "stderr",
     "output_type": "stream",
     "text": [
      "An error was encountered:\n",
      "[PATH_NOT_FOUND] Path does not exist: s3://draup-command-center/temp/cc/Renukumar_Draup/karthika/pce_keyword_data_task_18-09-2024.\n",
      "Traceback (most recent call last):\n",
      "  File \"/mnt/yarn/usercache/user_n-renukumar_rajendran_draup_com/appcache/application_1727235573085_0007/container_1727235573085_0007_01_000001/pyspark.zip/pyspark/sql/readwriter.py\", line 544, in parquet\n",
      "    return self._df(self._jreader.parquet(_to_seq(self._spark._sc, paths)))\n",
      "  File \"/mnt/yarn/usercache/user_n-renukumar_rajendran_draup_com/appcache/application_1727235573085_0007/container_1727235573085_0007_01_000001/py4j-0.10.9.7-src.zip/py4j/java_gateway.py\", line 1322, in __call__\n",
      "    return_value = get_return_value(\n",
      "  File \"/mnt/yarn/usercache/user_n-renukumar_rajendran_draup_com/appcache/application_1727235573085_0007/container_1727235573085_0007_01_000001/pyspark.zip/pyspark/errors/exceptions/captured.py\", line 185, in deco\n",
      "    raise converted from None\n",
      "pyspark.errors.exceptions.captured.AnalysisException: [PATH_NOT_FOUND] Path does not exist: s3://draup-command-center/temp/cc/Renukumar_Draup/karthika/pce_keyword_data_task_18-09-2024.\n",
      "\n"
     ]
    }
   ],
   "source": [
    "pce_data = spark.read.parquet('s3://draup-command-center/temp/cc/Renukumar_Draup/karthika/pce_keyword_data_task_25-09-2024')"
   ]
  },
  {
   "cell_type": "code",
   "execution_count": 23,
   "id": "f09c125e-d91a-4b08-b37a-e72b1a8cdacf",
   "metadata": {
    "execution": {
     "iopub.execute_input": "2024-08-21T04:59:32.741030Z",
     "iopub.status.busy": "2024-08-21T04:59:32.740744Z",
     "iopub.status.idle": "2024-08-21T04:59:32.795322Z",
     "shell.execute_reply": "2024-08-21T04:59:32.794514Z",
     "shell.execute_reply.started": "2024-08-21T04:59:32.740996Z"
    },
    "tags": []
   },
   "outputs": [
    {
     "data": {
      "application/vnd.jupyter.widget-view+json": {
       "model_id": "2903b01141ca46b4a56cfa0dac9bce36",
       "version_major": 2,
       "version_minor": 0
      },
      "text/plain": [
       "VBox()"
      ]
     },
     "metadata": {},
     "output_type": "display_data"
    },
    {
     "data": {
      "application/vnd.jupyter.widget-view+json": {
       "model_id": "",
       "version_major": 2,
       "version_minor": 0
      },
      "text/plain": [
       "FloatProgress(value=0.0, bar_style='info', description='Progress:', layout=Layout(height='25px', width='50%'),…"
      ]
     },
     "metadata": {},
     "output_type": "display_data"
    }
   ],
   "source": [
    "keyword = ['Innovation', 'Senior Innovation', 'R&D', 'Research and Development', 'Technology Innovation', 'Product Innovation', 'Innovation & Design', 'Flexible Packaging Solutions', 'Innovation and Market Development', 'Senior Product Innovation', 'Flexible Packaging Innovation', 'Research Innovation', 'Marketing Innovation', 'R&D Innovation', 'Research and Development Innovation', 'R&D Global Packaging Innovation', 'Innovation Projects', 'Technical']"
   ]
  },
  {
   "cell_type": "code",
   "execution_count": 24,
   "id": "c0d914a3-fee7-4b0d-8f82-8070ee1fab07",
   "metadata": {
    "execution": {
     "iopub.execute_input": "2024-08-21T04:59:34.729846Z",
     "iopub.status.busy": "2024-08-21T04:59:34.729584Z",
     "iopub.status.idle": "2024-08-21T04:59:34.784140Z",
     "shell.execute_reply": "2024-08-21T04:59:34.783281Z",
     "shell.execute_reply.started": "2024-08-21T04:59:34.729812Z"
    },
    "tags": []
   },
   "outputs": [
    {
     "data": {
      "application/vnd.jupyter.widget-view+json": {
       "model_id": "269a1d0b7bda4d1dabc5c1743e10c57b",
       "version_major": 2,
       "version_minor": 0
      },
      "text/plain": [
       "VBox()"
      ]
     },
     "metadata": {},
     "output_type": "display_data"
    },
    {
     "data": {
      "application/vnd.jupyter.widget-view+json": {
       "model_id": "",
       "version_major": 2,
       "version_minor": 0
      },
      "text/plain": [
       "FloatProgress(value=0.0, bar_style='info', description='Progress:', layout=Layout(height='25px', width='50%'),…"
      ]
     },
     "metadata": {},
     "output_type": "display_data"
    }
   ],
   "source": [
    "include_labels = ['Manager', 'Lead', 'Leader', 'Team Lead']\n",
    "exclude_labels = ['owner', 'Trainee']\n"
   ]
  },
  {
   "cell_type": "code",
   "execution_count": 41,
   "id": "78974a87-c35a-4878-9d59-1da6a25b9fe8",
   "metadata": {
    "execution": {
     "iopub.execute_input": "2024-08-21T05:07:16.943151Z",
     "iopub.status.busy": "2024-08-21T05:07:16.942720Z",
     "iopub.status.idle": "2024-08-21T05:07:17.210968Z",
     "shell.execute_reply": "2024-08-21T05:07:17.209882Z",
     "shell.execute_reply.started": "2024-08-21T05:07:16.943102Z"
    },
    "tags": []
   },
   "outputs": [
    {
     "data": {
      "application/vnd.jupyter.widget-view+json": {
       "model_id": "0047acea00bc4eb787e33ffd9eb5f009",
       "version_major": 2,
       "version_minor": 0
      },
      "text/plain": [
       "VBox()"
      ]
     },
     "metadata": {},
     "output_type": "display_data"
    },
    {
     "data": {
      "application/vnd.jupyter.widget-view+json": {
       "model_id": "",
       "version_major": 2,
       "version_minor": 0
      },
      "text/plain": [
       "FloatProgress(value=0.0, bar_style='info', description='Progress:', layout=Layout(height='25px', width='50%'),…"
      ]
     },
     "metadata": {},
     "output_type": "display_data"
    }
   ],
   "source": [
    "df_filtered = pce_data.filter(\n",
    "    F.expr(\"array_contains(array({}), current_job_title)\".format(\n",
    "        ','.join(f\"'{kw}'\" for kw in keyword)\n",
    "    ))\n",
    ")\n",
    "\n",
    "# Step 2: Extract those that contain any of the include labels\n",
    "df_extracted = df_filtered.filter(\n",
    "    F.expr(\"array_contains(array({}), current_job_title)\".format(\n",
    "        ','.join(f\"'{label}'\" for label in include_labels)\n",
    "    ))\n",
    ")\n",
    "\n",
    "# Exclude those that contain any of the exclude labels\n",
    "df_excluded = df_filtered.filter(\n",
    "    ~F.expr(\"array_contains(array({}), current_job_title)\".format(\n",
    "        ','.join(f\"'{label}'\" for label in exclude_labels)\n",
    "    ))\n",
    ")\n"
   ]
  },
  {
   "cell_type": "code",
   "execution_count": 43,
   "id": "aea69ac7-1d12-4236-a905-66e8e0976afc",
   "metadata": {
    "execution": {
     "iopub.execute_input": "2024-08-21T05:07:19.272502Z",
     "iopub.status.busy": "2024-08-21T05:07:19.272276Z",
     "iopub.status.idle": "2024-08-21T05:07:19.332252Z",
     "shell.execute_reply": "2024-08-21T05:07:19.331303Z",
     "shell.execute_reply.started": "2024-08-21T05:07:19.272469Z"
    },
    "tags": []
   },
   "outputs": [
    {
     "data": {
      "application/vnd.jupyter.widget-view+json": {
       "model_id": "e6d897dbac48470abae8cb3710ef68ba",
       "version_major": 2,
       "version_minor": 0
      },
      "text/plain": [
       "VBox()"
      ]
     },
     "metadata": {},
     "output_type": "display_data"
    },
    {
     "data": {
      "application/vnd.jupyter.widget-view+json": {
       "model_id": "",
       "version_major": 2,
       "version_minor": 0
      },
      "text/plain": [
       "FloatProgress(value=0.0, bar_style='info', description='Progress:', layout=Layout(height='25px', width='50%'),…"
      ]
     },
     "metadata": {},
     "output_type": "display_data"
    }
   ],
   "source": [
    "Keywords_profile = ['polymers', 'packaging', 'food packaging', 'plastic packaging', 'plastics', 'Package Technology', 'Flexibles']"
   ]
  },
  {
   "cell_type": "code",
   "execution_count": 44,
   "id": "d6deecd3-67fb-477a-b96d-8512c15a2838",
   "metadata": {
    "execution": {
     "iopub.execute_input": "2024-08-21T05:07:19.334180Z",
     "iopub.status.busy": "2024-08-21T05:07:19.333962Z",
     "iopub.status.idle": "2024-08-21T05:07:19.387734Z",
     "shell.execute_reply": "2024-08-21T05:07:19.386868Z",
     "shell.execute_reply.started": "2024-08-21T05:07:19.334148Z"
    },
    "tags": []
   },
   "outputs": [
    {
     "data": {
      "application/vnd.jupyter.widget-view+json": {
       "model_id": "0c9f279611b54faa8878557d5d85fb2e",
       "version_major": 2,
       "version_minor": 0
      },
      "text/plain": [
       "VBox()"
      ]
     },
     "metadata": {},
     "output_type": "display_data"
    },
    {
     "data": {
      "application/vnd.jupyter.widget-view+json": {
       "model_id": "",
       "version_major": 2,
       "version_minor": 0
      },
      "text/plain": [
       "FloatProgress(value=0.0, bar_style='info', description='Progress:', layout=Layout(height='25px', width='50%'),…"
      ]
     },
     "metadata": {},
     "output_type": "display_data"
    }
   ],
   "source": [
    "df_with_combined = df_excluded.withColumn(\n",
    "    \"combined_data\",\n",
    "\n",
    "    concat_ws(\", \", \"curr_company\",\"core_Skills\",\"current_job_title\",\"current_msa\",\"patents_title\",\"publication_title\",\"certifications_name\")\n",
    ")"
   ]
  },
  {
   "cell_type": "code",
   "execution_count": null,
   "id": "cd884c5f-7d83-4a9a-aee0-e745480f5aaf",
   "metadata": {},
   "outputs": [],
   "source": []
  },
  {
   "cell_type": "code",
   "execution_count": 45,
   "id": "e2ec2cdb-ba2a-4446-b439-6d3f2118466e",
   "metadata": {
    "execution": {
     "iopub.execute_input": "2024-08-21T05:07:19.766719Z",
     "iopub.status.busy": "2024-08-21T05:07:19.766457Z",
     "iopub.status.idle": "2024-08-21T05:07:19.821574Z",
     "shell.execute_reply": "2024-08-21T05:07:19.820720Z",
     "shell.execute_reply.started": "2024-08-21T05:07:19.766686Z"
    },
    "tags": []
   },
   "outputs": [
    {
     "data": {
      "application/vnd.jupyter.widget-view+json": {
       "model_id": "adf902caec2448bc887c45a320455959",
       "version_major": 2,
       "version_minor": 0
      },
      "text/plain": [
       "VBox()"
      ]
     },
     "metadata": {},
     "output_type": "display_data"
    },
    {
     "data": {
      "application/vnd.jupyter.widget-view+json": {
       "model_id": "",
       "version_major": 2,
       "version_minor": 0
      },
      "text/plain": [
       "FloatProgress(value=0.0, bar_style='info', description='Progress:', layout=Layout(height='25px', width='50%'),…"
      ]
     },
     "metadata": {},
     "output_type": "display_data"
    }
   ],
   "source": [
    "filtered_df = df_with_combined.filter(\n",
    "    df_with_combined.combined_data.contains(\"Polymers\") |\n",
    "    df_with_combined.combined_data.contains(\"Packaging\") |\n",
    "    df_with_combined.combined_data.contains(\"Food Packaging\") |\n",
    "    df_with_combined.combined_data.contains(\"Plastics Packaging\") |\n",
    "    df_with_combined.combined_data.contains(\"Plastics\") |\n",
    "    df_with_combined.combined_data.contains(\"Package Technology\") |\n",
    "    df_with_combined.combined_data.contains(\"Flexibles\")\n",
    ")\n",
    "\n"
   ]
  },
  {
   "cell_type": "code",
   "execution_count": 46,
   "id": "f59793a7-aad9-48e3-af85-4f891bb7a3ed",
   "metadata": {
    "collapsed": true,
    "execution": {
     "iopub.execute_input": "2024-08-21T05:07:19.955272Z",
     "iopub.status.busy": "2024-08-21T05:07:19.955014Z",
     "iopub.status.idle": "2024-08-21T05:07:27.256780Z",
     "shell.execute_reply": "2024-08-21T05:07:27.255638Z",
     "shell.execute_reply.started": "2024-08-21T05:07:19.955238Z"
    },
    "jupyter": {
     "outputs_hidden": true
    },
    "tags": []
   },
   "outputs": [
    {
     "data": {
      "application/vnd.jupyter.widget-view+json": {
       "model_id": "925dc4cb764f4f51bcf90c71ea537772",
       "version_major": 2,
       "version_minor": 0
      },
      "text/plain": [
       "VBox()"
      ]
     },
     "metadata": {},
     "output_type": "display_data"
    },
    {
     "data": {
      "application/vnd.jupyter.widget-view+json": {
       "model_id": "",
       "version_major": 2,
       "version_minor": 0
      },
      "text/plain": [
       "FloatProgress(value=0.0, bar_style='info', description='Progress:', layout=Layout(height='25px', width='50%'),…"
      ]
     },
     "metadata": {},
     "output_type": "display_data"
    },
    {
     "name": "stdout",
     "output_type": "stream",
     "text": [
      "+-------------------------------------------------------------------------------------------------------------------------------------------------------------------------------------------------------------------------------------------------------------------------------------------------------------------------------------------------------------------------------------------------------------------------------------------------------------------------------------------+\n",
      "|combined_data                                                                                                                                                                                                                                                                                                                                                                                                                                                                              |\n",
      "+-------------------------------------------------------------------------------------------------------------------------------------------------------------------------------------------------------------------------------------------------------------------------------------------------------------------------------------------------------------------------------------------------------------------------------------------------------------------------------------------+\n",
      "|Bony Polymers Pvt. Ltd, R (Programming Language), R&D, National Capital Region, India                                                                                                                                                                                                                                                                                                                                                                                                      |\n",
      "|제주특별자치도개발공사, Simulation Modeling, Packaging Development, SAP Enterprise Resource Planning (SAP ERP), Design Analysis, Research And Development (R&D), Validation Testing, Data Collection, R (Programming Language), Project Management, Packaging Specification, R&D, Jeju, South Korea                                                                                                                                                                                        |\n",
      "|Swan Plastics (Pty) Ltd, Technical, eThekwini, KwaZulu-Natal, South Africa                                                                                                                                                                                                                                                                                                                                                                                                                 |\n",
      "|Premirr Plastics Inc., Intellectual Property, R (Programming Language), R&D, Raleigh-Durham, North Carolina Area, United States                                                                                                                                                                                                                                                                                                                                                            |\n",
      "|PLASSON, Plastics Engineering, R (Programming Language), R&D, Haifa, Israel                                                                                                                                                                                                                                                                                                                                                                                                                |\n",
      "|Metzeler Plastics GmbH, R (Programming Language), R&D, Bonn Area, Germany                                                                                                                                                                                                                                                                                                                                                                                                                  |\n",
      "|DUTRA jobwear, Visual Communication, Product Design, Design Patterns, Industrial Design, Packaging Development, After Sales, Marketing Strategy, Prototyping, Fashion Design, Advertising, Marketing, R (Programming Language), R&D, Brussels Area, Belgium                                                                                                                                                                                                                                |\n",
      "|Procter & Gamble, Innovation Development, Polymer Chemistry, Materials Development, R (Programming Language), Polymers, R&D, Frankfurt Am Main Area, Germany, CEO Award P&G 2015, provided only to the top 3% talent globally.                                                                                                                                                                                                                                                             |\n",
      "|Graphic Packaging International, Technical, Greater Chicago Area, United States                                                                                                                                                                                                                                                                                                                                                                                                            |\n",
      "|Constantia Flexibles, R (Programming Language), R&D, San Luis Potosi Area, Mexico                                                                                                                                                                                                                                                                                                                                                                                                          |\n",
      "|Mandaue Libertad Commercial & Packaging, R (Programming Language), R&D                                                                                                                                                                                                                                                                                                                                                                                                                     |\n",
      "|HMC Polymers, Technical                                                                                                                                                                                                                                                                                                                                                                                                                                                                    |\n",
      "|Unilever, R (Programming Language), Packaging Development, R&D                                                                                                                                                                                                                                                                                                                                                                                                                             |\n",
      "|WS Packaging Group, Lean Manufacturing, R (Programming Language), R&D, Green Bay, Wisconsin Area, United States                                                                                                                                                                                                                                                                                                                                                                            |\n",
      "|FROMM Packaging Systems SOUTH AFRICA, Technical, Johannesburg, Gauteng, South Africa                                                                                                                                                                                                                                                                                                                                                                                                       |\n",
      "|El Pack Group, Packaging Engineering, R (Programming Language), R&D, Attiki, Greece                                                                                                                                                                                                                                                                                                                                                                                                        |\n",
      "|Evap Environmental Packaging, Business Management, Marketing, Technical, Leeds, United Kingdom                                                                                                                                                                                                                                                                                                                                                                                             |\n",
      "|The Clorox Company, Product Development, Innovation Management, Research And Development (R&D), Chemical Engineering, R (Programming Language), R&D, San Francisco Bay Area, United States, • Hard Surface Cleaning Composition, US Patent # 7700540 • Controlled Release Using Gels in a Melamine Foam, US Patent # 7612029 • Disposable Cleaning Head, US Patent # 7127768 • Hydroscopic Polymer Gel Films for Easier Cleaning, US Patent # 6926745, Certification Professional Packaging|\n",
      "|Solvay Engineered Polymers, R (Programming Language), R&D                                                                                                                                                                                                                                                                                                                                                                                                                                  |\n",
      "|SEOYON E HWA AUTOMOTIVE INDIA PVT LTD, Plastics Processing, Mould, ISO/TS 16949, Material Handling, Plastics Engineering, Injection Moulding, PaintShop Pro, Technical, Chennai Area, India                                                                                                                                                                                                                                                                                                |\n",
      "+-------------------------------------------------------------------------------------------------------------------------------------------------------------------------------------------------------------------------------------------------------------------------------------------------------------------------------------------------------------------------------------------------------------------------------------------------------------------------------------------+\n",
      "only showing top 20 rows"
     ]
    }
   ],
   "source": [
    "filtered_df[[\"combined_data\"]].show(truncate = False)"
   ]
  },
  {
   "cell_type": "code",
   "execution_count": 47,
   "id": "1b7e38d8-7ae0-4239-9c5d-9b071ed2b52d",
   "metadata": {
    "execution": {
     "iopub.execute_input": "2024-08-21T05:07:27.259038Z",
     "iopub.status.busy": "2024-08-21T05:07:27.258705Z",
     "iopub.status.idle": "2024-08-21T05:07:42.571569Z",
     "shell.execute_reply": "2024-08-21T05:07:42.570758Z",
     "shell.execute_reply.started": "2024-08-21T05:07:27.258995Z"
    },
    "tags": []
   },
   "outputs": [
    {
     "data": {
      "application/vnd.jupyter.widget-view+json": {
       "model_id": "87f098977be14534bfb9f07b98b0a6e4",
       "version_major": 2,
       "version_minor": 0
      },
      "text/plain": [
       "VBox()"
      ]
     },
     "metadata": {},
     "output_type": "display_data"
    },
    {
     "data": {
      "application/vnd.jupyter.widget-view+json": {
       "model_id": "",
       "version_major": 2,
       "version_minor": 0
      },
      "text/plain": [
       "FloatProgress(value=0.0, bar_style='info', description='Progress:', layout=Layout(height='25px', width='50%'),…"
      ]
     },
     "metadata": {},
     "output_type": "display_data"
    },
    {
     "name": "stdout",
     "output_type": "stream",
     "text": [
      "58"
     ]
    }
   ],
   "source": [
    "filtered_df.count()"
   ]
  },
  {
   "cell_type": "code",
   "execution_count": null,
   "id": "c805a7c2-8f79-4335-a804-e8209eca7e42",
   "metadata": {},
   "outputs": [],
   "source": []
  },
  {
   "cell_type": "markdown",
   "id": "d381de7d-4411-4854-b0ce-510fa4e93a7a",
   "metadata": {},
   "source": [
    "### Keyword Match(Inbount Migration)"
   ]
  },
  {
   "cell_type": "code",
   "execution_count": 33,
   "id": "8fd88b4d-f448-4f88-8f02-8c6c91e8d842",
   "metadata": {
    "execution": {
     "iopub.execute_input": "2024-09-23T08:46:58.417591Z",
     "iopub.status.busy": "2024-09-23T08:46:58.417328Z",
     "iopub.status.idle": "2024-09-23T08:46:58.475280Z",
     "shell.execute_reply": "2024-09-23T08:46:58.474294Z",
     "shell.execute_reply.started": "2024-09-23T08:46:58.417559Z"
    },
    "tags": []
   },
   "outputs": [
    {
     "data": {
      "application/vnd.jupyter.widget-view+json": {
       "model_id": "4cc757f61ef54ef5bac2be591f85016d",
       "version_major": 2,
       "version_minor": 0
      },
      "text/plain": [
       "VBox()"
      ]
     },
     "metadata": {},
     "output_type": "display_data"
    },
    {
     "data": {
      "application/vnd.jupyter.widget-view+json": {
       "model_id": "",
       "version_major": 2,
       "version_minor": 0
      },
      "text/plain": [
       "FloatProgress(value=0.0, bar_style='info', description='Progress:', layout=Layout(height='25px', width='50%'),…"
      ]
     },
     "metadata": {},
     "output_type": "display_data"
    }
   ],
   "source": [
    "pce_data1 =pce_data.filter(col('msa') == ('National Capital Region, Philippines'))"
   ]
  },
  {
   "cell_type": "code",
   "execution_count": 34,
   "id": "618ae6ee-bf21-4da8-a43a-f63b6dc20c48",
   "metadata": {
    "execution": {
     "iopub.execute_input": "2024-09-23T08:47:10.803236Z",
     "iopub.status.busy": "2024-09-23T08:47:10.802910Z",
     "iopub.status.idle": "2024-09-23T08:47:11.062970Z",
     "shell.execute_reply": "2024-09-23T08:47:11.062140Z",
     "shell.execute_reply.started": "2024-09-23T08:47:10.803192Z"
    },
    "tags": []
   },
   "outputs": [
    {
     "data": {
      "application/vnd.jupyter.widget-view+json": {
       "model_id": "43c9dbe3d42a4455ad4084e9a58c69a8",
       "version_major": 2,
       "version_minor": 0
      },
      "text/plain": [
       "VBox()"
      ]
     },
     "metadata": {},
     "output_type": "display_data"
    },
    {
     "data": {
      "application/vnd.jupyter.widget-view+json": {
       "model_id": "",
       "version_major": 2,
       "version_minor": 0
      },
      "text/plain": [
       "FloatProgress(value=0.0, bar_style='info', description='Progress:', layout=Layout(height='25px', width='50%'),…"
      ]
     },
     "metadata": {},
     "output_type": "display_data"
    }
   ],
   "source": [
    "keyword_df = pce_data1.withColumn(\n",
    "    'keyword',\n",
    "    concat_ws(\", \", \"curr_company\",\"Core_Skills\",\"current_job_title\",\"current_msa\",\"patents_title\",\"publication_title\",\"certifications_name\"))\n"
   ]
  },
  {
   "cell_type": "code",
   "execution_count": 41,
   "id": "6f428c83-d5b5-46e3-9459-57ced14cb925",
   "metadata": {
    "execution": {
     "iopub.execute_input": "2024-09-23T08:49:14.180541Z",
     "iopub.status.busy": "2024-09-23T08:49:14.180255Z",
     "iopub.status.idle": "2024-09-23T08:49:14.233471Z",
     "shell.execute_reply": "2024-09-23T08:49:14.232670Z",
     "shell.execute_reply.started": "2024-09-23T08:49:14.180508Z"
    },
    "tags": []
   },
   "outputs": [
    {
     "data": {
      "application/vnd.jupyter.widget-view+json": {
       "model_id": "a4b0c91d17e54b16b39be31bedc58a1f",
       "version_major": 2,
       "version_minor": 0
      },
      "text/plain": [
       "VBox()"
      ]
     },
     "metadata": {},
     "output_type": "display_data"
    },
    {
     "data": {
      "application/vnd.jupyter.widget-view+json": {
       "model_id": "",
       "version_major": 2,
       "version_minor": 0
      },
      "text/plain": [
       "FloatProgress(value=0.0, bar_style='info', description='Progress:', layout=Layout(height='25px', width='50%'),…"
      ]
     },
     "metadata": {},
     "output_type": "display_data"
    }
   ],
   "source": [
    "filter_df = keyword_df.filter(\n",
    "    (col('keyword').rlike(\"Customer Care|Client Support|Customer Success|Customer&Python\")))"
   ]
  },
  {
   "cell_type": "code",
   "execution_count": 42,
   "id": "51a50f78-7b01-42b1-9d37-e49c883d394b",
   "metadata": {
    "execution": {
     "iopub.execute_input": "2024-09-23T08:49:14.458497Z",
     "iopub.status.busy": "2024-09-23T08:49:14.458243Z",
     "iopub.status.idle": "2024-09-23T08:49:33.781163Z",
     "shell.execute_reply": "2024-09-23T08:49:33.780140Z",
     "shell.execute_reply.started": "2024-09-23T08:49:14.458466Z"
    },
    "tags": []
   },
   "outputs": [
    {
     "data": {
      "application/vnd.jupyter.widget-view+json": {
       "model_id": "cf283991ce7e443a8c1b3f4a287170c4",
       "version_major": 2,
       "version_minor": 0
      },
      "text/plain": [
       "VBox()"
      ]
     },
     "metadata": {},
     "output_type": "display_data"
    },
    {
     "data": {
      "application/vnd.jupyter.widget-view+json": {
       "model_id": "",
       "version_major": 2,
       "version_minor": 0
      },
      "text/plain": [
       "FloatProgress(value=0.0, bar_style='info', description='Progress:', layout=Layout(height='25px', width='50%'),…"
      ]
     },
     "metadata": {},
     "output_type": "display_data"
    },
    {
     "name": "stdout",
     "output_type": "stream",
     "text": [
      "9284"
     ]
    }
   ],
   "source": [
    "filter_df.count()"
   ]
  },
  {
   "cell_type": "code",
   "execution_count": null,
   "id": "3c50a982-9e29-47d8-9a0a-1dc558e066a6",
   "metadata": {},
   "outputs": [],
   "source": []
  },
  {
   "cell_type": "markdown",
   "id": "ca5e94a6-49f0-4e4a-9e34-36306a59b523",
   "metadata": {
    "execution": {
     "iopub.execute_input": "2024-09-23T08:33:46.239007Z",
     "iopub.status.busy": "2024-09-23T08:33:46.238676Z",
     "iopub.status.idle": "2024-09-23T08:33:46.303903Z",
     "shell.execute_reply": "2024-09-23T08:33:46.302997Z",
     "shell.execute_reply.started": "2024-09-23T08:33:46.238966Z"
    }
   },
   "source": [
    "#### Keyword(outbount Migration)"
   ]
  },
  {
   "cell_type": "code",
   "execution_count": 24,
   "id": "dc77e548-1d84-4fae-af98-3e7f49f04867",
   "metadata": {
    "execution": {
     "iopub.execute_input": "2024-09-23T08:34:19.941445Z",
     "iopub.status.busy": "2024-09-23T08:34:19.941180Z",
     "iopub.status.idle": "2024-09-23T08:34:19.997686Z",
     "shell.execute_reply": "2024-09-23T08:34:19.996806Z",
     "shell.execute_reply.started": "2024-09-23T08:34:19.941413Z"
    },
    "tags": []
   },
   "outputs": [
    {
     "data": {
      "application/vnd.jupyter.widget-view+json": {
       "model_id": "bb0dd88c6d82448aafa715c377b18a03",
       "version_major": 2,
       "version_minor": 0
      },
      "text/plain": [
       "VBox()"
      ]
     },
     "metadata": {},
     "output_type": "display_data"
    },
    {
     "data": {
      "application/vnd.jupyter.widget-view+json": {
       "model_id": "",
       "version_major": 2,
       "version_minor": 0
      },
      "text/plain": [
       "FloatProgress(value=0.0, bar_style='info', description='Progress:', layout=Layout(height='25px', width='50%'),…"
      ]
     },
     "metadata": {},
     "output_type": "display_data"
    }
   ],
   "source": [
    "pce_data2 =pce_data.filter(col('past_msa') == ('National Capital Region, Philippines'))"
   ]
  },
  {
   "cell_type": "code",
   "execution_count": 25,
   "id": "87e4bb8f-efce-45d5-adf2-4f960188553a",
   "metadata": {
    "execution": {
     "iopub.execute_input": "2024-09-23T08:35:40.077888Z",
     "iopub.status.busy": "2024-09-23T08:35:40.077611Z",
     "iopub.status.idle": "2024-09-23T08:35:40.337078Z",
     "shell.execute_reply": "2024-09-23T08:35:40.336240Z",
     "shell.execute_reply.started": "2024-09-23T08:35:40.077855Z"
    }
   },
   "outputs": [
    {
     "data": {
      "application/vnd.jupyter.widget-view+json": {
       "model_id": "b61930b1c0fe4a968bdc29fd48593b2e",
       "version_major": 2,
       "version_minor": 0
      },
      "text/plain": [
       "VBox()"
      ]
     },
     "metadata": {},
     "output_type": "display_data"
    },
    {
     "data": {
      "application/vnd.jupyter.widget-view+json": {
       "model_id": "",
       "version_major": 2,
       "version_minor": 0
      },
      "text/plain": [
       "FloatProgress(value=0.0, bar_style='info', description='Progress:', layout=Layout(height='25px', width='50%'),…"
      ]
     },
     "metadata": {},
     "output_type": "display_data"
    }
   ],
   "source": [
    "keyword_df = pce_data2.withColumn(\n",
    "    'keyword', \n",
    "    concat_ws(\", \", \"curr_company\",\"Core_Skills\",\"current_job_title\",\"current_msa\",\"patents_title\",\"publication_title\",\"certifications_name\"))\n"
   ]
  },
  {
   "cell_type": "code",
   "execution_count": 27,
   "id": "bb5c618e-cc2a-4d4b-9bc5-08732d0c3d26",
   "metadata": {
    "execution": {
     "iopub.execute_input": "2024-09-23T08:36:13.046340Z",
     "iopub.status.busy": "2024-09-23T08:36:13.046073Z",
     "iopub.status.idle": "2024-09-23T08:36:13.098125Z",
     "shell.execute_reply": "2024-09-23T08:36:13.097265Z",
     "shell.execute_reply.started": "2024-09-23T08:36:13.046306Z"
    },
    "tags": []
   },
   "outputs": [
    {
     "data": {
      "application/vnd.jupyter.widget-view+json": {
       "model_id": "b7447e704fa6401bbd9cc94adba17116",
       "version_major": 2,
       "version_minor": 0
      },
      "text/plain": [
       "VBox()"
      ]
     },
     "metadata": {},
     "output_type": "display_data"
    },
    {
     "data": {
      "application/vnd.jupyter.widget-view+json": {
       "model_id": "",
       "version_major": 2,
       "version_minor": 0
      },
      "text/plain": [
       "FloatProgress(value=0.0, bar_style='info', description='Progress:', layout=Layout(height='25px', width='50%'),…"
      ]
     },
     "metadata": {},
     "output_type": "display_data"
    }
   ],
   "source": [
    "outbount_data = keyword_df.filter(\n",
    "    (col('keyword').rlike(\"Customer Care|Client Support|Customer Success|Customer&Python\")))"
   ]
  },
  {
   "cell_type": "code",
   "execution_count": 28,
   "id": "fc48afb8-c493-4af3-b10e-65149f4fe6e2",
   "metadata": {
    "execution": {
     "iopub.execute_input": "2024-09-23T08:36:20.674132Z",
     "iopub.status.busy": "2024-09-23T08:36:20.673864Z",
     "iopub.status.idle": "2024-09-23T08:36:52.033213Z",
     "shell.execute_reply": "2024-09-23T08:36:52.032166Z",
     "shell.execute_reply.started": "2024-09-23T08:36:20.674100Z"
    }
   },
   "outputs": [
    {
     "data": {
      "application/vnd.jupyter.widget-view+json": {
       "model_id": "dc32db657b29493a952b233b55ab51f7",
       "version_major": 2,
       "version_minor": 0
      },
      "text/plain": [
       "VBox()"
      ]
     },
     "metadata": {},
     "output_type": "display_data"
    },
    {
     "data": {
      "application/vnd.jupyter.widget-view+json": {
       "model_id": "",
       "version_major": 2,
       "version_minor": 0
      },
      "text/plain": [
       "FloatProgress(value=0.0, bar_style='info', description='Progress:', layout=Layout(height='25px', width='50%'),…"
      ]
     },
     "metadata": {},
     "output_type": "display_data"
    },
    {
     "name": "stdout",
     "output_type": "stream",
     "text": [
      "2290"
     ]
    }
   ],
   "source": [
    "outbount_data.count()"
   ]
  },
  {
   "cell_type": "code",
   "execution_count": null,
   "id": "cd5d2af3-8b59-4732-9cd9-857dbbc1ded8",
   "metadata": {},
   "outputs": [],
   "source": []
  },
  {
   "cell_type": "code",
   "execution_count": null,
   "id": "fa90a767-854a-4cc4-8396-c810c9500b1a",
   "metadata": {},
   "outputs": [],
   "source": []
  },
  {
   "cell_type": "code",
   "execution_count": null,
   "id": "f9b38ce8-8718-4a3e-996b-b498dcffac4e",
   "metadata": {},
   "outputs": [],
   "source": []
  },
  {
   "cell_type": "code",
   "execution_count": null,
   "id": "955cc4b0-1574-4cd0-92ab-2cd1ab33ab97",
   "metadata": {},
   "outputs": [],
   "source": []
  }
 ],
 "metadata": {
  "kernelspec": {
   "display_name": "PySpark",
   "language": "python",
   "name": "pysparkkernel"
  },
  "language_info": {
   "codemirror_mode": {
    "name": "python",
    "version": 3
   },
   "file_extension": ".py",
   "mimetype": "text/x-python",
   "name": "pyspark",
   "pygments_lexer": "python3"
  }
 },
 "nbformat": 4,
 "nbformat_minor": 5
}
