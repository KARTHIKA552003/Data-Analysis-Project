{
 "cells": [
  {
   "cell_type": "code",
   "execution_count": 1,
   "id": "07255dc7-39f1-4209-a7f6-e199193afe65",
   "metadata": {
    "execution": {
     "iopub.execute_input": "2024-08-13T05:14:39.257813Z",
     "iopub.status.busy": "2024-08-13T05:14:39.257451Z",
     "iopub.status.idle": "2024-08-13T05:16:06.015065Z",
     "shell.execute_reply": "2024-08-13T05:16:06.014205Z",
     "shell.execute_reply.started": "2024-08-13T05:14:39.257780Z"
    },
    "tags": []
   },
   "outputs": [
    {
     "data": {
      "application/vnd.jupyter.widget-view+json": {
       "model_id": "65677dcbe9464b0fa15fd19fd98a182f",
       "version_major": 2,
       "version_minor": 0
      },
      "text/plain": [
       "VBox()"
      ]
     },
     "metadata": {},
     "output_type": "display_data"
    },
    {
     "name": "stdout",
     "output_type": "stream",
     "text": [
      "Starting Spark application\n"
     ]
    },
    {
     "data": {
      "text/html": [
       "<table>\n",
       "<tbody><tr><th>ID</th><th>YARN Application ID</th><th>Kind</th><th>State</th><th>Spark UI</th><th>Driver log</th><th>User</th><th>Current session?</th></tr><tr><td>6</td><td>application_1723518592324_0008</td><td>pyspark</td><td>idle</td><td><a target=\"_blank\" href=\"http://ip-172-22-10-127.us-east-2.compute.internal:20888/proxy/application_1723518592324_0008/\" class=\"emr-proxy-link j-NMEWLTQM2OC1 application_1723518592324_0008\" emr-resource=\"j-NMEWLTQM2OC1\n",
       "\" application-id=\"application_1723518592324_0008\">Link</a></td><td><a target=\"_blank\" href=\"http://ip-172-22-10-140.us-east-2.compute.internal:8042/node/containerlogs/container_1723518592324_0008_01_000002/user_n-renukumar_rajendran_draup_com\">Link</a></td><td>user_n-renukumar_rajendran_draup_com</td><td>✔</td></tr></tbody></table>"
      ],
      "text/plain": [
       "<IPython.core.display.HTML object>"
      ]
     },
     "metadata": {},
     "output_type": "display_data"
    },
    {
     "data": {
      "application/vnd.jupyter.widget-view+json": {
       "model_id": "",
       "version_major": 2,
       "version_minor": 0
      },
      "text/plain": [
       "FloatProgress(value=0.0, bar_style='info', description='Progress:', layout=Layout(height='25px', width='50%'),…"
      ]
     },
     "metadata": {},
     "output_type": "display_data"
    },
    {
     "name": "stdout",
     "output_type": "stream",
     "text": [
      "SparkSession available as 'spark'.\n"
     ]
    },
    {
     "data": {
      "application/vnd.jupyter.widget-view+json": {
       "model_id": "",
       "version_major": 2,
       "version_minor": 0
      },
      "text/plain": [
       "FloatProgress(value=0.0, bar_style='info', description='Progress:', layout=Layout(height='25px', width='50%'),…"
      ]
     },
     "metadata": {},
     "output_type": "display_data"
    }
   ],
   "source": [
    "#start"
   ]
  },
  {
   "cell_type": "code",
   "execution_count": 2,
   "id": "bc35704e-f21d-4833-a439-d05f6a5a82c8",
   "metadata": {
    "execution": {
     "iopub.execute_input": "2024-08-13T05:16:06.024276Z",
     "iopub.status.busy": "2024-08-13T05:16:06.024065Z",
     "iopub.status.idle": "2024-08-13T05:16:23.352706Z",
     "shell.execute_reply": "2024-08-13T05:16:23.351830Z",
     "shell.execute_reply.started": "2024-08-13T05:16:06.024245Z"
    },
    "tags": []
   },
   "outputs": [
    {
     "data": {
      "application/vnd.jupyter.widget-view+json": {
       "model_id": "759e8278b72a4202b1efc7090af8d8a7",
       "version_major": 2,
       "version_minor": 0
      },
      "text/plain": [
       "VBox()"
      ]
     },
     "metadata": {},
     "output_type": "display_data"
    },
    {
     "data": {
      "application/vnd.jupyter.widget-view+json": {
       "model_id": "",
       "version_major": 2,
       "version_minor": 0
      },
      "text/plain": [
       "FloatProgress(value=0.0, bar_style='info', description='Progress:', layout=Layout(height='25px', width='50%'),…"
      ]
     },
     "metadata": {},
     "output_type": "display_data"
    },
    {
     "name": "stdout",
     "output_type": "stream",
     "text": [
      "404\n",
      "404\n",
      "/usr/local/lib/python3.9/site-packages/urllib3/connectionpool.py:1063: InsecureRequestWarning: Unverified HTTPS request is being made to host 'gateway.draup.com'. Adding certificate verification is strongly advised. See: https://urllib3.readthedocs.io/en/1.26.x/advanced-usage.html#ssl-warnings\n",
      "  warnings.warn(\n",
      "/usr/local/lib/python3.9/site-packages/urllib3/connectionpool.py:1063: InsecureRequestWarning: Unverified HTTPS request is being made to host 'gateway.draup.com'. Adding certificate verification is strongly advised. See: https://urllib3.readthedocs.io/en/1.26.x/advanced-usage.html#ssl-warnings\n",
      "  warnings.warn("
     ]
    }
   ],
   "source": [
    "sc.addPyFile(\"s3://jobs-emr-etl-config/jobs_run/prod/cc/ML_ETL_Config.py\")\n",
    "from ML_ETL_Config import *\n",
    "utils_module = MlEtlUtils(spark, sc)\n",
    "to_import = [name for name in dir(utils_module) if not (name.startswith('_') | (name==\"spark\") | (name==\"sc\"))]\n",
    "globals().update({name: getattr(utils_module, name) for name in to_import})\n",
    "from pyspark.sql.functions import *\n",
    "from pyspark.sql import Window"
   ]
  },
  {
   "cell_type": "code",
   "execution_count": 3,
   "id": "78be66e7-82a7-49fb-ab7e-8172b999b947",
   "metadata": {
    "execution": {
     "iopub.execute_input": "2024-08-13T05:16:23.354135Z",
     "iopub.status.busy": "2024-08-13T05:16:23.353889Z",
     "iopub.status.idle": "2024-08-13T05:16:28.649494Z",
     "shell.execute_reply": "2024-08-13T05:16:28.648498Z",
     "shell.execute_reply.started": "2024-08-13T05:16:23.354104Z"
    },
    "tags": []
   },
   "outputs": [
    {
     "data": {
      "application/vnd.jupyter.widget-view+json": {
       "model_id": "e27bb168083d4d6aa81f9c743a36f6d0",
       "version_major": 2,
       "version_minor": 0
      },
      "text/plain": [
       "VBox()"
      ]
     },
     "metadata": {},
     "output_type": "display_data"
    },
    {
     "data": {
      "application/vnd.jupyter.widget-view+json": {
       "model_id": "",
       "version_major": 2,
       "version_minor": 0
      },
      "text/plain": [
       "FloatProgress(value=0.0, bar_style='info', description='Progress:', layout=Layout(height='25px', width='50%'),…"
      ]
     },
     "metadata": {},
     "output_type": "display_data"
    }
   ],
   "source": [
    "JD_df=spark.read.format('delta').load('s3://etl-datahouse/prod/job_descriptions/etl/curated/processed_data/delta').selectExpr('data_lake_id','mvp_company_name','translated_job_title','msa','synon_location','url','job_role_list','publication_date','functional_workload','business_function','core_skills', 'soft_skills','digital_products','education','job_type','company','consolidated_jds.msa as consolidated_msa').withColumn('lower_cmp_name',lower(col('mvp_company_name')))"
   ]
  },
  {
   "cell_type": "code",
   "execution_count": 4,
   "id": "6c3cb2ee-a5f8-4572-ba3d-ccf4202e2290",
   "metadata": {
    "execution": {
     "iopub.execute_input": "2024-08-13T05:16:28.650996Z",
     "iopub.status.busy": "2024-08-13T05:16:28.650744Z",
     "iopub.status.idle": "2024-08-13T05:16:28.712303Z",
     "shell.execute_reply": "2024-08-13T05:16:28.711305Z",
     "shell.execute_reply.started": "2024-08-13T05:16:28.650963Z"
    },
    "tags": []
   },
   "outputs": [
    {
     "data": {
      "application/vnd.jupyter.widget-view+json": {
       "model_id": "fd802f6707ee4a8fb0987b51b280ce70",
       "version_major": 2,
       "version_minor": 0
      },
      "text/plain": [
       "VBox()"
      ]
     },
     "metadata": {},
     "output_type": "display_data"
    },
    {
     "data": {
      "application/vnd.jupyter.widget-view+json": {
       "model_id": "",
       "version_major": 2,
       "version_minor": 0
      },
      "text/plain": [
       "FloatProgress(value=0.0, bar_style='info', description='Progress:', layout=Layout(height='25px', width='50%'),…"
      ]
     },
     "metadata": {},
     "output_type": "display_data"
    },
    {
     "name": "stdout",
     "output_type": "stream",
     "text": [
      "root\n",
      " |-- data_lake_id: string (nullable = true)\n",
      " |-- mvp_company_name: string (nullable = true)\n",
      " |-- translated_job_title: string (nullable = true)\n",
      " |-- msa: string (nullable = true)\n",
      " |-- synon_location: string (nullable = true)\n",
      " |-- url: string (nullable = true)\n",
      " |-- job_role_list: array (nullable = true)\n",
      " |    |-- element: string (containsNull = true)\n",
      " |-- publication_date: date (nullable = true)\n",
      " |-- functional_workload: array (nullable = true)\n",
      " |    |-- element: string (containsNull = true)\n",
      " |-- business_function: array (nullable = true)\n",
      " |    |-- element: string (containsNull = true)\n",
      " |-- core_skills: array (nullable = true)\n",
      " |    |-- element: string (containsNull = true)\n",
      " |-- soft_skills: array (nullable = true)\n",
      " |    |-- element: string (containsNull = true)\n",
      " |-- digital_products: array (nullable = true)\n",
      " |    |-- element: string (containsNull = true)\n",
      " |-- education: string (nullable = true)\n",
      " |-- job_type: struct (nullable = true)\n",
      " |    |-- job_time_based_tags: array (nullable = true)\n",
      " |    |    |-- element: string (containsNull = true)\n",
      " |    |-- work_location_based_tags: array (nullable = true)\n",
      " |    |    |-- element: string (containsNull = true)\n",
      " |-- company: string (nullable = true)\n",
      " |-- consolidated_msa: array (nullable = true)\n",
      " |    |-- element: string (containsNull = true)\n",
      " |-- lower_cmp_name: string (nullable = true)"
     ]
    }
   ],
   "source": [
    "JD_df.printSchema()"
   ]
  },
  {
   "cell_type": "code",
   "execution_count": null,
   "id": "abb0e84b-cf22-4b71-96c2-c8ca4d58ee68",
   "metadata": {},
   "outputs": [],
   "source": [
    "### Filter year"
   ]
  },
  {
   "cell_type": "code",
   "execution_count": 5,
   "id": "f63a25bb-cbc9-4471-86e8-17670368e4d5",
   "metadata": {
    "execution": {
     "iopub.execute_input": "2024-08-08T04:19:44.026090Z",
     "iopub.status.busy": "2024-08-08T04:19:44.025735Z",
     "iopub.status.idle": "2024-08-08T04:19:44.295017Z",
     "shell.execute_reply": "2024-08-08T04:19:44.293919Z",
     "shell.execute_reply.started": "2024-08-08T04:19:44.026046Z"
    },
    "tags": []
   },
   "outputs": [
    {
     "data": {
      "application/vnd.jupyter.widget-view+json": {
       "model_id": "a7056e5a1c2c49d1b218e6b7cf456494",
       "version_major": 2,
       "version_minor": 0
      },
      "text/plain": [
       "VBox()"
      ]
     },
     "metadata": {},
     "output_type": "display_data"
    },
    {
     "data": {
      "application/vnd.jupyter.widget-view+json": {
       "model_id": "3968f68ba13246209a0b63c8d4e83b71",
       "version_major": 2,
       "version_minor": 0
      },
      "text/plain": [
       "FloatProgress(value=0.0, bar_style='info', description='Progress:', layout=Layout(height='25px', width='50%'),…"
      ]
     },
     "metadata": {},
     "output_type": "display_data"
    }
   ],
   "source": [
    "JD_data = JD_df.filter((col('publication_date') >= '2021-01-01') & (col('publication_date') <= '2024-08-06'))\n"
   ]
  },
  {
   "cell_type": "markdown",
   "id": "363a6dfe-ab76-4c95-8cf9-80b7c54f4e0d",
   "metadata": {},
   "source": [
    "### Role input file"
   ]
  },
  {
   "cell_type": "code",
   "execution_count": 6,
   "id": "899c209f-6451-4e00-b08c-9d6337a3db40",
   "metadata": {
    "execution": {
     "iopub.execute_input": "2024-08-08T04:19:44.297231Z",
     "iopub.status.busy": "2024-08-08T04:19:44.296931Z",
     "iopub.status.idle": "2024-08-08T04:19:45.068782Z",
     "shell.execute_reply": "2024-08-08T04:19:45.067920Z",
     "shell.execute_reply.started": "2024-08-08T04:19:44.297192Z"
    },
    "tags": []
   },
   "outputs": [
    {
     "data": {
      "application/vnd.jupyter.widget-view+json": {
       "model_id": "e4be1798c4054ad0884e73e88c5c74ef",
       "version_major": 2,
       "version_minor": 0
      },
      "text/plain": [
       "VBox()"
      ]
     },
     "metadata": {},
     "output_type": "display_data"
    },
    {
     "data": {
      "application/vnd.jupyter.widget-view+json": {
       "model_id": "7125ffbc2e5d4749b6499da8db372296",
       "version_major": 2,
       "version_minor": 0
      },
      "text/plain": [
       "FloatProgress(value=0.0, bar_style='info', description='Progress:', layout=Layout(height='25px', width='50%'),…"
      ]
     },
     "metadata": {},
     "output_type": "display_data"
    }
   ],
   "source": [
    "Role_df = spark.read.csv(\"s3://draup-command-center/temp/cc/Renukumar_Draup/karthika/Input/UK_job role_06-08-2024.csv\",header = True)"
   ]
  },
  {
   "cell_type": "code",
   "execution_count": 7,
   "id": "8f39f8bf-13a1-4d14-a08e-dd241cc7fdb9",
   "metadata": {
    "execution": {
     "iopub.execute_input": "2024-08-08T04:19:45.070127Z",
     "iopub.status.busy": "2024-08-08T04:19:45.069908Z",
     "iopub.status.idle": "2024-08-08T04:19:45.128943Z",
     "shell.execute_reply": "2024-08-08T04:19:45.128004Z",
     "shell.execute_reply.started": "2024-08-08T04:19:45.070094Z"
    },
    "tags": []
   },
   "outputs": [
    {
     "data": {
      "application/vnd.jupyter.widget-view+json": {
       "model_id": "06bdddda35874fdaa425b42db45dfa95",
       "version_major": 2,
       "version_minor": 0
      },
      "text/plain": [
       "VBox()"
      ]
     },
     "metadata": {},
     "output_type": "display_data"
    },
    {
     "data": {
      "application/vnd.jupyter.widget-view+json": {
       "model_id": "ae93c76334d34dce9b90473b1d252a89",
       "version_major": 2,
       "version_minor": 0
      },
      "text/plain": [
       "FloatProgress(value=0.0, bar_style='info', description='Progress:', layout=Layout(height='25px', width='50%'),…"
      ]
     },
     "metadata": {},
     "output_type": "display_data"
    },
    {
     "name": "stdout",
     "output_type": "stream",
     "text": [
      "['Roles']"
     ]
    }
   ],
   "source": [
    "Role_df.columns"
   ]
  },
  {
   "cell_type": "code",
   "execution_count": 8,
   "id": "a0e7dd24-8590-4196-a936-9edb560b0961",
   "metadata": {
    "execution": {
     "iopub.execute_input": "2024-08-08T04:19:45.130421Z",
     "iopub.status.busy": "2024-08-08T04:19:45.130167Z",
     "iopub.status.idle": "2024-08-08T04:19:45.400040Z",
     "shell.execute_reply": "2024-08-08T04:19:45.399179Z",
     "shell.execute_reply.started": "2024-08-08T04:19:45.130388Z"
    },
    "tags": []
   },
   "outputs": [
    {
     "data": {
      "application/vnd.jupyter.widget-view+json": {
       "model_id": "18d3bdf513e249e59d8d4ab3a153cbed",
       "version_major": 2,
       "version_minor": 0
      },
      "text/plain": [
       "VBox()"
      ]
     },
     "metadata": {},
     "output_type": "display_data"
    },
    {
     "data": {
      "application/vnd.jupyter.widget-view+json": {
       "model_id": "b423832adc40400bad9160a2aaf883f6",
       "version_major": 2,
       "version_minor": 0
      },
      "text/plain": [
       "FloatProgress(value=0.0, bar_style='info', description='Progress:', layout=Layout(height='25px', width='50%'),…"
      ]
     },
     "metadata": {},
     "output_type": "display_data"
    }
   ],
   "source": [
    "explode_df = JD_data.withColumn('Roles', explode(col('job_role_list')))\n"
   ]
  },
  {
   "cell_type": "code",
   "execution_count": 9,
   "id": "10b12a12-3719-49a8-8b54-ff563de06ada",
   "metadata": {
    "execution": {
     "iopub.execute_input": "2024-08-08T04:19:45.401489Z",
     "iopub.status.busy": "2024-08-08T04:19:45.401268Z",
     "iopub.status.idle": "2024-08-08T04:19:45.664443Z",
     "shell.execute_reply": "2024-08-08T04:19:45.663542Z",
     "shell.execute_reply.started": "2024-08-08T04:19:45.401458Z"
    },
    "tags": []
   },
   "outputs": [
    {
     "data": {
      "application/vnd.jupyter.widget-view+json": {
       "model_id": "5ba08415f28648c5bda82b8aef02eb7b",
       "version_major": 2,
       "version_minor": 0
      },
      "text/plain": [
       "VBox()"
      ]
     },
     "metadata": {},
     "output_type": "display_data"
    },
    {
     "data": {
      "application/vnd.jupyter.widget-view+json": {
       "model_id": "698903c2617a46f39167c26a623ffdb3",
       "version_major": 2,
       "version_minor": 0
      },
      "text/plain": [
       "FloatProgress(value=0.0, bar_style='info', description='Progress:', layout=Layout(height='25px', width='50%'),…"
      ]
     },
     "metadata": {},
     "output_type": "display_data"
    }
   ],
   "source": [
    "Role_tag = explode_df.join(Role_df, ['Roles'], 'inner')"
   ]
  },
  {
   "cell_type": "code",
   "execution_count": null,
   "id": "0654f59d-23a4-4bec-9e38-29ef46869f88",
   "metadata": {},
   "outputs": [],
   "source": []
  },
  {
   "cell_type": "markdown",
   "id": "4fc9e15a-4e8c-467e-8170-007b48c7fa2a",
   "metadata": {},
   "source": [
    "### company name input file"
   ]
  },
  {
   "cell_type": "code",
   "execution_count": 10,
   "id": "3f313d33-76f2-4e31-ab2d-b7b8d585924c",
   "metadata": {
    "execution": {
     "iopub.execute_input": "2024-08-08T04:19:45.667255Z",
     "iopub.status.busy": "2024-08-08T04:19:45.667016Z",
     "iopub.status.idle": "2024-08-08T04:19:46.433478Z",
     "shell.execute_reply": "2024-08-08T04:19:46.432325Z",
     "shell.execute_reply.started": "2024-08-08T04:19:45.667215Z"
    },
    "tags": []
   },
   "outputs": [
    {
     "data": {
      "application/vnd.jupyter.widget-view+json": {
       "model_id": "e64870aac0174a18a3da9d545d5b9bfe",
       "version_major": 2,
       "version_minor": 0
      },
      "text/plain": [
       "VBox()"
      ]
     },
     "metadata": {},
     "output_type": "display_data"
    },
    {
     "data": {
      "application/vnd.jupyter.widget-view+json": {
       "model_id": "dbc3e6a0802c4e8196829fb93a714b0b",
       "version_major": 2,
       "version_minor": 0
      },
      "text/plain": [
       "FloatProgress(value=0.0, bar_style='info', description='Progress:', layout=Layout(height='25px', width='50%'),…"
      ]
     },
     "metadata": {},
     "output_type": "display_data"
    }
   ],
   "source": [
    "com_df = spark.read.csv('s3://draup-command-center/temp/cc/Renukumar_Draup/karthika/output/dpd_UK_Draup_company_name_datas_06-08-2024.csv',header = True).drop('_c0')"
   ]
  },
  {
   "cell_type": "code",
   "execution_count": 11,
   "id": "769b798c-8f19-48bb-8de6-c75a28619404",
   "metadata": {
    "execution": {
     "iopub.execute_input": "2024-08-08T04:19:46.435447Z",
     "iopub.status.busy": "2024-08-08T04:19:46.435221Z",
     "iopub.status.idle": "2024-08-08T04:19:46.502628Z",
     "shell.execute_reply": "2024-08-08T04:19:46.501803Z",
     "shell.execute_reply.started": "2024-08-08T04:19:46.435417Z"
    },
    "tags": []
   },
   "outputs": [
    {
     "data": {
      "application/vnd.jupyter.widget-view+json": {
       "model_id": "b082c0c9c99f4712a211c95f577a398b",
       "version_major": 2,
       "version_minor": 0
      },
      "text/plain": [
       "VBox()"
      ]
     },
     "metadata": {},
     "output_type": "display_data"
    },
    {
     "data": {
      "application/vnd.jupyter.widget-view+json": {
       "model_id": "bbe561610b6b4a1bb1a1c510b18dddbe",
       "version_major": 2,
       "version_minor": 0
      },
      "text/plain": [
       "FloatProgress(value=0.0, bar_style='info', description='Progress:', layout=Layout(height='25px', width='50%'),…"
      ]
     },
     "metadata": {},
     "output_type": "display_data"
    },
    {
     "name": "stdout",
     "output_type": "stream",
     "text": [
      "['Draup Name', 'mvp_company_name', 'lower_company']"
     ]
    }
   ],
   "source": [
    "com_df.columns"
   ]
  },
  {
   "cell_type": "code",
   "execution_count": 12,
   "id": "312924bd-2a30-4b1c-a77f-a80be5796dee",
   "metadata": {
    "execution": {
     "iopub.execute_input": "2024-08-08T04:19:46.503982Z",
     "iopub.status.busy": "2024-08-08T04:19:46.503760Z",
     "iopub.status.idle": "2024-08-08T04:19:46.563393Z",
     "shell.execute_reply": "2024-08-08T04:19:46.562385Z",
     "shell.execute_reply.started": "2024-08-08T04:19:46.503952Z"
    },
    "tags": []
   },
   "outputs": [
    {
     "data": {
      "application/vnd.jupyter.widget-view+json": {
       "model_id": "cdf509759f0044d29dccc1dd1e3465a8",
       "version_major": 2,
       "version_minor": 0
      },
      "text/plain": [
       "VBox()"
      ]
     },
     "metadata": {},
     "output_type": "display_data"
    },
    {
     "data": {
      "application/vnd.jupyter.widget-view+json": {
       "model_id": "c4e23645f75b4ed292fcb26a3b13e385",
       "version_major": 2,
       "version_minor": 0
      },
      "text/plain": [
       "FloatProgress(value=0.0, bar_style='info', description='Progress:', layout=Layout(height='25px', width='50%'),…"
      ]
     },
     "metadata": {},
     "output_type": "display_data"
    }
   ],
   "source": [
    "com_tag = Role_tag.join(com_df, [\"mvp_company_name\"],'inner')"
   ]
  },
  {
   "cell_type": "markdown",
   "id": "468f89a6-9877-4db5-b244-ae97590e6d96",
   "metadata": {},
   "source": [
    "### msa input file"
   ]
  },
  {
   "cell_type": "code",
   "execution_count": 13,
   "id": "987c2d8c-68e0-4f75-8015-4b2c709194e0",
   "metadata": {
    "execution": {
     "iopub.execute_input": "2024-08-08T04:19:46.564874Z",
     "iopub.status.busy": "2024-08-08T04:19:46.564620Z",
     "iopub.status.idle": "2024-08-08T04:19:47.381795Z",
     "shell.execute_reply": "2024-08-08T04:19:47.380437Z",
     "shell.execute_reply.started": "2024-08-08T04:19:46.564841Z"
    },
    "tags": []
   },
   "outputs": [
    {
     "data": {
      "application/vnd.jupyter.widget-view+json": {
       "model_id": "98338324876e42868b91e8819a12d087",
       "version_major": 2,
       "version_minor": 0
      },
      "text/plain": [
       "VBox()"
      ]
     },
     "metadata": {},
     "output_type": "display_data"
    },
    {
     "data": {
      "application/vnd.jupyter.widget-view+json": {
       "model_id": "33c9ed5b6f48460d837f64977898fdea",
       "version_major": 2,
       "version_minor": 0
      },
      "text/plain": [
       "FloatProgress(value=0.0, bar_style='info', description='Progress:', layout=Layout(height='25px', width='50%'),…"
      ]
     },
     "metadata": {},
     "output_type": "display_data"
    }
   ],
   "source": [
    "loc_df=spark.read.csv('s3://draup-command-center/temp/cc/Renukumar_Draup/karthika/Input/UK_location_06-08-2024.csv',header=True)"
   ]
  },
  {
   "cell_type": "code",
   "execution_count": 14,
   "id": "bfc26808-fabc-4334-9d9e-2402d5055a2c",
   "metadata": {
    "execution": {
     "iopub.execute_input": "2024-08-08T04:19:47.383772Z",
     "iopub.status.busy": "2024-08-08T04:19:47.383311Z",
     "iopub.status.idle": "2024-08-08T04:19:47.488017Z",
     "shell.execute_reply": "2024-08-08T04:19:47.486743Z",
     "shell.execute_reply.started": "2024-08-08T04:19:47.383724Z"
    },
    "tags": []
   },
   "outputs": [
    {
     "data": {
      "application/vnd.jupyter.widget-view+json": {
       "model_id": "5f8adfe890924cafb3b4862cf6959206",
       "version_major": 2,
       "version_minor": 0
      },
      "text/plain": [
       "VBox()"
      ]
     },
     "metadata": {},
     "output_type": "display_data"
    },
    {
     "data": {
      "application/vnd.jupyter.widget-view+json": {
       "model_id": "ab4bec14ce5248fba66a591bce9693a6",
       "version_major": 2,
       "version_minor": 0
      },
      "text/plain": [
       "FloatProgress(value=0.0, bar_style='info', description='Progress:', layout=Layout(height='25px', width='50%'),…"
      ]
     },
     "metadata": {},
     "output_type": "display_data"
    },
    {
     "name": "stdout",
     "output_type": "stream",
     "text": [
      "['Location', 'Country', 'Region']"
     ]
    }
   ],
   "source": [
    "loc_df.columns"
   ]
  },
  {
   "cell_type": "code",
   "execution_count": 15,
   "id": "9ba233d6-6842-4561-b687-2e0062da117a",
   "metadata": {
    "execution": {
     "iopub.execute_input": "2024-08-08T04:19:47.490183Z",
     "iopub.status.busy": "2024-08-08T04:19:47.489760Z",
     "iopub.status.idle": "2024-08-08T04:19:47.769991Z",
     "shell.execute_reply": "2024-08-08T04:19:47.768566Z",
     "shell.execute_reply.started": "2024-08-08T04:19:47.490132Z"
    },
    "tags": []
   },
   "outputs": [
    {
     "data": {
      "application/vnd.jupyter.widget-view+json": {
       "model_id": "dfb9d5a6c072479d93bda1dff0dd15c8",
       "version_major": 2,
       "version_minor": 0
      },
      "text/plain": [
       "VBox()"
      ]
     },
     "metadata": {},
     "output_type": "display_data"
    },
    {
     "data": {
      "application/vnd.jupyter.widget-view+json": {
       "model_id": "c97beeed96b44ac1a86b1a17a39bbeef",
       "version_major": 2,
       "version_minor": 0
      },
      "text/plain": [
       "FloatProgress(value=0.0, bar_style='info', description='Progress:', layout=Layout(height='25px', width='50%'),…"
      ]
     },
     "metadata": {},
     "output_type": "display_data"
    }
   ],
   "source": [
    "main_df = com_tag.join(loc_df, com_tag['msa'] == loc_df['Location'], 'inner').drop('Location')"
   ]
  },
  {
   "cell_type": "code",
   "execution_count": 16,
   "id": "1409fcd7-75ac-4419-87ef-b73a023b079b",
   "metadata": {
    "execution": {
     "iopub.execute_input": "2024-08-08T04:19:48.130044Z",
     "iopub.status.busy": "2024-08-08T04:19:48.129607Z",
     "iopub.status.idle": "2024-08-08T04:19:48.223677Z",
     "shell.execute_reply": "2024-08-08T04:19:48.222545Z",
     "shell.execute_reply.started": "2024-08-08T04:19:48.129979Z"
    },
    "tags": []
   },
   "outputs": [
    {
     "data": {
      "application/vnd.jupyter.widget-view+json": {
       "model_id": "6fc69802f0a048ae88cc92b482bea32c",
       "version_major": 2,
       "version_minor": 0
      },
      "text/plain": [
       "VBox()"
      ]
     },
     "metadata": {},
     "output_type": "display_data"
    },
    {
     "data": {
      "application/vnd.jupyter.widget-view+json": {
       "model_id": "78af9aa0ea944c2cb44f8c8e25b505cc",
       "version_major": 2,
       "version_minor": 0
      },
      "text/plain": [
       "FloatProgress(value=0.0, bar_style='info', description='Progress:', layout=Layout(height='25px', width='50%'),…"
      ]
     },
     "metadata": {},
     "output_type": "display_data"
    }
   ],
   "source": [
    "df_with_array = main_df.withColumn(\"skills_array\", split(col(\"core_skills\"), \"; \"))\n"
   ]
  },
  {
   "cell_type": "code",
   "execution_count": 17,
   "id": "91e432a5-ba9d-4560-9aec-61f6dbce8cb3",
   "metadata": {
    "execution": {
     "iopub.execute_input": "2024-08-08T04:19:49.998208Z",
     "iopub.status.busy": "2024-08-08T04:19:49.997937Z",
     "iopub.status.idle": "2024-08-08T04:19:50.075194Z",
     "shell.execute_reply": "2024-08-08T04:19:50.074243Z",
     "shell.execute_reply.started": "2024-08-08T04:19:49.998175Z"
    },
    "tags": []
   },
   "outputs": [
    {
     "data": {
      "application/vnd.jupyter.widget-view+json": {
       "model_id": "8a78adb86063453faa7aaacffe60e1ad",
       "version_major": 2,
       "version_minor": 0
      },
      "text/plain": [
       "VBox()"
      ]
     },
     "metadata": {},
     "output_type": "display_data"
    },
    {
     "data": {
      "application/vnd.jupyter.widget-view+json": {
       "model_id": "efd2a1a24a0842969cc05233cd578730",
       "version_major": 2,
       "version_minor": 0
      },
      "text/plain": [
       "FloatProgress(value=0.0, bar_style='info', description='Progress:', layout=Layout(height='25px', width='50%'),…"
      ]
     },
     "metadata": {},
     "output_type": "display_data"
    }
   ],
   "source": [
    "exploded_df = df_with_array.withColumn(\"skill\", explode(col(\"skills_array\")))\n"
   ]
  },
  {
   "cell_type": "code",
   "execution_count": 22,
   "id": "8202ba37-414c-4225-9287-0c45707297a7",
   "metadata": {
    "execution": {
     "iopub.execute_input": "2024-08-08T04:20:22.237821Z",
     "iopub.status.busy": "2024-08-08T04:20:22.237446Z",
     "iopub.status.idle": "2024-08-08T04:20:22.522820Z",
     "shell.execute_reply": "2024-08-08T04:20:22.521816Z",
     "shell.execute_reply.started": "2024-08-08T04:20:22.237779Z"
    },
    "tags": []
   },
   "outputs": [
    {
     "data": {
      "application/vnd.jupyter.widget-view+json": {
       "model_id": "ce77f5ed368b466c82b029b92b83f423",
       "version_major": 2,
       "version_minor": 0
      },
      "text/plain": [
       "VBox()"
      ]
     },
     "metadata": {},
     "output_type": "display_data"
    },
    {
     "data": {
      "application/vnd.jupyter.widget-view+json": {
       "model_id": "f95f132164e14cefb5b56070c5d287f4",
       "version_major": 2,
       "version_minor": 0
      },
      "text/plain": [
       "FloatProgress(value=0.0, bar_style='info', description='Progress:', layout=Layout(height='25px', width='50%'),…"
      ]
     },
     "metadata": {},
     "output_type": "display_data"
    }
   ],
   "source": [
    "result_df1 = exploded_df.groupBy('mvp_company_name','Roles','skill','publication_date').count().orderBy(desc('count'))"
   ]
  },
  {
   "cell_type": "code",
   "execution_count": 23,
   "id": "b28af0d2-afe6-4cf0-9743-5889db1874bb",
   "metadata": {
    "execution": {
     "iopub.execute_input": "2024-08-08T04:20:27.744261Z",
     "iopub.status.busy": "2024-08-08T04:20:27.743994Z",
     "iopub.status.idle": "2024-08-08T04:20:27.802206Z",
     "shell.execute_reply": "2024-08-08T04:20:27.801309Z",
     "shell.execute_reply.started": "2024-08-08T04:20:27.744229Z"
    },
    "tags": []
   },
   "outputs": [
    {
     "data": {
      "application/vnd.jupyter.widget-view+json": {
       "model_id": "33300f04bd84430ea49b3c13839a48a9",
       "version_major": 2,
       "version_minor": 0
      },
      "text/plain": [
       "VBox()"
      ]
     },
     "metadata": {},
     "output_type": "display_data"
    },
    {
     "data": {
      "application/vnd.jupyter.widget-view+json": {
       "model_id": "44a1dba696cc48d9b914146ac7c0bcdd",
       "version_major": 2,
       "version_minor": 0
      },
      "text/plain": [
       "FloatProgress(value=0.0, bar_style='info', description='Progress:', layout=Layout(height='25px', width='50%'),…"
      ]
     },
     "metadata": {},
     "output_type": "display_data"
    },
    {
     "name": "stdout",
     "output_type": "stream",
     "text": [
      "['mvp_company_name', 'Roles', 'skill', 'publication_date', 'count']"
     ]
    }
   ],
   "source": [
    "result_df1.columns"
   ]
  },
  {
   "cell_type": "code",
   "execution_count": 24,
   "id": "7e18f1a4-4662-4feb-9144-35c048124389",
   "metadata": {
    "execution": {
     "iopub.execute_input": "2024-08-08T04:20:36.316177Z",
     "iopub.status.busy": "2024-08-08T04:20:36.315909Z",
     "iopub.status.idle": "2024-08-08T04:27:45.534093Z",
     "shell.execute_reply": "2024-08-08T04:27:45.533052Z",
     "shell.execute_reply.started": "2024-08-08T04:20:36.316145Z"
    }
   },
   "outputs": [
    {
     "data": {
      "application/vnd.jupyter.widget-view+json": {
       "model_id": "22da89f422644992a40566069f7d5eb7",
       "version_major": 2,
       "version_minor": 0
      },
      "text/plain": [
       "VBox()"
      ]
     },
     "metadata": {},
     "output_type": "display_data"
    },
    {
     "data": {
      "application/vnd.jupyter.widget-view+json": {
       "model_id": "9ffa222bfa6045a4be7e89ac18117431",
       "version_major": 2,
       "version_minor": 0
      },
      "text/plain": [
       "FloatProgress(value=0.0, bar_style='info', description='Progress:', layout=Layout(height='25px', width='50%'),…"
      ]
     },
     "metadata": {},
     "output_type": "display_data"
    },
    {
     "name": "stdout",
     "output_type": "stream",
     "text": [
      "12698"
     ]
    }
   ],
   "source": [
    "result_df1.count()"
   ]
  },
  {
   "cell_type": "code",
   "execution_count": null,
   "id": "a0e607fb-72bc-4ba3-b915-6888af89990b",
   "metadata": {},
   "outputs": [
    {
     "data": {
      "application/vnd.jupyter.widget-view+json": {
       "model_id": "f056f4e950274597a7238abc22bd2c05",
       "version_major": 2,
       "version_minor": 0
      },
      "text/plain": [
       "VBox()"
      ]
     },
     "metadata": {},
     "output_type": "display_data"
    },
    {
     "data": {
      "application/vnd.jupyter.widget-view+json": {
       "model_id": "",
       "version_major": 2,
       "version_minor": 0
      },
      "text/plain": [
       "FloatProgress(value=0.0, bar_style='info', description='Progress:', layout=Layout(height='25px', width='50%'),…"
      ]
     },
     "metadata": {},
     "output_type": "display_data"
    },
    {
     "name": "stdout",
     "output_type": "stream",
     "text": [
      "{'ResponseMetadata': {'RequestId': '33CRDK477DWT7WWA', 'HostId': 'V/fx7xi7fMPo1n6pvf5BUZIaGj0r6PgL0SjqXYVXQew8+snoq94yjSwYhs7q8t76iCFFBJAk8nKreeyyfPQdsw==', 'HTTPStatusCode': 200, 'HTTPHeaders': {'x-amz-id-2': 'V/fx7xi7fMPo1n6pvf5BUZIaGj0r6PgL0SjqXYVXQew8+snoq94yjSwYhs7q8t76iCFFBJAk8nKreeyyfPQdsw==', 'x-amz-request-id': '33CRDK477DWT7WWA', 'date': 'Wed, 07 Aug 2024 13:49:10 GMT', 'x-amz-expiration': 'expiry-date=\"Tue, 13 Aug 2024 00:00:00 GMT\", rule-id=\"Delete in temp folder\"', 'x-amz-server-side-encryption': 'AES256', 'etag': '\"ac1c58dc239bf9d5fb6d5905393716fb\"', 'server': 'AmazonS3', 'content-length': '0'}, 'RetryAttempts': 1}, 'Expiration': 'expiry-date=\"Tue, 13 Aug 2024 00:00:00 GMT\", rule-id=\"Delete in temp folder\"', 'ETag': '\"ac1c58dc239bf9d5fb6d5905393716fb\"', 'ServerSideEncryption': 'AES256'}"
     ]
    }
   ],
   "source": [
    "from io import StringIO # python3; python2: BytesIO import boto3\n",
    "import boto3\n",
    " \n",
    "\n",
    "bucket = 'draup-command-center' # already created on S3\n",
    "csv_buffer = StringIO()\n",
    "   \n",
    "res2=result_df1.toPandas()\n",
    "res2.to_csv(csv_buffer)\n",
    "s3_resource = boto3.resource('s3') \n",
    "s3_resource.Object(bucket, 'temp/cc/Renukumar_Draup/karthika/output/JD_core_skill_2021 to 2024_data_07-08-2024.csv').put(Body=csv_buffer.getvalue())"
   ]
  },
  {
   "cell_type": "code",
   "execution_count": null,
   "id": "649d99b5-eda9-4e72-aa16-8bc116a1a302",
   "metadata": {},
   "outputs": [],
   "source": []
  },
  {
   "cell_type": "code",
   "execution_count": null,
   "id": "b6aa8dce-058a-4956-8752-e02a49446f9e",
   "metadata": {},
   "outputs": [],
   "source": []
  },
  {
   "cell_type": "code",
   "execution_count": null,
   "id": "21983233-9186-440e-a81d-7c35045309bc",
   "metadata": {},
   "outputs": [],
   "source": []
  },
  {
   "cell_type": "code",
   "execution_count": null,
   "id": "a7866b0e-c861-4597-9afc-b4fc1befd07c",
   "metadata": {},
   "outputs": [],
   "source": []
  },
  {
   "cell_type": "code",
   "execution_count": null,
   "id": "c006719f-11a9-46f8-8d91-3f051a83822e",
   "metadata": {},
   "outputs": [],
   "source": [
    "## sample code"
   ]
  },
  {
   "cell_type": "code",
   "execution_count": null,
   "id": "7ad18331-073c-43bb-9fd2-a253e6496699",
   "metadata": {},
   "outputs": [],
   "source": [
    "skill_df = exploded_df.withColumn(\n",
    "    'year',\n",
    "    F.when((col('publication_date') >= '2021-01-01') & (col('publication_date') <= '2021-12-31'), '2021')\n",
    "     .when((col('publication_date') >= '2022-01-01') & (col('publication_date') <= '2022-12-31'), '2022')\n",
    "     .when((col('publication_date') >= '2023-01-01') & (col('publication_date') <= '2023-12-31'), '2023')\n",
    "     .when((col('publication_date') >= '2024-01-01') & (col('publication_date') <= '2024-08-07'), '2024')\n",
    ")"
   ]
  },
  {
   "cell_type": "code",
   "execution_count": null,
   "id": "e79c829f-754f-402d-a015-fe5a54d42bc3",
   "metadata": {},
   "outputs": [
    {
     "data": {
      "application/vnd.jupyter.widget-view+json": {
       "model_id": "698e7de85f714394867d51b03566524b",
       "version_major": 2,
       "version_minor": 0
      },
      "text/plain": [
       "VBox()"
      ]
     },
     "metadata": {},
     "output_type": "display_data"
    },
    {
     "data": {
      "application/vnd.jupyter.widget-view+json": {
       "model_id": "",
       "version_major": 2,
       "version_minor": 0
      },
      "text/plain": [
       "FloatProgress(value=0.0, bar_style='info', description='Progress:', layout=Layout(height='25px', width='50%'),…"
      ]
     },
     "metadata": {},
     "output_type": "display_data"
    }
   ],
   "source": [
    "skills_2021 = exploded_df.filter((col('publication_date') >= '2021-01-01') & (col('publication_date') <= '2021-12-31')).groupBy('skill').count().withColumnRenamed(\"count\", \"skills-2021-count\")\n",
    "skills_2022 = exploded_df.filter((col('publication_date') >= '2022-01-01') & (col('publication_date') <= '2022-12-31')).groupBy('skill').count().withColumnRenamed(\"count\", \"skills-2022-count\")\n",
    "skills_2023 = exploded_df.filter((col('publication_date') >= '2023-01-01') & (col('publication_date') <= '2023-12-31')).groupBy('skill').count().withColumnRenamed(\"count\", \"skills-2023-count\")\n",
    "skills_2024 = exploded_df.filter((col('publication_date') >= '2024-01-01') & (col('publication_date') <= '2024-08-06')).groupBy('skill').count().withColumnRenamed(\"count\", \"skills-2024-count\")"
   ]
  },
  {
   "cell_type": "code",
   "execution_count": null,
   "id": "6be6f51d-7846-4005-9282-be6fe78d73ac",
   "metadata": {},
   "outputs": [
    {
     "data": {
      "application/vnd.jupyter.widget-view+json": {
       "model_id": "9de33216325f4e7aacafd99ae33e3142",
       "version_major": 2,
       "version_minor": 0
      },
      "text/plain": [
       "VBox()"
      ]
     },
     "metadata": {},
     "output_type": "display_data"
    },
    {
     "data": {
      "application/vnd.jupyter.widget-view+json": {
       "model_id": "",
       "version_major": 2,
       "version_minor": 0
      },
      "text/plain": [
       "FloatProgress(value=0.0, bar_style='info', description='Progress:', layout=Layout(height='25px', width='50%'),…"
      ]
     },
     "metadata": {},
     "output_type": "display_data"
    }
   ],
   "source": [
    "result_df = exploded_df \\\n",
    "    .join(skills_2021, on=\"skill\", how=\"left\") \\\n",
    "    .join(skills_2022, on=\"skill\", how=\"left\") \\\n",
    "    .join(skills_2023, on=\"skill\", how=\"left\") \\\n",
    "    .join(skills_2024, on=\"skill\", how=\"left\")"
   ]
  },
  {
   "cell_type": "code",
   "execution_count": null,
   "id": "58667592-a536-4ad8-ab01-e95c60916b64",
   "metadata": {},
   "outputs": [
    {
     "data": {
      "application/vnd.jupyter.widget-view+json": {
       "model_id": "a1a621f9f57d4f738f5d762d11927c13",
       "version_major": 2,
       "version_minor": 0
      },
      "text/plain": [
       "VBox()"
      ]
     },
     "metadata": {},
     "output_type": "display_data"
    },
    {
     "data": {
      "application/vnd.jupyter.widget-view+json": {
       "model_id": "",
       "version_major": 2,
       "version_minor": 0
      },
      "text/plain": [
       "FloatProgress(value=0.0, bar_style='info', description='Progress:', layout=Layout(height='25px', width='50%'),…"
      ]
     },
     "metadata": {},
     "output_type": "display_data"
    },
    {
     "name": "stdout",
     "output_type": "stream",
     "text": [
      "['skill', 'mvp_company_name', 'Roles', 'data_lake_id', 'translated_job_title', 'msa', 'synon_location', 'url', 'job_role_list', 'publication_date', 'functional_workload', 'business_function', 'core_skills', 'soft_skills', 'digital_products', 'education', 'job_type', 'company', 'consolidated_msa', 'lower_cmp_name', 'Draup Name', 'lower_company', 'Country', 'Region', 'skills_array', 'skills-2021-count', 'skills-2022-count', 'skills-2023-count', 'skills-2024-count']"
     ]
    }
   ],
   "source": [
    "result_df.columns"
   ]
  },
  {
   "cell_type": "code",
   "execution_count": null,
   "id": "41286ea3-1e15-46b1-b8f5-870795554b88",
   "metadata": {},
   "outputs": [
    {
     "data": {
      "application/vnd.jupyter.widget-view+json": {
       "model_id": "4f598e7f331e44abaefb55d562c1b66e",
       "version_major": 2,
       "version_minor": 0
      },
      "text/plain": [
       "VBox()"
      ]
     },
     "metadata": {},
     "output_type": "display_data"
    },
    {
     "data": {
      "application/vnd.jupyter.widget-view+json": {
       "model_id": "",
       "version_major": 2,
       "version_minor": 0
      },
      "text/plain": [
       "FloatProgress(value=0.0, bar_style='info', description='Progress:', layout=Layout(height='25px', width='50%'),…"
      ]
     },
     "metadata": {},
     "output_type": "display_data"
    },
    {
     "name": "stdout",
     "output_type": "stream",
     "text": [
      "+-------------------------------------+-----------------+-----------------+\n",
      "|skill                                |skills-2021-count|skills-2022-count|\n",
      "+-------------------------------------+-----------------+-----------------+\n",
      "|Broadcasting                         |468              |6396             |\n",
      "|User Testing                         |NULL             |156              |\n",
      "|JavaScript                           |15988            |14239            |\n",
      "|Web Graphics Library (WebGL)         |NULL             |780              |\n",
      "|Web Graphics Library (WebGL)         |NULL             |780              |\n",
      "|Agile Methodologies                  |10065            |12315            |\n",
      "|Framer                               |NULL             |156              |\n",
      "|Framer                               |NULL             |156              |\n",
      "|User Interface (UI) Design           |70               |479              |\n",
      "|Next.js                              |NULL             |156              |\n",
      "|GraphQL                              |1076             |2584             |\n",
      "|GraphQL                              |1076             |2584             |\n",
      "|Cascading Style Sheets Level 3 (CSS3)|2767             |2051             |\n",
      "|Cascading Style Sheets Level 3 (CSS3)|2767             |2051             |\n",
      "|Global Information Tracker (Git)     |10832            |11629            |\n",
      "|Global Information Tracker (Git)     |10832            |11629            |\n",
      "|Front End Development                |2385             |4112             |\n",
      "|Adobe XD                             |NULL             |156              |\n",
      "|User Interface (UI)                  |2935             |6323             |\n",
      "|Prototyping                          |751              |1334             |\n",
      "+-------------------------------------+-----------------+-----------------+\n",
      "only showing top 20 rows"
     ]
    }
   ],
   "source": [
    "result_df[[\"skill\",\"skills-2021-count\",\"skills-2022-count\"]].show(truncate = False)"
   ]
  },
  {
   "cell_type": "code",
   "execution_count": null,
   "id": "b0313247-0672-4f15-8e7a-7405ff6bb1eb",
   "metadata": {},
   "outputs": [],
   "source": []
  },
  {
   "cell_type": "code",
   "execution_count": null,
   "id": "abb9acbf-265a-4c66-b66a-f73477ab8d23",
   "metadata": {},
   "outputs": [],
   "source": []
  },
  {
   "cell_type": "code",
   "execution_count": null,
   "id": "e03593fc-e29d-493e-8d40-9c1d61dbc24c",
   "metadata": {},
   "outputs": [
    {
     "data": {
      "application/vnd.jupyter.widget-view+json": {
       "model_id": "907f3a7652824bc1b1c3c0d106f33d07",
       "version_major": 2,
       "version_minor": 0
      },
      "text/plain": [
       "VBox()"
      ]
     },
     "metadata": {},
     "output_type": "display_data"
    },
    {
     "data": {
      "application/vnd.jupyter.widget-view+json": {
       "model_id": "",
       "version_major": 2,
       "version_minor": 0
      },
      "text/plain": [
       "FloatProgress(value=0.0, bar_style='info', description='Progress:', layout=Layout(height='25px', width='50%'),…"
      ]
     },
     "metadata": {},
     "output_type": "display_data"
    }
   ],
   "source": [
    "result_df1 = result_df.select('mvp_company_name','Roles','skill','skills-2021-count','skills-2022-count','skills-2023-count','skills-2024-count')"
   ]
  },
  {
   "cell_type": "code",
   "execution_count": null,
   "id": "d1914c46-d879-47bb-ad1e-610f14743dbd",
   "metadata": {},
   "outputs": [
    {
     "data": {
      "application/vnd.jupyter.widget-view+json": {
       "model_id": "734fff7e981a42dabd3829efc34c923e",
       "version_major": 2,
       "version_minor": 0
      },
      "text/plain": [
       "VBox()"
      ]
     },
     "metadata": {},
     "output_type": "display_data"
    },
    {
     "data": {
      "application/vnd.jupyter.widget-view+json": {
       "model_id": "",
       "version_major": 2,
       "version_minor": 0
      },
      "text/plain": [
       "FloatProgress(value=0.0, bar_style='info', description='Progress:', layout=Layout(height='25px', width='50%'),…"
      ]
     },
     "metadata": {},
     "output_type": "display_data"
    },
    {
     "name": "stdout",
     "output_type": "stream",
     "text": [
      "{'ResponseMetadata': {'RequestId': 'DQV7JEXF6S4P6V1Y', 'HostId': 'w+26RDF2DxmjBHOYScSyPwHylnzCeY6JHlkr1B7VSsVJdCO+9b8/Vp3K3UG6VPQYhxuD7ZpMDhQstB82xR8zmQ==', 'HTTPStatusCode': 200, 'HTTPHeaders': {'x-amz-id-2': 'w+26RDF2DxmjBHOYScSyPwHylnzCeY6JHlkr1B7VSsVJdCO+9b8/Vp3K3UG6VPQYhxuD7ZpMDhQstB82xR8zmQ==', 'x-amz-request-id': 'DQV7JEXF6S4P6V1Y', 'date': 'Wed, 07 Aug 2024 04:46:44 GMT', 'x-amz-expiration': 'expiry-date=\"Tue, 13 Aug 2024 00:00:00 GMT\", rule-id=\"Delete in temp folder\"', 'x-amz-server-side-encryption': 'AES256', 'etag': '\"204164bdfe97d14bda05d888c1f01bc1\"', 'server': 'AmazonS3', 'content-length': '0'}, 'RetryAttempts': 1}, 'Expiration': 'expiry-date=\"Tue, 13 Aug 2024 00:00:00 GMT\", rule-id=\"Delete in temp folder\"', 'ETag': '\"204164bdfe97d14bda05d888c1f01bc1\"', 'ServerSideEncryption': 'AES256'}"
     ]
    }
   ],
   "source": [
    "from io import StringIO # python3; python2: BytesIO import boto3\n",
    "import boto3\n",
    "\n",
    "\n",
    "bucket = 'draup-command-center' # already created on S3\n",
    "csv_buffer = StringIO()\n",
    "   \n",
    "res2=result_df1.toPandas()\n",
    "res2.to_csv(csv_buffer)\n",
    "s3_resource = boto3.resource('s3') \n",
    "s3_resource.Object(bucket, 'temp/cc/Renukumar_Draup/karthika/output/JD_skills_data_07-08-2024.csv').put(Body=csv_buffer.getvalue())"
   ]
  },
  {
   "cell_type": "code",
   "execution_count": null,
   "id": "46f28f03-3298-46cb-a2bc-da5e123a2952",
   "metadata": {},
   "outputs": [],
   "source": []
  },
  {
   "cell_type": "markdown",
   "id": "adf45d3d-f3e3-4a81-ad5d-52fd59e45eae",
   "metadata": {},
   "source": [
    "### Parquet input"
   ]
  },
  {
   "cell_type": "code",
   "execution_count": 28,
   "id": "56a2c6ed-41e2-4816-8cd0-84e84d365be7",
   "metadata": {
    "execution": {
     "iopub.execute_input": "2024-08-13T06:30:17.834151Z",
     "iopub.status.busy": "2024-08-13T06:30:17.833877Z",
     "iopub.status.idle": "2024-08-13T06:34:11.939499Z",
     "shell.execute_reply": "2024-08-13T06:34:11.938607Z",
     "shell.execute_reply.started": "2024-08-13T06:30:17.834119Z"
    },
    "tags": []
   },
   "outputs": [
    {
     "data": {
      "application/vnd.jupyter.widget-view+json": {
       "model_id": "5b8371d1ab4a46e4ac3eabb74dea257d",
       "version_major": 2,
       "version_minor": 0
      },
      "text/plain": [
       "VBox()"
      ]
     },
     "metadata": {},
     "output_type": "display_data"
    },
    {
     "data": {
      "application/vnd.jupyter.widget-view+json": {
       "model_id": "",
       "version_major": 2,
       "version_minor": 0
      },
      "text/plain": [
       "FloatProgress(value=0.0, bar_style='info', description='Progress:', layout=Layout(height='25px', width='50%'),…"
      ]
     },
     "metadata": {},
     "output_type": "display_data"
    }
   ],
   "source": [
    "#JD_data.write.mode(\"overwrite\").parquet('s3://draup-command-center/temp/cc/Renukumar_Draup/karthika/temp/JD_2024_data_13-08-24')"
   ]
  },
  {
   "cell_type": "code",
   "execution_count": 29,
   "id": "b02aa5ec-8117-4782-8daa-880bda1b5ccb",
   "metadata": {
    "execution": {
     "iopub.execute_input": "2024-08-13T06:34:11.941444Z",
     "iopub.status.busy": "2024-08-13T06:34:11.941204Z",
     "iopub.status.idle": "2024-08-13T06:34:13.211832Z",
     "shell.execute_reply": "2024-08-13T06:34:13.210735Z",
     "shell.execute_reply.started": "2024-08-13T06:34:11.941412Z"
    },
    "tags": []
   },
   "outputs": [
    {
     "data": {
      "application/vnd.jupyter.widget-view+json": {
       "model_id": "a9457702a95543108dcab8be187a1877",
       "version_major": 2,
       "version_minor": 0
      },
      "text/plain": [
       "VBox()"
      ]
     },
     "metadata": {},
     "output_type": "display_data"
    },
    {
     "data": {
      "application/vnd.jupyter.widget-view+json": {
       "model_id": "",
       "version_major": 2,
       "version_minor": 0
      },
      "text/plain": [
       "FloatProgress(value=0.0, bar_style='info', description='Progress:', layout=Layout(height='25px', width='50%'),…"
      ]
     },
     "metadata": {},
     "output_type": "display_data"
    }
   ],
   "source": [
    "JD_data =spark.read.parquet('s3://draup-command-center/temp/cc/Renukumar_Draup/karthika/temp/JD_2024_data_13-08-24')"
   ]
  },
  {
   "cell_type": "code",
   "execution_count": 50,
   "id": "0516a8dc-3abb-4132-aef7-fd9f659358d6",
   "metadata": {
    "execution": {
     "iopub.execute_input": "2024-08-13T06:44:24.233250Z",
     "iopub.status.busy": "2024-08-13T06:44:24.232980Z",
     "iopub.status.idle": "2024-08-13T06:44:24.289910Z",
     "shell.execute_reply": "2024-08-13T06:44:24.289067Z",
     "shell.execute_reply.started": "2024-08-13T06:44:24.233217Z"
    },
    "tags": []
   },
   "outputs": [
    {
     "data": {
      "application/vnd.jupyter.widget-view+json": {
       "model_id": "d9644c22c41a4b979acf265759be0213",
       "version_major": 2,
       "version_minor": 0
      },
      "text/plain": [
       "VBox()"
      ]
     },
     "metadata": {},
     "output_type": "display_data"
    },
    {
     "data": {
      "application/vnd.jupyter.widget-view+json": {
       "model_id": "",
       "version_major": 2,
       "version_minor": 0
      },
      "text/plain": [
       "FloatProgress(value=0.0, bar_style='info', description='Progress:', layout=Layout(height='25px', width='50%'),…"
      ]
     },
     "metadata": {},
     "output_type": "display_data"
    }
   ],
   "source": [
    "skill_df = JD_data.withColumn('skills', explode (col('core_skills')))"
   ]
  },
  {
   "cell_type": "code",
   "execution_count": 55,
   "id": "4b207cb8-8be5-42fc-8d0c-ecdf468f0a31",
   "metadata": {
    "execution": {
     "iopub.execute_input": "2024-08-13T07:09:38.030000Z",
     "iopub.status.busy": "2024-08-13T07:09:38.029729Z",
     "iopub.status.idle": "2024-08-13T07:09:38.084510Z",
     "shell.execute_reply": "2024-08-13T07:09:38.083679Z",
     "shell.execute_reply.started": "2024-08-13T07:09:38.029968Z"
    }
   },
   "outputs": [
    {
     "data": {
      "application/vnd.jupyter.widget-view+json": {
       "model_id": "e70d3e61f111448ab3e50dc39ffd11c6",
       "version_major": 2,
       "version_minor": 0
      },
      "text/plain": [
       "VBox()"
      ]
     },
     "metadata": {},
     "output_type": "display_data"
    },
    {
     "data": {
      "application/vnd.jupyter.widget-view+json": {
       "model_id": "",
       "version_major": 2,
       "version_minor": 0
      },
      "text/plain": [
       "FloatProgress(value=0.0, bar_style='info', description='Progress:', layout=Layout(height='25px', width='50%'),…"
      ]
     },
     "metadata": {},
     "output_type": "display_data"
    }
   ],
   "source": [
    "group_df = skill_df.groupBy(\"skills\").count().orderBy(desc('count'))"
   ]
  },
  {
   "cell_type": "code",
   "execution_count": 56,
   "id": "fe81cc62-744c-43d9-b17b-954ed3a469b0",
   "metadata": {
    "execution": {
     "iopub.execute_input": "2024-08-13T07:10:10.626360Z",
     "iopub.status.busy": "2024-08-13T07:10:10.625948Z",
     "iopub.status.idle": "2024-08-13T07:11:48.171235Z",
     "shell.execute_reply": "2024-08-13T07:11:48.170357Z",
     "shell.execute_reply.started": "2024-08-13T07:10:10.626327Z"
    }
   },
   "outputs": [
    {
     "data": {
      "application/vnd.jupyter.widget-view+json": {
       "model_id": "e4c039fcf8994a5fa4ff1a07d64a0b2f",
       "version_major": 2,
       "version_minor": 0
      },
      "text/plain": [
       "VBox()"
      ]
     },
     "metadata": {},
     "output_type": "display_data"
    },
    {
     "data": {
      "application/vnd.jupyter.widget-view+json": {
       "model_id": "",
       "version_major": 2,
       "version_minor": 0
      },
      "text/plain": [
       "FloatProgress(value=0.0, bar_style='info', description='Progress:', layout=Layout(height='25px', width='50%'),…"
      ]
     },
     "metadata": {},
     "output_type": "display_data"
    },
    {
     "name": "stdout",
     "output_type": "stream",
     "text": [
      "+-------------------------------+-------+\n",
      "|skills                         |count  |\n",
      "+-------------------------------+-------+\n",
      "|Microsoft Office               |7375262|\n",
      "|Marketing                      |4592587|\n",
      "|Project Management             |4023385|\n",
      "|Recruitment                    |2518777|\n",
      "|Auditing                       |2019301|\n",
      "|Python (Programming Language)  |1968741|\n",
      "|Patient Care                   |1900241|\n",
      "|Structured Query Language (SQL)|1892093|\n",
      "|Warehousing                    |1579667|\n",
      "|Microsoft Excel                |1490261|\n",
      "|Business Development           |1366679|\n",
      "|Data Analysis                  |1354436|\n",
      "|Java                           |1238409|\n",
      "|Housekeeping                   |1214901|\n",
      "|Technical Support              |1100230|\n",
      "|Budgeting                      |1069346|\n",
      "|JavaScript                     |1062169|\n",
      "|Risk Management                |1059781|\n",
      "|Amazon Web Services (AWS)      |1052685|\n",
      "|Data Entry                     |1036352|\n",
      "+-------------------------------+-------+\n",
      "only showing top 20 rows"
     ]
    }
   ],
   "source": [
    "group_df.show(truncate = False)"
   ]
  },
  {
   "cell_type": "code",
   "execution_count": 51,
   "id": "b9ad6eeb-49bd-4c43-8084-380345490888",
   "metadata": {
    "execution": {
     "iopub.execute_input": "2024-08-13T06:44:44.110156Z",
     "iopub.status.busy": "2024-08-13T06:44:44.109879Z",
     "iopub.status.idle": "2024-08-13T06:44:44.169565Z",
     "shell.execute_reply": "2024-08-13T06:44:44.168682Z",
     "shell.execute_reply.started": "2024-08-13T06:44:44.110124Z"
    },
    "tags": []
   },
   "outputs": [
    {
     "data": {
      "application/vnd.jupyter.widget-view+json": {
       "model_id": "cf38d284ef7342e180ac14816f391bc8",
       "version_major": 2,
       "version_minor": 0
      },
      "text/plain": [
       "VBox()"
      ]
     },
     "metadata": {},
     "output_type": "display_data"
    },
    {
     "data": {
      "application/vnd.jupyter.widget-view+json": {
       "model_id": "",
       "version_major": 2,
       "version_minor": 0
      },
      "text/plain": [
       "FloatProgress(value=0.0, bar_style='info', description='Progress:', layout=Layout(height='25px', width='50%'),…"
      ]
     },
     "metadata": {},
     "output_type": "display_data"
    }
   ],
   "source": [
    "role_df2 = skill_df.withColumn('job_role', explode (col('job_role_list')))"
   ]
  },
  {
   "cell_type": "code",
   "execution_count": 53,
   "id": "3be73af6-9816-4eae-9f4b-e81fe1bc4264",
   "metadata": {
    "execution": {
     "iopub.execute_input": "2024-08-13T06:45:10.341572Z",
     "iopub.status.busy": "2024-08-13T06:45:10.341290Z",
     "iopub.status.idle": "2024-08-13T06:45:10.597292Z",
     "shell.execute_reply": "2024-08-13T06:45:10.596400Z",
     "shell.execute_reply.started": "2024-08-13T06:45:10.341533Z"
    },
    "tags": []
   },
   "outputs": [
    {
     "data": {
      "application/vnd.jupyter.widget-view+json": {
       "model_id": "f1781dfb4921430aa1db0d612168dafb",
       "version_major": 2,
       "version_minor": 0
      },
      "text/plain": [
       "VBox()"
      ]
     },
     "metadata": {},
     "output_type": "display_data"
    },
    {
     "data": {
      "application/vnd.jupyter.widget-view+json": {
       "model_id": "",
       "version_major": 2,
       "version_minor": 0
      },
      "text/plain": [
       "FloatProgress(value=0.0, bar_style='info', description='Progress:', layout=Layout(height='25px', width='50%'),…"
      ]
     },
     "metadata": {},
     "output_type": "display_data"
    }
   ],
   "source": [
    "group_df = role_df2.groupBy('job_role','skills').count().orderBy(desc('count'))"
   ]
  },
  {
   "cell_type": "code",
   "execution_count": 54,
   "id": "15bfde50-e3a5-45c9-affa-4df440fb7e2d",
   "metadata": {
    "execution": {
     "iopub.execute_input": "2024-08-13T06:45:20.540989Z",
     "iopub.status.busy": "2024-08-13T06:45:20.540716Z",
     "iopub.status.idle": "2024-08-13T06:47:36.286430Z",
     "shell.execute_reply": "2024-08-13T06:47:36.285532Z",
     "shell.execute_reply.started": "2024-08-13T06:45:20.540957Z"
    },
    "tags": []
   },
   "outputs": [
    {
     "data": {
      "application/vnd.jupyter.widget-view+json": {
       "model_id": "7104918f95c94dc18afc6d68ff4f4cca",
       "version_major": 2,
       "version_minor": 0
      },
      "text/plain": [
       "VBox()"
      ]
     },
     "metadata": {},
     "output_type": "display_data"
    },
    {
     "data": {
      "application/vnd.jupyter.widget-view+json": {
       "model_id": "",
       "version_major": 2,
       "version_minor": 0
      },
      "text/plain": [
       "FloatProgress(value=0.0, bar_style='info', description='Progress:', layout=Layout(height='25px', width='50%'),…"
      ]
     },
     "metadata": {},
     "output_type": "display_data"
    },
    {
     "name": "stdout",
     "output_type": "stream",
     "text": [
      "+---------------------------+------------------+------+\n",
      "|job_role                   |skills            |count |\n",
      "+---------------------------+------------------+------+\n",
      "|Project Manager            |Project Management|703202|\n",
      "|Nurse                      |Patient Care      |605974|\n",
      "|Project Development Manager|Project Management|449705|\n",
      "|Office Assistant           |Microsoft Office  |420813|\n",
      "|IT Project Manager         |Project Management|383267|\n",
      "|Program Manager            |Project Management|375220|\n",
      "|Marketing Manager          |Marketing         |374047|\n",
      "|Project Control Manager    |Project Management|360329|\n",
      "|Warehouse Supervisor       |Warehousing       |348652|\n",
      "|Administrative Assistant   |Microsoft Office  |343329|\n",
      "|Warehouse Manager          |Warehousing       |340615|\n",
      "|Warehouse Associate        |Warehousing       |324801|\n",
      "|Office Administrator       |Microsoft Office  |324206|\n",
      "|Warehouse Specialist       |Warehousing       |323042|\n",
      "|Human Resources Manager    |Recruitment       |317386|\n",
      "|Project Management Analyst |Project Management|308104|\n",
      "|Warehouse Clerk            |Warehousing       |301188|\n",
      "|Project Administrator      |Project Management|301086|\n",
      "|Sales Manager              |Marketing         |300726|\n",
      "|Project Management Officer |Project Management|300462|\n",
      "+---------------------------+------------------+------+\n",
      "only showing top 20 rows"
     ]
    }
   ],
   "source": [
    "group_df.show(truncate = False)"
   ]
  },
  {
   "cell_type": "code",
   "execution_count": null,
   "id": "4709f477-ac9e-420a-a4cc-010e786cb76c",
   "metadata": {},
   "outputs": [],
   "source": []
  },
  {
   "cell_type": "code",
   "execution_count": null,
   "id": "1ad32f1b-3a6b-4c46-9546-b6d56028943f",
   "metadata": {},
   "outputs": [],
   "source": []
  }
 ],
 "metadata": {
  "kernelspec": {
   "display_name": "PySpark",
   "language": "python",
   "name": "pysparkkernel"
  },
  "language_info": {
   "codemirror_mode": {
    "name": "python",
    "version": 3
   },
   "file_extension": ".py",
   "mimetype": "text/x-python",
   "name": "pyspark",
   "pygments_lexer": "python3"
  }
 },
 "nbformat": 4,
 "nbformat_minor": 5
}
