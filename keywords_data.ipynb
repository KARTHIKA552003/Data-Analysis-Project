{
 "cells": [
  {
   "cell_type": "code",
   "execution_count": 1,
   "id": "27d070ab-5e16-48fc-a8cb-15c190caddda",
   "metadata": {
    "execution": {
     "iopub.execute_input": "2024-09-16T11:39:41.979579Z",
     "iopub.status.busy": "2024-09-16T11:39:41.979206Z",
     "iopub.status.idle": "2024-09-16T11:40:05.582388Z",
     "shell.execute_reply": "2024-09-16T11:40:05.581359Z",
     "shell.execute_reply.started": "2024-09-16T11:39:41.979536Z"
    },
    "tags": []
   },
   "outputs": [
    {
     "data": {
      "application/vnd.jupyter.widget-view+json": {
       "model_id": "6054e9f2733c4ba68890350a4968be68",
       "version_major": 2,
       "version_minor": 0
      },
      "text/plain": [
       "VBox()"
      ]
     },
     "metadata": {},
     "output_type": "display_data"
    },
    {
     "name": "stdout",
     "output_type": "stream",
     "text": [
      "Starting Spark application\n"
     ]
    },
    {
     "data": {
      "text/html": [
       "<table>\n<tbody><tr><th>ID</th><th>YARN Application ID</th><th>Kind</th><th>State</th><th>Spark UI</th><th>Driver log</th><th>User</th><th>Current session?</th></tr><tr><td>20</td><td>application_1726458000007_0022</td><td>pyspark</td><td>idle</td><td><a target=\"_blank\" href=\"http://ip-172-22-10-128.us-east-2.compute.internal:20888/proxy/application_1726458000007_0022/\" class=\"emr-proxy-link j-1AP6807NXA83N application_1726458000007_0022\" emr-resource=\"j-1AP6807NXA83N\n\" application-id=\"application_1726458000007_0022\">Link</a></td><td><a target=\"_blank\" href=\"http://ip-172-22-10-46.us-east-2.compute.internal:8042/node/containerlogs/container_1726458000007_0022_01_000001/user_n-renukumar_rajendran_draup_com\">Link</a></td><td>user_n-renukumar_rajendran_draup_com</td><td>✔</td></tr></tbody></table>"
      ],
      "text/plain": [
       "<IPython.core.display.HTML object>"
      ]
     },
     "metadata": {},
     "output_type": "display_data"
    },
    {
     "data": {
      "application/vnd.jupyter.widget-view+json": {
       "model_id": "",
       "version_major": 2,
       "version_minor": 0
      },
      "text/plain": [
       "FloatProgress(value=0.0, bar_style='info', description='Progress:', layout=Layout(height='25px', width='50%'),…"
      ]
     },
     "metadata": {},
     "output_type": "display_data"
    },
    {
     "name": "stdout",
     "output_type": "stream",
     "text": [
      "SparkSession available as 'spark'.\n"
     ]
    },
    {
     "data": {
      "application/vnd.jupyter.widget-view+json": {
       "model_id": "",
       "version_major": 2,
       "version_minor": 0
      },
      "text/plain": [
       "FloatProgress(value=0.0, bar_style='info', description='Progress:', layout=Layout(height='25px', width='50%'),…"
      ]
     },
     "metadata": {},
     "output_type": "display_data"
    }
   ],
   "source": [
    "# start"
   ]
  },
  {
   "cell_type": "code",
   "execution_count": 2,
   "id": "eafac7ab-d2f8-42e6-ac07-4764e2da4c47",
   "metadata": {
    "execution": {
     "iopub.execute_input": "2024-09-16T11:40:05.584079Z",
     "iopub.status.busy": "2024-09-16T11:40:05.583856Z",
     "iopub.status.idle": "2024-09-16T11:40:10.875941Z",
     "shell.execute_reply": "2024-09-16T11:40:10.875079Z",
     "shell.execute_reply.started": "2024-09-16T11:40:05.584048Z"
    },
    "tags": []
   },
   "outputs": [
    {
     "data": {
      "application/vnd.jupyter.widget-view+json": {
       "model_id": "2aa6ac7ad790471f9da5258c775873dc",
       "version_major": 2,
       "version_minor": 0
      },
      "text/plain": [
       "VBox()"
      ]
     },
     "metadata": {},
     "output_type": "display_data"
    },
    {
     "data": {
      "application/vnd.jupyter.widget-view+json": {
       "model_id": "",
       "version_major": 2,
       "version_minor": 0
      },
      "text/plain": [
       "FloatProgress(value=0.0, bar_style='info', description='Progress:', layout=Layout(height='25px', width='50%'),…"
      ]
     },
     "metadata": {},
     "output_type": "display_data"
    },
    {
     "name": "stdout",
     "output_type": "stream",
     "text": [
      "404\n",
      "404\n",
      "/usr/local/lib/python3.9/site-packages/urllib3/connectionpool.py:1063: InsecureRequestWarning: Unverified HTTPS request is being made to host 'gateway.draup.com'. Adding certificate verification is strongly advised. See: https://urllib3.readthedocs.io/en/1.26.x/advanced-usage.html#ssl-warnings\n",
      "  warnings.warn(\n",
      "/usr/local/lib/python3.9/site-packages/urllib3/connectionpool.py:1063: InsecureRequestWarning: Unverified HTTPS request is being made to host 'gateway.draup.com'. Adding certificate verification is strongly advised. See: https://urllib3.readthedocs.io/en/1.26.x/advanced-usage.html#ssl-warnings\n",
      "  warnings.warn("
     ]
    }
   ],
   "source": [
    "sc.addPyFile(\"s3://jobs-emr-etl-config/jobs_run/prod/cc/ML_ETL_Config.py\")\n",
    "from ML_ETL_Config import *\n",
    "utils_module = MlEtlUtils(spark, sc)\n",
    "to_import = [name for name in dir(utils_module) if not (name.startswith('_') | (name==\"spark\") | (name==\"sc\"))]\n",
    "globals().update({name: getattr(utils_module, name) for name in to_import})\n",
    "from pyspark.sql.functions import *\n",
    "from pyspark.sql import Window"
   ]
  },
  {
   "cell_type": "code",
   "execution_count": 3,
   "id": "fae18a32-020e-42b9-a125-daa328977781",
   "metadata": {
    "execution": {
     "iopub.execute_input": "2024-09-16T11:40:10.877993Z",
     "iopub.status.busy": "2024-09-16T11:40:10.877769Z",
     "iopub.status.idle": "2024-09-16T11:40:10.936398Z",
     "shell.execute_reply": "2024-09-16T11:40:10.935599Z",
     "shell.execute_reply.started": "2024-09-16T11:40:10.877962Z"
    },
    "tags": []
   },
   "outputs": [
    {
     "data": {
      "application/vnd.jupyter.widget-view+json": {
       "model_id": "f6d6ff7978fa4efbb925588652e3087e",
       "version_major": 2,
       "version_minor": 0
      },
      "text/plain": [
       "VBox()"
      ]
     },
     "metadata": {},
     "output_type": "display_data"
    },
    {
     "data": {
      "application/vnd.jupyter.widget-view+json": {
       "model_id": "",
       "version_major": 2,
       "version_minor": 0
      },
      "text/plain": [
       "FloatProgress(value=0.0, bar_style='info', description='Progress:', layout=Layout(height='25px', width='50%'),…"
      ]
     },
     "metadata": {},
     "output_type": "display_data"
    }
   ],
   "source": [
    "#pce_df = spark.read.format(\"delta\").load(\"s3://etl-datahouse/prod/profiles/pce/pce_calc/pce_snapshot/delta\").select('mvp_company_name','currentPositions','pastPositions','publicLink','functional_workload','business_function','core_Skills','msa','years_of_experience','publications','patents','certifications').selectExpr('*','currentPositions[0].companyName as curr_company','currentPositions[0].company_industry as current_industry','currentPositions[0].job_title_lemmatized as current_job_title','currentPositions.job_role[0] as current_job_role','currentPositions[0].msa as current_msa','currentPositions[0].i18nStartDate as current_StartDate','currentPositions[0].i18nEndDate as current_EndDate','currentPositions[0].startDateYear as startDateYear','currentPositions[0].endDateYear as endDateYear','pastPositions[0].companyName as past_company','pastPositions[0].company_industry as past_industry','pastPositions[0].experience_years as past_company_experience','pastPositions[0].msa as past_msa','patents[0].title as patents_title','publications[0].title as publication_title','certifications[0].name as certifications_name').drop('currentPositions','pastPositions','past_data','deleted','patents','publications','certifications')"
   ]
  },
  {
   "cell_type": "code",
   "execution_count": 7,
   "id": "a4085959-1203-4327-883e-057006ee4c83",
   "metadata": {
    "execution": {
     "iopub.execute_input": "2024-09-16T11:50:51.109315Z",
     "iopub.status.busy": "2024-09-16T11:50:51.108919Z",
     "iopub.status.idle": "2024-09-16T11:50:51.877843Z",
     "shell.execute_reply": "2024-09-16T11:50:51.876892Z",
     "shell.execute_reply.started": "2024-09-16T11:50:51.109272Z"
    },
    "tags": []
   },
   "outputs": [
    {
     "data": {
      "application/vnd.jupyter.widget-view+json": {
       "model_id": "357b6f2d3ab24e38a1bb0bd154842661",
       "version_major": 2,
       "version_minor": 0
      },
      "text/plain": [
       "VBox()"
      ]
     },
     "metadata": {},
     "output_type": "display_data"
    },
    {
     "data": {
      "application/vnd.jupyter.widget-view+json": {
       "model_id": "",
       "version_major": 2,
       "version_minor": 0
      },
      "text/plain": [
       "FloatProgress(value=0.0, bar_style='info', description='Progress:', layout=Layout(height='25px', width='50%'),…"
      ]
     },
     "metadata": {},
     "output_type": "display_data"
    },
    {
     "name": "stderr",
     "output_type": "stream",
     "text": [
      "An error was encountered:\n",
      "[UNRESOLVED_COLUMN.WITH_SUGGESTION] A column or function parameter with name `currentPositions` cannot be resolved. Did you mean one of the following? [`current_job_title`, `current_msa`, `current_job_role`, `patents_title`, `curr_company`].; line 1 pos 0;\n",
      "'Project [mvp_company_name#457, publicLink#450, core_Skills#489, msa#486, curr_company#802, current_job_title#803, current_job_role#804, current_msa#805, patents_title#806, publication_title#807, certifications_name#808, certifications_authority#809, current_job_title_data#810, 'currentPositions[0][companyName] AS curr_company#844, 'currentPositions[0][company_industry] AS current_industry#845, 'currentPositions[0][job_title_lemmatized] AS current_job_title#846, 'currentPositions.job_role[0] AS current_job_role#847, 'currentPositions[0][msa] AS current_msa#848, 'currentPositions[0][synon_location] AS current_synon_location#849, 'currentPositions[0][i18nStartDate] AS current_StartDate#850, 'currentPositions[0][i18nEndDate] AS current_EndDate#851, 'currentPositions[0][startDateYear] AS startDateYear#852, 'currentPositions[0][endDateYear] AS endDateYear#853, 'pastPositions[0][companyName] AS past_company#854, ... 8 more fields]\n",
      "+- Project [mvp_company_name#457, publicLink#450, core_Skills#489, msa#486, curr_company#802, current_job_title#803, current_job_role#804, current_msa#805, patents_title#806, publication_title#807, certifications_name#808, certifications_authority#809, current_job_title_data#810]\n",
      "   +- Project [mvp_company_name#457, currentPositions#458, pastPositions#459, publicLink#450, core_Skills#489, msa#486, publications#455, patents#512, certifications#507, currentPositions#458[0].companyName AS curr_company#802, currentPositions#458[0].job_title_lemmatized AS current_job_title#803, currentPositions#458.job_role[0] AS current_job_role#804, currentPositions#458[0].msa AS current_msa#805, patents#512[0].title AS patents_title#806, publications#455[0].title AS publication_title#807, certifications#507[0].name AS certifications_name#808, certifications#507[0].authority AS certifications_authority#809, currentPositions#458.job_title_lemmatized AS current_job_title_data#810]\n",
      "      +- Project [mvp_company_name#457, currentPositions#458, pastPositions#459, publicLink#450, core_Skills#489, msa#486, publications#455, patents#512, certifications#507]\n",
      "         +- Relation [permalink#448,memberId#449,publicLink#450,level#451,synon_location#452,interests#453,executive_pl#454,publications#455,executive_pg#456,mvp_company_name#457,currentPositions#458,pastPositions#459,bf#460,next_designation_statement#461,industry#462,desc_buckets#463,skills#464,location#465,languages#466,uuid#467,investments#468,executive_category#469,volunteering_experience#470,isboardmember#471,... 148 more fields] parquet\n",
      "\n",
      "Traceback (most recent call last):\n",
      "  File \"/mnt/yarn/usercache/user_n-renukumar_rajendran_draup_com/appcache/application_1726458000007_0022/container_1726458000007_0022_01_000001/pyspark.zip/pyspark/sql/dataframe.py\", line 3262, in selectExpr\n",
      "    jdf = self._jdf.selectExpr(self._jseq(expr))\n",
      "  File \"/mnt/yarn/usercache/user_n-renukumar_rajendran_draup_com/appcache/application_1726458000007_0022/container_1726458000007_0022_01_000001/py4j-0.10.9.7-src.zip/py4j/java_gateway.py\", line 1322, in __call__\n",
      "    return_value = get_return_value(\n",
      "  File \"/mnt/yarn/usercache/user_n-renukumar_rajendran_draup_com/appcache/application_1726458000007_0022/container_1726458000007_0022_01_000001/pyspark.zip/pyspark/errors/exceptions/captured.py\", line 185, in deco\n",
      "    raise converted from None\n",
      "pyspark.errors.exceptions.captured.AnalysisException: [UNRESOLVED_COLUMN.WITH_SUGGESTION] A column or function parameter with name `currentPositions` cannot be resolved. Did you mean one of the following? [`current_job_title`, `current_msa`, `current_job_role`, `patents_title`, `curr_company`].; line 1 pos 0;\n",
      "'Project [mvp_company_name#457, publicLink#450, core_Skills#489, msa#486, curr_company#802, current_job_title#803, current_job_role#804, current_msa#805, patents_title#806, publication_title#807, certifications_name#808, certifications_authority#809, current_job_title_data#810, 'currentPositions[0][companyName] AS curr_company#844, 'currentPositions[0][company_industry] AS current_industry#845, 'currentPositions[0][job_title_lemmatized] AS current_job_title#846, 'currentPositions.job_role[0] AS current_job_role#847, 'currentPositions[0][msa] AS current_msa#848, 'currentPositions[0][synon_location] AS current_synon_location#849, 'currentPositions[0][i18nStartDate] AS current_StartDate#850, 'currentPositions[0][i18nEndDate] AS current_EndDate#851, 'currentPositions[0][startDateYear] AS startDateYear#852, 'currentPositions[0][endDateYear] AS endDateYear#853, 'pastPositions[0][companyName] AS past_company#854, ... 8 more fields]\n",
      "+- Project [mvp_company_name#457, publicLink#450, core_Skills#489, msa#486, curr_company#802, current_job_title#803, current_job_role#804, current_msa#805, patents_title#806, publication_title#807, certifications_name#808, certifications_authority#809, current_job_title_data#810]\n",
      "   +- Project [mvp_company_name#457, currentPositions#458, pastPositions#459, publicLink#450, core_Skills#489, msa#486, publications#455, patents#512, certifications#507, currentPositions#458[0].companyName AS curr_company#802, currentPositions#458[0].job_title_lemmatized AS current_job_title#803, currentPositions#458.job_role[0] AS current_job_role#804, currentPositions#458[0].msa AS current_msa#805, patents#512[0].title AS patents_title#806, publications#455[0].title AS publication_title#807, certifications#507[0].name AS certifications_name#808, certifications#507[0].authority AS certifications_authority#809, currentPositions#458.job_title_lemmatized AS current_job_title_data#810]\n",
      "      +- Project [mvp_company_name#457, currentPositions#458, pastPositions#459, publicLink#450, core_Skills#489, msa#486, publications#455, patents#512, certifications#507]\n",
      "         +- Relation [permalink#448,memberId#449,publicLink#450,level#451,synon_location#452,interests#453,executive_pl#454,publications#455,executive_pg#456,mvp_company_name#457,currentPositions#458,pastPositions#459,bf#460,next_designation_statement#461,industry#462,desc_buckets#463,skills#464,location#465,languages#466,uuid#467,investments#468,executive_category#469,volunteering_experience#470,isboardmember#471,... 148 more fields] parquet\n",
      "\n",
      "\n"
     ]
    }
   ],
   "source": []
  },
  {
   "cell_type": "code",
   "execution_count": 5,
   "id": "bad3537b-485a-455d-a304-aecfb3204478",
   "metadata": {
    "collapsed": true,
    "execution": {
     "iopub.execute_input": "2024-09-16T11:40:18.240845Z",
     "iopub.status.busy": "2024-09-16T11:40:18.240627Z",
     "iopub.status.idle": "2024-09-16T11:40:18.531552Z",
     "shell.execute_reply": "2024-09-16T11:40:18.530641Z",
     "shell.execute_reply.started": "2024-09-16T11:40:18.240814Z"
    },
    "jupyter": {
     "outputs_hidden": true
    },
    "tags": []
   },
   "outputs": [
    {
     "data": {
      "application/vnd.jupyter.widget-view+json": {
       "model_id": "02b97946cab4456a911cc0129e15187e",
       "version_major": 2,
       "version_minor": 0
      },
      "text/plain": [
       "VBox()"
      ]
     },
     "metadata": {},
     "output_type": "display_data"
    },
    {
     "data": {
      "application/vnd.jupyter.widget-view+json": {
       "model_id": "",
       "version_major": 2,
       "version_minor": 0
      },
      "text/plain": [
       "FloatProgress(value=0.0, bar_style='info', description='Progress:', layout=Layout(height='25px', width='50%'),…"
      ]
     },
     "metadata": {},
     "output_type": "display_data"
    },
    {
     "name": "stdout",
     "output_type": "stream",
     "text": [
      "root\n",
      " |-- permalink: string (nullable = true)\n",
      " |-- memberId: string (nullable = true)\n",
      " |-- publicLink: string (nullable = true)\n",
      " |-- level: string (nullable = true)\n",
      " |-- synon_location: string (nullable = true)\n",
      " |-- interests: array (nullable = true)\n",
      " |    |-- element: string (containsNull = true)\n",
      " |-- executive_pl: array (nullable = true)\n",
      " |    |-- element: string (containsNull = true)\n",
      " |-- publications: array (nullable = true)\n",
      " |    |-- element: struct (containsNull = true)\n",
      " |    |    |-- i18nPublicationDate: string (nullable = true)\n",
      " |    |    |-- title: string (nullable = true)\n",
      " |    |    |-- publisher: string (nullable = true)\n",
      " |    |    |-- summary: string (nullable = true)\n",
      " |    |    |-- authors: array (nullable = true)\n",
      " |    |    |    |-- element: struct (containsNull = true)\n",
      " |    |    |    |    |-- firstName: string (nullable = true)\n",
      " |    |    |    |    |-- lastName: string (nullable = true)\n",
      " |    |    |    |    |-- memberId: string (nullable = true)\n",
      " |-- executive_pg: array (nullable = true)\n",
      " |    |-- element: string (containsNull = true)\n",
      " |-- mvp_company_name: string (nullable = true)\n",
      " |-- currentPositions: array (nullable = true)\n",
      " |    |-- element: struct (containsNull = true)\n",
      " |    |    |-- i18nStartDate: string (nullable = true)\n",
      " |    |    |-- i18nEndDate: string (nullable = true)\n",
      " |    |    |-- companyName: string (nullable = true)\n",
      " |    |    |-- title: string (nullable = true)\n",
      " |    |    |-- location: string (nullable = true)\n",
      " |    |    |-- startDateYear: string (nullable = true)\n",
      " |    |    |-- startDateMonth: string (nullable = true)\n",
      " |    |    |-- endDateYear: string (nullable = true)\n",
      " |    |    |-- endDateMonth: string (nullable = true)\n",
      " |    |    |-- summary: string (nullable = true)\n",
      " |    |    |-- level: string (nullable = true)\n",
      " |    |    |-- experience_years: double (nullable = true)\n",
      " |    |    |-- company_website: string (nullable = true)\n",
      " |    |    |-- company_workforce_size: string (nullable = true)\n",
      " |    |    |-- company_industry: string (nullable = true)\n",
      " |    |    |-- msa: string (nullable = true)\n",
      " |    |    |-- synon_location: string (nullable = true)\n",
      " |    |    |-- latitude: string (nullable = true)\n",
      " |    |    |-- longitude: string (nullable = true)\n",
      " |    |    |-- job_title_lemmatized: string (nullable = true)\n",
      " |    |    |-- job_role: array (nullable = true)\n",
      " |    |    |    |-- element: string (containsNull = true)\n",
      " |    |    |-- companyName_synon: string (nullable = true)\n",
      " |    |    |-- company_type: string (nullable = true)\n",
      " |    |    |-- raw_start_date: string (nullable = true)\n",
      " |    |    |-- raw_end_date: string (nullable = true)\n",
      " |-- pastPositions: array (nullable = true)\n",
      " |    |-- element: struct (containsNull = true)\n",
      " |    |    |-- i18nStartDate: string (nullable = true)\n",
      " |    |    |-- i18nEndDate: string (nullable = true)\n",
      " |    |    |-- companyName: string (nullable = true)\n",
      " |    |    |-- title: string (nullable = true)\n",
      " |    |    |-- location: string (nullable = true)\n",
      " |    |    |-- startDateYear: string (nullable = true)\n",
      " |    |    |-- startDateMonth: string (nullable = true)\n",
      " |    |    |-- endDateYear: string (nullable = true)\n",
      " |    |    |-- endDateMonth: string (nullable = true)\n",
      " |    |    |-- summary: string (nullable = true)\n",
      " |    |    |-- level: string (nullable = true)\n",
      " |    |    |-- experience_years: double (nullable = true)\n",
      " |    |    |-- company_website: string (nullable = true)\n",
      " |    |    |-- company_workforce_size: string (nullable = true)\n",
      " |    |    |-- company_industry: string (nullable = true)\n",
      " |    |    |-- msa: string (nullable = true)\n",
      " |    |    |-- synon_location: string (nullable = true)\n",
      " |    |    |-- latitude: string (nullable = true)\n",
      " |    |    |-- longitude: string (nullable = true)\n",
      " |    |    |-- job_title_lemmatized: string (nullable = true)\n",
      " |    |    |-- job_role: array (nullable = true)\n",
      " |    |    |    |-- element: string (containsNull = true)\n",
      " |    |    |-- companyName_synon: string (nullable = true)\n",
      " |    |    |-- company_type: string (nullable = true)\n",
      " |    |    |-- raw_start_date: string (nullable = true)\n",
      " |    |    |-- raw_end_date: string (nullable = true)\n",
      " |-- bf: string (nullable = true)\n",
      " |-- next_designation_statement: string (nullable = true)\n",
      " |-- industry: string (nullable = true)\n",
      " |-- desc_buckets: struct (nullable = true)\n",
      " |    |-- controlling: array (nullable = true)\n",
      " |    |    |-- element: string (containsNull = true)\n",
      " |    |-- reporting: array (nullable = true)\n",
      " |    |    |-- element: string (containsNull = true)\n",
      " |    |-- neutral: array (nullable = true)\n",
      " |    |    |-- element: string (containsNull = true)\n",
      " |    |-- none: array (nullable = true)\n",
      " |    |    |-- element: string (containsNull = true)\n",
      " |-- skills: array (nullable = true)\n",
      " |    |-- element: string (containsNull = true)\n",
      " |-- location: string (nullable = true)\n",
      " |-- languages: array (nullable = true)\n",
      " |    |-- element: struct (containsNull = true)\n",
      " |    |    |-- languageName: string (nullable = true)\n",
      " |    |    |-- proficiency: string (nullable = true)\n",
      " |-- uuid: string (nullable = true)\n",
      " |-- investments: array (nullable = true)\n",
      " |    |-- element: struct (containsNull = true)\n",
      " |    |    |-- relationships: struct (nullable = true)\n",
      " |    |    |    |-- funding_round: struct (nullable = true)\n",
      " |    |    |    |    |-- type: string (nullable = true)\n",
      " |    |    |    |    |-- properties: struct (nullable = true)\n",
      " |    |    |    |    |    |-- series: string (nullable = true)\n",
      " |    |    |    |    |    |-- announced_on: string (nullable = true)\n",
      " |    |    |    |    |    |-- money_raised_usd: integer (nullable = true)\n",
      " |    |    |    |    |-- relationships: struct (nullable = true)\n",
      " |    |    |    |    |    |-- funded_organization: struct (nullable = true)\n",
      " |    |    |    |    |    |    |-- properties: struct (nullable = true)\n",
      " |    |    |    |    |    |    |    |-- name: string (nullable = true)\n",
      " |    |    |    |    |    |    |    |-- description: string (nullable = true)\n",
      " |-- executive_category: string (nullable = true)\n",
      " |-- volunteering_experience: array (nullable = true)\n",
      " |    |-- element: struct (containsNull = true)\n",
      " |    |    |-- i18nStartDate: string (nullable = true)\n",
      " |    |    |-- i18nEndDate: string (nullable = true)\n",
      " |    |    |-- companyName: string (nullable = true)\n",
      " |    |    |-- role: string (nullable = true)\n",
      " |    |    |-- cause: string (nullable = true)\n",
      " |    |    |-- startDateYear: string (nullable = true)\n",
      " |    |    |-- startDateMonth: string (nullable = true)\n",
      " |    |    |-- endDateYear: string (nullable = true)\n",
      " |    |    |-- endDateMonth: string (nullable = true)\n",
      " |    |    |-- description: string (nullable = true)\n",
      " |-- isboardmember: boolean (nullable = true)\n",
      " |-- fullName: string (nullable = true)\n",
      " |-- headline: string (nullable = true)\n",
      " |-- company_pg: array (nullable = true)\n",
      " |    |-- element: string (containsNull = true)\n",
      " |-- personality_inference: struct (nullable = true)\n",
      " |    |-- results: string (nullable = true)\n",
      " |    |-- foot_notes_desc: string (nullable = true)\n",
      " |    |-- messages: string (nullable = true)\n",
      " |-- board_member_validation: boolean (nullable = true)\n",
      " |-- is_angel_investor: boolean (nullable = true)\n",
      " |-- control_region: array (nullable = true)\n",
      " |    |-- element: string (containsNull = true)\n",
      " |-- latitude: string (nullable = true)\n",
      " |-- executive_bu: array (nullable = true)\n",
      " |    |-- element: string (containsNull = true)\n",
      " |-- sitting_country: string (nullable = true)\n",
      " |-- title: string (nullable = true)\n",
      " |-- people_data_id: struct (nullable = true)\n",
      " |    |-- oid: string (nullable = true)\n",
      " |-- loaded_at: timestamp (nullable = true)\n",
      " |-- control_country: array (nullable = true)\n",
      " |    |-- element: string (containsNull = true)\n",
      " |-- msa: string (nullable = true)\n",
      " |-- company_pl: array (nullable = true)\n",
      " |    |-- element: string (containsNull = true)\n",
      " |-- years_of_experience: double (nullable = true)\n",
      " |-- core_skills: array (nullable = true)\n",
      " |    |-- element: string (containsNull = true)\n",
      " |-- company_bu: array (nullable = true)\n",
      " |    |-- element: string (containsNull = true)\n",
      " |-- projects: array (nullable = true)\n",
      " |    |-- element: struct (containsNull = true)\n",
      " |    |    |-- i18nStartDate: string (nullable = true)\n",
      " |    |    |-- i18nEndDate: string (nullable = true)\n",
      " |    |    |-- title: string (nullable = true)\n",
      " |    |    |-- description: string (nullable = true)\n",
      " |-- awards: array (nullable = true)\n",
      " |    |-- element: struct (containsNull = true)\n",
      " |    |    |-- description: string (nullable = true)\n",
      " |    |    |-- i18nIssueDate: string (nullable = true)\n",
      " |    |    |-- issuer: string (nullable = true)\n",
      " |    |    |-- title: string (nullable = true)\n",
      " |-- is_global: boolean (nullable = true)\n",
      " |-- summary: string (nullable = true)\n",
      " |-- synon_skills: array (nullable = true)\n",
      " |    |-- element: string (containsNull = true)\n",
      " |-- return_next_designation: string (nullable = true)\n",
      " |-- control_msa: array (nullable = true)\n",
      " |    |-- element: string (containsNull = true)\n",
      " |-- courses: array (nullable = true)\n",
      " |    |-- element: string (containsNull = true)\n",
      " |-- synon_title: string (nullable = true)\n",
      " |-- ml_businessfunction: string (nullable = true)\n",
      " |-- news: array (nullable = true)\n",
      " |    |-- element: struct (containsNull = true)\n",
      " |    |    |-- properties: struct (nullable = true)\n",
      " |    |    |    |-- title: string (nullable = true)\n",
      " |    |    |    |-- posted_on: string (nullable = true)\n",
      " |    |    |    |-- url: string (nullable = true)\n",
      " |-- boardMemberships: array (nullable = true)\n",
      " |    |-- element: struct (containsNull = true)\n",
      " |    |    |-- role: string (nullable = true)\n",
      " |    |    |-- periodText: string (nullable = true)\n",
      " |    |    |-- entityName: string (nullable = true)\n",
      " |-- board_member_company: string (nullable = true)\n",
      " |-- invested_companies: array (nullable = true)\n",
      " |    |-- element: string (containsNull = true)\n",
      " |-- organizations: array (nullable = true)\n",
      " |    |-- element: struct (containsNull = true)\n",
      " |    |    |-- i18nStartDate: string (nullable = true)\n",
      " |    |    |-- i18nEndDate: string (nullable = true)\n",
      " |    |    |-- name: string (nullable = true)\n",
      " |    |    |-- position: string (nullable = true)\n",
      " |-- gender: string (nullable = true)\n",
      " |-- certifications: array (nullable = true)\n",
      " |    |-- element: struct (containsNull = true)\n",
      " |    |    |-- authority: string (nullable = true)\n",
      " |    |    |-- name: string (nullable = true)\n",
      " |    |    |-- i18nStartDate: string (nullable = true)\n",
      " |    |    |-- i18nEndDate: string (nullable = true)\n",
      " |    |    |-- licenseNumber: string (nullable = true)\n",
      " |-- numConnections: integer (nullable = true)\n",
      " |-- recommendations: array (nullable = true)\n",
      " |    |-- element: string (containsNull = true)\n",
      " |-- longitude: string (nullable = true)\n",
      " |-- company_vertical: array (nullable = true)\n",
      " |    |-- element: string (containsNull = true)\n",
      " |-- patents: array (nullable = true)\n",
      " |    |-- element: struct (containsNull = true)\n",
      " |    |    |-- title: string (nullable = true)\n",
      " |    |    |-- patentOffice: string (nullable = true)\n",
      " |    |    |-- summary: string (nullable = true)\n",
      " |    |    |-- externalUrl: string (nullable = true)\n",
      " |    |    |-- patentNumber: string (nullable = true)\n",
      " |    |    |-- i18nIssueDate: string (nullable = true)\n",
      " |    |    |-- i18nFilingDate: string (nullable = true)\n",
      " |-- educations: array (nullable = true)\n",
      " |    |-- element: struct (containsNull = true)\n",
      " |    |    |-- i18nStartDate: string (nullable = true)\n",
      " |    |    |-- i18nEndDate: string (nullable = true)\n",
      " |    |    |-- schoolName: string (nullable = true)\n",
      " |    |    |-- location: string (nullable = true)\n",
      " |    |    |-- website: string (nullable = true)\n",
      " |    |    |-- degree: string (nullable = true)\n",
      " |    |    |-- fieldOfStudy: string (nullable = true)\n",
      " |    |    |-- startDateYear: string (nullable = true)\n",
      " |    |    |-- startDateMonth: string (nullable = true)\n",
      " |    |    |-- endDateYear: string (nullable = true)\n",
      " |    |    |-- endDateMonth: string (nullable = true)\n",
      " |    |    |-- summary: string (nullable = true)\n",
      " |    |    |-- synon_degree_level: string (nullable = true)\n",
      " |    |    |-- degree_name: string (nullable = true)\n",
      " |-- soft_skills: array (nullable = true)\n",
      " |    |-- element: string (containsNull = true)\n",
      " |-- job_role: array (nullable = true)\n",
      " |    |-- element: string (containsNull = true)\n",
      " |-- tips: string (nullable = true)\n",
      " |-- top_culture_traits: array (nullable = true)\n",
      " |    |-- element: struct (containsNull = true)\n",
      " |    |    |-- culture_name: string (nullable = true)\n",
      " |    |    |-- culture_score: double (nullable = true)\n",
      " |    |    |-- influencing_trait: string (nullable = true)\n",
      " |    |    |-- influenced_company: array (nullable = true)\n",
      " |    |    |    |-- element: string (containsNull = true)\n",
      " |-- loc_class: string (nullable = true)\n",
      " |-- specialisations: array (nullable = true)\n",
      " |    |-- element: string (containsNull = true)\n",
      " |-- new_age_capability_index: string (nullable = true)\n",
      " |-- startup_exposure: double (nullable = true)\n",
      " |-- dsi: double (nullable = true)\n",
      " |-- deals_value: long (nullable = true)\n",
      " |-- key_service_partners: array (nullable = true)\n",
      " |    |-- element: struct (containsNull = true)\n",
      " |    |    |-- provider_name: string (nullable = true)\n",
      " |    |    |-- count: long (nullable = true)\n",
      " |-- geo_impact: string (nullable = true)\n",
      " |-- reporting: string (nullable = true)\n",
      " |-- emerging_market_countries: array (nullable = true)\n",
      " |    |-- element: string (containsNull = true)\n",
      " |-- emerging_market: boolean (nullable = true)\n",
      " |-- is_non_linkedin: boolean (nullable = true)\n",
      " |-- imageUri: string (nullable = true)\n",
      " |-- probability_company_movement: double (nullable = true)\n",
      " |-- dsi_rating: string (nullable = true)\n",
      " |-- estimated_current_outsourcing: string (nullable = true)\n",
      " |-- startup_exposure_rating: string (nullable = true)\n",
      " |-- opportunity_outsourcing_score: double (nullable = true)\n",
      " |-- level_score: double (nullable = true)\n",
      " |-- global_exposure_score: double (nullable = true)\n",
      " |-- ecosystem_affinity_score: double (nullable = true)\n",
      " |-- boi_score: double (nullable = true)\n",
      " |-- influencers: map (nullable = true)\n",
      " |    |-- key: string\n",
      " |    |-- value: array (valueContainsNull = true)\n",
      " |    |    |-- element: string (containsNull = true)\n",
      " |-- european_flag: boolean (nullable = true)\n",
      " |-- sales_oi: double (nullable = true)\n",
      " |-- key_competencies: map (nullable = true)\n",
      " |    |-- key: string\n",
      " |    |-- value: array (valueContainsNull = true)\n",
      " |    |    |-- element: string (containsNull = true)\n",
      " |-- promotion_odds: string (nullable = true)\n",
      " |-- likeliness_to_move: string (nullable = true)\n",
      " |-- openness_to_relocation: string (nullable = true)\n",
      " |-- other_tags: array (nullable = true)\n",
      " |    |-- element: string (containsNull = true)\n",
      " |-- deleted: boolean (nullable = true)\n",
      " |-- twitter_handle: array (nullable = true)\n",
      " |    |-- element: string (containsNull = true)\n",
      " |-- ethnicity_class_probabilities: array (nullable = true)\n",
      " |    |-- element: struct (containsNull = true)\n",
      " |    |    |-- category: string (nullable = true)\n",
      " |    |    |-- probability: double (nullable = true)\n",
      " |-- ethnicity: struct (nullable = true)\n",
      " |    |-- category: string (nullable = true)\n",
      " |    |-- probability: double (nullable = true)\n",
      " |-- gender_predict: string (nullable = true)\n",
      " |-- gender_probability: float (nullable = true)\n",
      " |-- experience_in_current_job_role: double (nullable = true)\n",
      " |-- experience_in_current_company: double (nullable = true)\n",
      " |-- mongo_manual_refresh_flag: boolean (nullable = true)\n",
      " |-- schema_cumulative_experience: array (nullable = true)\n",
      " |    |-- element: struct (containsNull = true)\n",
      " |    |    |-- companyName_synon: string (nullable = true)\n",
      " |    |    |-- job_role_durations: array (nullable = true)\n",
      " |    |    |    |-- element: struct (containsNull = true)\n",
      " |    |    |    |    |-- job_role: string (nullable = true)\n",
      " |    |    |    |    |-- role_past_experience: float (nullable = true)\n",
      " |    |    |    |    |-- role_relevant_experience: float (nullable = true)\n",
      " |    |    |-- job_title: string (nullable = true)\n",
      " |    |    |-- title_past_experience: float (nullable = true)\n",
      " |    |    |-- title_relevant_experience: float (nullable = true)\n",
      " |    |    |-- cumulative_overall_experience: float (nullable = true)\n",
      " |-- final_responsibilities_sentences: array (nullable = true)\n",
      " |    |-- element: string (containsNull = true)\n",
      " |-- promotion_prediction: double (nullable = true)\n",
      " |-- probability_location_movement: double (nullable = true)\n",
      " |-- cumulative_experience: array (nullable = true)\n",
      " |    |-- element: struct (containsNull = true)\n",
      " |    |    |-- companyName_synon: string (nullable = true)\n",
      " |    |    |-- job_role_durations: array (nullable = true)\n",
      " |    |    |    |-- element: struct (containsNull = true)\n",
      " |    |    |    |    |-- job_role: string (nullable = true)\n",
      " |    |    |    |    |-- role_past_experience: float (nullable = true)\n",
      " |    |    |    |    |-- role_relevant_experience: float (nullable = true)\n",
      " |    |    |-- job_title: string (nullable = true)\n",
      " |    |    |-- title_past_experience: float (nullable = true)\n",
      " |    |    |-- title_relevant_experience: float (nullable = true)\n",
      " |    |    |-- cumulative_overall_experience: float (nullable = true)\n",
      " |-- talent_level: string (nullable = true)\n",
      " |-- phone_number: struct (nullable = true)\n",
      " |    |-- work: array (nullable = true)\n",
      " |    |    |-- element: string (containsNull = true)\n",
      " |    |-- personal: array (nullable = true)\n",
      " |    |    |-- element: string (containsNull = true)\n",
      " |-- valid_email: struct (nullable = true)\n",
      " |    |-- work: array (nullable = true)\n",
      " |    |    |-- element: string (containsNull = true)\n",
      " |    |-- personal: array (nullable = true)\n",
      " |    |    |-- element: string (containsNull = true)\n",
      " |-- hiring_oi: struct (nullable = true)\n",
      " |    |-- hiring_oi: float (nullable = true)\n",
      " |    |-- norm_feature_values: map (nullable = true)\n",
      " |    |    |-- key: string\n",
      " |    |    |-- value: float (valueContainsNull = true)\n",
      " |-- added_month: string (nullable = true)\n",
      " |-- traits: struct (nullable = true)\n",
      " |    |-- Traits_Absolute_Scores: string (nullable = true)\n",
      " |    |-- relative_traits_values: string (nullable = true)\n",
      " |    |-- relative_traits_values_derived: array (nullable = true)\n",
      " |    |    |-- element: string (containsNull = true)\n",
      " |    |-- Trait_1: string (nullable = true)\n",
      " |    |-- Trait_2: string (nullable = true)\n",
      " |    |-- Trait_3: string (nullable = true)\n",
      " |    |-- Trait_4: string (nullable = true)\n",
      " |    |-- Trait_5: string (nullable = true)\n",
      " |-- digital_footprint: array (nullable = true)\n",
      " |    |-- element: map (containsNull = true)\n",
      " |    |    |-- key: string\n",
      " |    |    |-- value: map (valueContainsNull = true)\n",
      " |    |    |    |-- key: string\n",
      " |    |    |    |-- value: array (valueContainsNull = true)\n",
      " |    |    |    |    |-- element: string (containsNull = true)\n",
      " |-- current_skills: array (nullable = true)\n",
      " |    |-- element: string (containsNull = true)\n",
      " |-- experience_in_current_title: double (nullable = true)\n",
      " |-- run_id: timestamp (nullable = true)\n",
      " |-- is_military_veteran: boolean (nullable = true)\n",
      " |-- events_data: array (nullable = true)\n",
      " |    |-- element: struct (containsNull = true)\n",
      " |    |    |-- appearance_type: string (nullable = true)\n",
      " |    |    |-- cb_url: string (nullable = true)\n",
      " |    |    |-- event_appearance_name: string (nullable = true)\n",
      " |    |    |-- event_appearance_uuid: string (nullable = true)\n",
      " |    |    |-- event_cb_url: string (nullable = true)\n",
      " |    |    |-- event_city: string (nullable = true)\n",
      " |    |    |-- event_country_code: string (nullable = true)\n",
      " |    |    |-- event_ended_on: string (nullable = true)\n",
      " |    |    |-- event_event_roles: string (nullable = true)\n",
      " |    |    |-- event_logo_url: string (nullable = true)\n",
      " |    |    |-- event_name: string (nullable = true)\n",
      " |    |    |-- event_permalink: string (nullable = true)\n",
      " |    |    |-- event_rank: integer (nullable = true)\n",
      " |    |    |-- event_region: string (nullable = true)\n",
      " |    |    |-- event_registration_url: string (nullable = true)\n",
      " |    |    |-- event_short_description: string (nullable = true)\n",
      " |    |    |-- event_started_on: string (nullable = true)\n",
      " |    |    |-- event_state_code: string (nullable = true)\n",
      " |    |    |-- event_type: string (nullable = true)\n",
      " |    |    |-- event_uuid: string (nullable = true)\n",
      " |    |    |-- event_venue_name: string (nullable = true)\n",
      " |    |    |-- name: string (nullable = true)\n",
      " |    |    |-- participant_name: string (nullable = true)\n",
      " |    |    |-- participant_type: string (nullable = true)\n",
      " |    |    |-- participant_uuid: string (nullable = true)\n",
      " |    |    |-- permalink: string (nullable = true)\n",
      " |    |    |-- short_description: string (nullable = true)\n",
      " |    |    |-- type: string (nullable = true)\n",
      " |    |    |-- uuid: string (nullable = true)\n",
      " |-- company_type: string (nullable = true)\n",
      " |-- company_size: integer (nullable = true)\n",
      " |-- business_function: array (nullable = true)\n",
      " |    |-- element: string (containsNull = true)\n",
      " |-- functional_workload: array (nullable = true)\n",
      " |    |-- element: string (containsNull = true)\n",
      " |-- pce_id: integer (nullable = true)\n",
      " |-- cb_url: string (nullable = true)\n",
      " |-- languages_synon: array (nullable = true)\n",
      " |    |-- element: struct (containsNull = true)\n",
      " |    |    |-- languageName: string (nullable = true)\n",
      " |    |    |-- proficiency: string (nullable = true)\n",
      " |-- logo_url: string (nullable = true)\n",
      " |-- interpreted_skills: array (nullable = true)\n",
      " |    |-- element: string (containsNull = true)\n",
      " |-- github_user_url: string (nullable = true)\n",
      " |-- github_user_name: string (nullable = true)\n",
      " |-- github_user_id: string (nullable = true)\n",
      " |-- github_user_bio: string (nullable = true)\n",
      " |-- github_user_followers: integer (nullable = true)\n",
      " |-- github_user_following: integer (nullable = true)\n",
      " |-- github_user_organization: string (nullable = true)\n",
      " |-- github_user_location: string (nullable = true)\n",
      " |-- github_user_email: string (nullable = true)\n",
      " |-- github_user_website_url: string (nullable = true)\n",
      " |-- github_user_twitter: string (nullable = true)\n",
      " |-- github_user_achievements: array (nullable = true)\n",
      " |    |-- element: struct (containsNull = true)\n",
      " |    |    |-- achivement: string (nullable = true)\n",
      " |-- github_user_highlights: array (nullable = true)\n",
      " |    |-- element: string (containsNull = true)\n",
      " |-- github_user_list_of_organizations: array (nullable = true)\n",
      " |    |-- element: struct (containsNull = true)\n",
      " |    |    |-- organization: string (nullable = true)\n",
      " |-- github_user_yearly_contribution: array (nullable = true)\n",
      " |    |-- element: struct (containsNull = true)\n",
      " |    |    |-- year: integer (nullable = true)\n",
      " |    |    |-- contributions: integer (nullable = true)\n",
      " |-- github_user_contributions: array (nullable = true)\n",
      " |    |-- element: struct (containsNull = true)\n",
      " |    |    |-- date: string (nullable = true)\n",
      " |    |    |-- contributions: integer (nullable = true)\n",
      " |-- github_repositories: array (nullable = true)\n",
      " |    |-- element: struct (containsNull = true)\n",
      " |    |    |-- repo_url: string (nullable = true)\n",
      " |    |    |-- repo_name: string (nullable = true)\n",
      " |    |    |-- repo_about: string (nullable = true)\n",
      " |    |    |-- repo_contributors: string (nullable = true)\n",
      " |    |    |-- repo_forks: integer (nullable = true)\n",
      " |    |    |-- repo_languages: array (nullable = true)\n",
      " |    |    |    |-- element: struct (containsNull = true)\n",
      " |    |    |    |    |-- language: string (nullable = true)\n",
      " |    |    |    |    |-- percentage: string (nullable = true)\n",
      " |    |    |-- repo_external_link: string (nullable = true)\n",
      " |    |    |-- repo_stars: integer (nullable = true)\n",
      " |    |    |-- repo_last_updated_date: timestamp (nullable = true)\n",
      " |    |    |-- repo_topics: array (nullable = true)\n",
      " |    |    |    |-- element: string (containsNull = true)\n",
      " |    |    |-- repo_used_by: integer (nullable = true)\n",
      " |    |    |-- repo_watching: integer (nullable = true)\n",
      " |-- exclusion_mapping: array (nullable = true)\n",
      " |    |-- element: string (containsNull = true)\n",
      " |-- alternate_permalinks: array (nullable = true)\n",
      " |    |-- element: string (containsNull = true)\n",
      " |-- source: string (nullable = true)\n",
      " |-- company_category: array (nullable = true)\n",
      " |    |-- element: string (containsNull = true)\n",
      " |-- clearance_level: array (nullable = true)\n",
      " |    |-- element: string (containsNull = true)\n",
      " |-- clearance_status: array (nullable = true)\n",
      " |    |-- element: string (containsNull = true)\n",
      " |-- expiry_date: array (nullable = true)\n",
      " |    |-- element: string (containsNull = true)\n",
      " |-- sales_recruitment_tag: array (nullable = true)\n",
      " |    |-- element: string (containsNull = true)\n",
      " |-- talent_recruitment_tag: array (nullable = true)\n",
      " |    |-- element: string (containsNull = true)\n",
      " |-- language: string (nullable = true)\n",
      " |-- derived_msa: string (nullable = true)\n",
      " |-- sources_list: map (nullable = true)\n",
      " |    |-- key: string\n",
      " |    |-- value: struct (valueContainsNull = true)\n",
      " |    |    |-- source: string (nullable = true)\n",
      " |    |    |-- run_id: timestamp (nullable = true)\n",
      " |-- crunchbase_information: struct (nullable = true)\n",
      " |    |-- city: string (nullable = true)\n",
      " |    |-- country_code: string (nullable = true)\n",
      " |    |-- facebook_url: string (nullable = true)\n",
      " |    |-- featured_job_organization_name: string (nullable = true)\n",
      " |    |-- featured_job_title: string (nullable = true)\n",
      " |    |-- first_name: string (nullable = true)\n",
      " |    |-- last_name: string (nullable = true)\n",
      " |    |-- name: string (nullable = true)\n",
      " |    |-- region: string (nullable = true)\n",
      " |    |-- state_code: string (nullable = true)\n",
      " |    |-- twitter_url: string (nullable = true)\n",
      " |    |-- type: string (nullable = true)\n",
      " |-- crunchbase_description: string (nullable = true)\n",
      " |-- crunchbase_investment: array (nullable = true)\n",
      " |    |-- element: struct (containsNull = true)\n",
      " |    |    |-- cb_url: string (nullable = true)\n",
      " |    |    |-- investor_name: string (nullable = true)\n",
      " |    |    |-- name: string (nullable = true)\n",
      " |    |    |-- partner_name: string (nullable = true)\n",
      " |    |    |-- permalink: string (nullable = true)\n",
      " |    |    |-- type: string (nullable = true)\n",
      " |    |    |-- funding_round_name: string (nullable = true)\n",
      " |    |    |-- funding_round_post_money_valuation_usd: long (nullable = true)\n",
      " |    |    |-- funding_round_raised_amount_usd: long (nullable = true)\n",
      " |    |    |-- funding_round_funding_type: string (nullable = true)\n",
      " |    |    |-- funding_round_funding_series: string (nullable = true)\n",
      " |    |    |-- funding_round_announced_on: timestamp (nullable = true)\n",
      " |    |    |-- funding_round_msa: string (nullable = true)\n",
      " |    |    |-- investee_name: string (nullable = true)\n",
      " |    |    |-- personal_or_partner: string (nullable = true)\n",
      " |    |    |-- ecosystem_company_id: integer (nullable = true)\n",
      " |    |    |-- universe_company_id: integer (nullable = true)\n",
      " |    |    |-- investee_logo: string (nullable = true)\n",
      " |    |    |-- investment_uuid: string (nullable = true)\n",
      " |    |    |-- partner_universe_id: integer (nullable = true)\n",
      " |    |    |-- is_lead_investor: boolean (nullable = true)\n",
      " |-- disability_types: array (nullable = true)\n",
      " |    |-- element: string (containsNull = true)\n",
      " |-- gdpr_flag: boolean (nullable = true)\n",
      " |-- country: string (nullable = true)\n",
      " |-- interpreted_language: array (nullable = true)\n",
      " |    |-- element: string (containsNull = true)\n",
      " |-- profile_last_refreshed_date: timestamp (nullable = true)"
     ]
    }
   ],
   "source": [
    "pce_df.printSchema()"
   ]
  },
  {
   "cell_type": "code",
   "execution_count": 43,
   "id": "e0d8961e-4242-4b3e-94d1-62367a632d8b",
   "metadata": {
    "execution": {
     "iopub.execute_input": "2024-08-19T08:41:27.360155Z",
     "iopub.status.busy": "2024-08-19T08:41:27.359889Z",
     "iopub.status.idle": "2024-08-19T08:49:10.048295Z",
     "shell.execute_reply": "2024-08-19T08:49:10.047369Z",
     "shell.execute_reply.started": "2024-08-19T08:41:27.360122Z"
    },
    "tags": []
   },
   "outputs": [
    {
     "data": {
      "application/vnd.jupyter.widget-view+json": {
       "model_id": "3000e1638d964fe69486a5ed33a46ba4",
       "version_major": 2,
       "version_minor": 0
      },
      "text/plain": [
       "VBox()"
      ]
     },
     "metadata": {},
     "output_type": "display_data"
    },
    {
     "data": {
      "application/vnd.jupyter.widget-view+json": {
       "model_id": "",
       "version_major": 2,
       "version_minor": 0
      },
      "text/plain": [
       "FloatProgress(value=0.0, bar_style='info', description='Progress:', layout=Layout(height='25px', width='50%'),…"
      ]
     },
     "metadata": {},
     "output_type": "display_data"
    }
   ],
   "source": [
    "#pce_df.write.mode(\"overwrite\").parquet('s3://draup-command-center/temp/cc/Renukumar_Draup/karthika/pce_profile_data_task_19-08-2024')"
   ]
  },
  {
   "cell_type": "code",
   "execution_count": 19,
   "id": "cd06f8b3-b96f-4916-b15e-e460294605f2",
   "metadata": {
    "execution": {
     "iopub.execute_input": "2024-08-21T04:46:34.357452Z",
     "iopub.status.busy": "2024-08-21T04:46:34.357155Z",
     "iopub.status.idle": "2024-08-21T04:56:43.551700Z",
     "shell.execute_reply": "2024-08-21T04:56:43.550875Z",
     "shell.execute_reply.started": "2024-08-21T04:46:34.357419Z"
    },
    "tags": []
   },
   "outputs": [
    {
     "data": {
      "application/vnd.jupyter.widget-view+json": {
       "model_id": "7d0302e346434715a60b384f128d7003",
       "version_major": 2,
       "version_minor": 0
      },
      "text/plain": [
       "VBox()"
      ]
     },
     "metadata": {},
     "output_type": "display_data"
    },
    {
     "data": {
      "application/vnd.jupyter.widget-view+json": {
       "model_id": "",
       "version_major": 2,
       "version_minor": 0
      },
      "text/plain": [
       "FloatProgress(value=0.0, bar_style='info', description='Progress:', layout=Layout(height='25px', width='50%'),…"
      ]
     },
     "metadata": {},
     "output_type": "display_data"
    }
   ],
   "source": [
    "#pce_df.write.mode(\"overwrite\").parquet('s3://draup-command-center/temp/cc/Renukumar_Draup/karthika/pce_keyword_data_task_21-08-2024')"
   ]
  },
  {
   "cell_type": "code",
   "execution_count": 22,
   "id": "a76feed9-262b-43f7-b330-167d6f3cb442",
   "metadata": {
    "execution": {
     "iopub.execute_input": "2024-08-21T04:59:29.763418Z",
     "iopub.status.busy": "2024-08-21T04:59:29.763147Z",
     "iopub.status.idle": "2024-08-21T04:59:31.029321Z",
     "shell.execute_reply": "2024-08-21T04:59:31.028445Z",
     "shell.execute_reply.started": "2024-08-21T04:59:29.763384Z"
    },
    "tags": []
   },
   "outputs": [
    {
     "data": {
      "application/vnd.jupyter.widget-view+json": {
       "model_id": "86b7eedb0c684145bf39e7e24c583b17",
       "version_major": 2,
       "version_minor": 0
      },
      "text/plain": [
       "VBox()"
      ]
     },
     "metadata": {},
     "output_type": "display_data"
    },
    {
     "data": {
      "application/vnd.jupyter.widget-view+json": {
       "model_id": "",
       "version_major": 2,
       "version_minor": 0
      },
      "text/plain": [
       "FloatProgress(value=0.0, bar_style='info', description='Progress:', layout=Layout(height='25px', width='50%'),…"
      ]
     },
     "metadata": {},
     "output_type": "display_data"
    }
   ],
   "source": [
    "pce_data = spark.read.parquet('s3://draup-command-center/temp/cc/Renukumar_Draup/karthika/pce_keyword_data_task_21-08-2024')"
   ]
  },
  {
   "cell_type": "code",
   "execution_count": null,
   "id": "92c29907-eaa8-4471-8608-0ffe1c9df05d",
   "metadata": {},
   "outputs": [],
   "source": []
  },
  {
   "cell_type": "code",
   "execution_count": 23,
   "id": "f09c125e-d91a-4b08-b37a-e72b1a8cdacf",
   "metadata": {
    "execution": {
     "iopub.execute_input": "2024-08-21T04:59:32.741030Z",
     "iopub.status.busy": "2024-08-21T04:59:32.740744Z",
     "iopub.status.idle": "2024-08-21T04:59:32.795322Z",
     "shell.execute_reply": "2024-08-21T04:59:32.794514Z",
     "shell.execute_reply.started": "2024-08-21T04:59:32.740996Z"
    },
    "tags": []
   },
   "outputs": [
    {
     "data": {
      "application/vnd.jupyter.widget-view+json": {
       "model_id": "2903b01141ca46b4a56cfa0dac9bce36",
       "version_major": 2,
       "version_minor": 0
      },
      "text/plain": [
       "VBox()"
      ]
     },
     "metadata": {},
     "output_type": "display_data"
    },
    {
     "data": {
      "application/vnd.jupyter.widget-view+json": {
       "model_id": "",
       "version_major": 2,
       "version_minor": 0
      },
      "text/plain": [
       "FloatProgress(value=0.0, bar_style='info', description='Progress:', layout=Layout(height='25px', width='50%'),…"
      ]
     },
     "metadata": {},
     "output_type": "display_data"
    }
   ],
   "source": [
    "keyword = ['Innovation', 'Senior Innovation', 'R&D', 'Research and Development', 'Technology Innovation', 'Product Innovation', 'Innovation & Design', 'Flexible Packaging Solutions', 'Innovation and Market Development', 'Senior Product Innovation', 'Flexible Packaging Innovation', 'Research Innovation', 'Marketing Innovation', 'R&D Innovation', 'Research and Development Innovation', 'R&D Global Packaging Innovation', 'Innovation Projects', 'Technical']"
   ]
  },
  {
   "cell_type": "code",
   "execution_count": null,
   "id": "f67c8b88-7ad6-482d-af99-84077606b25c",
   "metadata": {},
   "outputs": [],
   "source": []
  },
  {
   "cell_type": "code",
   "execution_count": 24,
   "id": "c0d914a3-fee7-4b0d-8f82-8070ee1fab07",
   "metadata": {
    "execution": {
     "iopub.execute_input": "2024-08-21T04:59:34.729846Z",
     "iopub.status.busy": "2024-08-21T04:59:34.729584Z",
     "iopub.status.idle": "2024-08-21T04:59:34.784140Z",
     "shell.execute_reply": "2024-08-21T04:59:34.783281Z",
     "shell.execute_reply.started": "2024-08-21T04:59:34.729812Z"
    },
    "tags": []
   },
   "outputs": [
    {
     "data": {
      "application/vnd.jupyter.widget-view+json": {
       "model_id": "269a1d0b7bda4d1dabc5c1743e10c57b",
       "version_major": 2,
       "version_minor": 0
      },
      "text/plain": [
       "VBox()"
      ]
     },
     "metadata": {},
     "output_type": "display_data"
    },
    {
     "data": {
      "application/vnd.jupyter.widget-view+json": {
       "model_id": "",
       "version_major": 2,
       "version_minor": 0
      },
      "text/plain": [
       "FloatProgress(value=0.0, bar_style='info', description='Progress:', layout=Layout(height='25px', width='50%'),…"
      ]
     },
     "metadata": {},
     "output_type": "display_data"
    }
   ],
   "source": [
    "include_labels = ['Manager', 'Lead', 'Leader', 'Team Lead']\n",
    "exclude_labels = ['owner', 'Trainee']\n"
   ]
  },
  {
   "cell_type": "code",
   "execution_count": 41,
   "id": "78974a87-c35a-4878-9d59-1da6a25b9fe8",
   "metadata": {
    "execution": {
     "iopub.execute_input": "2024-08-21T05:07:16.943151Z",
     "iopub.status.busy": "2024-08-21T05:07:16.942720Z",
     "iopub.status.idle": "2024-08-21T05:07:17.210968Z",
     "shell.execute_reply": "2024-08-21T05:07:17.209882Z",
     "shell.execute_reply.started": "2024-08-21T05:07:16.943102Z"
    },
    "tags": []
   },
   "outputs": [
    {
     "data": {
      "application/vnd.jupyter.widget-view+json": {
       "model_id": "0047acea00bc4eb787e33ffd9eb5f009",
       "version_major": 2,
       "version_minor": 0
      },
      "text/plain": [
       "VBox()"
      ]
     },
     "metadata": {},
     "output_type": "display_data"
    },
    {
     "data": {
      "application/vnd.jupyter.widget-view+json": {
       "model_id": "",
       "version_major": 2,
       "version_minor": 0
      },
      "text/plain": [
       "FloatProgress(value=0.0, bar_style='info', description='Progress:', layout=Layout(height='25px', width='50%'),…"
      ]
     },
     "metadata": {},
     "output_type": "display_data"
    }
   ],
   "source": [
    "df_filtered = pce_data.filter(\n",
    "    F.expr(\"array_contains(array({}), current_job_title)\".format(\n",
    "        ','.join(f\"'{kw}'\" for kw in keyword)\n",
    "    ))\n",
    ")\n",
    "\n",
    "# Step 2: Extract those that contain any of the include labels\n",
    "df_extracted = df_filtered.filter(\n",
    "    F.expr(\"array_contains(array({}), current_job_title)\".format(\n",
    "        ','.join(f\"'{label}'\" for label in include_labels)\n",
    "    ))\n",
    ")\n",
    "\n",
    "# Exclude those that contain any of the exclude labels\n",
    "df_excluded = df_filtered.filter(\n",
    "    ~F.expr(\"array_contains(array({}), current_job_title)\".format(\n",
    "        ','.join(f\"'{label}'\" for label in exclude_labels)\n",
    "    ))\n",
    ")\n"
   ]
  },
  {
   "cell_type": "code",
   "execution_count": 42,
   "id": "5ceb6697-832d-47c3-9b9a-0b258896da22",
   "metadata": {
    "execution": {
     "iopub.execute_input": "2024-08-21T05:07:18.497725Z",
     "iopub.status.busy": "2024-08-21T05:07:18.497447Z",
     "iopub.status.idle": "2024-08-21T05:07:19.270856Z",
     "shell.execute_reply": "2024-08-21T05:07:19.269885Z",
     "shell.execute_reply.started": "2024-08-21T05:07:18.497691Z"
    },
    "tags": []
   },
   "outputs": [
    {
     "data": {
      "application/vnd.jupyter.widget-view+json": {
       "model_id": "b265a94dd2694478a1f4ea61b5c03be7",
       "version_major": 2,
       "version_minor": 0
      },
      "text/plain": [
       "VBox()"
      ]
     },
     "metadata": {},
     "output_type": "display_data"
    },
    {
     "data": {
      "application/vnd.jupyter.widget-view+json": {
       "model_id": "",
       "version_major": 2,
       "version_minor": 0
      },
      "text/plain": [
       "FloatProgress(value=0.0, bar_style='info', description='Progress:', layout=Layout(height='25px', width='50%'),…"
      ]
     },
     "metadata": {},
     "output_type": "display_data"
    },
    {
     "name": "stdout",
     "output_type": "stream",
     "text": [
      "+-----------------+\n",
      "|current_job_title|\n",
      "+-----------------+\n",
      "|R&D              |\n",
      "|Technical        |\n",
      "|R&D              |\n",
      "|Technical        |\n",
      "|R&D              |\n",
      "|Technical        |\n",
      "|Technical        |\n",
      "|Technical        |\n",
      "|Technical        |\n",
      "|R&D              |\n",
      "|Technical        |\n",
      "|R&D              |\n",
      "|Technical        |\n",
      "|R&D              |\n",
      "|R&D              |\n",
      "|R&D              |\n",
      "|Technical        |\n",
      "|Technical        |\n",
      "|Technical        |\n",
      "|Technical        |\n",
      "+-----------------+\n",
      "only showing top 20 rows"
     ]
    }
   ],
   "source": [
    "df_excluded[[\"current_job_title\"]].show(truncate = False)"
   ]
  },
  {
   "cell_type": "code",
   "execution_count": 43,
   "id": "aea69ac7-1d12-4236-a905-66e8e0976afc",
   "metadata": {
    "execution": {
     "iopub.execute_input": "2024-08-21T05:07:19.272502Z",
     "iopub.status.busy": "2024-08-21T05:07:19.272276Z",
     "iopub.status.idle": "2024-08-21T05:07:19.332252Z",
     "shell.execute_reply": "2024-08-21T05:07:19.331303Z",
     "shell.execute_reply.started": "2024-08-21T05:07:19.272469Z"
    },
    "tags": []
   },
   "outputs": [
    {
     "data": {
      "application/vnd.jupyter.widget-view+json": {
       "model_id": "e6d897dbac48470abae8cb3710ef68ba",
       "version_major": 2,
       "version_minor": 0
      },
      "text/plain": [
       "VBox()"
      ]
     },
     "metadata": {},
     "output_type": "display_data"
    },
    {
     "data": {
      "application/vnd.jupyter.widget-view+json": {
       "model_id": "",
       "version_major": 2,
       "version_minor": 0
      },
      "text/plain": [
       "FloatProgress(value=0.0, bar_style='info', description='Progress:', layout=Layout(height='25px', width='50%'),…"
      ]
     },
     "metadata": {},
     "output_type": "display_data"
    }
   ],
   "source": [
    "Keywords_profile = ['polymers', 'packaging', 'food packaging', 'plastic packaging', 'plastics', 'Package Technology', 'Flexibles']"
   ]
  },
  {
   "cell_type": "code",
   "execution_count": 44,
   "id": "d6deecd3-67fb-477a-b96d-8512c15a2838",
   "metadata": {
    "execution": {
     "iopub.execute_input": "2024-08-21T05:07:19.334180Z",
     "iopub.status.busy": "2024-08-21T05:07:19.333962Z",
     "iopub.status.idle": "2024-08-21T05:07:19.387734Z",
     "shell.execute_reply": "2024-08-21T05:07:19.386868Z",
     "shell.execute_reply.started": "2024-08-21T05:07:19.334148Z"
    },
    "tags": []
   },
   "outputs": [
    {
     "data": {
      "application/vnd.jupyter.widget-view+json": {
       "model_id": "0c9f279611b54faa8878557d5d85fb2e",
       "version_major": 2,
       "version_minor": 0
      },
      "text/plain": [
       "VBox()"
      ]
     },
     "metadata": {},
     "output_type": "display_data"
    },
    {
     "data": {
      "application/vnd.jupyter.widget-view+json": {
       "model_id": "",
       "version_major": 2,
       "version_minor": 0
      },
      "text/plain": [
       "FloatProgress(value=0.0, bar_style='info', description='Progress:', layout=Layout(height='25px', width='50%'),…"
      ]
     },
     "metadata": {},
     "output_type": "display_data"
    }
   ],
   "source": [
    "df_with_combined = df_excluded.withColumn(\n",
    "    \"combined_data\",\n",
    "\n",
    "    concat_ws(\", \", \"curr_company\",\"core_Skills\",\"current_job_title\",\"current_msa\",\"patents_title\",\"publication_title\",\"certifications_name\")\n",
    ")"
   ]
  },
  {
   "cell_type": "code",
   "execution_count": null,
   "id": "cd884c5f-7d83-4a9a-aee0-e745480f5aaf",
   "metadata": {},
   "outputs": [],
   "source": []
  },
  {
   "cell_type": "code",
   "execution_count": 45,
   "id": "e2ec2cdb-ba2a-4446-b439-6d3f2118466e",
   "metadata": {
    "execution": {
     "iopub.execute_input": "2024-08-21T05:07:19.766719Z",
     "iopub.status.busy": "2024-08-21T05:07:19.766457Z",
     "iopub.status.idle": "2024-08-21T05:07:19.821574Z",
     "shell.execute_reply": "2024-08-21T05:07:19.820720Z",
     "shell.execute_reply.started": "2024-08-21T05:07:19.766686Z"
    },
    "tags": []
   },
   "outputs": [
    {
     "data": {
      "application/vnd.jupyter.widget-view+json": {
       "model_id": "adf902caec2448bc887c45a320455959",
       "version_major": 2,
       "version_minor": 0
      },
      "text/plain": [
       "VBox()"
      ]
     },
     "metadata": {},
     "output_type": "display_data"
    },
    {
     "data": {
      "application/vnd.jupyter.widget-view+json": {
       "model_id": "",
       "version_major": 2,
       "version_minor": 0
      },
      "text/plain": [
       "FloatProgress(value=0.0, bar_style='info', description='Progress:', layout=Layout(height='25px', width='50%'),…"
      ]
     },
     "metadata": {},
     "output_type": "display_data"
    }
   ],
   "source": [
    "filtered_df = df_with_combined.filter(\n",
    "    df_with_combined.combined_data.contains(\"Polymers\") |\n",
    "    df_with_combined.combined_data.contains(\"Packaging\") |\n",
    "    df_with_combined.combined_data.contains(\"Food Packaging\") |\n",
    "    df_with_combined.combined_data.contains(\"Plastics Packaging\") |\n",
    "    df_with_combined.combined_data.contains(\"Plastics\") |\n",
    "    df_with_combined.combined_data.contains(\"Package Technology\") |\n",
    "    df_with_combined.combined_data.contains(\"Flexibles\")\n",
    ")\n",
    "\n"
   ]
  },
  {
   "cell_type": "code",
   "execution_count": 46,
   "id": "f59793a7-aad9-48e3-af85-4f891bb7a3ed",
   "metadata": {
    "execution": {
     "iopub.execute_input": "2024-08-21T05:07:19.955272Z",
     "iopub.status.busy": "2024-08-21T05:07:19.955014Z",
     "iopub.status.idle": "2024-08-21T05:07:27.256780Z",
     "shell.execute_reply": "2024-08-21T05:07:27.255638Z",
     "shell.execute_reply.started": "2024-08-21T05:07:19.955238Z"
    },
    "tags": []
   },
   "outputs": [
    {
     "data": {
      "application/vnd.jupyter.widget-view+json": {
       "model_id": "925dc4cb764f4f51bcf90c71ea537772",
       "version_major": 2,
       "version_minor": 0
      },
      "text/plain": [
       "VBox()"
      ]
     },
     "metadata": {},
     "output_type": "display_data"
    },
    {
     "data": {
      "application/vnd.jupyter.widget-view+json": {
       "model_id": "",
       "version_major": 2,
       "version_minor": 0
      },
      "text/plain": [
       "FloatProgress(value=0.0, bar_style='info', description='Progress:', layout=Layout(height='25px', width='50%'),…"
      ]
     },
     "metadata": {},
     "output_type": "display_data"
    },
    {
     "name": "stdout",
     "output_type": "stream",
     "text": [
      "+-------------------------------------------------------------------------------------------------------------------------------------------------------------------------------------------------------------------------------------------------------------------------------------------------------------------------------------------------------------------------------------------------------------------------------------------------------------------------------------------+\n",
      "|combined_data                                                                                                                                                                                                                                                                                                                                                                                                                                                                              |\n",
      "+-------------------------------------------------------------------------------------------------------------------------------------------------------------------------------------------------------------------------------------------------------------------------------------------------------------------------------------------------------------------------------------------------------------------------------------------------------------------------------------------+\n",
      "|Bony Polymers Pvt. Ltd, R (Programming Language), R&D, National Capital Region, India                                                                                                                                                                                                                                                                                                                                                                                                      |\n",
      "|제주특별자치도개발공사, Simulation Modeling, Packaging Development, SAP Enterprise Resource Planning (SAP ERP), Design Analysis, Research And Development (R&D), Validation Testing, Data Collection, R (Programming Language), Project Management, Packaging Specification, R&D, Jeju, South Korea                                                                                                                                                                                        |\n",
      "|Swan Plastics (Pty) Ltd, Technical, eThekwini, KwaZulu-Natal, South Africa                                                                                                                                                                                                                                                                                                                                                                                                                 |\n",
      "|Premirr Plastics Inc., Intellectual Property, R (Programming Language), R&D, Raleigh-Durham, North Carolina Area, United States                                                                                                                                                                                                                                                                                                                                                            |\n",
      "|PLASSON, Plastics Engineering, R (Programming Language), R&D, Haifa, Israel                                                                                                                                                                                                                                                                                                                                                                                                                |\n",
      "|Metzeler Plastics GmbH, R (Programming Language), R&D, Bonn Area, Germany                                                                                                                                                                                                                                                                                                                                                                                                                  |\n",
      "|DUTRA jobwear, Visual Communication, Product Design, Design Patterns, Industrial Design, Packaging Development, After Sales, Marketing Strategy, Prototyping, Fashion Design, Advertising, Marketing, R (Programming Language), R&D, Brussels Area, Belgium                                                                                                                                                                                                                                |\n",
      "|Procter & Gamble, Innovation Development, Polymer Chemistry, Materials Development, R (Programming Language), Polymers, R&D, Frankfurt Am Main Area, Germany, CEO Award P&G 2015, provided only to the top 3% talent globally.                                                                                                                                                                                                                                                             |\n",
      "|Graphic Packaging International, Technical, Greater Chicago Area, United States                                                                                                                                                                                                                                                                                                                                                                                                            |\n",
      "|Constantia Flexibles, R (Programming Language), R&D, San Luis Potosi Area, Mexico                                                                                                                                                                                                                                                                                                                                                                                                          |\n",
      "|Mandaue Libertad Commercial & Packaging, R (Programming Language), R&D                                                                                                                                                                                                                                                                                                                                                                                                                     |\n",
      "|HMC Polymers, Technical                                                                                                                                                                                                                                                                                                                                                                                                                                                                    |\n",
      "|Unilever, R (Programming Language), Packaging Development, R&D                                                                                                                                                                                                                                                                                                                                                                                                                             |\n",
      "|WS Packaging Group, Lean Manufacturing, R (Programming Language), R&D, Green Bay, Wisconsin Area, United States                                                                                                                                                                                                                                                                                                                                                                            |\n",
      "|FROMM Packaging Systems SOUTH AFRICA, Technical, Johannesburg, Gauteng, South Africa                                                                                                                                                                                                                                                                                                                                                                                                       |\n",
      "|El Pack Group, Packaging Engineering, R (Programming Language), R&D, Attiki, Greece                                                                                                                                                                                                                                                                                                                                                                                                        |\n",
      "|Evap Environmental Packaging, Business Management, Marketing, Technical, Leeds, United Kingdom                                                                                                                                                                                                                                                                                                                                                                                             |\n",
      "|The Clorox Company, Product Development, Innovation Management, Research And Development (R&D), Chemical Engineering, R (Programming Language), R&D, San Francisco Bay Area, United States, • Hard Surface Cleaning Composition, US Patent # 7700540 • Controlled Release Using Gels in a Melamine Foam, US Patent # 7612029 • Disposable Cleaning Head, US Patent # 7127768 • Hydroscopic Polymer Gel Films for Easier Cleaning, US Patent # 6926745, Certification Professional Packaging|\n",
      "|Solvay Engineered Polymers, R (Programming Language), R&D                                                                                                                                                                                                                                                                                                                                                                                                                                  |\n",
      "|SEOYON E HWA AUTOMOTIVE INDIA PVT LTD, Plastics Processing, Mould, ISO/TS 16949, Material Handling, Plastics Engineering, Injection Moulding, PaintShop Pro, Technical, Chennai Area, India                                                                                                                                                                                                                                                                                                |\n",
      "+-------------------------------------------------------------------------------------------------------------------------------------------------------------------------------------------------------------------------------------------------------------------------------------------------------------------------------------------------------------------------------------------------------------------------------------------------------------------------------------------+\n",
      "only showing top 20 rows"
     ]
    }
   ],
   "source": [
    "filtered_df[[\"combined_data\"]].show(truncate = False)"
   ]
  },
  {
   "cell_type": "code",
   "execution_count": 47,
   "id": "1b7e38d8-7ae0-4239-9c5d-9b071ed2b52d",
   "metadata": {
    "execution": {
     "iopub.execute_input": "2024-08-21T05:07:27.259038Z",
     "iopub.status.busy": "2024-08-21T05:07:27.258705Z",
     "iopub.status.idle": "2024-08-21T05:07:42.571569Z",
     "shell.execute_reply": "2024-08-21T05:07:42.570758Z",
     "shell.execute_reply.started": "2024-08-21T05:07:27.258995Z"
    },
    "tags": []
   },
   "outputs": [
    {
     "data": {
      "application/vnd.jupyter.widget-view+json": {
       "model_id": "87f098977be14534bfb9f07b98b0a6e4",
       "version_major": 2,
       "version_minor": 0
      },
      "text/plain": [
       "VBox()"
      ]
     },
     "metadata": {},
     "output_type": "display_data"
    },
    {
     "data": {
      "application/vnd.jupyter.widget-view+json": {
       "model_id": "",
       "version_major": 2,
       "version_minor": 0
      },
      "text/plain": [
       "FloatProgress(value=0.0, bar_style='info', description='Progress:', layout=Layout(height='25px', width='50%'),…"
      ]
     },
     "metadata": {},
     "output_type": "display_data"
    },
    {
     "name": "stdout",
     "output_type": "stream",
     "text": [
      "58"
     ]
    }
   ],
   "source": [
    "filtered_df.count()"
   ]
  },
  {
   "cell_type": "code",
   "execution_count": null,
   "id": "72d1129e-2651-43e6-9ddf-39900ac6620e",
   "metadata": {},
   "outputs": [],
   "source": []
  },
  {
   "cell_type": "code",
   "execution_count": null,
   "id": "c805a7c2-8f79-4335-a804-e8209eca7e42",
   "metadata": {},
   "outputs": [],
   "source": []
  },
  {
   "cell_type": "code",
   "execution_count": null,
   "id": "558beb1d-5b3f-42de-8075-7eb79e2c0c26",
   "metadata": {},
   "outputs": [],
   "source": []
  },
  {
   "cell_type": "code",
   "execution_count": null,
   "id": "8fd88b4d-f448-4f88-8f02-8c6c91e8d842",
   "metadata": {},
   "outputs": [],
   "source": []
  },
  {
   "cell_type": "code",
   "execution_count": null,
   "id": "9700b716-6f11-4daa-9521-4d9f8bbcec82",
   "metadata": {},
   "outputs": [],
   "source": []
  },
  {
   "cell_type": "code",
   "execution_count": null,
   "id": "0c7a9142-a63c-4605-9362-7296d9ce4a85",
   "metadata": {},
   "outputs": [],
   "source": []
  },
  {
   "cell_type": "code",
   "execution_count": null,
   "id": "618ae6ee-bf21-4da8-a43a-f63b6dc20c48",
   "metadata": {},
   "outputs": [],
   "source": []
  },
  {
   "cell_type": "code",
   "execution_count": null,
   "id": "6f428c83-d5b5-46e3-9459-57ced14cb925",
   "metadata": {},
   "outputs": [],
   "source": []
  },
  {
   "cell_type": "code",
   "execution_count": null,
   "id": "51a50f78-7b01-42b1-9d37-e49c883d394b",
   "metadata": {},
   "outputs": [],
   "source": []
  },
  {
   "cell_type": "code",
   "execution_count": null,
   "id": "3c50a982-9e29-47d8-9a0a-1dc558e066a6",
   "metadata": {},
   "outputs": [],
   "source": []
  },
  {
   "cell_type": "code",
   "execution_count": null,
   "id": "6fff1bf1-ddea-4613-ac06-269395fb5c3d",
   "metadata": {},
   "outputs": [],
   "source": []
  },
  {
   "cell_type": "code",
   "execution_count": null,
   "id": "dc77e548-1d84-4fae-af98-3e7f49f04867",
   "metadata": {},
   "outputs": [],
   "source": []
  },
  {
   "cell_type": "code",
   "execution_count": null,
   "id": "87e4bb8f-efce-45d5-adf2-4f960188553a",
   "metadata": {},
   "outputs": [],
   "source": []
  },
  {
   "cell_type": "code",
   "execution_count": null,
   "id": "bb5c618e-cc2a-4d4b-9bc5-08732d0c3d26",
   "metadata": {},
   "outputs": [],
   "source": []
  },
  {
   "cell_type": "code",
   "execution_count": null,
   "id": "fc48afb8-c493-4af3-b10e-65149f4fe6e2",
   "metadata": {},
   "outputs": [],
   "source": []
  },
  {
   "cell_type": "code",
   "execution_count": 85,
   "id": "9820fe19-d91d-4f4f-a508-8854596361f0",
   "metadata": {
    "execution": {
     "iopub.execute_input": "2024-08-16T06:22:43.430586Z",
     "iopub.status.busy": "2024-08-16T06:22:43.430325Z",
     "iopub.status.idle": "2024-08-16T06:22:43.486489Z",
     "shell.execute_reply": "2024-08-16T06:22:43.485666Z",
     "shell.execute_reply.started": "2024-08-16T06:22:43.430555Z"
    },
    "tags": []
   },
   "outputs": [
    {
     "data": {
      "application/vnd.jupyter.widget-view+json": {
       "model_id": "bb90834815f24063a26b9370b34c2bbd",
       "version_major": 2,
       "version_minor": 0
      },
      "text/plain": [
       "VBox()"
      ]
     },
     "metadata": {},
     "output_type": "display_data"
    },
    {
     "data": {
      "application/vnd.jupyter.widget-view+json": {
       "model_id": "",
       "version_major": 2,
       "version_minor": 0
      },
      "text/plain": [
       "FloatProgress(value=0.0, bar_style='info', description='Progress:', layout=Layout(height='25px', width='50%'),…"
      ]
     },
     "metadata": {},
     "output_type": "display_data"
    }
   ],
   "source": [
    "def key (text):\n",
    "    keyword_processor =KeywordProcessor()\n",
    "    keyword_processor.add_keywords_from_list(Keywords_profile)\n",
    "    processed_text = keyword_processor.extract_keywords(text)\n",
    "    return(processed_text)\n"
   ]
  },
  {
   "cell_type": "code",
   "execution_count": 86,
   "id": "60bc7f5b-98c2-42c6-b921-ed768edf0e44",
   "metadata": {
    "execution": {
     "iopub.execute_input": "2024-08-16T06:22:44.380153Z",
     "iopub.status.busy": "2024-08-16T06:22:44.379889Z",
     "iopub.status.idle": "2024-08-16T06:22:44.636945Z",
     "shell.execute_reply": "2024-08-16T06:22:44.636135Z",
     "shell.execute_reply.started": "2024-08-16T06:22:44.380121Z"
    },
    "tags": []
   },
   "outputs": [
    {
     "data": {
      "application/vnd.jupyter.widget-view+json": {
       "model_id": "8117716d81b64d4ea8d6329542b9bb95",
       "version_major": 2,
       "version_minor": 0
      },
      "text/plain": [
       "VBox()"
      ]
     },
     "metadata": {},
     "output_type": "display_data"
    },
    {
     "data": {
      "application/vnd.jupyter.widget-view+json": {
       "model_id": "",
       "version_major": 2,
       "version_minor": 0
      },
      "text/plain": [
       "FloatProgress(value=0.0, bar_style='info', description='Progress:', layout=Layout(height='25px', width='50%'),…"
      ]
     },
     "metadata": {},
     "output_type": "display_data"
    }
   ],
   "source": [
    "extract_keywords_udf = udf(key, ArrayType(StringType()))\n",
    "text_df_with_keywords = df_with_combined.withColumn(\"extracted_keywords\", extract_keywords_udf(\"combined_data\"))"
   ]
  },
  {
   "cell_type": "code",
   "execution_count": 87,
   "id": "17881c1e-614f-4c32-9a1a-1fc55cb783d9",
   "metadata": {
    "execution": {
     "iopub.execute_input": "2024-08-16T06:22:47.323628Z",
     "iopub.status.busy": "2024-08-16T06:22:47.323363Z",
     "iopub.status.idle": "2024-08-16T06:23:04.636242Z",
     "shell.execute_reply": "2024-08-16T06:23:04.635415Z",
     "shell.execute_reply.started": "2024-08-16T06:22:47.323595Z"
    },
    "tags": []
   },
   "outputs": [
    {
     "data": {
      "application/vnd.jupyter.widget-view+json": {
       "model_id": "4bf011ab4167425cb84ffe05e2dc31b4",
       "version_major": 2,
       "version_minor": 0
      },
      "text/plain": [
       "VBox()"
      ]
     },
     "metadata": {},
     "output_type": "display_data"
    },
    {
     "data": {
      "application/vnd.jupyter.widget-view+json": {
       "model_id": "",
       "version_major": 2,
       "version_minor": 0
      },
      "text/plain": [
       "FloatProgress(value=0.0, bar_style='info', description='Progress:', layout=Layout(height='25px', width='50%'),…"
      ]
     },
     "metadata": {},
     "output_type": "display_data"
    },
    {
     "name": "stdout",
     "output_type": "stream",
     "text": [
      "+------------------+\n",
      "|extracted_keywords|\n",
      "+------------------+\n",
      "|[]                |\n",
      "|[]                |\n",
      "|[]                |\n",
      "|[]                |\n",
      "|[]                |\n",
      "|[]                |\n",
      "|[]                |\n",
      "|[]                |\n",
      "|[]                |\n",
      "|[]                |\n",
      "|[]                |\n",
      "|[]                |\n",
      "|[]                |\n",
      "|[]                |\n",
      "|[]                |\n",
      "|[]                |\n",
      "|[]                |\n",
      "|[]                |\n",
      "|[]                |\n",
      "|[]                |\n",
      "+------------------+\n",
      "only showing top 20 rows"
     ]
    }
   ],
   "source": [
    "text_df_with_keywords[[\"extracted_keywords\"]].show(truncate = False)"
   ]
  },
  {
   "cell_type": "code",
   "execution_count": null,
   "id": "3fcbfecc-3445-4c58-95c3-00b609b3b4df",
   "metadata": {},
   "outputs": [],
   "source": []
  },
  {
   "cell_type": "code",
   "execution_count": null,
   "id": "31078ebc-19a9-4990-a009-cf1908ee84bf",
   "metadata": {},
   "outputs": [],
   "source": [
    "## isin "
   ]
  },
  {
   "cell_type": "code",
   "execution_count": 80,
   "id": "5a324e71-ac42-43c2-a3e5-a443699d237c",
   "metadata": {
    "execution": {
     "iopub.execute_input": "2024-08-16T05:34:38.397056Z",
     "iopub.status.busy": "2024-08-16T05:34:38.396796Z",
     "iopub.status.idle": "2024-08-16T05:34:38.656323Z",
     "shell.execute_reply": "2024-08-16T05:34:38.655351Z",
     "shell.execute_reply.started": "2024-08-16T05:34:38.397025Z"
    },
    "tags": []
   },
   "outputs": [
    {
     "data": {
      "application/vnd.jupyter.widget-view+json": {
       "model_id": "e993be92c7e94ebdb786f98ea2b2d6ff",
       "version_major": 2,
       "version_minor": 0
      },
      "text/plain": [
       "VBox()"
      ]
     },
     "metadata": {},
     "output_type": "display_data"
    },
    {
     "data": {
      "application/vnd.jupyter.widget-view+json": {
       "model_id": "",
       "version_major": 2,
       "version_minor": 0
      },
      "text/plain": [
       "FloatProgress(value=0.0, bar_style='info', description='Progress:', layout=Layout(height='25px', width='50%'),…"
      ]
     },
     "metadata": {},
     "output_type": "display_data"
    }
   ],
   "source": [
    "df_filtered = df_with_combined.filter(col(\"combined_data\").isin(Keywords_profile))"
   ]
  },
  {
   "cell_type": "code",
   "execution_count": 82,
   "id": "a45859ae-3a16-4599-9a08-1eb274ecbb64",
   "metadata": {
    "execution": {
     "iopub.execute_input": "2024-08-16T05:35:36.645573Z",
     "iopub.status.busy": "2024-08-16T05:35:36.645311Z",
     "iopub.status.idle": "2024-08-16T05:45:21.586462Z",
     "shell.execute_reply": "2024-08-16T05:45:21.585561Z",
     "shell.execute_reply.started": "2024-08-16T05:35:36.645541Z"
    },
    "tags": []
   },
   "outputs": [
    {
     "data": {
      "application/vnd.jupyter.widget-view+json": {
       "model_id": "c694398a5726459c95877606538d4818",
       "version_major": 2,
       "version_minor": 0
      },
      "text/plain": [
       "VBox()"
      ]
     },
     "metadata": {},
     "output_type": "display_data"
    },
    {
     "data": {
      "application/vnd.jupyter.widget-view+json": {
       "model_id": "",
       "version_major": 2,
       "version_minor": 0
      },
      "text/plain": [
       "FloatProgress(value=0.0, bar_style='info', description='Progress:', layout=Layout(height='25px', width='50%'),…"
      ]
     },
     "metadata": {},
     "output_type": "display_data"
    },
    {
     "name": "stdout",
     "output_type": "stream",
     "text": [
      "+-------------+\n",
      "|combined_data|\n",
      "+-------------+\n",
      "+-------------+"
     ]
    }
   ],
   "source": [
    "df_filtered[[\"combined_data\"]].show(truncate = False)"
   ]
  },
  {
   "cell_type": "code",
   "execution_count": null,
   "id": "4450713d-55f9-42e7-b3b4-15eaa12c1c9a",
   "metadata": {},
   "outputs": [],
   "source": []
  },
  {
   "cell_type": "code",
   "execution_count": 102,
   "id": "3ff084bd-0a44-4395-981e-6272f3f5735d",
   "metadata": {
    "execution": {
     "iopub.execute_input": "2024-08-16T06:40:08.221864Z",
     "iopub.status.busy": "2024-08-16T06:40:08.221575Z",
     "iopub.status.idle": "2024-08-16T06:40:08.276441Z",
     "shell.execute_reply": "2024-08-16T06:40:08.275604Z",
     "shell.execute_reply.started": "2024-08-16T06:40:08.221832Z"
    }
   },
   "outputs": [
    {
     "data": {
      "application/vnd.jupyter.widget-view+json": {
       "model_id": "ab5cb1251bd44cadaee981e575835510",
       "version_major": 2,
       "version_minor": 0
      },
      "text/plain": [
       "VBox()"
      ]
     },
     "metadata": {},
     "output_type": "display_data"
    },
    {
     "data": {
      "application/vnd.jupyter.widget-view+json": {
       "model_id": "",
       "version_major": 2,
       "version_minor": 0
      },
      "text/plain": [
       "FloatProgress(value=0.0, bar_style='info', description='Progress:', layout=Layout(height='25px', width='50%'),…"
      ]
     },
     "metadata": {},
     "output_type": "display_data"
    }
   ],
   "source": [
    "condition = col(\"combined_data\").rlike(\"|\".join(Keywords_profile))\n"
   ]
  },
  {
   "cell_type": "code",
   "execution_count": 103,
   "id": "6888aa2d-c11d-4566-a65a-26d5206d8227",
   "metadata": {
    "execution": {
     "iopub.execute_input": "2024-08-16T06:40:24.165482Z",
     "iopub.status.busy": "2024-08-16T06:40:24.165219Z",
     "iopub.status.idle": "2024-08-16T06:40:24.219495Z",
     "shell.execute_reply": "2024-08-16T06:40:24.218509Z",
     "shell.execute_reply.started": "2024-08-16T06:40:24.165451Z"
    }
   },
   "outputs": [
    {
     "data": {
      "application/vnd.jupyter.widget-view+json": {
       "model_id": "85987d5500a14e1cad3b7cc97576b5e2",
       "version_major": 2,
       "version_minor": 0
      },
      "text/plain": [
       "VBox()"
      ]
     },
     "metadata": {},
     "output_type": "display_data"
    },
    {
     "data": {
      "application/vnd.jupyter.widget-view+json": {
       "model_id": "",
       "version_major": 2,
       "version_minor": 0
      },
      "text/plain": [
       "FloatProgress(value=0.0, bar_style='info', description='Progress:', layout=Layout(height='25px', width='50%'),…"
      ]
     },
     "metadata": {},
     "output_type": "display_data"
    }
   ],
   "source": [
    "filtered_df = df_with_combined.filter(condition)\n"
   ]
  },
  {
   "cell_type": "code",
   "execution_count": 107,
   "id": "c325efdf-8d74-488d-94e3-025cff67fcab",
   "metadata": {
    "execution": {
     "iopub.execute_input": "2024-08-16T06:49:34.454994Z",
     "iopub.status.busy": "2024-08-16T06:49:34.454716Z",
     "iopub.status.idle": "2024-08-16T06:53:00.349627Z",
     "shell.execute_reply": "2024-08-16T06:53:00.348569Z",
     "shell.execute_reply.started": "2024-08-16T06:49:34.454962Z"
    },
    "tags": []
   },
   "outputs": [
    {
     "data": {
      "application/vnd.jupyter.widget-view+json": {
       "model_id": "a77299f5f45044df8f3be2b1e2888f36",
       "version_major": 2,
       "version_minor": 0
      },
      "text/plain": [
       "VBox()"
      ]
     },
     "metadata": {},
     "output_type": "display_data"
    },
    {
     "data": {
      "application/vnd.jupyter.widget-view+json": {
       "model_id": "",
       "version_major": 2,
       "version_minor": 0
      },
      "text/plain": [
       "FloatProgress(value=0.0, bar_style='info', description='Progress:', layout=Layout(height='25px', width='50%'),…"
      ]
     },
     "metadata": {},
     "output_type": "display_data"
    },
    {
     "name": "stdout",
     "output_type": "stream",
     "text": [
      "+------------------------------------------------------------------------------------+\n",
      "|combined_data                                                                       |\n",
      "+------------------------------------------------------------------------------------+\n",
      "|Huhtamaki flexible packaging Egypt, R (Programming Language), R&D                   |\n",
      "|Constantia Flexibles, R (Programming Language), R&D, San Luis Potosi Area, Mexico   |\n",
      "|Amcor Flexibles, R (Programming Language), R&D                                      |\n",
      "|Madaf Plazit packaging, Technical, Northern, Israel                                 |\n",
      "|Natural polymers, R (Programming Language), R&D, Greater Chicago Area, United States|\n",
      "|devpolymers, Technical, Chennai Area, India                                         |\n",
      "|Prime polymers division, Technical, Colombo, Sri Lanka                              |\n",
      "+------------------------------------------------------------------------------------+"
     ]
    }
   ],
   "source": [
    "filtered_df[[\"combined_data\"]].show(truncate = False)"
   ]
  },
  {
   "cell_type": "code",
   "execution_count": 108,
   "id": "b789f3b9-3d7d-4ed7-9572-285fa1ec4e6b",
   "metadata": {
    "execution": {
     "iopub.execute_input": "2024-08-16T06:53:48.107923Z",
     "iopub.status.busy": "2024-08-16T06:53:48.107653Z",
     "iopub.status.idle": "2024-08-16T06:57:01.921429Z",
     "shell.execute_reply": "2024-08-16T06:57:01.920566Z",
     "shell.execute_reply.started": "2024-08-16T06:53:48.107891Z"
    }
   },
   "outputs": [
    {
     "data": {
      "application/vnd.jupyter.widget-view+json": {
       "model_id": "94e0961bd3a24a69a7539b3b43a465f9",
       "version_major": 2,
       "version_minor": 0
      },
      "text/plain": [
       "VBox()"
      ]
     },
     "metadata": {},
     "output_type": "display_data"
    },
    {
     "data": {
      "application/vnd.jupyter.widget-view+json": {
       "model_id": "",
       "version_major": 2,
       "version_minor": 0
      },
      "text/plain": [
       "FloatProgress(value=0.0, bar_style='info', description='Progress:', layout=Layout(height='25px', width='50%'),…"
      ]
     },
     "metadata": {},
     "output_type": "display_data"
    },
    {
     "name": "stdout",
     "output_type": "stream",
     "text": [
      "7"
     ]
    }
   ],
   "source": [
    "filtered_df[[\"combined_data\"]].count()"
   ]
  },
  {
   "cell_type": "code",
   "execution_count": null,
   "id": "cd5d2af3-8b59-4732-9cd9-857dbbc1ded8",
   "metadata": {},
   "outputs": [],
   "source": []
  },
  {
   "cell_type": "code",
   "execution_count": null,
   "id": "fa90a767-854a-4cc4-8396-c810c9500b1a",
   "metadata": {},
   "outputs": [],
   "source": []
  }
 ],
 "metadata": {
  "kernelspec": {
   "display_name": "PySpark",
   "language": "python",
   "name": "pysparkkernel"
  },
  "language_info": {
   "codemirror_mode": {
    "name": "python",
    "version": 3
   },
   "file_extension": ".py",
   "mimetype": "text/x-python",
   "name": "pyspark",
   "pygments_lexer": "python3"
  }
 },
 "nbformat": 4,
 "nbformat_minor": 5
}
