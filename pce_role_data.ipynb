{
 "cells": [
  {
   "cell_type": "code",
   "execution_count": 1,
   "id": "e453af97-84fb-4dd8-8374-0c75c5f32627",
   "metadata": {
    "execution": {
     "iopub.execute_input": "2024-09-20T06:45:37.025934Z",
     "iopub.status.busy": "2024-09-20T06:45:37.025558Z",
     "iopub.status.idle": "2024-09-20T06:46:02.631276Z",
     "shell.execute_reply": "2024-09-20T06:46:02.630430Z",
     "shell.execute_reply.started": "2024-09-20T06:45:37.025894Z"
    },
    "tags": []
   },
   "outputs": [
    {
     "data": {
      "application/vnd.jupyter.widget-view+json": {
       "model_id": "3c15b392310647a29c7d8857d4b2b980",
       "version_major": 2,
       "version_minor": 0
      },
      "text/plain": [
       "VBox()"
      ]
     },
     "metadata": {},
     "output_type": "display_data"
    },
    {
     "name": "stdout",
     "output_type": "stream",
     "text": [
      "Starting Spark application\n"
     ]
    },
    {
     "data": {
      "text/html": [
       "<table>\n",
       "<tbody><tr><th>ID</th><th>YARN Application ID</th><th>Kind</th><th>State</th><th>Spark UI</th><th>Driver log</th><th>User</th><th>Current session?</th></tr><tr><td>16</td><td>application_1726802887048_0018</td><td>pyspark</td><td>idle</td><td><a target=\"_blank\" href=\"http://ip-172-22-10-145.us-east-2.compute.internal:20888/proxy/application_1726802887048_0018/\" class=\"emr-proxy-link j-1GIRU1K7BWHHS application_1726802887048_0018\" emr-resource=\"j-1GIRU1K7BWHHS\n",
       "\" application-id=\"application_1726802887048_0018\">Link</a></td><td><a target=\"_blank\" href=\"http://ip-172-22-10-173.us-east-2.compute.internal:8042/node/containerlogs/container_1726802887048_0018_01_000002/user_n-renukumar_rajendran_draup_com\">Link</a></td><td>user_n-renukumar_rajendran_draup_com</td><td>✔</td></tr></tbody></table>"
      ],
      "text/plain": [
       "<IPython.core.display.HTML object>"
      ]
     },
     "metadata": {},
     "output_type": "display_data"
    },
    {
     "data": {
      "application/vnd.jupyter.widget-view+json": {
       "model_id": "",
       "version_major": 2,
       "version_minor": 0
      },
      "text/plain": [
       "FloatProgress(value=0.0, bar_style='info', description='Progress:', layout=Layout(height='25px', width='50%'),…"
      ]
     },
     "metadata": {},
     "output_type": "display_data"
    },
    {
     "name": "stdout",
     "output_type": "stream",
     "text": [
      "SparkSession available as 'spark'.\n"
     ]
    },
    {
     "data": {
      "application/vnd.jupyter.widget-view+json": {
       "model_id": "",
       "version_major": 2,
       "version_minor": 0
      },
      "text/plain": [
       "FloatProgress(value=0.0, bar_style='info', description='Progress:', layout=Layout(height='25px', width='50%'),…"
      ]
     },
     "metadata": {},
     "output_type": "display_data"
    }
   ],
   "source": [
    "#start"
   ]
  },
  {
   "cell_type": "code",
   "execution_count": 2,
   "id": "1768fc55-1a95-4378-990c-0979a4473bda",
   "metadata": {
    "execution": {
     "iopub.execute_input": "2024-09-20T06:46:02.632940Z",
     "iopub.status.busy": "2024-09-20T06:46:02.632721Z",
     "iopub.status.idle": "2024-09-20T06:46:09.932854Z",
     "shell.execute_reply": "2024-09-20T06:46:09.931937Z",
     "shell.execute_reply.started": "2024-09-20T06:46:02.632909Z"
    },
    "tags": []
   },
   "outputs": [
    {
     "data": {
      "application/vnd.jupyter.widget-view+json": {
       "model_id": "bb765178e4e5444c978ad84b0e494d35",
       "version_major": 2,
       "version_minor": 0
      },
      "text/plain": [
       "VBox()"
      ]
     },
     "metadata": {},
     "output_type": "display_data"
    },
    {
     "data": {
      "application/vnd.jupyter.widget-view+json": {
       "model_id": "",
       "version_major": 2,
       "version_minor": 0
      },
      "text/plain": [
       "FloatProgress(value=0.0, bar_style='info', description='Progress:', layout=Layout(height='25px', width='50%'),…"
      ]
     },
     "metadata": {},
     "output_type": "display_data"
    },
    {
     "name": "stdout",
     "output_type": "stream",
     "text": [
      "404\n",
      "404\n",
      "/usr/local/lib/python3.9/site-packages/urllib3/connectionpool.py:1063: InsecureRequestWarning: Unverified HTTPS request is being made to host 'gateway.draup.com'. Adding certificate verification is strongly advised. See: https://urllib3.readthedocs.io/en/1.26.x/advanced-usage.html#ssl-warnings\n",
      "  warnings.warn(\n",
      "/usr/local/lib/python3.9/site-packages/urllib3/connectionpool.py:1063: InsecureRequestWarning: Unverified HTTPS request is being made to host 'gateway.draup.com'. Adding certificate verification is strongly advised. See: https://urllib3.readthedocs.io/en/1.26.x/advanced-usage.html#ssl-warnings\n",
      "  warnings.warn("
     ]
    }
   ],
   "source": [
    "sc.addPyFile(\"s3://jobs-emr-etl-config/jobs_run/prod/cc/ML_ETL_Config.py\")\n",
    "from ML_ETL_Config import *\n",
    "utils_module = MlEtlUtils(spark, sc)\n",
    "to_import = [name for name in dir(utils_module) if not (name.startswith('_') | (name==\"spark\") | (name==\"sc\"))]\n",
    "globals().update({name: getattr(utils_module, name) for name in to_import})\n",
    "from pyspark.sql.functions import *\n",
    "from pyspark.sql import Window"
   ]
  },
  {
   "cell_type": "markdown",
   "id": "66fbf1e4-8316-4479-ae72-edf95fad0ca6",
   "metadata": {},
   "source": [
    "# parquet input"
   ]
  },
  {
   "cell_type": "code",
   "execution_count": 3,
   "id": "2419790e-f4ef-49d8-8045-60027496ec99",
   "metadata": {
    "execution": {
     "iopub.execute_input": "2024-09-20T06:46:09.934884Z",
     "iopub.status.busy": "2024-09-20T06:46:09.934628Z",
     "iopub.status.idle": "2024-09-20T06:46:17.245839Z",
     "shell.execute_reply": "2024-09-20T06:46:17.244667Z",
     "shell.execute_reply.started": "2024-09-20T06:46:09.934846Z"
    },
    "tags": []
   },
   "outputs": [
    {
     "data": {
      "application/vnd.jupyter.widget-view+json": {
       "model_id": "af71d367a64947a8a8a3d8c08f505c86",
       "version_major": 2,
       "version_minor": 0
      },
      "text/plain": [
       "VBox()"
      ]
     },
     "metadata": {},
     "output_type": "display_data"
    },
    {
     "data": {
      "application/vnd.jupyter.widget-view+json": {
       "model_id": "",
       "version_major": 2,
       "version_minor": 0
      },
      "text/plain": [
       "FloatProgress(value=0.0, bar_style='info', description='Progress:', layout=Layout(height='25px', width='50%'),…"
      ]
     },
     "metadata": {},
     "output_type": "display_data"
    }
   ],
   "source": [
    "\n",
    "pce = spark.read.format(\"delta\").load(\"s3://etl-datahouse/prod/profiles/pce/pce_calc/pce_snapshot/delta\").select('mvp_company_name','currentPositions','pastPositions','publicLink', 'fullName', 'gender','ethnicity','functional_workload','business_function','msa','experience_in_current_company','experience_in_current_job_role','years_of_experience','languages').selectExpr('*','currentPositions[0].companyName as curr_company','currentPositions[0].company_industry as current_industry','currentPositions[0].job_title_lemmatized as current_job_title','currentPositions.job_role[0] as current_job_role','currentPositions[0].msa as current_msa','currentPositions[0].synon_location as current_synon_location','currentPositions[0].i18nStartDate as current_StartDate','currentPositions[0].i18nEndDate as current_EndDate','currentPositions[0].startDateYear as startDateYear','currentPositions[0].endDateYear as endDateYear','pastPositions[0].companyName as past_company','pastPositions[0].company_industry as past_industry','pastPositions[0].experience_years as past_company_experience','pastPositions[0].i18nStartDate as past_startDateYear','pastPositions[0].i18nEndDate as past_endDateYear','pastPositions[0].job_title_lemmatized as past_title','pastPositions[0].msa as past_msa','pastPositions[0].synon_location as past_synon_location','currentPositions[0].company_type as curr_company_type','pastPositions[0].company_type as past_company_type').drop('currentPositions','pastPositions','past_data','deleted')"
   ]
  },
  {
   "cell_type": "code",
   "execution_count": 4,
   "id": "c7f53a89-7d5e-4a34-83ab-6786c0ead562",
   "metadata": {
    "execution": {
     "iopub.execute_input": "2024-09-20T06:46:17.248117Z",
     "iopub.status.busy": "2024-09-20T06:46:17.247866Z",
     "iopub.status.idle": "2024-09-20T06:46:18.531918Z",
     "shell.execute_reply": "2024-09-20T06:46:18.530932Z",
     "shell.execute_reply.started": "2024-09-20T06:46:17.248084Z"
    },
    "tags": []
   },
   "outputs": [
    {
     "data": {
      "application/vnd.jupyter.widget-view+json": {
       "model_id": "fbf0c0a6b0ab442ca2e625b87dbd1195",
       "version_major": 2,
       "version_minor": 0
      },
      "text/plain": [
       "VBox()"
      ]
     },
     "metadata": {},
     "output_type": "display_data"
    },
    {
     "data": {
      "application/vnd.jupyter.widget-view+json": {
       "model_id": "",
       "version_major": 2,
       "version_minor": 0
      },
      "text/plain": [
       "FloatProgress(value=0.0, bar_style='info', description='Progress:', layout=Layout(height='25px', width='50%'),…"
      ]
     },
     "metadata": {},
     "output_type": "display_data"
    }
   ],
   "source": [
    "pce_data = spark.read.parquet('s3://draup-command-center/temp/cc/Renukumar_Draup/karthika/pce_profile_past_role_data_16-09-2024')"
   ]
  },
  {
   "cell_type": "code",
   "execution_count": 5,
   "id": "4837b1fb-a7dc-4f01-9de6-9935ccdeeb68",
   "metadata": {
    "collapsed": true,
    "execution": {
     "iopub.execute_input": "2024-09-20T06:46:26.566968Z",
     "iopub.status.busy": "2024-09-20T06:46:26.566688Z",
     "iopub.status.idle": "2024-09-20T06:46:26.623720Z",
     "shell.execute_reply": "2024-09-20T06:46:26.622854Z",
     "shell.execute_reply.started": "2024-09-20T06:46:26.566934Z"
    },
    "jupyter": {
     "outputs_hidden": true
    },
    "tags": []
   },
   "outputs": [
    {
     "data": {
      "application/vnd.jupyter.widget-view+json": {
       "model_id": "5a9e8ed4eff847a49c7515ff52660c69",
       "version_major": 2,
       "version_minor": 0
      },
      "text/plain": [
       "VBox()"
      ]
     },
     "metadata": {},
     "output_type": "display_data"
    },
    {
     "data": {
      "application/vnd.jupyter.widget-view+json": {
       "model_id": "",
       "version_major": 2,
       "version_minor": 0
      },
      "text/plain": [
       "FloatProgress(value=0.0, bar_style='info', description='Progress:', layout=Layout(height='25px', width='50%'),…"
      ]
     },
     "metadata": {},
     "output_type": "display_data"
    },
    {
     "name": "stdout",
     "output_type": "stream",
     "text": [
      "root\n",
      " |-- mvp_company_name: string (nullable = true)\n",
      " |-- publicLink: string (nullable = true)\n",
      " |-- fullName: string (nullable = true)\n",
      " |-- gender: string (nullable = true)\n",
      " |-- ethnicity: struct (nullable = true)\n",
      " |    |-- category: string (nullable = true)\n",
      " |    |-- probability: double (nullable = true)\n",
      " |-- functional_workload: array (nullable = true)\n",
      " |    |-- element: string (containsNull = true)\n",
      " |-- business_function: array (nullable = true)\n",
      " |    |-- element: string (containsNull = true)\n",
      " |-- msa: string (nullable = true)\n",
      " |-- experience_in_current_company: double (nullable = true)\n",
      " |-- experience_in_current_job_role: double (nullable = true)\n",
      " |-- years_of_experience: double (nullable = true)\n",
      " |-- languages: array (nullable = true)\n",
      " |    |-- element: struct (containsNull = true)\n",
      " |    |    |-- languageName: string (nullable = true)\n",
      " |    |    |-- proficiency: string (nullable = true)\n",
      " |-- country: string (nullable = true)\n",
      " |-- curr_company: string (nullable = true)\n",
      " |-- current_industry: string (nullable = true)\n",
      " |-- current_job_title: string (nullable = true)\n",
      " |-- current_job_role: array (nullable = true)\n",
      " |    |-- element: string (containsNull = true)\n",
      " |-- current_msa: string (nullable = true)\n",
      " |-- current_synon_location: string (nullable = true)\n",
      " |-- current_StartDate: string (nullable = true)\n",
      " |-- current_EndDate: string (nullable = true)\n",
      " |-- startDateYear: string (nullable = true)\n",
      " |-- endDateYear: string (nullable = true)\n",
      " |-- past_company: string (nullable = true)\n",
      " |-- past_industry: string (nullable = true)\n",
      " |-- past_company_experience: double (nullable = true)\n",
      " |-- past_startDateYear: string (nullable = true)\n",
      " |-- past_endDateYear: string (nullable = true)\n",
      " |-- past_title: string (nullable = true)\n",
      " |-- past_msa: string (nullable = true)\n",
      " |-- past_synon_location: string (nullable = true)\n",
      " |-- past_job_role: array (nullable = true)\n",
      " |    |-- element: string (containsNull = true)"
     ]
    }
   ],
   "source": [
    "pce_data.printSchema()"
   ]
  },
  {
   "cell_type": "code",
   "execution_count": null,
   "id": "71f745ee-d08e-4cfc-9f65-593db2dec202",
   "metadata": {},
   "outputs": [],
   "source": []
  },
  {
   "cell_type": "markdown",
   "id": "b18a5dbb-c7b7-4b95-82f0-420c42bcb199",
   "metadata": {},
   "source": [
    "### location input file"
   ]
  },
  {
   "cell_type": "code",
   "execution_count": 9,
   "id": "9a2aef15-01d3-4f69-9517-dd2a7b33cff3",
   "metadata": {
    "execution": {
     "iopub.execute_input": "2024-09-20T06:48:44.734449Z",
     "iopub.status.busy": "2024-09-20T06:48:44.734169Z",
     "iopub.status.idle": "2024-09-20T06:48:45.497778Z",
     "shell.execute_reply": "2024-09-20T06:48:45.496949Z",
     "shell.execute_reply.started": "2024-09-20T06:48:44.734416Z"
    },
    "tags": []
   },
   "outputs": [
    {
     "data": {
      "application/vnd.jupyter.widget-view+json": {
       "model_id": "66f5bda7d1c448bfb503c7ceba3b812c",
       "version_major": 2,
       "version_minor": 0
      },
      "text/plain": [
       "VBox()"
      ]
     },
     "metadata": {},
     "output_type": "display_data"
    },
    {
     "data": {
      "application/vnd.jupyter.widget-view+json": {
       "model_id": "",
       "version_major": 2,
       "version_minor": 0
      },
      "text/plain": [
       "FloatProgress(value=0.0, bar_style='info', description='Progress:', layout=Layout(height='25px', width='50%'),…"
      ]
     },
     "metadata": {},
     "output_type": "display_data"
    }
   ],
   "source": [
    "loc_df = spark.read.csv('s3://draup-command-center/temp/cc/Renukumar_Draup/karthika/Input/msa_pce_input_20_09_24.csv',header = True).withColumnRenamed('msa','msa_data')"
   ]
  },
  {
   "cell_type": "code",
   "execution_count": 10,
   "id": "f4a1ea4c-f292-4ea8-b2e9-bd3c46195550",
   "metadata": {
    "execution": {
     "iopub.execute_input": "2024-09-20T06:48:45.505774Z",
     "iopub.status.busy": "2024-09-20T06:48:45.505518Z",
     "iopub.status.idle": "2024-09-20T06:48:45.563160Z",
     "shell.execute_reply": "2024-09-20T06:48:45.562053Z",
     "shell.execute_reply.started": "2024-09-20T06:48:45.505741Z"
    },
    "tags": []
   },
   "outputs": [
    {
     "data": {
      "application/vnd.jupyter.widget-view+json": {
       "model_id": "a88bac0aa703454393032cd4349da368",
       "version_major": 2,
       "version_minor": 0
      },
      "text/plain": [
       "VBox()"
      ]
     },
     "metadata": {},
     "output_type": "display_data"
    },
    {
     "data": {
      "application/vnd.jupyter.widget-view+json": {
       "model_id": "",
       "version_major": 2,
       "version_minor": 0
      },
      "text/plain": [
       "FloatProgress(value=0.0, bar_style='info', description='Progress:', layout=Layout(height='25px', width='50%'),…"
      ]
     },
     "metadata": {},
     "output_type": "display_data"
    },
    {
     "name": "stdout",
     "output_type": "stream",
     "text": [
      "['msa_data', 'Country', 'Region']"
     ]
    }
   ],
   "source": [
    "loc_df.columns"
   ]
  },
  {
   "cell_type": "code",
   "execution_count": 11,
   "id": "e65f1db8-6765-4f08-a96c-cc6ef07acede",
   "metadata": {
    "execution": {
     "iopub.execute_input": "2024-09-20T06:48:48.270208Z",
     "iopub.status.busy": "2024-09-20T06:48:48.269846Z",
     "iopub.status.idle": "2024-09-20T06:48:49.056243Z",
     "shell.execute_reply": "2024-09-20T06:48:49.054672Z",
     "shell.execute_reply.started": "2024-09-20T06:48:48.270171Z"
    },
    "tags": []
   },
   "outputs": [
    {
     "data": {
      "application/vnd.jupyter.widget-view+json": {
       "model_id": "2b58c7f68a294a778d72c67136290cdb",
       "version_major": 2,
       "version_minor": 0
      },
      "text/plain": [
       "VBox()"
      ]
     },
     "metadata": {},
     "output_type": "display_data"
    },
    {
     "data": {
      "application/vnd.jupyter.widget-view+json": {
       "model_id": "",
       "version_major": 2,
       "version_minor": 0
      },
      "text/plain": [
       "FloatProgress(value=0.0, bar_style='info', description='Progress:', layout=Layout(height='25px', width='50%'),…"
      ]
     },
     "metadata": {},
     "output_type": "display_data"
    },
    {
     "name": "stdout",
     "output_type": "stream",
     "text": [
      "109"
     ]
    }
   ],
   "source": [
    "loc_df.count()"
   ]
  },
  {
   "cell_type": "code",
   "execution_count": 13,
   "id": "e287c2aa-87ee-4432-95c1-42a1b65a2ed7",
   "metadata": {
    "execution": {
     "iopub.execute_input": "2024-09-20T06:49:17.983928Z",
     "iopub.status.busy": "2024-09-20T06:49:17.983657Z",
     "iopub.status.idle": "2024-09-20T06:49:18.242927Z",
     "shell.execute_reply": "2024-09-20T06:49:18.242066Z",
     "shell.execute_reply.started": "2024-09-20T06:49:17.983894Z"
    },
    "tags": []
   },
   "outputs": [
    {
     "data": {
      "application/vnd.jupyter.widget-view+json": {
       "model_id": "842696fd8b7a4009ba349b945a6d8028",
       "version_major": 2,
       "version_minor": 0
      },
      "text/plain": [
       "VBox()"
      ]
     },
     "metadata": {},
     "output_type": "display_data"
    },
    {
     "data": {
      "application/vnd.jupyter.widget-view+json": {
       "model_id": "",
       "version_major": 2,
       "version_minor": 0
      },
      "text/plain": [
       "FloatProgress(value=0.0, bar_style='info', description='Progress:', layout=Layout(height='25px', width='50%'),…"
      ]
     },
     "metadata": {},
     "output_type": "display_data"
    }
   ],
   "source": [
    "join_df =pce_data.join(loc_df,pce_data['msa'] == loc_df['msa_data'],'inner').drop(\"msa_data\")"
   ]
  },
  {
   "cell_type": "code",
   "execution_count": 14,
   "id": "d3bf885a-af80-46db-9086-a82b12b41a83",
   "metadata": {
    "execution": {
     "iopub.execute_input": "2024-09-20T06:49:18.932996Z",
     "iopub.status.busy": "2024-09-20T06:49:18.932725Z",
     "iopub.status.idle": "2024-09-20T06:49:18.986686Z",
     "shell.execute_reply": "2024-09-20T06:49:18.985732Z",
     "shell.execute_reply.started": "2024-09-20T06:49:18.932963Z"
    },
    "tags": []
   },
   "outputs": [
    {
     "data": {
      "application/vnd.jupyter.widget-view+json": {
       "model_id": "c56934cf5e064753ad932784b5623dc2",
       "version_major": 2,
       "version_minor": 0
      },
      "text/plain": [
       "VBox()"
      ]
     },
     "metadata": {},
     "output_type": "display_data"
    },
    {
     "data": {
      "application/vnd.jupyter.widget-view+json": {
       "model_id": "",
       "version_major": 2,
       "version_minor": 0
      },
      "text/plain": [
       "FloatProgress(value=0.0, bar_style='info', description='Progress:', layout=Layout(height='25px', width='50%'),…"
      ]
     },
     "metadata": {},
     "output_type": "display_data"
    },
    {
     "name": "stdout",
     "output_type": "stream",
     "text": [
      "['mvp_company_name', 'publicLink', 'fullName', 'gender', 'ethnicity', 'functional_workload', 'business_function', 'msa', 'experience_in_current_company', 'experience_in_current_job_role', 'years_of_experience', 'languages', 'country', 'curr_company', 'current_industry', 'current_job_title', 'current_job_role', 'current_msa', 'current_synon_location', 'current_StartDate', 'current_EndDate', 'startDateYear', 'endDateYear', 'past_company', 'past_industry', 'past_company_experience', 'past_startDateYear', 'past_endDateYear', 'past_title', 'past_msa', 'past_synon_location', 'past_job_role', 'Country', 'Region']"
     ]
    }
   ],
   "source": [
    "join_df.columns"
   ]
  },
  {
   "cell_type": "markdown",
   "id": "116c9ee5-2a90-47b9-8429-8dce93a70fae",
   "metadata": {
    "execution": {
     "iopub.execute_input": "2024-07-18T06:50:29.063932Z",
     "iopub.status.busy": "2024-07-18T06:50:29.063569Z",
     "iopub.status.idle": "2024-07-18T06:50:29.111603Z",
     "shell.execute_reply": "2024-07-18T06:50:29.110607Z",
     "shell.execute_reply.started": "2024-07-18T06:50:29.063900Z"
    }
   },
   "source": [
    "### Role input file"
   ]
  },
  {
   "cell_type": "code",
   "execution_count": 24,
   "id": "67e6c1e1-3f8b-4c23-a78f-72b0130b9973",
   "metadata": {
    "execution": {
     "iopub.execute_input": "2024-09-20T06:57:45.892214Z",
     "iopub.status.busy": "2024-09-20T06:57:45.891943Z",
     "iopub.status.idle": "2024-09-20T06:57:53.185716Z",
     "shell.execute_reply": "2024-09-20T06:57:53.184381Z",
     "shell.execute_reply.started": "2024-09-20T06:57:45.892183Z"
    },
    "tags": []
   },
   "outputs": [
    {
     "data": {
      "application/vnd.jupyter.widget-view+json": {
       "model_id": "ff4593b911e74e4c9da0f0286abb1511",
       "version_major": 2,
       "version_minor": 0
      },
      "text/plain": [
       "VBox()"
      ]
     },
     "metadata": {},
     "output_type": "display_data"
    },
    {
     "data": {
      "application/vnd.jupyter.widget-view+json": {
       "model_id": "",
       "version_major": 2,
       "version_minor": 0
      },
      "text/plain": [
       "FloatProgress(value=0.0, bar_style='info', description='Progress:', layout=Layout(height='25px', width='50%'),…"
      ]
     },
     "metadata": {},
     "output_type": "display_data"
    }
   ],
   "source": [
    "role_df = spark.read.csv('s3://draup-command-center/temp/cc/Renukumar_Draup/karthika/Input/role_pce_input_file_20_09_24.csv',header = True)"
   ]
  },
  {
   "cell_type": "code",
   "execution_count": 25,
   "id": "98fb87b0-2022-4d7b-b8cf-870026519f5e",
   "metadata": {
    "execution": {
     "iopub.execute_input": "2024-09-20T06:57:53.188371Z",
     "iopub.status.busy": "2024-09-20T06:57:53.187964Z",
     "iopub.status.idle": "2024-09-20T06:57:53.257645Z",
     "shell.execute_reply": "2024-09-20T06:57:53.256492Z",
     "shell.execute_reply.started": "2024-09-20T06:57:53.188319Z"
    },
    "tags": []
   },
   "outputs": [
    {
     "data": {
      "application/vnd.jupyter.widget-view+json": {
       "model_id": "9fe39a5ec0e7420bbb5a77f7c74fd707",
       "version_major": 2,
       "version_minor": 0
      },
      "text/plain": [
       "VBox()"
      ]
     },
     "metadata": {},
     "output_type": "display_data"
    },
    {
     "data": {
      "application/vnd.jupyter.widget-view+json": {
       "model_id": "",
       "version_major": 2,
       "version_minor": 0
      },
      "text/plain": [
       "FloatProgress(value=0.0, bar_style='info', description='Progress:', layout=Layout(height='25px', width='50%'),…"
      ]
     },
     "metadata": {},
     "output_type": "display_data"
    },
    {
     "name": "stdout",
     "output_type": "stream",
     "text": [
      "['Platform Roles']"
     ]
    }
   ],
   "source": [
    "role_df.columns"
   ]
  },
  {
   "cell_type": "code",
   "execution_count": 26,
   "id": "d418136d-255d-44cb-aef8-9970260ac893",
   "metadata": {
    "execution": {
     "iopub.execute_input": "2024-09-20T06:57:53.260863Z",
     "iopub.status.busy": "2024-09-20T06:57:53.260453Z",
     "iopub.status.idle": "2024-09-20T06:57:54.046159Z",
     "shell.execute_reply": "2024-09-20T06:57:54.045262Z",
     "shell.execute_reply.started": "2024-09-20T06:57:53.260811Z"
    },
    "tags": []
   },
   "outputs": [
    {
     "data": {
      "application/vnd.jupyter.widget-view+json": {
       "model_id": "3ea9102fcdfe46f899dc7763ab95562b",
       "version_major": 2,
       "version_minor": 0
      },
      "text/plain": [
       "VBox()"
      ]
     },
     "metadata": {},
     "output_type": "display_data"
    },
    {
     "data": {
      "application/vnd.jupyter.widget-view+json": {
       "model_id": "",
       "version_major": 2,
       "version_minor": 0
      },
      "text/plain": [
       "FloatProgress(value=0.0, bar_style='info', description='Progress:', layout=Layout(height='25px', width='50%'),…"
      ]
     },
     "metadata": {},
     "output_type": "display_data"
    },
    {
     "name": "stdout",
     "output_type": "stream",
     "text": [
      "+-------------------------------+\n",
      "|Platform Roles                 |\n",
      "+-------------------------------+\n",
      "|Software Development Engineer  |\n",
      "|Applications Developer/Engineer|\n",
      "+-------------------------------+"
     ]
    }
   ],
   "source": [
    "role_df.show(truncate=False)"
   ]
  },
  {
   "cell_type": "code",
   "execution_count": 27,
   "id": "847c34ca-7343-4741-a092-c6037c64ec88",
   "metadata": {
    "execution": {
     "iopub.execute_input": "2024-09-20T06:57:54.047596Z",
     "iopub.status.busy": "2024-09-20T06:57:54.047379Z",
     "iopub.status.idle": "2024-09-20T06:57:54.102457Z",
     "shell.execute_reply": "2024-09-20T06:57:54.101609Z",
     "shell.execute_reply.started": "2024-09-20T06:57:54.047565Z"
    },
    "tags": []
   },
   "outputs": [
    {
     "data": {
      "application/vnd.jupyter.widget-view+json": {
       "model_id": "59836ec8f6f24d60925f326afec32ee5",
       "version_major": 2,
       "version_minor": 0
      },
      "text/plain": [
       "VBox()"
      ]
     },
     "metadata": {},
     "output_type": "display_data"
    },
    {
     "data": {
      "application/vnd.jupyter.widget-view+json": {
       "model_id": "",
       "version_major": 2,
       "version_minor": 0
      },
      "text/plain": [
       "FloatProgress(value=0.0, bar_style='info', description='Progress:', layout=Layout(height='25px', width='50%'),…"
      ]
     },
     "metadata": {},
     "output_type": "display_data"
    }
   ],
   "source": [
    "explode_df = join_df.withColumn('Roles',explode(col('current_job_role')))"
   ]
  },
  {
   "cell_type": "code",
   "execution_count": 28,
   "id": "639ac26a-cbcb-4aaf-87f0-955d5e92d361",
   "metadata": {
    "execution": {
     "iopub.execute_input": "2024-09-20T06:57:54.104187Z",
     "iopub.status.busy": "2024-09-20T06:57:54.103967Z",
     "iopub.status.idle": "2024-09-20T06:57:54.365426Z",
     "shell.execute_reply": "2024-09-20T06:57:54.364501Z",
     "shell.execute_reply.started": "2024-09-20T06:57:54.104156Z"
    },
    "tags": []
   },
   "outputs": [
    {
     "data": {
      "application/vnd.jupyter.widget-view+json": {
       "model_id": "ed7bb4e90b024b3a8775dde6d5c8bc08",
       "version_major": 2,
       "version_minor": 0
      },
      "text/plain": [
       "VBox()"
      ]
     },
     "metadata": {},
     "output_type": "display_data"
    },
    {
     "data": {
      "application/vnd.jupyter.widget-view+json": {
       "model_id": "",
       "version_major": 2,
       "version_minor": 0
      },
      "text/plain": [
       "FloatProgress(value=0.0, bar_style='info', description='Progress:', layout=Layout(height='25px', width='50%'),…"
      ]
     },
     "metadata": {},
     "output_type": "display_data"
    }
   ],
   "source": [
    "role_df_tag = explode_df.join(role_df, explode_df['Roles'] == role_df['Platform Roles'],'inner').drop('Roles')"
   ]
  },
  {
   "cell_type": "code",
   "execution_count": 29,
   "id": "1efba495-03aa-4c45-8281-d4e82154ed19",
   "metadata": {
    "execution": {
     "iopub.execute_input": "2024-09-20T06:57:54.743534Z",
     "iopub.status.busy": "2024-09-20T06:57:54.743266Z",
     "iopub.status.idle": "2024-09-20T06:58:16.085114Z",
     "shell.execute_reply": "2024-09-20T06:58:16.084265Z",
     "shell.execute_reply.started": "2024-09-20T06:57:54.743501Z"
    },
    "tags": []
   },
   "outputs": [
    {
     "data": {
      "application/vnd.jupyter.widget-view+json": {
       "model_id": "a08e6ee2f3e64623910737f5c684be7a",
       "version_major": 2,
       "version_minor": 0
      },
      "text/plain": [
       "VBox()"
      ]
     },
     "metadata": {},
     "output_type": "display_data"
    },
    {
     "data": {
      "application/vnd.jupyter.widget-view+json": {
       "model_id": "",
       "version_major": 2,
       "version_minor": 0
      },
      "text/plain": [
       "FloatProgress(value=0.0, bar_style='info', description='Progress:', layout=Layout(height='25px', width='50%'),…"
      ]
     },
     "metadata": {},
     "output_type": "display_data"
    },
    {
     "name": "stdout",
     "output_type": "stream",
     "text": [
      "162094"
     ]
    }
   ],
   "source": [
    "role_df_tag.count()"
   ]
  },
  {
   "cell_type": "code",
   "execution_count": 30,
   "id": "c0386945-0377-4d51-ace5-e72ac6d103c1",
   "metadata": {
    "execution": {
     "iopub.execute_input": "2024-09-20T06:58:36.265964Z",
     "iopub.status.busy": "2024-09-20T06:58:36.265695Z",
     "iopub.status.idle": "2024-09-20T06:58:36.324487Z",
     "shell.execute_reply": "2024-09-20T06:58:36.323475Z",
     "shell.execute_reply.started": "2024-09-20T06:58:36.265932Z"
    },
    "tags": []
   },
   "outputs": [
    {
     "data": {
      "application/vnd.jupyter.widget-view+json": {
       "model_id": "044e40b886cb4bc4bb5bc2b9b66b02d9",
       "version_major": 2,
       "version_minor": 0
      },
      "text/plain": [
       "VBox()"
      ]
     },
     "metadata": {},
     "output_type": "display_data"
    },
    {
     "data": {
      "application/vnd.jupyter.widget-view+json": {
       "model_id": "",
       "version_major": 2,
       "version_minor": 0
      },
      "text/plain": [
       "FloatProgress(value=0.0, bar_style='info', description='Progress:', layout=Layout(height='25px', width='50%'),…"
      ]
     },
     "metadata": {},
     "output_type": "display_data"
    },
    {
     "name": "stdout",
     "output_type": "stream",
     "text": [
      "['mvp_company_name', 'publicLink', 'fullName', 'gender', 'ethnicity', 'functional_workload', 'business_function', 'msa', 'experience_in_current_company', 'experience_in_current_job_role', 'years_of_experience', 'languages', 'country', 'curr_company', 'current_industry', 'current_job_title', 'current_job_role', 'current_msa', 'current_synon_location', 'current_StartDate', 'current_EndDate', 'startDateYear', 'endDateYear', 'past_company', 'past_industry', 'past_company_experience', 'past_startDateYear', 'past_endDateYear', 'past_title', 'past_msa', 'past_synon_location', 'past_job_role', 'Country', 'Region', 'Platform Roles']"
     ]
    }
   ],
   "source": [
    "role_df_tag.columns"
   ]
  },
  {
   "cell_type": "code",
   "execution_count": 32,
   "id": "c771dc97-7364-4f22-96b9-7f00be44a121",
   "metadata": {
    "execution": {
     "iopub.execute_input": "2024-09-20T07:00:43.046704Z",
     "iopub.status.busy": "2024-09-20T07:00:43.046422Z",
     "iopub.status.idle": "2024-09-20T07:01:36.496771Z",
     "shell.execute_reply": "2024-09-20T07:01:36.495886Z",
     "shell.execute_reply.started": "2024-09-20T07:00:43.046670Z"
    },
    "tags": []
   },
   "outputs": [
    {
     "data": {
      "application/vnd.jupyter.widget-view+json": {
       "model_id": "2d6ae9d4afbd4c468f1b8a4470fa0c95",
       "version_major": 2,
       "version_minor": 0
      },
      "text/plain": [
       "VBox()"
      ]
     },
     "metadata": {},
     "output_type": "display_data"
    },
    {
     "data": {
      "application/vnd.jupyter.widget-view+json": {
       "model_id": "",
       "version_major": 2,
       "version_minor": 0
      },
      "text/plain": [
       "FloatProgress(value=0.0, bar_style='info', description='Progress:', layout=Layout(height='25px', width='50%'),…"
      ]
     },
     "metadata": {},
     "output_type": "display_data"
    },
    {
     "name": "stdout",
     "output_type": "stream",
     "text": [
      "{'ResponseMetadata': {'RequestId': 'XMXN4DT71PJ4KQ9S', 'HostId': 'sW1dnOKEIYy/7fiDAnedmXzZSVTwqBmU0KO2k44qyqgLrL3sqnN1KAAoCBQGUmIKJLrwTfNFDf0EtF+oor6Yj4I1nwQCIClm', 'HTTPStatusCode': 200, 'HTTPHeaders': {'x-amz-id-2': 'sW1dnOKEIYy/7fiDAnedmXzZSVTwqBmU0KO2k44qyqgLrL3sqnN1KAAoCBQGUmIKJLrwTfNFDf0EtF+oor6Yj4I1nwQCIClm', 'x-amz-request-id': 'XMXN4DT71PJ4KQ9S', 'date': 'Fri, 20 Sep 2024 07:01:35 GMT', 'x-amz-expiration': 'expiry-date=\"Thu, 26 Sep 2024 00:00:00 GMT\", rule-id=\"Delete in temp folder\"', 'x-amz-server-side-encryption': 'AES256', 'etag': '\"e8d1e5e900f392a8d9d7bedd6f5a7bce\"', 'content-length': '0', 'server': 'AmazonS3'}, 'RetryAttempts': 1}, 'Expiration': 'expiry-date=\"Thu, 26 Sep 2024 00:00:00 GMT\", rule-id=\"Delete in temp folder\"', 'ETag': '\"e8d1e5e900f392a8d9d7bedd6f5a7bce\"', 'ServerSideEncryption': 'AES256'}"
     ]
    }
   ],
   "source": [
    "from io import StringIO # python3; python2: BytesIO import boto3\n",
    "import boto3\n",
    "\n",
    "\n",
    "bucket = 'draup-command-center' # already created on S3\n",
    "csv_buffer = StringIO()\n",
    "\n",
    "res2=role_df_tag.toPandas()\n",
    "res2.to_csv(csv_buffer)\n",
    "s3_resource = boto3.resource('s3')\n",
    "s3_resource.Object(bucket, 'temp/cc/Renukumar_Draup/karthika/output/pce_profile_datas_20-09-2024.csv').put(Body=csv_buffer.getvalue())"
   ]
  },
  {
   "cell_type": "code",
   "execution_count": null,
   "id": "e262e885-6e87-4576-9f6b-1b98504156df",
   "metadata": {},
   "outputs": [],
   "source": []
  },
  {
   "cell_type": "code",
   "execution_count": null,
   "id": "2df06fa8-f352-4719-8c23-a3929e77b981",
   "metadata": {},
   "outputs": [],
   "source": []
  },
  {
   "cell_type": "code",
   "execution_count": null,
   "id": "b0da9c69-ef93-49ac-bcde-b2fdf8d25912",
   "metadata": {},
   "outputs": [],
   "source": [
    "Advertising Executive"
   ]
  },
  {
   "cell_type": "code",
   "execution_count": null,
   "id": "740918c1-b8f4-46ba-b366-b65f37fc9e1a",
   "metadata": {},
   "outputs": [],
   "source": [
    "filtered_df = pce_data.filter(pce_data.curr_title.contains(\"Data Science\"))"
   ]
  },
  {
   "cell_type": "code",
   "execution_count": null,
   "id": "77c72ca4-befa-4bfd-b27f-cc8ea0d77f4e",
   "metadata": {},
   "outputs": [],
   "source": []
  },
  {
   "cell_type": "markdown",
   "id": "8513a4d0-55d6-4e5c-87ff-78a2af0eb0cf",
   "metadata": {},
   "source": [
    "### Role,msa count"
   ]
  },
  {
   "cell_type": "code",
   "execution_count": 29,
   "id": "d5dd424c-dc63-4687-b14a-c0f4184dc1d9",
   "metadata": {
    "execution": {
     "iopub.execute_input": "2024-07-23T05:43:25.797336Z",
     "iopub.status.busy": "2024-07-23T05:43:25.796945Z",
     "iopub.status.idle": "2024-07-23T05:43:26.053192Z",
     "shell.execute_reply": "2024-07-23T05:43:26.052087Z",
     "shell.execute_reply.started": "2024-07-23T05:43:25.797296Z"
    },
    "tags": []
   },
   "outputs": [
    {
     "data": {
      "application/vnd.jupyter.widget-view+json": {
       "model_id": "3b977e80556745889afa6ec3b7989118",
       "version_major": 2,
       "version_minor": 0
      },
      "text/plain": [
       "VBox()"
      ]
     },
     "metadata": {},
     "output_type": "display_data"
    },
    {
     "data": {
      "application/vnd.jupyter.widget-view+json": {
       "model_id": "",
       "version_major": 2,
       "version_minor": 0
      },
      "text/plain": [
       "FloatProgress(value=0.0, bar_style='info', description='Progress:', layout=Layout(height='25px', width='50%'),…"
      ]
     },
     "metadata": {},
     "output_type": "display_data"
    }
   ],
   "source": [
    "group_df =role_df_tag.groupBy('Roles','profile_msa','gender').count().orderBy(desc('count'))"
   ]
  },
  {
   "cell_type": "code",
   "execution_count": null,
   "id": "807c97a1-6363-474a-83d2-d8e9ed923614",
   "metadata": {},
   "outputs": [],
   "source": [
    "from io import StringIO # python3; python2: BytesIO import boto3\n",
    "import boto3\n",
    "\n",
    "\n",
    "bucket = 'draup-command-center' # already created on S3\n",
    "csv_buffer = StringIO()\n",
    "\n",
    "res2=group_df.toPandas()\n",
    "res2.to_csv(csv_buffer)\n",
    "s3_resource = boto3.resource('s3')\n",
    "s3_resource.Object(bucket, 'temp/cc/Renukumar_Draup/karthika/output/pce_role_msa_gender_23-07-2024.csv').put(Body=csv_buffer.getvalue())"
   ]
  },
  {
   "cell_type": "markdown",
   "id": "2a04c344-893b-412c-8a3f-866a2d17df41",
   "metadata": {},
   "source": [
    "### Role,country count"
   ]
  },
  {
   "cell_type": "code",
   "execution_count": null,
   "id": "d8254a52-4d83-45fc-ba10-7fe252a0bbe4",
   "metadata": {},
   "outputs": [],
   "source": [
    "role_df_tag1 = role_df_tag.drop_duplicates(subset=['Role', 'publicLink', 'country_data'])"
   ]
  },
  {
   "cell_type": "code",
   "execution_count": 17,
   "id": "008f050d-12cc-4d84-8a06-b89cdcec0e78",
   "metadata": {
    "execution": {
     "iopub.execute_input": "2024-07-22T13:42:28.894281Z",
     "iopub.status.busy": "2024-07-22T13:42:28.893917Z",
     "iopub.status.idle": "2024-07-22T13:42:29.150930Z",
     "shell.execute_reply": "2024-07-22T13:42:29.149999Z",
     "shell.execute_reply.started": "2024-07-22T13:42:28.894249Z"
    }
   },
   "outputs": [
    {
     "data": {
      "application/vnd.jupyter.widget-view+json": {
       "model_id": "a2071e15e178492a81b96261ceae9b60",
       "version_major": 2,
       "version_minor": 0
      },
      "text/plain": [
       "VBox()"
      ]
     },
     "metadata": {},
     "output_type": "display_data"
    },
    {
     "data": {
      "application/vnd.jupyter.widget-view+json": {
       "model_id": "",
       "version_major": 2,
       "version_minor": 0
      },
      "text/plain": [
       "FloatProgress(value=0.0, bar_style='info', description='Progress:', layout=Layout(height='25px', width='50%'),…"
      ]
     },
     "metadata": {},
     "output_type": "display_data"
    }
   ],
   "source": [
    "group_df1 =role_df_tag1.groupBy('Role','country_data').count().orderBy(desc('count'))"
   ]
  },
  {
   "cell_type": "code",
   "execution_count": null,
   "id": "7b6bd7dd-2554-4afc-a4e6-52b08efc0b02",
   "metadata": {},
   "outputs": [],
   "source": [
    "from io import StringIO # python3; python2: BytesIO import boto3\n",
    "import boto3\n",
    "\n",
    "\n",
    "bucket = 'draup-command-center' # already created on S3\n",
    "csv_buffer = StringIO()\n",
    "\n",
    "res2=group_df1.toPandas()\n",
    "res2.to_csv(csv_buffer)\n",
    "s3_resource = boto3.resource('s3')\n",
    "s3_resource.Object(bucket, 'temp/cc/Renukumar_Draup/karthika/output/pce_role_country_19-07-2024.csv').put(Body=csv_buffer.getvalue())"
   ]
  },
  {
   "cell_type": "markdown",
   "id": "1c715544-d5e3-42d3-bd58-0697c6386153",
   "metadata": {},
   "source": [
    "### Role,msa,Ethnicity count"
   ]
  },
  {
   "cell_type": "code",
   "execution_count": 18,
   "id": "cfa962a5-cd79-4ac2-a5a7-8c9b84d2f691",
   "metadata": {
    "execution": {
     "iopub.execute_input": "2024-07-22T13:59:25.028628Z",
     "iopub.status.busy": "2024-07-22T13:59:25.028274Z",
     "iopub.status.idle": "2024-07-22T13:59:25.282513Z",
     "shell.execute_reply": "2024-07-22T13:59:25.281449Z",
     "shell.execute_reply.started": "2024-07-22T13:59:25.028597Z"
    }
   },
   "outputs": [
    {
     "data": {
      "application/vnd.jupyter.widget-view+json": {
       "model_id": "12a5f2b1bfd44569882df1733662ccee",
       "version_major": 2,
       "version_minor": 0
      },
      "text/plain": [
       "VBox()"
      ]
     },
     "metadata": {},
     "output_type": "display_data"
    },
    {
     "data": {
      "application/vnd.jupyter.widget-view+json": {
       "model_id": "",
       "version_major": 2,
       "version_minor": 0
      },
      "text/plain": [
       "FloatProgress(value=0.0, bar_style='info', description='Progress:', layout=Layout(height='25px', width='50%'),…"
      ]
     },
     "metadata": {},
     "output_type": "display_data"
    }
   ],
   "source": [
    "group_df2 = role_df_tag.groupBy('Role','profile_msa','ethnicity').count().orderBy('count', ascending = False)"
   ]
  },
  {
   "cell_type": "code",
   "execution_count": null,
   "id": "7f124ed7-eb36-436b-b965-31bda37b5d38",
   "metadata": {},
   "outputs": [],
   "source": [
    "from io import StringIO # python3; python2: BytesIO import boto3\n",
    "import boto3\n",
    "\n",
    "\n",
    "bucket = 'draup-command-center' # already created on S3\n",
    "csv_buffer = StringIO()\n",
    "\n",
    "res2=group_df2.toPandas()\n",
    "res2.to_csv(csv_buffer)\n",
    "s3_resource = boto3.resource('s3')\n",
    "s3_resource.Object(bucket, 'temp/cc/Renukumar_Draup/karthika/output/pce_role_YOF_19-07-2024.csv').put(Body=csv_buffer.getvalue())"
   ]
  },
  {
   "cell_type": "markdown",
   "id": "57999313-a395-4601-8585-3aca9354e33a",
   "metadata": {},
   "source": [
    "### Role,Country,YOF count"
   ]
  },
  {
   "cell_type": "code",
   "execution_count": 19,
   "id": "af1951e3-4047-4cb7-a877-faa53be9c2c2",
   "metadata": {
    "execution": {
     "iopub.execute_input": "2024-07-22T14:10:58.386678Z",
     "iopub.status.busy": "2024-07-22T14:10:58.386237Z",
     "iopub.status.idle": "2024-07-22T14:10:58.445585Z",
     "shell.execute_reply": "2024-07-22T14:10:58.444581Z",
     "shell.execute_reply.started": "2024-07-22T14:10:58.386638Z"
    }
   },
   "outputs": [
    {
     "data": {
      "application/vnd.jupyter.widget-view+json": {
       "model_id": "cc981a1772084f36af17ca469f8a95ea",
       "version_major": 2,
       "version_minor": 0
      },
      "text/plain": [
       "VBox()"
      ]
     },
     "metadata": {},
     "output_type": "display_data"
    },
    {
     "data": {
      "application/vnd.jupyter.widget-view+json": {
       "model_id": "",
       "version_major": 2,
       "version_minor": 0
      },
      "text/plain": [
       "FloatProgress(value=0.0, bar_style='info', description='Progress:', layout=Layout(height='25px', width='50%'),…"
      ]
     },
     "metadata": {},
     "output_type": "display_data"
    }
   ],
   "source": [
    "role_df_tag1 = role_df_tag.drop_duplicates(subset=['Role', 'publicLink', 'country_data'])"
   ]
  },
  {
   "cell_type": "code",
   "execution_count": 20,
   "id": "53e0a7d8-d8aa-4bd4-8371-ae9b7c0ea12f",
   "metadata": {
    "execution": {
     "iopub.execute_input": "2024-07-22T14:10:59.845577Z",
     "iopub.status.busy": "2024-07-22T14:10:59.845228Z",
     "iopub.status.idle": "2024-07-22T14:11:00.099493Z",
     "shell.execute_reply": "2024-07-22T14:11:00.098561Z",
     "shell.execute_reply.started": "2024-07-22T14:10:59.845546Z"
    }
   },
   "outputs": [
    {
     "data": {
      "application/vnd.jupyter.widget-view+json": {
       "model_id": "2407b71d0ab748f4b9c79f3b989c7898",
       "version_major": 2,
       "version_minor": 0
      },
      "text/plain": [
       "VBox()"
      ]
     },
     "metadata": {},
     "output_type": "display_data"
    },
    {
     "data": {
      "application/vnd.jupyter.widget-view+json": {
       "model_id": "",
       "version_major": 2,
       "version_minor": 0
      },
      "text/plain": [
       "FloatProgress(value=0.0, bar_style='info', description='Progress:', layout=Layout(height='25px', width='50%'),…"
      ]
     },
     "metadata": {},
     "output_type": "display_data"
    }
   ],
   "source": [
    "group_df3 =role_df_tag1.groupBy('Role','country_data','years_of_experience').count().orderBy(desc('count'))"
   ]
  },
  {
   "cell_type": "code",
   "execution_count": null,
   "id": "ba9b9ba4-531c-44a9-ae9b-c64982d471ea",
   "metadata": {},
   "outputs": [],
   "source": [
    "from io import StringIO # python3; python2: BytesIO import boto3\n",
    "import boto3\n",
    "\n",
    "\n",
    "bucket = 'draup-command-center' # already created on S3\n",
    "csv_buffer = StringIO()\n",
    "\n",
    "res2=group_df3.toPandas()\n",
    "res2.to_csv(csv_buffer)\n",
    "s3_resource = boto3.resource('s3')\n",
    "s3_resource.Object(bucket, 'temp/cc/Renukumar_Draup/karthika/output/pce_role_YOF_19-07-2024.csv').put(Body=csv_buffer.getvalue())"
   ]
  },
  {
   "cell_type": "code",
   "execution_count": null,
   "id": "3e6b2ef4-3048-4cb6-9241-d1624fa0df28",
   "metadata": {},
   "outputs": [],
   "source": []
  },
  {
   "cell_type": "markdown",
   "id": "a955ff00-5f1f-4a24-88b2-8bfc802a3c14",
   "metadata": {},
   "source": [
    "### Role, msa,core_skills count"
   ]
  },
  {
   "cell_type": "code",
   "execution_count": 22,
   "id": "f2c0c7f2-63eb-4cfd-8d00-c349c29f9c42",
   "metadata": {
    "execution": {
     "iopub.execute_input": "2024-07-22T14:24:11.864320Z",
     "iopub.status.busy": "2024-07-22T14:24:11.863961Z",
     "iopub.status.idle": "2024-07-22T14:24:12.116960Z",
     "shell.execute_reply": "2024-07-22T14:24:12.116035Z",
     "shell.execute_reply.started": "2024-07-22T14:24:11.864287Z"
    }
   },
   "outputs": [
    {
     "data": {
      "application/vnd.jupyter.widget-view+json": {
       "model_id": "05e478513473469a861e8d378e6136a4",
       "version_major": 2,
       "version_minor": 0
      },
      "text/plain": [
       "VBox()"
      ]
     },
     "metadata": {},
     "output_type": "display_data"
    },
    {
     "data": {
      "application/vnd.jupyter.widget-view+json": {
       "model_id": "",
       "version_major": 2,
       "version_minor": 0
      },
      "text/plain": [
       "FloatProgress(value=0.0, bar_style='info', description='Progress:', layout=Layout(height='25px', width='50%'),…"
      ]
     },
     "metadata": {},
     "output_type": "display_data"
    }
   ],
   "source": [
    "role_df_tag = role_df_tag.withColumn('core_skills_data',explode(col('core_skills')))"
   ]
  },
  {
   "cell_type": "code",
   "execution_count": 23,
   "id": "b2256a3a-9b0d-4171-8854-5734b7e0c129",
   "metadata": {
    "execution": {
     "iopub.execute_input": "2024-07-22T14:24:14.547234Z",
     "iopub.status.busy": "2024-07-22T14:24:14.546846Z",
     "iopub.status.idle": "2024-07-22T14:24:14.802497Z",
     "shell.execute_reply": "2024-07-22T14:24:14.801453Z",
     "shell.execute_reply.started": "2024-07-22T14:24:14.547202Z"
    }
   },
   "outputs": [
    {
     "data": {
      "application/vnd.jupyter.widget-view+json": {
       "model_id": "5eaba4a7e43046428046f3d59aec6024",
       "version_major": 2,
       "version_minor": 0
      },
      "text/plain": [
       "VBox()"
      ]
     },
     "metadata": {},
     "output_type": "display_data"
    },
    {
     "data": {
      "application/vnd.jupyter.widget-view+json": {
       "model_id": "",
       "version_major": 2,
       "version_minor": 0
      },
      "text/plain": [
       "FloatProgress(value=0.0, bar_style='info', description='Progress:', layout=Layout(height='25px', width='50%'),…"
      ]
     },
     "metadata": {},
     "output_type": "display_data"
    }
   ],
   "source": [
    "group_df2 = role_df_tag.groupBy('Role','core_skills_data',').count().orderBy('count', ascending = False)"
   ]
  },
  {
   "cell_type": "code",
   "execution_count": null,
   "id": "efebab8d-1428-41f5-85eb-d734e4afde28",
   "metadata": {},
   "outputs": [],
   "source": [
    "from io import StringIO # python3; python2: BytesIO import boto3\n",
    "import boto3\n",
    "\n",
    "\n",
    "bucket = 'draup-command-center' # already created on S3\n",
    "csv_buffer = StringIO()\n",
    "\n",
    "res2=group_df2.toPandas()\n",
    "res2.to_csv(csv_buffer)\n",
    "s3_resource = boto3.resource('s3')\n",
    "s3_resource.Object(bucket, 'temp/cc/Renukumar_Draup/karthika/output/pce_role_msa_skills_19-07-2024.csv').put(Body=csv_buffer.getvalue())"
   ]
  },
  {
   "cell_type": "markdown",
   "id": "86a98ca8-a5d5-4f67-a6fb-24a10462a033",
   "metadata": {},
   "source": [
    "### Role,country,core_skills count"
   ]
  },
  {
   "cell_type": "code",
   "execution_count": 25,
   "id": "3c7f8af6-273e-44dd-8b96-cc0c86d22dd4",
   "metadata": {
    "execution": {
     "iopub.execute_input": "2024-07-22T14:28:25.604431Z",
     "iopub.status.busy": "2024-07-22T14:28:25.604062Z",
     "iopub.status.idle": "2024-07-22T14:28:25.654708Z",
     "shell.execute_reply": "2024-07-22T14:28:25.653798Z",
     "shell.execute_reply.started": "2024-07-22T14:28:25.604398Z"
    },
    "tags": []
   },
   "outputs": [
    {
     "data": {
      "application/vnd.jupyter.widget-view+json": {
       "model_id": "be76f407cd5b4eacab08644fb3a7bbed",
       "version_major": 2,
       "version_minor": 0
      },
      "text/plain": [
       "VBox()"
      ]
     },
     "metadata": {},
     "output_type": "display_data"
    },
    {
     "data": {
      "application/vnd.jupyter.widget-view+json": {
       "model_id": "",
       "version_major": 2,
       "version_minor": 0
      },
      "text/plain": [
       "FloatProgress(value=0.0, bar_style='info', description='Progress:', layout=Layout(height='25px', width='50%'),…"
      ]
     },
     "metadata": {},
     "output_type": "display_data"
    }
   ],
   "source": [
    "role_df_tag = role_df_tag.drop_duplicates(subset=['Role', 'publicLink', 'country_data'])"
   ]
  },
  {
   "cell_type": "code",
   "execution_count": 26,
   "id": "cde43a03-740f-4a08-bf2a-9b7bacd5afa1",
   "metadata": {
    "execution": {
     "iopub.execute_input": "2024-07-22T14:28:26.324717Z",
     "iopub.status.busy": "2024-07-22T14:28:26.324373Z",
     "iopub.status.idle": "2024-07-22T14:28:26.576660Z",
     "shell.execute_reply": "2024-07-22T14:28:26.575637Z",
     "shell.execute_reply.started": "2024-07-22T14:28:26.324685Z"
    }
   },
   "outputs": [
    {
     "data": {
      "application/vnd.jupyter.widget-view+json": {
       "model_id": "5e6484b71d874083a7e4adc12f9cb9a8",
       "version_major": 2,
       "version_minor": 0
      },
      "text/plain": [
       "VBox()"
      ]
     },
     "metadata": {},
     "output_type": "display_data"
    },
    {
     "data": {
      "application/vnd.jupyter.widget-view+json": {
       "model_id": "",
       "version_major": 2,
       "version_minor": 0
      },
      "text/plain": [
       "FloatProgress(value=0.0, bar_style='info', description='Progress:', layout=Layout(height='25px', width='50%'),…"
      ]
     },
     "metadata": {},
     "output_type": "display_data"
    }
   ],
   "source": [
    "skills_df = role_df_tag.withColumn('core_skills_data',explode(col('core_skills')))"
   ]
  },
  {
   "cell_type": "code",
   "execution_count": 27,
   "id": "69bfb3ce-624c-4d91-97e9-6e859eb3e1b5",
   "metadata": {
    "execution": {
     "iopub.execute_input": "2024-07-22T14:29:18.143339Z",
     "iopub.status.busy": "2024-07-22T14:29:18.142961Z",
     "iopub.status.idle": "2024-07-22T14:29:18.398180Z",
     "shell.execute_reply": "2024-07-22T14:29:18.397175Z",
     "shell.execute_reply.started": "2024-07-22T14:29:18.143307Z"
    }
   },
   "outputs": [
    {
     "data": {
      "application/vnd.jupyter.widget-view+json": {
       "model_id": "6dce922823b34cc9a6240ea135a8236a",
       "version_major": 2,
       "version_minor": 0
      },
      "text/plain": [
       "VBox()"
      ]
     },
     "metadata": {},
     "output_type": "display_data"
    },
    {
     "data": {
      "application/vnd.jupyter.widget-view+json": {
       "model_id": "",
       "version_major": 2,
       "version_minor": 0
      },
      "text/plain": [
       "FloatProgress(value=0.0, bar_style='info', description='Progress:', layout=Layout(height='25px', width='50%'),…"
      ]
     },
     "metadata": {},
     "output_type": "display_data"
    }
   ],
   "source": [
    "group_df2 = skills_df.groupBy('Role','country_data','core_skills_data').count().orderBy('count', ascending = False)"
   ]
  },
  {
   "cell_type": "code",
   "execution_count": null,
   "id": "79112493-64e5-408a-aab6-29193c8d882f",
   "metadata": {},
   "outputs": [],
   "source": [
    "from io import StringIO # python3; python2: BytesIO import boto3\n",
    "import boto3\n",
    "\n",
    "\n",
    "bucket = 'draup-command-center' # already created on S3\n",
    "csv_buffer = StringIO()\n",
    "\n",
    "res2=final_df.toPandas()\n",
    "res2.to_csv(csv_buffer)\n",
    "s3_resource = boto3.resource('s3')\n",
    "s3_resource.Object(bucket, 'temp/cc/Renukumar_Draup/karthika/output/pce_role_country_skills_19-07-2024.csv').put(Body=csv_buffer.getvalue())"
   ]
  },
  {
   "cell_type": "markdown",
   "id": "902f1272-902e-42d9-9535-a5dea87e9c4b",
   "metadata": {
    "execution": {
     "iopub.execute_input": "2024-07-19T09:25:24.722159Z",
     "iopub.status.busy": "2024-07-19T09:25:24.721792Z",
     "iopub.status.idle": "2024-07-19T09:25:24.771845Z",
     "shell.execute_reply": "2024-07-19T09:25:24.770808Z",
     "shell.execute_reply.started": "2024-07-19T09:25:24.722127Z"
    }
   },
   "source": [
    "### Groupby Role,msa,skills,YOE"
   ]
  },
  {
   "cell_type": "code",
   "execution_count": 41,
   "id": "1fdc1a42-0104-416f-87a8-728b98fd7573",
   "metadata": {
    "execution": {
     "iopub.execute_input": "2024-07-22T11:53:23.664050Z",
     "iopub.status.busy": "2024-07-22T11:53:23.663690Z",
     "iopub.status.idle": "2024-07-22T11:53:23.712571Z",
     "shell.execute_reply": "2024-07-22T11:53:23.711599Z",
     "shell.execute_reply.started": "2024-07-22T11:53:23.664019Z"
    },
    "tags": []
   },
   "outputs": [
    {
     "data": {
      "application/vnd.jupyter.widget-view+json": {
       "model_id": "3412a799ce2a47728c35c72fd2c1d378",
       "version_major": 2,
       "version_minor": 0
      },
      "text/plain": [
       "VBox()"
      ]
     },
     "metadata": {},
     "output_type": "display_data"
    },
    {
     "data": {
      "application/vnd.jupyter.widget-view+json": {
       "model_id": "",
       "version_major": 2,
       "version_minor": 0
      },
      "text/plain": [
       "FloatProgress(value=0.0, bar_style='info', description='Progress:', layout=Layout(height='25px', width='50%'),…"
      ]
     },
     "metadata": {},
     "output_type": "display_data"
    }
   ],
   "source": [
    "skills_df = role_df_tag.withColumn('core_skills_data',explode(col('core_skills')))"
   ]
  },
  {
   "cell_type": "code",
   "execution_count": 28,
   "id": "43e866ed-90de-4008-8646-4651fc316296",
   "metadata": {
    "execution": {
     "iopub.execute_input": "2024-07-19T05:04:14.418985Z",
     "iopub.status.busy": "2024-07-19T05:04:14.418566Z",
     "iopub.status.idle": "2024-07-19T05:04:14.677139Z",
     "shell.execute_reply": "2024-07-19T05:04:14.676094Z",
     "shell.execute_reply.started": "2024-07-19T05:04:14.418954Z"
    },
    "tags": []
   },
   "outputs": [
    {
     "data": {
      "application/vnd.jupyter.widget-view+json": {
       "model_id": "663239a9eaa844d8b17a8628d614ee36",
       "version_major": 2,
       "version_minor": 0
      },
      "text/plain": [
       "VBox()"
      ]
     },
     "metadata": {},
     "output_type": "display_data"
    },
    {
     "data": {
      "application/vnd.jupyter.widget-view+json": {
       "model_id": "",
       "version_major": 2,
       "version_minor": 0
      },
      "text/plain": [
       "FloatProgress(value=0.0, bar_style='info', description='Progress:', layout=Layout(height='25px', width='50%'),…"
      ]
     },
     "metadata": {},
     "output_type": "display_data"
    }
   ],
   "source": [
    "YE_df = skills_df.withColumn(\n",
    "    'years_Experience',\n",
    "    F.when((col('years_of_experience') >= 0) & (col('years_of_experience') < 3), '0-3')\n",
    "     .when((col('years_of_experience') >= 3) & (col('years_of_experience') < 20), '3-20'))                "
   ]
  },
  {
   "cell_type": "code",
   "execution_count": 29,
   "id": "50c89f17-27d0-46f4-b2e2-ceee3e84e953",
   "metadata": {
    "execution": {
     "iopub.execute_input": "2024-07-19T05:04:28.034604Z",
     "iopub.status.busy": "2024-07-19T05:04:28.034246Z",
     "iopub.status.idle": "2024-07-19T05:04:28.292907Z",
     "shell.execute_reply": "2024-07-19T05:04:28.291745Z",
     "shell.execute_reply.started": "2024-07-19T05:04:28.034573Z"
    },
    "tags": []
   },
   "outputs": [
    {
     "data": {
      "application/vnd.jupyter.widget-view+json": {
       "model_id": "7b2186bb1e7143809b070cade6280075",
       "version_major": 2,
       "version_minor": 0
      },
      "text/plain": [
       "VBox()"
      ]
     },
     "metadata": {},
     "output_type": "display_data"
    },
    {
     "data": {
      "application/vnd.jupyter.widget-view+json": {
       "model_id": "",
       "version_major": 2,
       "version_minor": 0
      },
      "text/plain": [
       "FloatProgress(value=0.0, bar_style='info', description='Progress:', layout=Layout(height='25px', width='50%'),…"
      ]
     },
     "metadata": {},
     "output_type": "display_data"
    }
   ],
   "source": [
    "group_df2 = YE_df.groupBy('Role','country_data','core_skills_data').count().orderBy('count', ascending = False)"
   ]
  },
  {
   "cell_type": "markdown",
   "id": "f575f5b0-a3a2-4a08-a11a-147b6bcbb60d",
   "metadata": {},
   "source": [
    "### Top 20 profile"
   ]
  },
  {
   "cell_type": "code",
   "execution_count": 32,
   "id": "844eea36-00c4-4b99-b3ba-266580d175af",
   "metadata": {
    "execution": {
     "iopub.execute_input": "2024-07-19T06:16:48.350310Z",
     "iopub.status.busy": "2024-07-19T06:16:48.349958Z",
     "iopub.status.idle": "2024-07-19T06:16:48.605300Z",
     "shell.execute_reply": "2024-07-19T06:16:48.604409Z",
     "shell.execute_reply.started": "2024-07-19T06:16:48.350279Z"
    },
    "tags": []
   },
   "outputs": [
    {
     "data": {
      "application/vnd.jupyter.widget-view+json": {
       "model_id": "d2c6091a1d1049af97cb752b836276be",
       "version_major": 2,
       "version_minor": 0
      },
      "text/plain": [
       "VBox()"
      ]
     },
     "metadata": {},
     "output_type": "display_data"
    },
    {
     "data": {
      "application/vnd.jupyter.widget-view+json": {
       "model_id": "",
       "version_major": 2,
       "version_minor": 0
      },
      "text/plain": [
       "FloatProgress(value=0.0, bar_style='info', description='Progress:', layout=Layout(height='25px', width='50%'),…"
      ]
     },
     "metadata": {},
     "output_type": "display_data"
    }
   ],
   "source": [
    "from pyspark.sql import Window\n",
    "from pyspark.sql.functions import row_number\n",
    " \n",
    "# Create a window specification\n",
    "windowSpec = Window.partitionBy('Job role','Location','core_skills_data','years_Experience').orderBy(F.desc('count'))\n",
    " \n",
    "# Add a row number column to each partition\n",
    "grp_df10_with_row_num = group_df.withColumn('row_num', row_number().over(windowSpec))\n",
    " \n",
    "# Filter to get only the top 10 rows per partition\n",
    "final_df = grp_df10_with_row_num.filter(col('row_num') <= 20).drop('row_num')"
   ]
  },
  {
   "cell_type": "code",
   "execution_count": 33,
   "id": "48953a13-62ed-4ad0-9dc4-3e94a312fae9",
   "metadata": {
    "execution": {
     "iopub.execute_input": "2024-07-19T06:17:29.816896Z",
     "iopub.status.busy": "2024-07-19T06:17:29.816511Z",
     "iopub.status.idle": "2024-07-19T06:22:34.149997Z",
     "shell.execute_reply": "2024-07-19T06:22:34.148956Z",
     "shell.execute_reply.started": "2024-07-19T06:17:29.816863Z"
    },
    "tags": []
   },
   "outputs": [
    {
     "data": {
      "application/vnd.jupyter.widget-view+json": {
       "model_id": "08830d2babd640738072d57df833fe06",
       "version_major": 2,
       "version_minor": 0
      },
      "text/plain": [
       "VBox()"
      ]
     },
     "metadata": {},
     "output_type": "display_data"
    },
    {
     "data": {
      "application/vnd.jupyter.widget-view+json": {
       "model_id": "",
       "version_major": 2,
       "version_minor": 0
      },
      "text/plain": [
       "FloatProgress(value=0.0, bar_style='info', description='Progress:', layout=Layout(height='25px', width='50%'),…"
      ]
     },
     "metadata": {},
     "output_type": "display_data"
    },
    {
     "name": "stdout",
     "output_type": "stream",
     "text": [
      "{'ResponseMetadata': {'RequestId': 'YWH0X9H1C1CFN78V', 'HostId': 'qFjF6GP7BUhPo6ZIhiHT8Ubc1P/+Zjy/CdSuZRs3D1yK8hWQnHxuuyeIJotlJJfKkaxOQXNDwLI=', 'HTTPStatusCode': 200, 'HTTPHeaders': {'x-amz-id-2': 'qFjF6GP7BUhPo6ZIhiHT8Ubc1P/+Zjy/CdSuZRs3D1yK8hWQnHxuuyeIJotlJJfKkaxOQXNDwLI=', 'x-amz-request-id': 'YWH0X9H1C1CFN78V', 'date': 'Fri, 19 Jul 2024 06:22:34 GMT', 'x-amz-expiration': 'expiry-date=\"Thu, 25 Jul 2024 00:00:00 GMT\", rule-id=\"Delete in temp folder\"', 'x-amz-server-side-encryption': 'AES256', 'etag': '\"2250a536ee112b4205576f2c97e6ce06\"', 'server': 'AmazonS3', 'content-length': '0'}, 'RetryAttempts': 1}, 'Expiration': 'expiry-date=\"Thu, 25 Jul 2024 00:00:00 GMT\", rule-id=\"Delete in temp folder\"', 'ETag': '\"2250a536ee112b4205576f2c97e6ce06\"', 'ServerSideEncryption': 'AES256'}"
     ]
    }
   ],
   "source": [
    "from io import StringIO # python3; python2: BytesIO import boto3\n",
    "import boto3\n",
    "\n",
    "\n",
    "bucket = 'draup-command-center' # already created on S3\n",
    "csv_buffer = StringIO()\n",
    "\n",
    "res2=final_df.toPandas()\n",
    "res2.to_csv(csv_buffer)\n",
    "s3_resource = boto3.resource('s3')\n",
    "s3_resource.Object(bucket, 'temp/cc/Renukumar_Draup/karthika/output/pce_role_msa_skills_MVP_yearExpr_20 top_19-07-2024.csv').put(Body=csv_buffer.getvalue())"
   ]
  },
  {
   "cell_type": "code",
   "execution_count": null,
   "id": "7bdcd8b2-71b5-4f62-95b9-746f7a719306",
   "metadata": {},
   "outputs": [],
   "source": []
  },
  {
   "cell_type": "markdown",
   "id": "a518f985-0b98-432d-a643-8476fc10d202",
   "metadata": {
    "execution": {
     "iopub.execute_input": "2024-07-22T14:34:10.786718Z",
     "iopub.status.busy": "2024-07-22T14:34:10.786361Z",
     "iopub.status.idle": "2024-07-22T14:34:10.838057Z",
     "shell.execute_reply": "2024-07-22T14:34:10.836991Z",
     "shell.execute_reply.started": "2024-07-22T14:34:10.786686Z"
    }
   },
   "source": [
    "### Role, MVP company count"
   ]
  },
  {
   "cell_type": "code",
   "execution_count": 30,
   "id": "5f7b7dfe-5c04-4e38-a470-d991e707935c",
   "metadata": {
    "execution": {
     "iopub.execute_input": "2024-07-22T14:36:22.925304Z",
     "iopub.status.busy": "2024-07-22T14:36:22.924945Z",
     "iopub.status.idle": "2024-07-22T14:36:23.176691Z",
     "shell.execute_reply": "2024-07-22T14:36:23.175767Z",
     "shell.execute_reply.started": "2024-07-22T14:36:22.925271Z"
    },
    "tags": []
   },
   "outputs": [
    {
     "data": {
      "application/vnd.jupyter.widget-view+json": {
       "model_id": "c88c3fabfc774b5db5683d754af41235",
       "version_major": 2,
       "version_minor": 0
      },
      "text/plain": [
       "VBox()"
      ]
     },
     "metadata": {},
     "output_type": "display_data"
    },
    {
     "data": {
      "application/vnd.jupyter.widget-view+json": {
       "model_id": "",
       "version_major": 2,
       "version_minor": 0
      },
      "text/plain": [
       "FloatProgress(value=0.0, bar_style='info', description='Progress:', layout=Layout(height='25px', width='50%'),…"
      ]
     },
     "metadata": {},
     "output_type": "display_data"
    }
   ],
   "source": [
    "group_df1 = role_df_tag.groupBy('Role','mvp_company_name').count().orderBy(col('count').desc())"
   ]
  },
  {
   "cell_type": "code",
   "execution_count": null,
   "id": "a06729f1-a047-475b-b0b6-fdb9c93e2338",
   "metadata": {},
   "outputs": [],
   "source": [
    "from io import StringIO # python3; python2: BytesIO import boto3\n",
    "import boto3\n",
    "\n",
    "\n",
    "bucket = 'draup-command-center' # already created on S3\n",
    "csv_buffer = StringIO()\n",
    "\n",
    "res2=group_df1.toPandas()\n",
    "res2.to_csv(csv_buffer)\n",
    "s3_resource = boto3.resource('s3')\n",
    "s3_resource.Object(bucket, 'temp/cc/Renukumar_Draup/karthika/output/pce_role_mvp_19-07-2024.csv').put(Body=csv_buffer.getvalue())"
   ]
  },
  {
   "cell_type": "markdown",
   "id": "32c217bb-096d-4058-901e-fa1d3df73bda",
   "metadata": {},
   "source": [
    "### Groupby MVP company,msa"
   ]
  },
  {
   "cell_type": "code",
   "execution_count": null,
   "id": "7d2c5be9-dd7a-4684-9da9-42d8c1f03ff2",
   "metadata": {},
   "outputs": [],
   "source": [
    "group_df3 = role_df_tag.groupBy('mvp_company_name','profile_msa').count().orderBy('count', ascending = False)"
   ]
  },
  {
   "cell_type": "code",
   "execution_count": null,
   "id": "9f210b5a-3d08-4f5b-b1ca-98208af004c2",
   "metadata": {},
   "outputs": [],
   "source": [
    "from io import StringIO # python3; python2: BytesIO import boto3\n",
    "import boto3\n",
    "\n",
    "\n",
    "bucket = 'draup-command-center' # already created on S3\n",
    "csv_buffer = StringIO()\n",
    "\n",
    "res2=group_df3.toPandas()\n",
    "res2.to_csv(csv_buffer)\n",
    "s3_resource = boto3.resource('s3')\n",
    "s3_resource.Object(bucket, 'temp/cc/Renukumar_Draup/karthika/output/pce_MVPcompany_msa_18-07-2024.csv').put(Body=csv_buffer.getvalue())"
   ]
  },
  {
   "cell_type": "markdown",
   "id": "9c97f562-4bef-48b2-a097-c3a91486a0a2",
   "metadata": {},
   "source": [
    "### MVP company and country"
   ]
  },
  {
   "cell_type": "code",
   "execution_count": 31,
   "id": "2d1a8d1c-b440-4442-a98c-944b7abe8775",
   "metadata": {
    "execution": {
     "iopub.execute_input": "2024-07-22T14:37:47.885464Z",
     "iopub.status.busy": "2024-07-22T14:37:47.885030Z",
     "iopub.status.idle": "2024-07-22T14:37:47.939074Z",
     "shell.execute_reply": "2024-07-22T14:37:47.937852Z",
     "shell.execute_reply.started": "2024-07-22T14:37:47.885422Z"
    }
   },
   "outputs": [
    {
     "data": {
      "application/vnd.jupyter.widget-view+json": {
       "model_id": "12704f7aa1364160a889f8e161553618",
       "version_major": 2,
       "version_minor": 0
      },
      "text/plain": [
       "VBox()"
      ]
     },
     "metadata": {},
     "output_type": "display_data"
    },
    {
     "data": {
      "application/vnd.jupyter.widget-view+json": {
       "model_id": "",
       "version_major": 2,
       "version_minor": 0
      },
      "text/plain": [
       "FloatProgress(value=0.0, bar_style='info', description='Progress:', layout=Layout(height='25px', width='50%'),…"
      ]
     },
     "metadata": {},
     "output_type": "display_data"
    }
   ],
   "source": [
    "role_df_tag1 = role_df_tag.drop_duplicates(subset=['mvp_company_name', 'country_data','publicLink'])"
   ]
  },
  {
   "cell_type": "code",
   "execution_count": 32,
   "id": "3cf2cb8a-1bc1-4497-8a00-9d854b3cef36",
   "metadata": {
    "execution": {
     "iopub.execute_input": "2024-07-22T14:37:51.225175Z",
     "iopub.status.busy": "2024-07-22T14:37:51.224820Z",
     "iopub.status.idle": "2024-07-22T14:37:51.480854Z",
     "shell.execute_reply": "2024-07-22T14:37:51.478496Z",
     "shell.execute_reply.started": "2024-07-22T14:37:51.225144Z"
    }
   },
   "outputs": [
    {
     "data": {
      "application/vnd.jupyter.widget-view+json": {
       "model_id": "4d609dd096794b8997e97a61a3cebba6",
       "version_major": 2,
       "version_minor": 0
      },
      "text/plain": [
       "VBox()"
      ]
     },
     "metadata": {},
     "output_type": "display_data"
    },
    {
     "data": {
      "application/vnd.jupyter.widget-view+json": {
       "model_id": "",
       "version_major": 2,
       "version_minor": 0
      },
      "text/plain": [
       "FloatProgress(value=0.0, bar_style='info', description='Progress:', layout=Layout(height='25px', width='50%'),…"
      ]
     },
     "metadata": {},
     "output_type": "display_data"
    }
   ],
   "source": [
    "group_df4 = role_df_tag1.groupBy('mvp_company_name','country_data').count().orderBy('count',ascending = False)"
   ]
  },
  {
   "cell_type": "code",
   "execution_count": null,
   "id": "8ac91135-71ab-4047-865c-4f18379cb7b3",
   "metadata": {},
   "outputs": [],
   "source": [
    "from io import StringIO # python3; python2: BytesIO import boto3\n",
    "import boto3\n",
    "\n",
    "\n",
    "bucket = 'draup-command-center' # already created on S3\n",
    "csv_buffer = StringIO()\n",
    "\n",
    "res2=group_df4.toPandas()\n",
    "res2.to_csv(csv_buffer)\n",
    "s3_resource = boto3.resource('s3')\n",
    "s3_resource.Object(bucket, 'temp/cc/Renukumar_Draup/karthika/output/pce_MVPcompany_cu_18-07-2024.csv').put(Body=csv_buffer.getvalue())"
   ]
  },
  {
   "cell_type": "code",
   "execution_count": null,
   "id": "d0187015-99f4-4b86-addf-9bf1f7fb50f2",
   "metadata": {},
   "outputs": [],
   "source": []
  },
  {
   "cell_type": "markdown",
   "id": "965f61fa-f9bc-49d2-ba66-551b8a72f978",
   "metadata": {},
   "source": [
    "### GroupBy core skills and MVP company"
   ]
  },
  {
   "cell_type": "code",
   "execution_count": 14,
   "id": "f7436537-8249-4bf4-9622-b430b8c9434d",
   "metadata": {
    "execution": {
     "iopub.execute_input": "2024-07-18T11:12:28.907346Z",
     "iopub.status.busy": "2024-07-18T11:12:28.906902Z",
     "iopub.status.idle": "2024-07-18T11:12:29.170472Z",
     "shell.execute_reply": "2024-07-18T11:12:29.169278Z",
     "shell.execute_reply.started": "2024-07-18T11:12:28.907305Z"
    },
    "tags": []
   },
   "outputs": [
    {
     "data": {
      "application/vnd.jupyter.widget-view+json": {
       "model_id": "0f9b70b56e6a4db3914f34c246f5be51",
       "version_major": 2,
       "version_minor": 0
      },
      "text/plain": [
       "VBox()"
      ]
     },
     "metadata": {},
     "output_type": "display_data"
    },
    {
     "data": {
      "application/vnd.jupyter.widget-view+json": {
       "model_id": "",
       "version_major": 2,
       "version_minor": 0
      },
      "text/plain": [
       "FloatProgress(value=0.0, bar_style='info', description='Progress:', layout=Layout(height='25px', width='50%'),…"
      ]
     },
     "metadata": {},
     "output_type": "display_data"
    }
   ],
   "source": [
    "skills_df = role_df_tag.withColumn('core_skills_data',explode(col('core_skills')))"
   ]
  },
  {
   "cell_type": "code",
   "execution_count": 22,
   "id": "8afa9286-ad18-4860-85fc-7ab6324c27d3",
   "metadata": {
    "execution": {
     "iopub.execute_input": "2024-07-18T11:32:29.530806Z",
     "iopub.status.busy": "2024-07-18T11:32:29.530449Z",
     "iopub.status.idle": "2024-07-18T11:32:29.785241Z",
     "shell.execute_reply": "2024-07-18T11:32:29.784345Z",
     "shell.execute_reply.started": "2024-07-18T11:32:29.530775Z"
    },
    "tags": []
   },
   "outputs": [
    {
     "data": {
      "application/vnd.jupyter.widget-view+json": {
       "model_id": "f52477df0a9a48c3808c72fd0c0677fb",
       "version_major": 2,
       "version_minor": 0
      },
      "text/plain": [
       "VBox()"
      ]
     },
     "metadata": {},
     "output_type": "display_data"
    },
    {
     "data": {
      "application/vnd.jupyter.widget-view+json": {
       "model_id": "",
       "version_major": 2,
       "version_minor": 0
      },
      "text/plain": [
       "FloatProgress(value=0.0, bar_style='info', description='Progress:', layout=Layout(height='25px', width='50%'),…"
      ]
     },
     "metadata": {},
     "output_type": "display_data"
    }
   ],
   "source": [
    "group_df = skills_df.groupBy('Job role','Location','mvp_company_name','core_skills_data').count().orderBy('count',ascending = False)"
   ]
  },
  {
   "cell_type": "code",
   "execution_count": 25,
   "id": "cfb9b3c9-e823-4a12-a160-6582e5679f6b",
   "metadata": {
    "execution": {
     "iopub.execute_input": "2024-07-18T11:40:34.253275Z",
     "iopub.status.busy": "2024-07-18T11:40:34.252903Z",
     "iopub.status.idle": "2024-07-18T11:40:34.508014Z",
     "shell.execute_reply": "2024-07-18T11:40:34.506672Z",
     "shell.execute_reply.started": "2024-07-18T11:40:34.253229Z"
    },
    "tags": []
   },
   "outputs": [
    {
     "data": {
      "application/vnd.jupyter.widget-view+json": {
       "model_id": "0e442b949cd948ee8587e428cf9ac2d3",
       "version_major": 2,
       "version_minor": 0
      },
      "text/plain": [
       "VBox()"
      ]
     },
     "metadata": {},
     "output_type": "display_data"
    },
    {
     "data": {
      "application/vnd.jupyter.widget-view+json": {
       "model_id": "",
       "version_major": 2,
       "version_minor": 0
      },
      "text/plain": [
       "FloatProgress(value=0.0, bar_style='info', description='Progress:', layout=Layout(height='25px', width='50%'),…"
      ]
     },
     "metadata": {},
     "output_type": "display_data"
    }
   ],
   "source": [
    "from pyspark.sql import Window\n",
    "from pyspark.sql.functions import row_number\n",
    " \n",
    "# Create a window specification\n",
    "windowSpec = Window.partitionBy('Job role','Location','core_skills_data').orderBy(F.desc('count'))\n",
    " \n",
    "# Add a row number column to each partition\n",
    "grp_df10_with_row_num = group_df.withColumn('row_num', row_number().over(windowSpec))\n",
    " \n",
    "# Filter to get only the top 10 rows per partition\n",
    "final_df = grp_df10_with_row_num.filter(col('row_num') <= 20).drop('row_num')"
   ]
  },
  {
   "cell_type": "code",
   "execution_count": 27,
   "id": "35fd1888-48ed-47f8-9e5c-64b46f6551ab",
   "metadata": {
    "execution": {
     "iopub.execute_input": "2024-07-18T11:46:19.591688Z",
     "iopub.status.busy": "2024-07-18T11:46:19.591297Z",
     "iopub.status.idle": "2024-07-18T11:46:19.649755Z",
     "shell.execute_reply": "2024-07-18T11:46:19.648529Z",
     "shell.execute_reply.started": "2024-07-18T11:46:19.591657Z"
    }
   },
   "outputs": [
    {
     "data": {
      "application/vnd.jupyter.widget-view+json": {
       "model_id": "1f5892d67d7d489a96dad3d5c9a026ed",
       "version_major": 2,
       "version_minor": 0
      },
      "text/plain": [
       "VBox()"
      ]
     },
     "metadata": {},
     "output_type": "display_data"
    },
    {
     "data": {
      "application/vnd.jupyter.widget-view+json": {
       "model_id": "",
       "version_major": 2,
       "version_minor": 0
      },
      "text/plain": [
       "FloatProgress(value=0.0, bar_style='info', description='Progress:', layout=Layout(height='25px', width='50%'),…"
      ]
     },
     "metadata": {},
     "output_type": "display_data"
    },
    {
     "name": "stdout",
     "output_type": "stream",
     "text": [
      "root\n",
      " |-- Job role: string (nullable = true)\n",
      " |-- Location: string (nullable = true)\n",
      " |-- mvp_company_name: string (nullable = true)\n",
      " |-- core_skills_data: string (nullable = true)\n",
      " |-- count: long (nullable = false)"
     ]
    }
   ],
   "source": [
    "final_df.printSchema()"
   ]
  },
  {
   "cell_type": "code",
   "execution_count": 26,
   "id": "6e350235-9360-4589-b60c-5d4caafee793",
   "metadata": {
    "execution": {
     "iopub.execute_input": "2024-07-18T11:40:41.760392Z",
     "iopub.status.busy": "2024-07-18T11:40:41.760030Z",
     "iopub.status.idle": "2024-07-18T11:44:37.695397Z",
     "shell.execute_reply": "2024-07-18T11:44:37.694158Z",
     "shell.execute_reply.started": "2024-07-18T11:40:41.760360Z"
    },
    "tags": []
   },
   "outputs": [
    {
     "data": {
      "application/vnd.jupyter.widget-view+json": {
       "model_id": "55744c9f12e74f7e893b0834e683123b",
       "version_major": 2,
       "version_minor": 0
      },
      "text/plain": [
       "VBox()"
      ]
     },
     "metadata": {},
     "output_type": "display_data"
    },
    {
     "data": {
      "application/vnd.jupyter.widget-view+json": {
       "model_id": "",
       "version_major": 2,
       "version_minor": 0
      },
      "text/plain": [
       "FloatProgress(value=0.0, bar_style='info', description='Progress:', layout=Layout(height='25px', width='50%'),…"
      ]
     },
     "metadata": {},
     "output_type": "display_data"
    },
    {
     "name": "stdout",
     "output_type": "stream",
     "text": [
      "{'ResponseMetadata': {'RequestId': '6PG101V3BEA1RP02', 'HostId': 'Cpp+h+jOhTDGR3O5SgiO/SbV4FjK8vAPl8QDrdfbTS9wqnwh65AXtXVb4MQZoEOAwvPGMcg8KyM=', 'HTTPStatusCode': 200, 'HTTPHeaders': {'x-amz-id-2': 'Cpp+h+jOhTDGR3O5SgiO/SbV4FjK8vAPl8QDrdfbTS9wqnwh65AXtXVb4MQZoEOAwvPGMcg8KyM=', 'x-amz-request-id': '6PG101V3BEA1RP02', 'date': 'Thu, 18 Jul 2024 11:44:36 GMT', 'x-amz-expiration': 'expiry-date=\"Wed, 24 Jul 2024 00:00:00 GMT\", rule-id=\"Delete in temp folder\"', 'x-amz-server-side-encryption': 'AES256', 'etag': '\"961d5d0911151de11a067f13ae346340\"', 'server': 'AmazonS3', 'content-length': '0'}, 'RetryAttempts': 1}, 'Expiration': 'expiry-date=\"Wed, 24 Jul 2024 00:00:00 GMT\", rule-id=\"Delete in temp folder\"', 'ETag': '\"961d5d0911151de11a067f13ae346340\"', 'ServerSideEncryption': 'AES256'}"
     ]
    }
   ],
   "source": [
    "from io import StringIO # python3; python2: BytesIO import boto3\n",
    "import boto3\n",
    "\n",
    "\n",
    "bucket = 'draup-command-center' # already created on S3\n",
    "csv_buffer = StringIO()\n",
    "\n",
    "res2=final_df.toPandas()\n",
    "res2.to_csv(csv_buffer)\n",
    "s3_resource = boto3.resource('s3')\n",
    "s3_resource.Object(bucket, 'temp/cc/Renukumar_Draup/karthika/output/pce_role_msa_MVP_skills_top_20_data_18-07-2024.csv').put(Body=csv_buffer.getvalue())"
   ]
  },
  {
   "cell_type": "code",
   "execution_count": null,
   "id": "b6ff28e2-84ef-4d20-bfd4-b62930288619",
   "metadata": {},
   "outputs": [],
   "source": []
  },
  {
   "cell_type": "code",
   "execution_count": null,
   "id": "74d1e071-786d-459d-af0b-b82d04e857a6",
   "metadata": {},
   "outputs": [],
   "source": []
  },
  {
   "cell_type": "markdown",
   "id": "ee113963-7977-4f12-be5e-176f387cdaff",
   "metadata": {},
   "source": [
    "### GroupBy Role,msa,MVP company"
   ]
  },
  {
   "cell_type": "code",
   "execution_count": 40,
   "id": "b166763e-45c6-4064-874b-ae69b3416398",
   "metadata": {
    "execution": {
     "iopub.execute_input": "2024-07-18T10:29:29.670105Z",
     "iopub.status.busy": "2024-07-18T10:29:29.669721Z",
     "iopub.status.idle": "2024-07-18T10:29:29.937551Z",
     "shell.execute_reply": "2024-07-18T10:29:29.936314Z",
     "shell.execute_reply.started": "2024-07-18T10:29:29.670072Z"
    },
    "tags": []
   },
   "outputs": [
    {
     "data": {
      "application/vnd.jupyter.widget-view+json": {
       "model_id": "7fcbcdfb37ec4aaf9ea46f648bfc8b32",
       "version_major": 2,
       "version_minor": 0
      },
      "text/plain": [
       "VBox()"
      ]
     },
     "metadata": {},
     "output_type": "display_data"
    },
    {
     "data": {
      "application/vnd.jupyter.widget-view+json": {
       "model_id": "",
       "version_major": 2,
       "version_minor": 0
      },
      "text/plain": [
       "FloatProgress(value=0.0, bar_style='info', description='Progress:', layout=Layout(height='25px', width='50%'),…"
      ]
     },
     "metadata": {},
     "output_type": "display_data"
    }
   ],
   "source": [
    "mvp_df = role_df_tag.groupBy('Job role','Location','mvp_company_name').count().orderBy('count',ascending = False)"
   ]
  },
  {
   "cell_type": "code",
   "execution_count": 41,
   "id": "8edea329-acc1-4d9a-ba9f-7ef1db20aa16",
   "metadata": {
    "execution": {
     "iopub.execute_input": "2024-07-18T10:29:30.223105Z",
     "iopub.status.busy": "2024-07-18T10:29:30.222740Z",
     "iopub.status.idle": "2024-07-18T10:29:30.486209Z",
     "shell.execute_reply": "2024-07-18T10:29:30.484716Z",
     "shell.execute_reply.started": "2024-07-18T10:29:30.223074Z"
    },
    "tags": []
   },
   "outputs": [
    {
     "data": {
      "application/vnd.jupyter.widget-view+json": {
       "model_id": "b5f735e1f0e14a02b51b255e5448b647",
       "version_major": 2,
       "version_minor": 0
      },
      "text/plain": [
       "VBox()"
      ]
     },
     "metadata": {},
     "output_type": "display_data"
    },
    {
     "data": {
      "application/vnd.jupyter.widget-view+json": {
       "model_id": "",
       "version_major": 2,
       "version_minor": 0
      },
      "text/plain": [
       "FloatProgress(value=0.0, bar_style='info', description='Progress:', layout=Layout(height='25px', width='50%'),…"
      ]
     },
     "metadata": {},
     "output_type": "display_data"
    }
   ],
   "source": [
    "from pyspark.sql import Window\n",
    "from pyspark.sql.functions import row_number\n",
    " \n",
    "# Create a window specification\n",
    "windowSpec = Window.partitionBy('Job role','Location','mvp_company_name').orderBy(F.desc('count'))\n",
    " \n",
    "# Add a row number column to each partition\n",
    "grp_df10_with_row_num = mvp_df.withColumn('row_num', row_number().over(windowSpec))\n",
    " \n",
    "# Filter to get only the top 10 rows per partition\n",
    "top_20_df = grp_df10_with_row_num.filter(col('row_num') <= 20).drop('row_num')"
   ]
  },
  {
   "cell_type": "code",
   "execution_count": 42,
   "id": "38642dd4-2bd5-42f5-a00b-f162226af8ff",
   "metadata": {
    "execution": {
     "iopub.execute_input": "2024-07-18T10:29:31.037258Z",
     "iopub.status.busy": "2024-07-18T10:29:31.036897Z",
     "iopub.status.idle": "2024-07-18T10:33:16.974999Z",
     "shell.execute_reply": "2024-07-18T10:33:16.973858Z",
     "shell.execute_reply.started": "2024-07-18T10:29:31.037226Z"
    },
    "tags": []
   },
   "outputs": [
    {
     "data": {
      "application/vnd.jupyter.widget-view+json": {
       "model_id": "51ec24d1dd8846bb965775ee31adeb29",
       "version_major": 2,
       "version_minor": 0
      },
      "text/plain": [
       "VBox()"
      ]
     },
     "metadata": {},
     "output_type": "display_data"
    },
    {
     "data": {
      "application/vnd.jupyter.widget-view+json": {
       "model_id": "",
       "version_major": 2,
       "version_minor": 0
      },
      "text/plain": [
       "FloatProgress(value=0.0, bar_style='info', description='Progress:', layout=Layout(height='25px', width='50%'),…"
      ]
     },
     "metadata": {},
     "output_type": "display_data"
    },
    {
     "name": "stdout",
     "output_type": "stream",
     "text": [
      "{'ResponseMetadata': {'RequestId': '24DAAKWNZK5CN3R2', 'HostId': 'Qq8dK0jf4cIO3e9xbuOq1kbsC51M1in86dmY5gNUDG5EjbT9tGAf2De0XPgwBUkZP0PFdLr6C8kcFNsZKpiBpg==', 'HTTPStatusCode': 200, 'HTTPHeaders': {'x-amz-id-2': 'Qq8dK0jf4cIO3e9xbuOq1kbsC51M1in86dmY5gNUDG5EjbT9tGAf2De0XPgwBUkZP0PFdLr6C8kcFNsZKpiBpg==', 'x-amz-request-id': '24DAAKWNZK5CN3R2', 'date': 'Thu, 18 Jul 2024 10:33:17 GMT', 'x-amz-expiration': 'expiry-date=\"Wed, 24 Jul 2024 00:00:00 GMT\", rule-id=\"Delete in temp folder\"', 'x-amz-server-side-encryption': 'AES256', 'etag': '\"8e24727d5ab68e400818de3ddd4f6f05\"', 'server': 'AmazonS3', 'content-length': '0'}, 'RetryAttempts': 1}, 'Expiration': 'expiry-date=\"Wed, 24 Jul 2024 00:00:00 GMT\", rule-id=\"Delete in temp folder\"', 'ETag': '\"8e24727d5ab68e400818de3ddd4f6f05\"', 'ServerSideEncryption': 'AES256'}"
     ]
    }
   ],
   "source": [
    "from io import StringIO # python3; python2: BytesIO import boto3\n",
    "import boto3\n",
    "\n",
    "\n",
    "bucket = 'draup-command-center' # already created on S3\n",
    "csv_buffer = StringIO()\n",
    "\n",
    "res2=top_20_df.toPandas()\n",
    "res2.to_csv(csv_buffer)\n",
    "s3_resource = boto3.resource('s3')\n",
    "s3_resource.Object(bucket, 'temp/cc/Renukumar_Draup/karthika/output/pce_role_msa_MVP_top_20_data_18-07-2024.csv').put(Body=csv_buffer.getvalue())"
   ]
  },
  {
   "cell_type": "code",
   "execution_count": null,
   "id": "50d1cc9d-4bad-4439-b01c-cd313849fc52",
   "metadata": {},
   "outputs": [],
   "source": []
  },
  {
   "cell_type": "markdown",
   "id": "28a81c8f-093d-4745-a613-c74e27964845",
   "metadata": {},
   "source": [
    "### GroupBy Role,msa,MVP company, years of experience"
   ]
  },
  {
   "cell_type": "code",
   "execution_count": 34,
   "id": "33275765-0691-4c9c-82e9-6025da3c1f52",
   "metadata": {
    "execution": {
     "iopub.execute_input": "2024-07-18T10:19:40.753108Z",
     "iopub.status.busy": "2024-07-18T10:19:40.752744Z",
     "iopub.status.idle": "2024-07-18T10:19:41.009731Z",
     "shell.execute_reply": "2024-07-18T10:19:41.008697Z",
     "shell.execute_reply.started": "2024-07-18T10:19:40.753077Z"
    },
    "tags": []
   },
   "outputs": [
    {
     "data": {
      "application/vnd.jupyter.widget-view+json": {
       "model_id": "539a499f72ad437f8aa4f3cd520a805d",
       "version_major": 2,
       "version_minor": 0
      },
      "text/plain": [
       "VBox()"
      ]
     },
     "metadata": {},
     "output_type": "display_data"
    },
    {
     "data": {
      "application/vnd.jupyter.widget-view+json": {
       "model_id": "",
       "version_major": 2,
       "version_minor": 0
      },
      "text/plain": [
       "FloatProgress(value=0.0, bar_style='info', description='Progress:', layout=Layout(height='25px', width='50%'),…"
      ]
     },
     "metadata": {},
     "output_type": "display_data"
    }
   ],
   "source": [
    "expr_df = role_df_tag.groupBy('Job role','Location','mvp_company_name','years_of_experience').count().orderBy('count',ascending = False)\n",
    "                     "
   ]
  },
  {
   "cell_type": "code",
   "execution_count": 35,
   "id": "aa981116-223a-452a-b21d-bdbe055cd68c",
   "metadata": {
    "execution": {
     "iopub.execute_input": "2024-07-18T10:19:45.415276Z",
     "iopub.status.busy": "2024-07-18T10:19:45.414917Z",
     "iopub.status.idle": "2024-07-18T10:19:45.680110Z",
     "shell.execute_reply": "2024-07-18T10:19:45.678668Z",
     "shell.execute_reply.started": "2024-07-18T10:19:45.415244Z"
    },
    "tags": []
   },
   "outputs": [
    {
     "data": {
      "application/vnd.jupyter.widget-view+json": {
       "model_id": "968984be3f5f4f66a692afed7efc5dbc",
       "version_major": 2,
       "version_minor": 0
      },
      "text/plain": [
       "VBox()"
      ]
     },
     "metadata": {},
     "output_type": "display_data"
    },
    {
     "data": {
      "application/vnd.jupyter.widget-view+json": {
       "model_id": "",
       "version_major": 2,
       "version_minor": 0
      },
      "text/plain": [
       "FloatProgress(value=0.0, bar_style='info', description='Progress:', layout=Layout(height='25px', width='50%'),…"
      ]
     },
     "metadata": {},
     "output_type": "display_data"
    }
   ],
   "source": [
    "from pyspark.sql import Window\n",
    "from pyspark.sql.functions import row_number\n",
    " \n",
    "# Create a window specification\n",
    "windowSpec = Window.partitionBy('Job role','Location','mvp_company_name','years_of_experience').orderBy(F.desc('count'))\n",
    " \n",
    "# Add a row number column to each partition\n",
    "grp_df10_with_row_num = expr_df.withColumn('row_num', row_number().over(windowSpec))\n",
    " \n",
    "# Filter to get only the top 10 rows per partition\n",
    "top_20_df1 = grp_df10_with_row_num.filter(col('row_num') > 20).drop('row_num')"
   ]
  },
  {
   "cell_type": "code",
   "execution_count": null,
   "id": "0414e58c-97a3-4616-8119-691583321028",
   "metadata": {},
   "outputs": [],
   "source": []
  },
  {
   "cell_type": "code",
   "execution_count": 36,
   "id": "86e0cfcc-915e-4a54-aa02-8f882889fb5a",
   "metadata": {
    "execution": {
     "iopub.execute_input": "2024-07-18T10:19:52.272849Z",
     "iopub.status.busy": "2024-07-18T10:19:52.272496Z",
     "iopub.status.idle": "2024-07-18T10:20:55.010008Z",
     "shell.execute_reply": "2024-07-18T10:20:55.008392Z",
     "shell.execute_reply.started": "2024-07-18T10:19:52.272818Z"
    },
    "tags": []
   },
   "outputs": [
    {
     "data": {
      "application/vnd.jupyter.widget-view+json": {
       "model_id": "2297c052977d48d988b03ba58f9f55f6",
       "version_major": 2,
       "version_minor": 0
      },
      "text/plain": [
       "VBox()"
      ]
     },
     "metadata": {},
     "output_type": "display_data"
    },
    {
     "data": {
      "application/vnd.jupyter.widget-view+json": {
       "model_id": "a807325c838b4947a4b7fc3c2a7c345a",
       "version_major": 2,
       "version_minor": 0
      },
      "text/plain": [
       "FloatProgress(value=0.0, bar_style='info', description='Progress:', layout=Layout(height='25px', width='50%'),…"
      ]
     },
     "metadata": {},
     "output_type": "display_data"
    },
    {
     "name": "stderr",
     "output_type": "stream",
     "text": [
      "Interrupted by user\n"
     ]
    }
   ],
   "source": [
    "from io import StringIO # python3; python2: BytesIO import boto3\n",
    "import boto3\n",
    "\n",
    "\n",
    "bucket = 'draup-command-center' # already created on S3\n",
    "csv_buffer = StringIO()\n",
    "\n",
    "res2=top_20_df1.toPandas()\n",
    "res2.to_csv(csv_buffer)\n",
    "s3_resource = boto3.resource('s3')\n",
    "s3_resource.Object(bucket, 'temp/cc/Renukumar_Draup/karthika/output/pce_role_msa_MVP_yearExprience_top_20_data_18-07-2024.csv').put(Body=csv_buffer.getvalue())"
   ]
  },
  {
   "cell_type": "code",
   "execution_count": null,
   "id": "1f72b9ba-a3f2-4495-9484-4c6215fae7a9",
   "metadata": {},
   "outputs": [],
   "source": []
  },
  {
   "cell_type": "code",
   "execution_count": null,
   "id": "0cd5e384-f77e-4841-ad15-b8f741b9e32c",
   "metadata": {},
   "outputs": [],
   "source": []
  }
 ],
 "metadata": {
  "kernelspec": {
   "display_name": "PySpark",
   "language": "python",
   "name": "pysparkkernel"
  },
  "language_info": {
   "codemirror_mode": {
    "name": "python",
    "version": 3
   },
   "file_extension": ".py",
   "mimetype": "text/x-python",
   "name": "pyspark",
   "pygments_lexer": "python3"
  }
 },
 "nbformat": 4,
 "nbformat_minor": 5
}
