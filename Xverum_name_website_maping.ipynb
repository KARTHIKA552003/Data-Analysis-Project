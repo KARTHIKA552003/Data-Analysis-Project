{
 "cells": [
  {
   "cell_type": "code",
   "execution_count": 1,
   "id": "4b3d3e05-d9fc-4151-b594-a1e79221c29a",
   "metadata": {
    "execution": {
     "iopub.execute_input": "2024-05-31T04:02:44.111332Z",
     "iopub.status.busy": "2024-05-31T04:02:44.110904Z",
     "iopub.status.idle": "2024-05-31T04:03:20.782172Z",
     "shell.execute_reply": "2024-05-31T04:03:20.781189Z",
     "shell.execute_reply.started": "2024-05-31T04:02:44.111298Z"
    },
    "tags": []
   },
   "outputs": [
    {
     "data": {
      "application/vnd.jupyter.widget-view+json": {
       "model_id": "5c94ca411ed048c497698ddef0c7c7ee",
       "version_major": 2,
       "version_minor": 0
      },
      "text/plain": [
       "VBox()"
      ]
     },
     "metadata": {},
     "output_type": "display_data"
    },
    {
     "name": "stdout",
     "output_type": "stream",
     "text": [
      "Starting Spark application\n"
     ]
    },
    {
     "data": {
      "text/html": [
       "<table>\n<tbody><tr><th>ID</th><th>YARN Application ID</th><th>Kind</th><th>State</th><th>Spark UI</th><th>Driver log</th><th>User</th><th>Current session?</th></tr><tr><td>9</td><td>application_1717118893495_0011</td><td>pyspark</td><td>idle</td><td><a target=\"_blank\" href=\"http://ip-172-22-10-180.us-east-2.compute.internal:20888/proxy/application_1717118893495_0011/\" class=\"emr-proxy-link j-2P5ENHIVVTREA application_1717118893495_0011\" emr-resource=\"j-2P5ENHIVVTREA\n\" application-id=\"application_1717118893495_0011\">Link</a></td><td><a target=\"_blank\" href=\"http://ip-172-22-10-27.us-east-2.compute.internal:8042/node/containerlogs/container_1717118893495_0011_01_000001/user_n-renukumar_rajendran_draup_com\">Link</a></td><td>user_n-renukumar_rajendran_draup_com</td><td>✔</td></tr></tbody></table>"
      ],
      "text/plain": [
       "<IPython.core.display.HTML object>"
      ]
     },
     "metadata": {},
     "output_type": "display_data"
    },
    {
     "data": {
      "application/vnd.jupyter.widget-view+json": {
       "model_id": "",
       "version_major": 2,
       "version_minor": 0
      },
      "text/plain": [
       "FloatProgress(value=0.0, bar_style='info', description='Progress:', layout=Layout(height='25px', width='50%'),…"
      ]
     },
     "metadata": {},
     "output_type": "display_data"
    },
    {
     "name": "stdout",
     "output_type": "stream",
     "text": [
      "SparkSession available as 'spark'.\n"
     ]
    },
    {
     "data": {
      "application/vnd.jupyter.widget-view+json": {
       "model_id": "",
       "version_major": 2,
       "version_minor": 0
      },
      "text/plain": [
       "FloatProgress(value=0.0, bar_style='info', description='Progress:', layout=Layout(height='25px', width='50%'),…"
      ]
     },
     "metadata": {},
     "output_type": "display_data"
    }
   ],
   "source": [
    "#start"
   ]
  },
  {
   "cell_type": "code",
   "execution_count": 2,
   "id": "a866f6e1-460d-4ade-9af7-ad1dfb569315",
   "metadata": {
    "execution": {
     "iopub.execute_input": "2024-05-31T04:03:20.783926Z",
     "iopub.status.busy": "2024-05-31T04:03:20.783638Z",
     "iopub.status.idle": "2024-05-31T04:03:28.082298Z",
     "shell.execute_reply": "2024-05-31T04:03:28.081215Z",
     "shell.execute_reply.started": "2024-05-31T04:03:20.783896Z"
    },
    "tags": []
   },
   "outputs": [
    {
     "data": {
      "application/vnd.jupyter.widget-view+json": {
       "model_id": "a6276934faae4e18a9ffb2751f3d21fd",
       "version_major": 2,
       "version_minor": 0
      },
      "text/plain": [
       "VBox()"
      ]
     },
     "metadata": {},
     "output_type": "display_data"
    },
    {
     "data": {
      "application/vnd.jupyter.widget-view+json": {
       "model_id": "",
       "version_major": 2,
       "version_minor": 0
      },
      "text/plain": [
       "FloatProgress(value=0.0, bar_style='info', description='Progress:', layout=Layout(height='25px', width='50%'),…"
      ]
     },
     "metadata": {},
     "output_type": "display_data"
    },
    {
     "name": "stdout",
     "output_type": "stream",
     "text": [
      "404\n",
      "404\n",
      "/usr/local/lib/python3.7/site-packages/urllib3/connectionpool.py:1068: InsecureRequestWarning: Unverified HTTPS request is being made to host 'gateway.draup.com'. Adding certificate verification is strongly advised. See: https://urllib3.readthedocs.io/en/1.26.x/advanced-usage.html#ssl-warnings\n",
      "  InsecureRequestWarning,\n",
      "/usr/local/lib/python3.7/site-packages/urllib3/connectionpool.py:1068: InsecureRequestWarning: Unverified HTTPS request is being made to host 'gateway.draup.com'. Adding certificate verification is strongly advised. See: https://urllib3.readthedocs.io/en/1.26.x/advanced-usage.html#ssl-warnings\n",
      "  InsecureRequestWarning,"
     ]
    }
   ],
   "source": [
    "sc.addPyFile(\"s3://jobs-emr-etl-config/jobs_run/prod/cc/ML_ETL_Config.py\")\n",
    "from ML_ETL_Config import *\n",
    "utils_module = MlEtlUtils(spark, sc)\n",
    "to_import = [name for name in dir(utils_module) if not (name.startswith('_') | (name==\"spark\") | (name==\"sc\"))]\n",
    "globals().update({name: getattr(utils_module, name) for name in to_import})\n",
    "from pyspark.sql.functions import *"
   ]
  },
  {
   "cell_type": "code",
   "execution_count": 3,
   "id": "39231564-7ab3-4f23-8eb9-cc6ccf6a6333",
   "metadata": {
    "execution": {
     "iopub.execute_input": "2024-05-31T04:03:28.084721Z",
     "iopub.status.busy": "2024-05-31T04:03:28.084357Z",
     "iopub.status.idle": "2024-05-31T04:03:28.138024Z",
     "shell.execute_reply": "2024-05-31T04:03:28.136976Z",
     "shell.execute_reply.started": "2024-05-31T04:03:28.084689Z"
    },
    "tags": []
   },
   "outputs": [
    {
     "data": {
      "application/vnd.jupyter.widget-view+json": {
       "model_id": "dd2a89c5296e4467be707c697326f9ac",
       "version_major": 2,
       "version_minor": 0
      },
      "text/plain": [
       "VBox()"
      ]
     },
     "metadata": {},
     "output_type": "display_data"
    },
    {
     "data": {
      "application/vnd.jupyter.widget-view+json": {
       "model_id": "",
       "version_major": 2,
       "version_minor": 0
      },
      "text/plain": [
       "FloatProgress(value=0.0, bar_style='info', description='Progress:', layout=Layout(height='25px', width='50%'),…"
      ]
     },
     "metadata": {},
     "output_type": "display_data"
    }
   ],
   "source": [
    "#sc.install_pypi_package(\"tldextract\")"
   ]
  },
  {
   "cell_type": "markdown",
   "id": "cb1a2896-fdb8-420c-b05a-ca54d5863dd0",
   "metadata": {
    "execution": {
     "iopub.execute_input": "2024-05-29T08:48:37.422781Z",
     "iopub.status.busy": "2024-05-29T08:48:37.422424Z",
     "iopub.status.idle": "2024-05-29T08:48:37.475413Z",
     "shell.execute_reply": "2024-05-29T08:48:37.474361Z",
     "shell.execute_reply.started": "2024-05-29T08:48:37.422749Z"
    },
    "tags": []
   },
   "source": [
    "\n"
   ]
  },
  {
   "cell_type": "code",
   "execution_count": 4,
   "id": "9439e998-a411-4a7f-837f-e46a9a1a7128",
   "metadata": {
    "execution": {
     "iopub.execute_input": "2024-05-31T04:03:28.139886Z",
     "iopub.status.busy": "2024-05-31T04:03:28.139489Z",
     "iopub.status.idle": "2024-05-31T04:03:28.194811Z",
     "shell.execute_reply": "2024-05-31T04:03:28.193687Z",
     "shell.execute_reply.started": "2024-05-31T04:03:28.139824Z"
    },
    "tags": []
   },
   "outputs": [
    {
     "data": {
      "application/vnd.jupyter.widget-view+json": {
       "model_id": "4a3c0b0537634dbd87f45d081daf1a13",
       "version_major": 2,
       "version_minor": 0
      },
      "text/plain": [
       "VBox()"
      ]
     },
     "metadata": {},
     "output_type": "display_data"
    },
    {
     "data": {
      "application/vnd.jupyter.widget-view+json": {
       "model_id": "",
       "version_major": 2,
       "version_minor": 0
      },
      "text/plain": [
       "FloatProgress(value=0.0, bar_style='info', description='Progress:', layout=Layout(height='25px', width='50%'),…"
      ]
     },
     "metadata": {},
     "output_type": "display_data"
    }
   ],
   "source": [
    "#import tldextract\n",
    "import re\n",
    "import string"
   ]
  },
  {
   "cell_type": "code",
   "execution_count": 5,
   "id": "ffc2484c-3a22-4bbd-be03-44a288ac8b5d",
   "metadata": {
    "execution": {
     "iopub.execute_input": "2024-05-31T04:03:28.196890Z",
     "iopub.status.busy": "2024-05-31T04:03:28.196383Z",
     "iopub.status.idle": "2024-05-31T04:03:47.554507Z",
     "shell.execute_reply": "2024-05-31T04:03:47.553461Z",
     "shell.execute_reply.started": "2024-05-31T04:03:28.196850Z"
    },
    "tags": []
   },
   "outputs": [
    {
     "data": {
      "application/vnd.jupyter.widget-view+json": {
       "model_id": "99fb8387d2f241ab9aa676376647c715",
       "version_major": 2,
       "version_minor": 0
      },
      "text/plain": [
       "VBox()"
      ]
     },
     "metadata": {},
     "output_type": "display_data"
    },
    {
     "data": {
      "application/vnd.jupyter.widget-view+json": {
       "model_id": "",
       "version_major": 2,
       "version_minor": 0
      },
      "text/plain": [
       "FloatProgress(value=0.0, bar_style='info', description='Progress:', layout=Layout(height='25px', width='50%'),…"
      ]
     },
     "metadata": {},
     "output_type": "display_data"
    }
   ],
   "source": [
    "linkedin=spark.read.format('delta').load('s3://etl-datahouse/prod/dcd/xverum/delta/').selectExpr('account_name as linkedin_Name','social_url as Linkedin_link','website as Linkedin_website','permalink','industry','headquarter','about','company_size','employee_count','year_established','logo_url','account_type','date_updated')"
   ]
  },
  {
   "cell_type": "code",
   "execution_count": 6,
   "id": "4134f6bc-e30e-41ef-a3f1-6da625e1b497",
   "metadata": {
    "execution": {
     "iopub.execute_input": "2024-05-31T04:03:47.556084Z",
     "iopub.status.busy": "2024-05-31T04:03:47.555782Z",
     "iopub.status.idle": "2024-05-31T04:03:56.855824Z",
     "shell.execute_reply": "2024-05-31T04:03:56.854873Z",
     "shell.execute_reply.started": "2024-05-31T04:03:47.556053Z"
    },
    "tags": []
   },
   "outputs": [
    {
     "data": {
      "application/vnd.jupyter.widget-view+json": {
       "model_id": "19ecca0f4bf141529d8aa2c79f7a568a",
       "version_major": 2,
       "version_minor": 0
      },
      "text/plain": [
       "VBox()"
      ]
     },
     "metadata": {},
     "output_type": "display_data"
    },
    {
     "data": {
      "application/vnd.jupyter.widget-view+json": {
       "model_id": "",
       "version_major": 2,
       "version_minor": 0
      },
      "text/plain": [
       "FloatProgress(value=0.0, bar_style='info', description='Progress:', layout=Layout(height='25px', width='50%'),…"
      ]
     },
     "metadata": {},
     "output_type": "display_data"
    },
    {
     "name": "stdout",
     "output_type": "stream",
     "text": [
      "49108470"
     ]
    }
   ],
   "source": [
    "linkedin.count()"
   ]
  },
  {
   "cell_type": "code",
   "execution_count": 8,
   "id": "3c517e1d-c358-4ef9-afdb-654eaf0c1668",
   "metadata": {
    "execution": {
     "iopub.execute_input": "2024-05-30T08:57:05.652425Z",
     "iopub.status.busy": "2024-05-30T08:57:05.652087Z",
     "iopub.status.idle": "2024-05-30T08:57:05.911267Z",
     "shell.execute_reply": "2024-05-30T08:57:05.910127Z",
     "shell.execute_reply.started": "2024-05-30T08:57:05.652393Z"
    },
    "tags": []
   },
   "outputs": [
    {
     "data": {
      "application/vnd.jupyter.widget-view+json": {
       "model_id": "5e03c7ebfa9f4ff09215e9918e5f2fae",
       "version_major": 2,
       "version_minor": 0
      },
      "text/plain": [
       "VBox()"
      ]
     },
     "metadata": {},
     "output_type": "display_data"
    },
    {
     "data": {
      "application/vnd.jupyter.widget-view+json": {
       "model_id": "",
       "version_major": 2,
       "version_minor": 0
      },
      "text/plain": [
       "FloatProgress(value=0.0, bar_style='info', description='Progress:', layout=Layout(height='25px', width='50%'),…"
      ]
     },
     "metadata": {},
     "output_type": "display_data"
    },
    {
     "name": "stdout",
     "output_type": "stream",
     "text": [
      "root\n",
      " |-- linkedin_Name: string (nullable = true)\n",
      " |-- Linkedin_link: string (nullable = true)\n",
      " |-- Linkedin_website: string (nullable = true)\n",
      " |-- permalink: string (nullable = true)\n",
      " |-- industry: array (nullable = true)\n",
      " |    |-- element: string (containsNull = true)\n",
      " |-- headquarter: string (nullable = true)\n",
      " |-- about: string (nullable = true)\n",
      " |-- company_size: string (nullable = true)\n",
      " |-- employee_count: long (nullable = true)\n",
      " |-- year_established: string (nullable = true)\n",
      " |-- logo_url: string (nullable = true)\n",
      " |-- account_type: string (nullable = true)\n",
      " |-- date_updated: string (nullable = true)"
     ]
    }
   ],
   "source": [
    "linkedin.printSchema()"
   ]
  },
  {
   "cell_type": "code",
   "execution_count": 7,
   "id": "b0520e18-bf1f-426c-81c6-4eb39a1bbd14",
   "metadata": {
    "execution": {
     "iopub.execute_input": "2024-05-31T04:03:56.858082Z",
     "iopub.status.busy": "2024-05-31T04:03:56.857766Z",
     "iopub.status.idle": "2024-05-31T04:03:57.119161Z",
     "shell.execute_reply": "2024-05-31T04:03:57.118069Z",
     "shell.execute_reply.started": "2024-05-31T04:03:56.858052Z"
    },
    "tags": []
   },
   "outputs": [
    {
     "data": {
      "application/vnd.jupyter.widget-view+json": {
       "model_id": "9fc9b1dcda61415db740a611d5313720",
       "version_major": 2,
       "version_minor": 0
      },
      "text/plain": [
       "VBox()"
      ]
     },
     "metadata": {},
     "output_type": "display_data"
    },
    {
     "data": {
      "application/vnd.jupyter.widget-view+json": {
       "model_id": "",
       "version_major": 2,
       "version_minor": 0
      },
      "text/plain": [
       "FloatProgress(value=0.0, bar_style='info', description='Progress:', layout=Layout(height='25px', width='50%'),…"
      ]
     },
     "metadata": {},
     "output_type": "display_data"
    }
   ],
   "source": [
    "df1=linkedin.withColumn('linkedin_lower_name',lower(col('linkedin_Name')))"
   ]
  },
  {
   "cell_type": "code",
   "execution_count": 8,
   "id": "b6e45304-f7e2-4242-be0a-e84d3651bbe5",
   "metadata": {
    "execution": {
     "iopub.execute_input": "2024-05-31T04:03:57.121121Z",
     "iopub.status.busy": "2024-05-31T04:03:57.120800Z",
     "iopub.status.idle": "2024-05-31T04:03:57.989934Z",
     "shell.execute_reply": "2024-05-31T04:03:57.988766Z",
     "shell.execute_reply.started": "2024-05-31T04:03:57.121090Z"
    },
    "tags": []
   },
   "outputs": [
    {
     "data": {
      "application/vnd.jupyter.widget-view+json": {
       "model_id": "abffc183e48644979a0f84ffbcd39be4",
       "version_major": 2,
       "version_minor": 0
      },
      "text/plain": [
       "VBox()"
      ]
     },
     "metadata": {},
     "output_type": "display_data"
    },
    {
     "data": {
      "application/vnd.jupyter.widget-view+json": {
       "model_id": "",
       "version_major": 2,
       "version_minor": 0
      },
      "text/plain": [
       "FloatProgress(value=0.0, bar_style='info', description='Progress:', layout=Layout(height='25px', width='50%'),…"
      ]
     },
     "metadata": {},
     "output_type": "display_data"
    },
    {
     "name": "stdout",
     "output_type": "stream",
     "text": [
      "+------------------------------------------------------------------------------------------+\n",
      "|Linkedin_website                                                                          |\n",
      "+------------------------------------------------------------------------------------------+\n",
      "|https://www.abetterwaytherapy.com/                                                        |\n",
      "|https://www.facebook.com/pages/biz/beauty_salon-leusden-3831%20HN/T-begin-344504566037640/|\n",
      "|http://werkstatt-essingen.de                                                              |\n",
      "|null                                                                                      |\n",
      "|null                                                                                      |\n",
      "|http://10xceocoaching.com                                                                 |\n",
      "|null                                                                                      |\n",
      "|http://www.100rota.pt                                                                     |\n",
      "|null                                                                                      |\n",
      "|http://19rivoli.com                                                                       |\n",
      "|null                                                                                      |\n",
      "|null                                                                                      |\n",
      "|http://www.1876heritageinn.com/                                                           |\n",
      "|null                                                                                      |\n",
      "|http://cap.2-b.one                                                                        |\n",
      "|null                                                                                      |\n",
      "|http://1stwendoverscouts.co.uk                                                            |\n",
      "|null                                                                                      |\n",
      "|http://www.kondasoft.com                                                                  |\n",
      "|null                                                                                      |\n",
      "+------------------------------------------------------------------------------------------+\n",
      "only showing top 20 rows"
     ]
    }
   ],
   "source": [
    "linkedin[[\"Linkedin_website\"]].show(truncate = False)"
   ]
  },
  {
   "cell_type": "markdown",
   "id": "f68a27ca-1d47-431e-8c88-e7a1f736fb18",
   "metadata": {
    "tags": []
   },
   "source": [
    "# Clean Name"
   ]
  },
  {
   "cell_type": "code",
   "execution_count": 9,
   "id": "db35d65c-a99a-4987-a8e0-172f689dead8",
   "metadata": {
    "execution": {
     "iopub.execute_input": "2024-05-31T04:04:05.281875Z",
     "iopub.status.busy": "2024-05-31T04:04:05.281372Z",
     "iopub.status.idle": "2024-05-31T04:04:05.349449Z",
     "shell.execute_reply": "2024-05-31T04:04:05.348288Z",
     "shell.execute_reply.started": "2024-05-31T04:04:05.281831Z"
    },
    "tags": []
   },
   "outputs": [
    {
     "data": {
      "application/vnd.jupyter.widget-view+json": {
       "model_id": "a54f86df3c174dff8729dfd8075a971a",
       "version_major": 2,
       "version_minor": 0
      },
      "text/plain": [
       "VBox()"
      ]
     },
     "metadata": {},
     "output_type": "display_data"
    },
    {
     "data": {
      "application/vnd.jupyter.widget-view+json": {
       "model_id": "",
       "version_major": 2,
       "version_minor": 0
      },
      "text/plain": [
       "FloatProgress(value=0.0, bar_style='info', description='Progress:', layout=Layout(height='25px', width='50%'),…"
      ]
     },
     "metadata": {},
     "output_type": "display_data"
    }
   ],
   "source": [
    "#name clean\n",
    "def clean_name(name):\n",
    "    # Remove punctuation characters\n",
    "    name = re.sub(f\"[{re.escape(string.punctuation)}]\", '', name)\n",
    "    # Remove leading and trailing spaces\n",
    "    name = name.strip()\n",
    "    return name"
   ]
  },
  {
   "cell_type": "code",
   "execution_count": 10,
   "id": "627c9dd3-09e3-46b3-8c87-34221a2655bc",
   "metadata": {
    "execution": {
     "iopub.execute_input": "2024-05-31T04:04:08.984628Z",
     "iopub.status.busy": "2024-05-31T04:04:08.984271Z",
     "iopub.status.idle": "2024-05-31T04:04:09.243227Z",
     "shell.execute_reply": "2024-05-31T04:04:09.242278Z",
     "shell.execute_reply.started": "2024-05-31T04:04:08.984596Z"
    },
    "tags": []
   },
   "outputs": [
    {
     "data": {
      "application/vnd.jupyter.widget-view+json": {
       "model_id": "60caf7481b8843229c6f25d63691d6c4",
       "version_major": 2,
       "version_minor": 0
      },
      "text/plain": [
       "VBox()"
      ]
     },
     "metadata": {},
     "output_type": "display_data"
    },
    {
     "data": {
      "application/vnd.jupyter.widget-view+json": {
       "model_id": "",
       "version_major": 2,
       "version_minor": 0
      },
      "text/plain": [
       "FloatProgress(value=0.0, bar_style='info', description='Progress:', layout=Layout(height='25px', width='50%'),…"
      ]
     },
     "metadata": {},
     "output_type": "display_data"
    }
   ],
   "source": [
    "clean_name_udf = udf(clean_name, StringType())\n",
    "df2 = df1.withColumn(\"clean_name\",clean_name_udf(df1[\"linkedin_lower_name\"])).drop('linkedin_lower_name')"
   ]
  },
  {
   "cell_type": "code",
   "execution_count": 11,
   "id": "1dfbcfed-cc8e-4d2b-8125-3cf419fa73de",
   "metadata": {
    "execution": {
     "iopub.execute_input": "2024-05-31T04:04:12.671585Z",
     "iopub.status.busy": "2024-05-31T04:04:12.671228Z",
     "iopub.status.idle": "2024-05-31T04:04:17.955503Z",
     "shell.execute_reply": "2024-05-31T04:04:17.954581Z",
     "shell.execute_reply.started": "2024-05-31T04:04:12.671554Z"
    },
    "tags": []
   },
   "outputs": [
    {
     "data": {
      "application/vnd.jupyter.widget-view+json": {
       "model_id": "98aacec7178f45a68f68750ed6658257",
       "version_major": 2,
       "version_minor": 0
      },
      "text/plain": [
       "VBox()"
      ]
     },
     "metadata": {},
     "output_type": "display_data"
    },
    {
     "data": {
      "application/vnd.jupyter.widget-view+json": {
       "model_id": "",
       "version_major": 2,
       "version_minor": 0
      },
      "text/plain": [
       "FloatProgress(value=0.0, bar_style='info', description='Progress:', layout=Layout(height='25px', width='50%'),…"
      ]
     },
     "metadata": {},
     "output_type": "display_data"
    },
    {
     "name": "stdout",
     "output_type": "stream",
     "text": [
      "+-----------------------------------------+\n",
      "|clean_name                               |\n",
      "+-----------------------------------------+\n",
      "|a better way therapy                     |\n",
      "|t begin                                  |\n",
      "|diewerkstatt kunst und kurse             |\n",
      "|consiglio daniel headley anna            |\n",
      "|10 north walnut inc                      |\n",
      "|10x ceo coaching llc                     |\n",
      "|1 third avenue management company limited|\n",
      "|100 rota                                 |\n",
      "|101 realty group inc                     |\n",
      "|19 rivoli                                |\n",
      "|1four1 payroll 023 ltd                   |\n",
      "|18 queens road residents limited         |\n",
      "|1876 heritage inn                        |\n",
      "|1896 homestead                           |\n",
      "|2 business one                           |\n",
      "|1st class transporting llc               |\n",
      "|1st wendover scouts                      |\n",
      "|1d accounts ltd                          |\n",
      "|shopify plus experts                     |\n",
      "|1st service uk process servers limited   |\n",
      "+-----------------------------------------+\n",
      "only showing top 20 rows"
     ]
    }
   ],
   "source": [
    "df2[[\"clean_name\"]].show(truncate = False)"
   ]
  },
  {
   "cell_type": "code",
   "execution_count": 12,
   "id": "bad8963e-8a40-4138-b8b8-23ba0b4ac9c4",
   "metadata": {
    "execution": {
     "iopub.execute_input": "2024-05-31T04:04:21.965409Z",
     "iopub.status.busy": "2024-05-31T04:04:21.965048Z",
     "iopub.status.idle": "2024-05-31T04:04:22.222918Z",
     "shell.execute_reply": "2024-05-31T04:04:22.221986Z",
     "shell.execute_reply.started": "2024-05-31T04:04:21.965377Z"
    },
    "tags": []
   },
   "outputs": [
    {
     "data": {
      "application/vnd.jupyter.widget-view+json": {
       "model_id": "1e83d2a9da574ed9a55a46048de33c64",
       "version_major": 2,
       "version_minor": 0
      },
      "text/plain": [
       "VBox()"
      ]
     },
     "metadata": {},
     "output_type": "display_data"
    },
    {
     "data": {
      "application/vnd.jupyter.widget-view+json": {
       "model_id": "",
       "version_major": 2,
       "version_minor": 0
      },
      "text/plain": [
       "FloatProgress(value=0.0, bar_style='info', description='Progress:', layout=Layout(height='25px', width='50%'),…"
      ]
     },
     "metadata": {},
     "output_type": "display_data"
    }
   ],
   "source": [
    "from pyspark.sql.functions import udf\n",
    "from pyspark.sql.types import StringType\n",
    "import re\n",
    "\n",
    "\n",
    "def generalize_company_name(name):\n",
    "    name = str(name).lower()\n",
    "    name = re.sub(r'\\([^)]*\\)', '', name)\n",
    "    # end_char = r'[^\\w\\s]+$'\n",
    "    name = re.sub(r'[^\\w\\s]+$', '', name)\n",
    "    # ms_pattern = r'^m/s[^\\w\\s]*\\s*'\n",
    "    name = re.sub(r'^m/s[^\\w\\s]*\\s*', '', name)\n",
    "    name = re.sub(' +', ' ', name)\n",
    "    name = name.strip()\n",
    "    common_terms = [\n",
    "        'PRIVATE.', 'PVT.', 'PVT. LTD.', 'PVT. LTD', 'CO.', 'CORPORATION',\n",
    "        'CORP', 'INC.', 'INC', 'LLC', 'LLLP.', 'LIMITED LIABILITY', 'L.L.C.',\n",
    "        'L.L.P.', 'L.P.', 'L.L.L.P.', 'L.L.L.P', 'LTD.', 'LIMITED.',\n",
    "        'PRIVATE LIMITED.', 'PVT LTD.', 'PVT. LTD.', 'PVT. LTD', 'INDIA.',\n",
    "        'PRIVATE', 'PVT', 'LTD', 'LIMITED', 'PRIVATE LIMITED', 'PVT LTD', 'CO',\n",
    "        'LLP', 'LP', 'LLLP', '&', '\\.', '\\(\\)', '(P)', 'Corporates', 'Corporate'\n",
    "        'SOLUTIONS', 'SOLUTION', 'P.', 'P', '\\.', 'india.', 'india',\n",
    "        'Liabili Ty', 'Servic Es', 'Limi Ted', 'Private.Limited.', 'Limted',\n",
    "        'Lim Ited', 'Lmited', 'Limted', 'L Imited', 'Liability', 'L iability',\n",
    "        'Li ability', 'Lia bility', 'Liab ility', 'Liabi lity', 'Liabil ity',\n",
    "        'Liabilit y', 'L imited', 'Lim ited', 'Limit ed', 'Limite d',\n",
    "        'Services', 'Service', 'PARTNERSHIPS', 'PARTNERSHIP', 'TECHNOLOGIES',\n",
    "        'GROUP', 'TECHNOLOGIE', 'TECHNOLOGY', 'Infotech'\n",
    "    ]\n",
    "    for term in common_terms:\n",
    "        og_name = name\n",
    "        name = re.sub(rf'(?i)\\s{term}$', '', name, flags=re.IGNORECASE).strip()\n",
    "        if og_name != name:\n",
    "            name = generalize_company_name(name)\n",
    "\n",
    "    name = re.sub(' +', ' ', name).replace(\" \",\"\")\n",
    "    return name\n",
    "\n",
    "\n",
    "# Register the UDF with Spark\n",
    "clean_name_udf = udf(generalize_company_name, StringType())\n",
    "\n",
    "df3 = df2.withColumn('cleaned_name', clean_name_udf(df2['clean_name'])).drop('clean_name')"
   ]
  },
  {
   "cell_type": "code",
   "execution_count": 13,
   "id": "e79a1245-5161-4e31-b2bd-57a5c19d27d1",
   "metadata": {
    "execution": {
     "iopub.execute_input": "2024-05-31T04:04:25.410760Z",
     "iopub.status.busy": "2024-05-31T04:04:25.410399Z",
     "iopub.status.idle": "2024-05-31T04:04:32.702374Z",
     "shell.execute_reply": "2024-05-31T04:04:32.701403Z",
     "shell.execute_reply.started": "2024-05-31T04:04:25.410728Z"
    },
    "tags": []
   },
   "outputs": [
    {
     "data": {
      "application/vnd.jupyter.widget-view+json": {
       "model_id": "0d8824964ebf457eac6d48ad28a35f50",
       "version_major": 2,
       "version_minor": 0
      },
      "text/plain": [
       "VBox()"
      ]
     },
     "metadata": {},
     "output_type": "display_data"
    },
    {
     "data": {
      "application/vnd.jupyter.widget-view+json": {
       "model_id": "",
       "version_major": 2,
       "version_minor": 0
      },
      "text/plain": [
       "FloatProgress(value=0.0, bar_style='info', description='Progress:', layout=Layout(height='25px', width='50%'),…"
      ]
     },
     "metadata": {},
     "output_type": "display_data"
    },
    {
     "name": "stdout",
     "output_type": "stream",
     "text": [
      "+-----------------------------+\n",
      "|cleaned_name                 |\n",
      "+-----------------------------+\n",
      "|abetterwaytherapy            |\n",
      "|tbegin                       |\n",
      "|diewerkstattkunstundkurse    |\n",
      "|consigliodanielheadleyanna   |\n",
      "|10northwalnut                |\n",
      "|10xceocoaching               |\n",
      "|1thirdavenuemanagementcompany|\n",
      "|100rota                      |\n",
      "|101realty                    |\n",
      "|19rivoli                     |\n",
      "|1four1payroll023             |\n",
      "|18queensroadresidents        |\n",
      "|1876heritageinn              |\n",
      "|1896homestead                |\n",
      "|2businessone                 |\n",
      "|1stclasstransporting         |\n",
      "|1stwendoverscouts            |\n",
      "|1daccounts                   |\n",
      "|shopifyplusexperts           |\n",
      "|1stserviceukprocessservers   |\n",
      "+-----------------------------+\n",
      "only showing top 20 rows"
     ]
    }
   ],
   "source": [
    "df3[[\"cleaned_name\"]].show(truncate = False)"
   ]
  },
  {
   "cell_type": "code",
   "execution_count": null,
   "id": "656d2389-5820-4609-a5f6-70eaa927bd93",
   "metadata": {
    "tags": []
   },
   "outputs": [],
   "source": []
  },
  {
   "cell_type": "markdown",
   "id": "dce01028-569e-4deb-b44e-d9bb417ee0bb",
   "metadata": {},
   "source": [
    "# Clean website"
   ]
  },
  {
   "cell_type": "code",
   "execution_count": 14,
   "id": "8cde9c33-d279-41e7-a872-a0b60cc55bb7",
   "metadata": {
    "execution": {
     "iopub.execute_input": "2024-05-31T04:04:39.564497Z",
     "iopub.status.busy": "2024-05-31T04:04:39.564132Z",
     "iopub.status.idle": "2024-05-31T04:04:39.627412Z",
     "shell.execute_reply": "2024-05-31T04:04:39.626378Z",
     "shell.execute_reply.started": "2024-05-31T04:04:39.564464Z"
    },
    "tags": []
   },
   "outputs": [
    {
     "data": {
      "application/vnd.jupyter.widget-view+json": {
       "model_id": "c0af50394b2c4da88f71f05ab9f1dd15",
       "version_major": 2,
       "version_minor": 0
      },
      "text/plain": [
       "VBox()"
      ]
     },
     "metadata": {},
     "output_type": "display_data"
    },
    {
     "data": {
      "application/vnd.jupyter.widget-view+json": {
       "model_id": "",
       "version_major": 2,
       "version_minor": 0
      },
      "text/plain": [
       "FloatProgress(value=0.0, bar_style='info', description='Progress:', layout=Layout(height='25px', width='50%'),…"
      ]
     },
     "metadata": {},
     "output_type": "display_data"
    }
   ],
   "source": [
    "def companys(link):\n",
    "    if link:\n",
    "        match = re.search(r\"https?://(?:www\\.)?([^/.]+)\", link)\n",
    "        if match:\n",
    "            return match.group(1)\n",
    "        elif '.com' in link:\n",
    "            return link.split('.com')[0].split('.')[-1]\n",
    "    return None\n"
   ]
  },
  {
   "cell_type": "code",
   "execution_count": 15,
   "id": "ec59632b-510c-4cbb-9fe3-c9d792ec3352",
   "metadata": {
    "execution": {
     "iopub.execute_input": "2024-05-31T04:04:43.014997Z",
     "iopub.status.busy": "2024-05-31T04:04:43.014600Z",
     "iopub.status.idle": "2024-05-31T04:04:43.279414Z",
     "shell.execute_reply": "2024-05-31T04:04:43.278353Z",
     "shell.execute_reply.started": "2024-05-31T04:04:43.014964Z"
    },
    "tags": []
   },
   "outputs": [
    {
     "data": {
      "application/vnd.jupyter.widget-view+json": {
       "model_id": "a0bf8711b1cc4ed8abbcabe8b14bf744",
       "version_major": 2,
       "version_minor": 0
      },
      "text/plain": [
       "VBox()"
      ]
     },
     "metadata": {},
     "output_type": "display_data"
    },
    {
     "data": {
      "application/vnd.jupyter.widget-view+json": {
       "model_id": "",
       "version_major": 2,
       "version_minor": 0
      },
      "text/plain": [
       "FloatProgress(value=0.0, bar_style='info', description='Progress:', layout=Layout(height='25px', width='50%'),…"
      ]
     },
     "metadata": {},
     "output_type": "display_data"
    }
   ],
   "source": [
    "domain_name_udf = udf(companys, StringType())\n",
    "final_df = df3.withColumn(\"cleaned_domain\", domain_name_udf(df3['Linkedin_website']))\n"
   ]
  },
  {
   "cell_type": "code",
   "execution_count": 16,
   "id": "8b36c191-909d-4be6-9906-8605e8d62004",
   "metadata": {
    "execution": {
     "iopub.execute_input": "2024-05-31T04:04:46.847244Z",
     "iopub.status.busy": "2024-05-31T04:04:46.846885Z",
     "iopub.status.idle": "2024-05-31T04:04:50.128397Z",
     "shell.execute_reply": "2024-05-31T04:04:50.127259Z",
     "shell.execute_reply.started": "2024-05-31T04:04:46.847213Z"
    },
    "tags": []
   },
   "outputs": [
    {
     "data": {
      "application/vnd.jupyter.widget-view+json": {
       "model_id": "35b9ff3360594d64b6399862eab83ead",
       "version_major": 2,
       "version_minor": 0
      },
      "text/plain": [
       "VBox()"
      ]
     },
     "metadata": {},
     "output_type": "display_data"
    },
    {
     "data": {
      "application/vnd.jupyter.widget-view+json": {
       "model_id": "",
       "version_major": 2,
       "version_minor": 0
      },
      "text/plain": [
       "FloatProgress(value=0.0, bar_style='info', description='Progress:', layout=Layout(height='25px', width='50%'),…"
      ]
     },
     "metadata": {},
     "output_type": "display_data"
    },
    {
     "name": "stdout",
     "output_type": "stream",
     "text": [
      "+------------------+\n",
      "|cleaned_domain    |\n",
      "+------------------+\n",
      "|abetterwaytherapy |\n",
      "|facebook          |\n",
      "|werkstatt-essingen|\n",
      "|null              |\n",
      "|null              |\n",
      "|10xceocoaching    |\n",
      "|null              |\n",
      "|100rota           |\n",
      "|null              |\n",
      "|19rivoli          |\n",
      "|null              |\n",
      "|null              |\n",
      "|1876heritageinn   |\n",
      "|null              |\n",
      "|cap               |\n",
      "|null              |\n",
      "|1stwendoverscouts |\n",
      "|null              |\n",
      "|kondasoft         |\n",
      "|null              |\n",
      "+------------------+\n",
      "only showing top 20 rows"
     ]
    }
   ],
   "source": [
    "final_df.select(\"cleaned_domain\").show(truncate = False)\n"
   ]
  },
  {
   "cell_type": "code",
   "execution_count": null,
   "id": "e1c02937-7163-4561-88c1-ba9bfb0797e4",
   "metadata": {},
   "outputs": [],
   "source": []
  },
  {
   "cell_type": "code",
   "execution_count": 17,
   "id": "8ca1a62b-89a2-4880-9253-550c791d4ee0",
   "metadata": {
    "execution": {
     "iopub.execute_input": "2024-05-31T04:04:57.167040Z",
     "iopub.status.busy": "2024-05-31T04:04:57.166644Z",
     "iopub.status.idle": "2024-05-31T04:04:57.425539Z",
     "shell.execute_reply": "2024-05-31T04:04:57.424586Z",
     "shell.execute_reply.started": "2024-05-31T04:04:57.167007Z"
    },
    "tags": []
   },
   "outputs": [
    {
     "data": {
      "application/vnd.jupyter.widget-view+json": {
       "model_id": "847a231868ab47d79e9050315d73245a",
       "version_major": 2,
       "version_minor": 0
      },
      "text/plain": [
       "VBox()"
      ]
     },
     "metadata": {},
     "output_type": "display_data"
    },
    {
     "data": {
      "application/vnd.jupyter.widget-view+json": {
       "model_id": "",
       "version_major": 2,
       "version_minor": 0
      },
      "text/plain": [
       "FloatProgress(value=0.0, bar_style='info', description='Progress:', layout=Layout(height='25px', width='50%'),…"
      ]
     },
     "metadata": {},
     "output_type": "display_data"
    }
   ],
   "source": [
    "Nall_df = final_df.filter(col(\"cleaned_name\").isNotNull() & col(\"cleaned_domain\").isNotNull()).drop_duplicates()\n"
   ]
  },
  {
   "cell_type": "code",
   "execution_count": 18,
   "id": "1de9894e-9d9b-4290-b09c-9fc97a15f178",
   "metadata": {
    "execution": {
     "iopub.execute_input": "2024-05-31T04:05:03.215955Z",
     "iopub.status.busy": "2024-05-31T04:05:03.215590Z",
     "iopub.status.idle": "2024-05-31T04:05:03.474471Z",
     "shell.execute_reply": "2024-05-31T04:05:03.473514Z",
     "shell.execute_reply.started": "2024-05-31T04:05:03.215923Z"
    },
    "tags": []
   },
   "outputs": [
    {
     "data": {
      "application/vnd.jupyter.widget-view+json": {
       "model_id": "2d44dfe5cc7548ad8f3a4d01531bddd2",
       "version_major": 2,
       "version_minor": 0
      },
      "text/plain": [
       "VBox()"
      ]
     },
     "metadata": {},
     "output_type": "display_data"
    },
    {
     "data": {
      "application/vnd.jupyter.widget-view+json": {
       "model_id": "",
       "version_major": 2,
       "version_minor": 0
      },
      "text/plain": [
       "FloatProgress(value=0.0, bar_style='info', description='Progress:', layout=Layout(height='25px', width='50%'),…"
      ]
     },
     "metadata": {},
     "output_type": "display_data"
    },
    {
     "name": "stdout",
     "output_type": "stream",
     "text": [
      "root\n",
      " |-- linkedin_Name: string (nullable = true)\n",
      " |-- Linkedin_link: string (nullable = true)\n",
      " |-- Linkedin_website: string (nullable = true)\n",
      " |-- permalink: string (nullable = true)\n",
      " |-- industry: array (nullable = true)\n",
      " |    |-- element: string (containsNull = true)\n",
      " |-- headquarter: string (nullable = true)\n",
      " |-- about: string (nullable = true)\n",
      " |-- company_size: string (nullable = true)\n",
      " |-- employee_count: long (nullable = true)\n",
      " |-- year_established: string (nullable = true)\n",
      " |-- logo_url: string (nullable = true)\n",
      " |-- account_type: string (nullable = true)\n",
      " |-- date_updated: string (nullable = true)\n",
      " |-- cleaned_name: string (nullable = true)\n",
      " |-- cleaned_domain: string (nullable = true)"
     ]
    }
   ],
   "source": [
    "Nall_df.printSchema()"
   ]
  },
  {
   "cell_type": "code",
   "execution_count": null,
   "id": "972ffb4e-7f4a-44e1-8284-e638ecd68b27",
   "metadata": {},
   "outputs": [],
   "source": []
  },
  {
   "cell_type": "code",
   "execution_count": 19,
   "id": "6a3f8c15-34f3-456e-ad24-dd2bc250df48",
   "metadata": {
    "execution": {
     "iopub.execute_input": "2024-05-31T04:05:20.146444Z",
     "iopub.status.busy": "2024-05-31T04:05:20.146087Z",
     "iopub.status.idle": "2024-05-31T04:05:20.402631Z",
     "shell.execute_reply": "2024-05-31T04:05:20.401694Z",
     "shell.execute_reply.started": "2024-05-31T04:05:20.146413Z"
    },
    "tags": []
   },
   "outputs": [
    {
     "data": {
      "application/vnd.jupyter.widget-view+json": {
       "model_id": "1fa5142f78da4b95885ac98f8cfb2ed6",
       "version_major": 2,
       "version_minor": 0
      },
      "text/plain": [
       "VBox()"
      ]
     },
     "metadata": {},
     "output_type": "display_data"
    },
    {
     "data": {
      "application/vnd.jupyter.widget-view+json": {
       "model_id": "",
       "version_major": 2,
       "version_minor": 0
      },
      "text/plain": [
       "FloatProgress(value=0.0, bar_style='info', description='Progress:', layout=Layout(height='25px', width='50%'),…"
      ]
     },
     "metadata": {},
     "output_type": "display_data"
    }
   ],
   "source": [
    "final_df1 = Nall_df.filter(col(\"cleaned_name\") == col(\"cleaned_domain\"))"
   ]
  },
  {
   "cell_type": "code",
   "execution_count": 20,
   "id": "134d2851-9a6a-4c4f-b2f0-52ba954aefcd",
   "metadata": {
    "execution": {
     "iopub.execute_input": "2024-05-31T04:05:27.815199Z",
     "iopub.status.busy": "2024-05-31T04:05:27.814768Z",
     "iopub.status.idle": "2024-05-31T04:32:01.800437Z",
     "shell.execute_reply": "2024-05-31T04:32:01.799352Z",
     "shell.execute_reply.started": "2024-05-31T04:05:27.815144Z"
    },
    "tags": []
   },
   "outputs": [
    {
     "data": {
      "application/vnd.jupyter.widget-view+json": {
       "model_id": "5006fcaabf1948ac9db4adb60b696977",
       "version_major": 2,
       "version_minor": 0
      },
      "text/plain": [
       "VBox()"
      ]
     },
     "metadata": {},
     "output_type": "display_data"
    },
    {
     "data": {
      "application/vnd.jupyter.widget-view+json": {
       "model_id": "",
       "version_major": 2,
       "version_minor": 0
      },
      "text/plain": [
       "FloatProgress(value=0.0, bar_style='info', description='Progress:', layout=Layout(height='25px', width='50%'),…"
      ]
     },
     "metadata": {},
     "output_type": "display_data"
    }
   ],
   "source": [
    "#final_df1.write.mode(\"overwrite\").parquet('s3://draup-command-center/temp/cc/Renukumar_Draup/temp/xverum_name_website_maping')"
   ]
  },
  {
   "cell_type": "code",
   "execution_count": 26,
   "id": "7778a6ba-56af-4c32-9f29-1d0bc9124076",
   "metadata": {
    "execution": {
     "iopub.execute_input": "2024-05-31T04:53:06.990035Z",
     "iopub.status.busy": "2024-05-31T04:53:06.989645Z",
     "iopub.status.idle": "2024-05-31T04:53:07.750139Z",
     "shell.execute_reply": "2024-05-31T04:53:07.748951Z",
     "shell.execute_reply.started": "2024-05-31T04:53:06.990001Z"
    },
    "tags": []
   },
   "outputs": [
    {
     "data": {
      "application/vnd.jupyter.widget-view+json": {
       "model_id": "d050e4612bc747ad87fa5737df406b44",
       "version_major": 2,
       "version_minor": 0
      },
      "text/plain": [
       "VBox()"
      ]
     },
     "metadata": {},
     "output_type": "display_data"
    },
    {
     "data": {
      "application/vnd.jupyter.widget-view+json": {
       "model_id": "",
       "version_major": 2,
       "version_minor": 0
      },
      "text/plain": [
       "FloatProgress(value=0.0, bar_style='info', description='Progress:', layout=Layout(height='25px', width='50%'),…"
      ]
     },
     "metadata": {},
     "output_type": "display_data"
    }
   ],
   "source": [
    "final_df2 = spark.read.parquet('s3://draup-command-center/temp/cc/Renukumar_Draup/temp/xverum_name_website_maping')"
   ]
  },
  {
   "cell_type": "code",
   "execution_count": 27,
   "id": "db01226b-7151-4e2e-8872-0cd72ddffb06",
   "metadata": {
    "execution": {
     "iopub.execute_input": "2024-05-31T04:53:09.082913Z",
     "iopub.status.busy": "2024-05-31T04:53:09.082552Z",
     "iopub.status.idle": "2024-05-31T04:53:09.133132Z",
     "shell.execute_reply": "2024-05-31T04:53:09.131971Z",
     "shell.execute_reply.started": "2024-05-31T04:53:09.082882Z"
    },
    "tags": []
   },
   "outputs": [
    {
     "data": {
      "application/vnd.jupyter.widget-view+json": {
       "model_id": "eabb0ec0aff1491aa13cd0e0dd18cb65",
       "version_major": 2,
       "version_minor": 0
      },
      "text/plain": [
       "VBox()"
      ]
     },
     "metadata": {},
     "output_type": "display_data"
    },
    {
     "data": {
      "application/vnd.jupyter.widget-view+json": {
       "model_id": "",
       "version_major": 2,
       "version_minor": 0
      },
      "text/plain": [
       "FloatProgress(value=0.0, bar_style='info', description='Progress:', layout=Layout(height='25px', width='50%'),…"
      ]
     },
     "metadata": {},
     "output_type": "display_data"
    },
    {
     "name": "stdout",
     "output_type": "stream",
     "text": [
      "root\n",
      " |-- linkedin_Name: string (nullable = true)\n",
      " |-- Linkedin_link: string (nullable = true)\n",
      " |-- Linkedin_website: string (nullable = true)\n",
      " |-- permalink: string (nullable = true)\n",
      " |-- industry: array (nullable = true)\n",
      " |    |-- element: string (containsNull = true)\n",
      " |-- headquarter: string (nullable = true)\n",
      " |-- about: string (nullable = true)\n",
      " |-- company_size: string (nullable = true)\n",
      " |-- employee_count: long (nullable = true)\n",
      " |-- year_established: string (nullable = true)\n",
      " |-- logo_url: string (nullable = true)\n",
      " |-- account_type: string (nullable = true)\n",
      " |-- date_updated: string (nullable = true)\n",
      " |-- cleaned_name: string (nullable = true)\n",
      " |-- cleaned_domain: string (nullable = true)"
     ]
    }
   ],
   "source": [
    "final_df2.printSchema()"
   ]
  },
  {
   "cell_type": "code",
   "execution_count": 28,
   "id": "2440e9ce-923b-409b-ac86-fbdf12a87284",
   "metadata": {
    "execution": {
     "iopub.execute_input": "2024-05-31T04:53:14.259827Z",
     "iopub.status.busy": "2024-05-31T04:53:14.259464Z",
     "iopub.status.idle": "2024-05-31T04:53:15.022466Z",
     "shell.execute_reply": "2024-05-31T04:53:15.021429Z",
     "shell.execute_reply.started": "2024-05-31T04:53:14.259796Z"
    },
    "tags": []
   },
   "outputs": [
    {
     "data": {
      "application/vnd.jupyter.widget-view+json": {
       "model_id": "1ed730eecf4f475889494d0d6f6adc13",
       "version_major": 2,
       "version_minor": 0
      },
      "text/plain": [
       "VBox()"
      ]
     },
     "metadata": {},
     "output_type": "display_data"
    },
    {
     "data": {
      "application/vnd.jupyter.widget-view+json": {
       "model_id": "",
       "version_major": 2,
       "version_minor": 0
      },
      "text/plain": [
       "FloatProgress(value=0.0, bar_style='info', description='Progress:', layout=Layout(height='25px', width='50%'),…"
      ]
     },
     "metadata": {},
     "output_type": "display_data"
    },
    {
     "name": "stdout",
     "output_type": "stream",
     "text": [
      "8476045"
     ]
    }
   ],
   "source": [
    "final_df2.count()"
   ]
  },
  {
   "cell_type": "code",
   "execution_count": 29,
   "id": "63643691-c168-40bc-a6a1-040612b23a85",
   "metadata": {
    "execution": {
     "iopub.execute_input": "2024-05-31T04:53:18.971081Z",
     "iopub.status.busy": "2024-05-31T04:53:18.970729Z",
     "iopub.status.idle": "2024-05-31T04:53:19.729978Z",
     "shell.execute_reply": "2024-05-31T04:53:19.728920Z",
     "shell.execute_reply.started": "2024-05-31T04:53:18.971049Z"
    },
    "tags": []
   },
   "outputs": [
    {
     "data": {
      "application/vnd.jupyter.widget-view+json": {
       "model_id": "1b5b7e3de7fd48ceb10557a6e49ad212",
       "version_major": 2,
       "version_minor": 0
      },
      "text/plain": [
       "VBox()"
      ]
     },
     "metadata": {},
     "output_type": "display_data"
    },
    {
     "data": {
      "application/vnd.jupyter.widget-view+json": {
       "model_id": "",
       "version_major": 2,
       "version_minor": 0
      },
      "text/plain": [
       "FloatProgress(value=0.0, bar_style='info', description='Progress:', layout=Layout(height='25px', width='50%'),…"
      ]
     },
     "metadata": {},
     "output_type": "display_data"
    },
    {
     "name": "stdout",
     "output_type": "stream",
     "text": [
      "+--------------------+--------------------+--------------------+--------------------+--------------------+--------------------+--------------------+------------+--------------+----------------+--------------------+--------------+------------+-----------------+-----------------+\n",
      "|       linkedin_Name|       Linkedin_link|    Linkedin_website|           permalink|            industry|         headquarter|               about|company_size|employee_count|year_established|            logo_url|  account_type|date_updated|     cleaned_name|   cleaned_domain|\n",
      "+--------------------+--------------------+--------------------+--------------------+--------------------+--------------------+--------------------+------------+--------------+----------------+--------------------+--------------+------------+-----------------+-----------------+\n",
      "|Bangalore Ceramic...|https://www.linke...|http://bangalorec...|bangalore-ceramic...|                  []|Bangalore, Karnataka|                null|        null|             2|            null|https://static.li...|          null|     2023-12|bangaloreceramics|bangaloreceramics|\n",
      "| CEILIDH TRAIL MOTEL|https://www.linke...|http://ceilidhtra...| ceilidh-trail-motel|                  []|  Mabou, Nova Scotia|                null|        null|             1|            null|https://static.li...|          null|     2023-12|ceilidhtrailmotel|ceilidhtrailmotel|\n",
      "|WINDSCREENSONLINE...|https://www.linke...|http://windscreen...|windscreensonline...|                  []|         BOURNEMOUTH|                null|        null|          null|            null|https://static.li...|          null|     2023-12|windscreensonline|windscreensonline|\n",
      "|   Granite Discovery|https://www.linke...|http://www.granit...|   granite-discovery|    [Legal Services]|  Lee, New Hampshire|Granite Discovery...|        2-10|             2|            2012|https://media.lic...|Privately Held|     2023-12| granitediscovery| granitediscovery|\n",
      "|             Rozalin|https://www.linke...|http://rozalin.co.il|             rozalin|[Food and Beverag...|           Hertsliya|                null|        null|             4|            null|https://static.li...|          null|     2023-12|          rozalin|          rozalin|\n",
      "+--------------------+--------------------+--------------------+--------------------+--------------------+--------------------+--------------------+------------+--------------+----------------+--------------------+--------------+------------+-----------------+-----------------+\n",
      "only showing top 5 rows"
     ]
    }
   ],
   "source": [
    "final_df2.show(5)"
   ]
  },
  {
   "cell_type": "code",
   "execution_count": 30,
   "id": "30bf3daf-2649-4067-af51-dd46e433a5cc",
   "metadata": {
    "execution": {
     "iopub.execute_input": "2024-05-31T04:53:27.674465Z",
     "iopub.status.busy": "2024-05-31T04:53:27.674108Z",
     "iopub.status.idle": "2024-05-31T04:53:27.932433Z",
     "shell.execute_reply": "2024-05-31T04:53:27.931550Z",
     "shell.execute_reply.started": "2024-05-31T04:53:27.674434Z"
    },
    "tags": []
   },
   "outputs": [
    {
     "data": {
      "application/vnd.jupyter.widget-view+json": {
       "model_id": "2f7b175191a8441bb6ad8c77de46d21b",
       "version_major": 2,
       "version_minor": 0
      },
      "text/plain": [
       "VBox()"
      ]
     },
     "metadata": {},
     "output_type": "display_data"
    },
    {
     "data": {
      "application/vnd.jupyter.widget-view+json": {
       "model_id": "",
       "version_major": 2,
       "version_minor": 0
      },
      "text/plain": [
       "FloatProgress(value=0.0, bar_style='info', description='Progress:', layout=Layout(height='25px', width='50%'),…"
      ]
     },
     "metadata": {},
     "output_type": "display_data"
    }
   ],
   "source": [
    "split_ratios = [1/9] * 9  # Equal split ratios for 9 parts\n",
    "split_datasets = final_df2.randomSplit(split_ratios, seed=42)\n",
    "\n",
    "# Access each split DataFrame\n",
    "split_df1 = split_datasets[0]\n",
    "split_df2 = split_datasets[1]\n",
    "split_df3 = split_datasets[2]\n",
    "split_df4 = split_datasets[3]\n",
    "split_df5 = split_datasets[4]\n",
    "split_df6 = split_datasets[5]\n",
    "split_df7 = split_datasets[6]\n",
    "split_df8 = split_datasets[7]\n",
    "split_df9 = split_datasets[8]"
   ]
  },
  {
   "cell_type": "code",
   "execution_count": null,
   "id": "02ba3d6b-b108-4dd2-b75e-1c96e1b30506",
   "metadata": {},
   "outputs": [],
   "source": []
  },
  {
   "cell_type": "code",
   "execution_count": 31,
   "id": "20cb36c3-a42b-4056-82f3-93b0114bb932",
   "metadata": {
    "execution": {
     "iopub.execute_input": "2024-05-31T04:53:48.913255Z",
     "iopub.status.busy": "2024-05-31T04:53:48.912894Z",
     "iopub.status.idle": "2024-05-31T04:54:02.214456Z",
     "shell.execute_reply": "2024-05-31T04:54:02.213452Z",
     "shell.execute_reply.started": "2024-05-31T04:53:48.913223Z"
    },
    "tags": []
   },
   "outputs": [
    {
     "data": {
      "application/vnd.jupyter.widget-view+json": {
       "model_id": "b179fddc34224875ba16c2a0f5fc8eb0",
       "version_major": 2,
       "version_minor": 0
      },
      "text/plain": [
       "VBox()"
      ]
     },
     "metadata": {},
     "output_type": "display_data"
    },
    {
     "data": {
      "application/vnd.jupyter.widget-view+json": {
       "model_id": "",
       "version_major": 2,
       "version_minor": 0
      },
      "text/plain": [
       "FloatProgress(value=0.0, bar_style='info', description='Progress:', layout=Layout(height='25px', width='50%'),…"
      ]
     },
     "metadata": {},
     "output_type": "display_data"
    },
    {
     "name": "stdout",
     "output_type": "stream",
     "text": [
      "941524"
     ]
    }
   ],
   "source": [
    "split_df1.count() "
   ]
  },
  {
   "cell_type": "code",
   "execution_count": 33,
   "id": "35ac2b29-5e3d-4b9c-aab3-080836064e2a",
   "metadata": {
    "execution": {
     "iopub.execute_input": "2024-05-31T04:56:53.763367Z",
     "iopub.status.busy": "2024-05-31T04:56:53.762998Z",
     "iopub.status.idle": "2024-05-31T04:57:59.220846Z",
     "shell.execute_reply": "2024-05-31T04:57:59.219865Z",
     "shell.execute_reply.started": "2024-05-31T04:56:53.763335Z"
    },
    "tags": []
   },
   "outputs": [
    {
     "data": {
      "application/vnd.jupyter.widget-view+json": {
       "model_id": "ca32f52df2754467a167e9be96a68f7e",
       "version_major": 2,
       "version_minor": 0
      },
      "text/plain": [
       "VBox()"
      ]
     },
     "metadata": {},
     "output_type": "display_data"
    },
    {
     "data": {
      "application/vnd.jupyter.widget-view+json": {
       "model_id": "",
       "version_major": 2,
       "version_minor": 0
      },
      "text/plain": [
       "FloatProgress(value=0.0, bar_style='info', description='Progress:', layout=Layout(height='25px', width='50%'),…"
      ]
     },
     "metadata": {},
     "output_type": "display_data"
    },
    {
     "name": "stdout",
     "output_type": "stream",
     "text": [
      "{'ResponseMetadata': {'RequestId': 'JBX3E95N6DEJ95VH', 'HostId': 'LB+77A1kDZWMukkr5Og8ao2HWjPXIfSSTBiigySwnbty4fCfNvO7aZQ01l1E6kIc0ZD25pX0O/AMzdUxsDzkdw==', 'HTTPStatusCode': 200, 'HTTPHeaders': {'x-amz-id-2': 'LB+77A1kDZWMukkr5Og8ao2HWjPXIfSSTBiigySwnbty4fCfNvO7aZQ01l1E6kIc0ZD25pX0O/AMzdUxsDzkdw==', 'x-amz-request-id': 'JBX3E95N6DEJ95VH', 'date': 'Fri, 31 May 2024 04:57:55 GMT', 'x-amz-expiration': 'expiry-date=\"Thu, 06 Jun 2024 00:00:00 GMT\", rule-id=\"Delete in temp folder\"', 'x-amz-server-side-encryption': 'AES256', 'etag': '\"8ba31d7b8d3ee34a529080f45b4eb2b8\"', 'server': 'AmazonS3', 'content-length': '0'}, 'RetryAttempts': 1}, 'Expiration': 'expiry-date=\"Thu, 06 Jun 2024 00:00:00 GMT\", rule-id=\"Delete in temp folder\"', 'ETag': '\"8ba31d7b8d3ee34a529080f45b4eb2b8\"', 'ServerSideEncryption': 'AES256'}"
     ]
    }
   ],
   "source": [
    "from io import StringIO # python3; python2: BytesIO import boto3\n",
    "import boto3\n",
    "\n",
    "\n",
    "bucket = 'draup-command-center' # already created on S3\n",
    "csv_buffer = StringIO()\n",
    "\n",
    "res2=split_df1.toPandas()\n",
    "res2.to_csv(csv_buffer)\n",
    "s3_resource = boto3.resource('s3')\n",
    "s3_resource.Object(bucket, 'temp/cc/Renukumar_Draup/karthika/output/Xverum_data_dump_set1_31-05-2024.csv').put(Body=csv_buffer.getvalue())"
   ]
  },
  {
   "cell_type": "code",
   "execution_count": null,
   "id": "641a5d90-44e7-40e5-8a3c-69a79e150590",
   "metadata": {},
   "outputs": [],
   "source": []
  },
  {
   "cell_type": "code",
   "execution_count": 34,
   "id": "452c3fe4-e769-4850-b9dd-fd3fc95b6cea",
   "metadata": {
    "execution": {
     "iopub.execute_input": "2024-05-31T04:58:41.234373Z",
     "iopub.status.busy": "2024-05-31T04:58:41.233999Z",
     "iopub.status.idle": "2024-05-31T04:59:44.670230Z",
     "shell.execute_reply": "2024-05-31T04:59:44.669134Z",
     "shell.execute_reply.started": "2024-05-31T04:58:41.234340Z"
    }
   },
   "outputs": [
    {
     "data": {
      "application/vnd.jupyter.widget-view+json": {
       "model_id": "f4d5e82b91524f5bb06836a4689553a9",
       "version_major": 2,
       "version_minor": 0
      },
      "text/plain": [
       "VBox()"
      ]
     },
     "metadata": {},
     "output_type": "display_data"
    },
    {
     "data": {
      "application/vnd.jupyter.widget-view+json": {
       "model_id": "",
       "version_major": 2,
       "version_minor": 0
      },
      "text/plain": [
       "FloatProgress(value=0.0, bar_style='info', description='Progress:', layout=Layout(height='25px', width='50%'),…"
      ]
     },
     "metadata": {},
     "output_type": "display_data"
    },
    {
     "name": "stdout",
     "output_type": "stream",
     "text": [
      "{'ResponseMetadata': {'RequestId': 'EHBX4YVKH9KMMDP4', 'HostId': 'usKk5vp52FINjkBHqsMQrptv1xaayD7NvRoo8g+sHISuJZvifzkNkt3YmjFQT780MTGoatloByDUG5m2VtOUUQ==', 'HTTPStatusCode': 200, 'HTTPHeaders': {'x-amz-id-2': 'usKk5vp52FINjkBHqsMQrptv1xaayD7NvRoo8g+sHISuJZvifzkNkt3YmjFQT780MTGoatloByDUG5m2VtOUUQ==', 'x-amz-request-id': 'EHBX4YVKH9KMMDP4', 'date': 'Fri, 31 May 2024 04:59:40 GMT', 'x-amz-expiration': 'expiry-date=\"Thu, 06 Jun 2024 00:00:00 GMT\", rule-id=\"Delete in temp folder\"', 'x-amz-server-side-encryption': 'AES256', 'etag': '\"417ccb480832382db6e9d25f12b61416\"', 'server': 'AmazonS3', 'content-length': '0'}, 'RetryAttempts': 1}, 'Expiration': 'expiry-date=\"Thu, 06 Jun 2024 00:00:00 GMT\", rule-id=\"Delete in temp folder\"', 'ETag': '\"417ccb480832382db6e9d25f12b61416\"', 'ServerSideEncryption': 'AES256'}"
     ]
    }
   ],
   "source": [
    "from io import StringIO # python3; python2: BytesIO import boto3\n",
    "import boto3\n",
    "\n",
    "\n",
    "bucket = 'draup-command-center' # already created on S3\n",
    "csv_buffer = StringIO()\n",
    "\n",
    "res2=split_df2.toPandas()\n",
    "res2.to_csv(csv_buffer)\n",
    "s3_resource = boto3.resource('s3')\n",
    "s3_resource.Object(bucket, 'temp/cc/Renukumar_Draup/karthika/output/Xverum_data_dump_set2_31-05-2024.csv').put(Body=csv_buffer.getvalue())"
   ]
  },
  {
   "cell_type": "code",
   "execution_count": null,
   "id": "657fd225-00d4-412d-8395-9f046768e2f5",
   "metadata": {},
   "outputs": [],
   "source": []
  },
  {
   "cell_type": "code",
   "execution_count": null,
   "id": "40acabb9-868b-439c-ad06-b682b19f2404",
   "metadata": {},
   "outputs": [],
   "source": []
  },
  {
   "cell_type": "code",
   "execution_count": 35,
   "id": "f0ee12dd-9c12-4f41-895e-1a4d30592892",
   "metadata": {
    "execution": {
     "iopub.execute_input": "2024-05-31T05:22:36.649045Z",
     "iopub.status.busy": "2024-05-31T05:22:36.648464Z",
     "iopub.status.idle": "2024-05-31T05:23:56.133614Z",
     "shell.execute_reply": "2024-05-31T05:23:56.132404Z",
     "shell.execute_reply.started": "2024-05-31T05:22:36.649013Z"
    }
   },
   "outputs": [
    {
     "data": {
      "application/vnd.jupyter.widget-view+json": {
       "model_id": "6249f30905824371b1c54d1bf9e5a6c9",
       "version_major": 2,
       "version_minor": 0
      },
      "text/plain": [
       "VBox()"
      ]
     },
     "metadata": {},
     "output_type": "display_data"
    },
    {
     "data": {
      "application/vnd.jupyter.widget-view+json": {
       "model_id": "",
       "version_major": 2,
       "version_minor": 0
      },
      "text/plain": [
       "FloatProgress(value=0.0, bar_style='info', description='Progress:', layout=Layout(height='25px', width='50%'),…"
      ]
     },
     "metadata": {},
     "output_type": "display_data"
    },
    {
     "name": "stdout",
     "output_type": "stream",
     "text": [
      "{'ResponseMetadata': {'RequestId': 'SF780D64QCJ6D19D', 'HostId': '59l2zjrV/6fqvpxy+tqNyuyg5x4l0weUdAkHvI9htTr7fYkmC5V5FUNcICum6LajE7Jrx4nxRQc=', 'HTTPStatusCode': 200, 'HTTPHeaders': {'x-amz-id-2': '59l2zjrV/6fqvpxy+tqNyuyg5x4l0weUdAkHvI9htTr7fYkmC5V5FUNcICum6LajE7Jrx4nxRQc=', 'x-amz-request-id': 'SF780D64QCJ6D19D', 'date': 'Fri, 31 May 2024 05:23:53 GMT', 'x-amz-expiration': 'expiry-date=\"Thu, 06 Jun 2024 00:00:00 GMT\", rule-id=\"Delete in temp folder\"', 'x-amz-server-side-encryption': 'AES256', 'etag': '\"57b1e63b2c73fde38a260bfd9c52fa54\"', 'server': 'AmazonS3', 'content-length': '0'}, 'RetryAttempts': 1}, 'Expiration': 'expiry-date=\"Thu, 06 Jun 2024 00:00:00 GMT\", rule-id=\"Delete in temp folder\"', 'ETag': '\"57b1e63b2c73fde38a260bfd9c52fa54\"', 'ServerSideEncryption': 'AES256'}"
     ]
    }
   ],
   "source": [
    "from io import StringIO # python3; python2: BytesIO import boto3\n",
    "import boto3\n",
    "\n",
    "\n",
    "bucket = 'draup-command-center' # already created on S3\n",
    "csv_buffer = StringIO()\n",
    "\n",
    "res2=split_df3.toPandas()\n",
    "res2.to_csv(csv_buffer)\n",
    "s3_resource = boto3.resource('s3')\n",
    "s3_resource.Object(bucket, 'temp/cc/Renukumar_Draup/karthika/output/Xverum_data_dump_set3_31-05-2024.csv').put(Body=csv_buffer.getvalue())"
   ]
  },
  {
   "cell_type": "code",
   "execution_count": null,
   "id": "f683c8e6-4fa3-44f7-8906-4eb5947b1584",
   "metadata": {},
   "outputs": [],
   "source": []
  },
  {
   "cell_type": "code",
   "execution_count": 36,
   "id": "7b807df1-b59b-4bb0-a515-4c257d27ff54",
   "metadata": {
    "execution": {
     "iopub.execute_input": "2024-05-31T05:24:15.320070Z",
     "iopub.status.busy": "2024-05-31T05:24:15.319717Z",
     "iopub.status.idle": "2024-05-31T05:25:39.306392Z",
     "shell.execute_reply": "2024-05-31T05:25:39.305416Z",
     "shell.execute_reply.started": "2024-05-31T05:24:15.320039Z"
    }
   },
   "outputs": [
    {
     "data": {
      "application/vnd.jupyter.widget-view+json": {
       "model_id": "4a0593e348d7420c9469a715c82b35b8",
       "version_major": 2,
       "version_minor": 0
      },
      "text/plain": [
       "VBox()"
      ]
     },
     "metadata": {},
     "output_type": "display_data"
    },
    {
     "data": {
      "application/vnd.jupyter.widget-view+json": {
       "model_id": "",
       "version_major": 2,
       "version_minor": 0
      },
      "text/plain": [
       "FloatProgress(value=0.0, bar_style='info', description='Progress:', layout=Layout(height='25px', width='50%'),…"
      ]
     },
     "metadata": {},
     "output_type": "display_data"
    },
    {
     "name": "stdout",
     "output_type": "stream",
     "text": [
      "{'ResponseMetadata': {'RequestId': 'NNECVW764ZF4N99Y', 'HostId': 'thpxbRg9Bnxgxq6uiD82VGiqE+BIW+Zpq6Ceqej2JGPSp7AMcfL82Ik95lK0CDBvVRsWR6DYkh8=', 'HTTPStatusCode': 200, 'HTTPHeaders': {'x-amz-id-2': 'thpxbRg9Bnxgxq6uiD82VGiqE+BIW+Zpq6Ceqej2JGPSp7AMcfL82Ik95lK0CDBvVRsWR6DYkh8=', 'x-amz-request-id': 'NNECVW764ZF4N99Y', 'date': 'Fri, 31 May 2024 05:25:36 GMT', 'x-amz-expiration': 'expiry-date=\"Thu, 06 Jun 2024 00:00:00 GMT\", rule-id=\"Delete in temp folder\"', 'x-amz-server-side-encryption': 'AES256', 'etag': '\"754f443926a990564998e5f68e465b9a\"', 'server': 'AmazonS3', 'content-length': '0'}, 'RetryAttempts': 1}, 'Expiration': 'expiry-date=\"Thu, 06 Jun 2024 00:00:00 GMT\", rule-id=\"Delete in temp folder\"', 'ETag': '\"754f443926a990564998e5f68e465b9a\"', 'ServerSideEncryption': 'AES256'}"
     ]
    }
   ],
   "source": [
    "from io import StringIO # python3; python2: BytesIO import boto3\n",
    "import boto3\n",
    "\n",
    "\n",
    "bucket = 'draup-command-center' # already created on S3\n",
    "csv_buffer = StringIO()\n",
    "\n",
    "res2=split_df4.toPandas()\n",
    "res2.to_csv(csv_buffer)\n",
    "s3_resource = boto3.resource('s3')\n",
    "s3_resource.Object(bucket, 'temp/cc/Renukumar_Draup/karthika/output/Xverum_data_dump_set4_31-05-2024.csv').put(Body=csv_buffer.getvalue())"
   ]
  },
  {
   "cell_type": "code",
   "execution_count": null,
   "id": "8fb153ab-16e3-4cc4-bd3a-b59065b7b067",
   "metadata": {},
   "outputs": [],
   "source": []
  },
  {
   "cell_type": "code",
   "execution_count": 37,
   "id": "1c32f484-484f-47a8-8ef3-84ca33680c14",
   "metadata": {
    "execution": {
     "iopub.execute_input": "2024-05-31T05:26:11.338919Z",
     "iopub.status.busy": "2024-05-31T05:26:11.338519Z",
     "iopub.status.idle": "2024-05-31T05:27:34.849155Z",
     "shell.execute_reply": "2024-05-31T05:27:34.847895Z",
     "shell.execute_reply.started": "2024-05-31T05:26:11.338878Z"
    }
   },
   "outputs": [
    {
     "data": {
      "application/vnd.jupyter.widget-view+json": {
       "model_id": "138e235e94d9408aa879c690d43c2b02",
       "version_major": 2,
       "version_minor": 0
      },
      "text/plain": [
       "VBox()"
      ]
     },
     "metadata": {},
     "output_type": "display_data"
    },
    {
     "data": {
      "application/vnd.jupyter.widget-view+json": {
       "model_id": "",
       "version_major": 2,
       "version_minor": 0
      },
      "text/plain": [
       "FloatProgress(value=0.0, bar_style='info', description='Progress:', layout=Layout(height='25px', width='50%'),…"
      ]
     },
     "metadata": {},
     "output_type": "display_data"
    },
    {
     "name": "stdout",
     "output_type": "stream",
     "text": [
      "{'ResponseMetadata': {'RequestId': 'Z7MGTGKEP7BNANKB', 'HostId': 'UFkKLJpXtEozsocFhtR7H6P1G+tT1YsgdQPcED6dp7J2S1/dBHaTSwRC8FwDX3HrxrAqhB5h4+/PR3PjtEe3XFGsP+I6M+1qaZvw0tv0dSE=', 'HTTPStatusCode': 200, 'HTTPHeaders': {'x-amz-id-2': 'UFkKLJpXtEozsocFhtR7H6P1G+tT1YsgdQPcED6dp7J2S1/dBHaTSwRC8FwDX3HrxrAqhB5h4+/PR3PjtEe3XFGsP+I6M+1qaZvw0tv0dSE=', 'x-amz-request-id': 'Z7MGTGKEP7BNANKB', 'date': 'Fri, 31 May 2024 05:27:31 GMT', 'x-amz-expiration': 'expiry-date=\"Thu, 06 Jun 2024 00:00:00 GMT\", rule-id=\"Delete in temp folder\"', 'x-amz-server-side-encryption': 'AES256', 'etag': '\"ddc04ab68b195f84adb1d5e4bfedca30\"', 'server': 'AmazonS3', 'content-length': '0'}, 'RetryAttempts': 1}, 'Expiration': 'expiry-date=\"Thu, 06 Jun 2024 00:00:00 GMT\", rule-id=\"Delete in temp folder\"', 'ETag': '\"ddc04ab68b195f84adb1d5e4bfedca30\"', 'ServerSideEncryption': 'AES256'}"
     ]
    }
   ],
   "source": [
    "from io import StringIO # python3; python2: BytesIO import boto3\n",
    "import boto3\n",
    "\n",
    "\n",
    "bucket = 'draup-command-center' # already created on S3\n",
    "csv_buffer = StringIO()\n",
    "\n",
    "res2=split_df5.toPandas()\n",
    "res2.to_csv(csv_buffer)\n",
    "s3_resource = boto3.resource('s3')\n",
    "s3_resource.Object(bucket, 'temp/cc/Renukumar_Draup/karthika/output/Xverum_data_dump_set5_31-05-2024.csv').put(Body=csv_buffer.getvalue())"
   ]
  },
  {
   "cell_type": "code",
   "execution_count": null,
   "id": "f854d081-d692-4922-86b0-984fe025613e",
   "metadata": {},
   "outputs": [],
   "source": []
  },
  {
   "cell_type": "code",
   "execution_count": 38,
   "id": "0b4262cd-73cd-4163-adaa-3bb6e4662dcf",
   "metadata": {
    "execution": {
     "iopub.execute_input": "2024-05-31T05:28:43.427138Z",
     "iopub.status.busy": "2024-05-31T05:28:43.426782Z",
     "iopub.status.idle": "2024-05-31T05:30:02.924996Z",
     "shell.execute_reply": "2024-05-31T05:30:02.923634Z",
     "shell.execute_reply.started": "2024-05-31T05:28:43.427106Z"
    }
   },
   "outputs": [
    {
     "data": {
      "application/vnd.jupyter.widget-view+json": {
       "model_id": "e43527abf7034f70b86694c288b99706",
       "version_major": 2,
       "version_minor": 0
      },
      "text/plain": [
       "VBox()"
      ]
     },
     "metadata": {},
     "output_type": "display_data"
    },
    {
     "data": {
      "application/vnd.jupyter.widget-view+json": {
       "model_id": "",
       "version_major": 2,
       "version_minor": 0
      },
      "text/plain": [
       "FloatProgress(value=0.0, bar_style='info', description='Progress:', layout=Layout(height='25px', width='50%'),…"
      ]
     },
     "metadata": {},
     "output_type": "display_data"
    },
    {
     "name": "stdout",
     "output_type": "stream",
     "text": [
      "{'ResponseMetadata': {'RequestId': '274RA4ZEYKKFD2QG', 'HostId': 'nzlvQA0DeVoq2gJJTMgce6nqQ8BMWPGrJtQpaDZEf4tDo9pwoqzuOWRsMD1UuedwYFCI1ZPhW8i+xQu0LJ0Nf1N/0b6WGyOMpGZXEux81/c=', 'HTTPStatusCode': 200, 'HTTPHeaders': {'x-amz-id-2': 'nzlvQA0DeVoq2gJJTMgce6nqQ8BMWPGrJtQpaDZEf4tDo9pwoqzuOWRsMD1UuedwYFCI1ZPhW8i+xQu0LJ0Nf1N/0b6WGyOMpGZXEux81/c=', 'x-amz-request-id': '274RA4ZEYKKFD2QG', 'date': 'Fri, 31 May 2024 05:29:59 GMT', 'x-amz-expiration': 'expiry-date=\"Thu, 06 Jun 2024 00:00:00 GMT\", rule-id=\"Delete in temp folder\"', 'x-amz-server-side-encryption': 'AES256', 'etag': '\"d194ace671c8465bc618c7757987ca29\"', 'server': 'AmazonS3', 'content-length': '0'}, 'RetryAttempts': 1}, 'Expiration': 'expiry-date=\"Thu, 06 Jun 2024 00:00:00 GMT\", rule-id=\"Delete in temp folder\"', 'ETag': '\"d194ace671c8465bc618c7757987ca29\"', 'ServerSideEncryption': 'AES256'}"
     ]
    }
   ],
   "source": [
    "from io import StringIO # python3; python2: BytesIO import boto3\n",
    "import boto3\n",
    "\n",
    "\n",
    "bucket = 'draup-command-center' # already created on S3\n",
    "csv_buffer = StringIO()\n",
    "\n",
    "res2=split_df6.toPandas()\n",
    "res2.to_csv(csv_buffer)\n",
    "s3_resource = boto3.resource('s3')\n",
    "s3_resource.Object(bucket, 'temp/cc/Renukumar_Draup/karthika/output/Xverum_data_dump_set6_31-05-2024.csv').put(Body=csv_buffer.getvalue())"
   ]
  },
  {
   "cell_type": "code",
   "execution_count": null,
   "id": "97e33b57-bea4-42f0-aae2-c88383339876",
   "metadata": {},
   "outputs": [],
   "source": []
  },
  {
   "cell_type": "code",
   "execution_count": 40,
   "id": "fadd3114-149b-4e60-8ee4-bc48b5270493",
   "metadata": {
    "execution": {
     "iopub.execute_input": "2024-05-31T05:31:24.243887Z",
     "iopub.status.busy": "2024-05-31T05:31:24.243520Z",
     "iopub.status.idle": "2024-05-31T05:32:29.696281Z",
     "shell.execute_reply": "2024-05-31T05:32:29.695370Z",
     "shell.execute_reply.started": "2024-05-31T05:31:24.243855Z"
    },
    "tags": []
   },
   "outputs": [
    {
     "data": {
      "application/vnd.jupyter.widget-view+json": {
       "model_id": "99ed5d7aa7b0423ba2e243319c7de9ed",
       "version_major": 2,
       "version_minor": 0
      },
      "text/plain": [
       "VBox()"
      ]
     },
     "metadata": {},
     "output_type": "display_data"
    },
    {
     "data": {
      "application/vnd.jupyter.widget-view+json": {
       "model_id": "",
       "version_major": 2,
       "version_minor": 0
      },
      "text/plain": [
       "FloatProgress(value=0.0, bar_style='info', description='Progress:', layout=Layout(height='25px', width='50%'),…"
      ]
     },
     "metadata": {},
     "output_type": "display_data"
    },
    {
     "name": "stdout",
     "output_type": "stream",
     "text": [
      "{'ResponseMetadata': {'RequestId': '7401QDHYQSR1PE15', 'HostId': '8TGkEn88B4HAAzCnHV5uioaXzmLrEkyLs+iRQhnyE/Fb42hEhyD1XqlTVmpRb4gxhVyOR5WkM4Q=', 'HTTPStatusCode': 200, 'HTTPHeaders': {'x-amz-id-2': '8TGkEn88B4HAAzCnHV5uioaXzmLrEkyLs+iRQhnyE/Fb42hEhyD1XqlTVmpRb4gxhVyOR5WkM4Q=', 'x-amz-request-id': '7401QDHYQSR1PE15', 'date': 'Fri, 31 May 2024 05:32:26 GMT', 'x-amz-expiration': 'expiry-date=\"Thu, 06 Jun 2024 00:00:00 GMT\", rule-id=\"Delete in temp folder\"', 'x-amz-server-side-encryption': 'AES256', 'etag': '\"f5d54255c1378bc3b04a0c47ad71e6af\"', 'server': 'AmazonS3', 'content-length': '0'}, 'RetryAttempts': 1}, 'Expiration': 'expiry-date=\"Thu, 06 Jun 2024 00:00:00 GMT\", rule-id=\"Delete in temp folder\"', 'ETag': '\"f5d54255c1378bc3b04a0c47ad71e6af\"', 'ServerSideEncryption': 'AES256'}"
     ]
    }
   ],
   "source": [
    "from io import StringIO # python3; python2: BytesIO import boto3\n",
    "import boto3\n",
    "\n",
    "\n",
    "bucket = 'draup-command-center' # already created on S3\n",
    "csv_buffer = StringIO()\n",
    "\n",
    "res2=split_df7.toPandas()\n",
    "res2.to_csv(csv_buffer)\n",
    "s3_resource = boto3.resource('s3')\n",
    "s3_resource.Object(bucket, 'temp/cc/Renukumar_Draup/karthika/output/Xverum_data_dump_set7_31-05-2024.csv').put(Body=csv_buffer.getvalue())"
   ]
  },
  {
   "cell_type": "code",
   "execution_count": null,
   "id": "3e986458-d24e-47d1-be26-b5fecadabd75",
   "metadata": {},
   "outputs": [],
   "source": []
  },
  {
   "cell_type": "code",
   "execution_count": 41,
   "id": "72b3ae90-8306-4461-97a2-6e386a1b945d",
   "metadata": {
    "execution": {
     "iopub.execute_input": "2024-05-31T05:33:37.764743Z",
     "iopub.status.busy": "2024-05-31T05:33:37.764338Z",
     "iopub.status.idle": "2024-05-31T05:34:57.266782Z",
     "shell.execute_reply": "2024-05-31T05:34:57.265843Z",
     "shell.execute_reply.started": "2024-05-31T05:33:37.764710Z"
    }
   },
   "outputs": [
    {
     "data": {
      "application/vnd.jupyter.widget-view+json": {
       "model_id": "916fee8c28924e27aaaefaf22cf3c975",
       "version_major": 2,
       "version_minor": 0
      },
      "text/plain": [
       "VBox()"
      ]
     },
     "metadata": {},
     "output_type": "display_data"
    },
    {
     "data": {
      "application/vnd.jupyter.widget-view+json": {
       "model_id": "",
       "version_major": 2,
       "version_minor": 0
      },
      "text/plain": [
       "FloatProgress(value=0.0, bar_style='info', description='Progress:', layout=Layout(height='25px', width='50%'),…"
      ]
     },
     "metadata": {},
     "output_type": "display_data"
    },
    {
     "name": "stdout",
     "output_type": "stream",
     "text": [
      "{'ResponseMetadata': {'RequestId': 'PFW0HBY4DWFG7CDC', 'HostId': 'UbNOIiq874woVUi9BTISEKtqTRS6i4Ve9mr0w2FO71gLwCH2KmpuAJ8HSHt12HAR0UNrmvuCtrA=', 'HTTPStatusCode': 200, 'HTTPHeaders': {'x-amz-id-2': 'UbNOIiq874woVUi9BTISEKtqTRS6i4Ve9mr0w2FO71gLwCH2KmpuAJ8HSHt12HAR0UNrmvuCtrA=', 'x-amz-request-id': 'PFW0HBY4DWFG7CDC', 'date': 'Fri, 31 May 2024 05:34:54 GMT', 'x-amz-expiration': 'expiry-date=\"Thu, 06 Jun 2024 00:00:00 GMT\", rule-id=\"Delete in temp folder\"', 'x-amz-server-side-encryption': 'AES256', 'etag': '\"c8f9dc5158761cab58197b75ce3fa07f\"', 'server': 'AmazonS3', 'content-length': '0'}, 'RetryAttempts': 1}, 'Expiration': 'expiry-date=\"Thu, 06 Jun 2024 00:00:00 GMT\", rule-id=\"Delete in temp folder\"', 'ETag': '\"c8f9dc5158761cab58197b75ce3fa07f\"', 'ServerSideEncryption': 'AES256'}"
     ]
    }
   ],
   "source": [
    "from io import StringIO # python3; python2: BytesIO import boto3\n",
    "import boto3\n",
    "\n",
    "\n",
    "bucket = 'draup-command-center' # already created on S3\n",
    "csv_buffer = StringIO()\n",
    "\n",
    "res2=split_df8.toPandas()\n",
    "res2.to_csv(csv_buffer)\n",
    "s3_resource = boto3.resource('s3')\n",
    "s3_resource.Object(bucket, 'temp/cc/Renukumar_Draup/karthika/output/Xverum_data_dump_set8_31-05-2024.csv').put(Body=csv_buffer.getvalue())"
   ]
  },
  {
   "cell_type": "code",
   "execution_count": null,
   "id": "623f37ba-b6cf-4a11-8dbd-37012b5ac140",
   "metadata": {},
   "outputs": [],
   "source": []
  },
  {
   "cell_type": "code",
   "execution_count": 42,
   "id": "0ec25b82-d742-4649-b7ff-f90d01be011b",
   "metadata": {
    "execution": {
     "iopub.execute_input": "2024-05-31T05:35:10.304457Z",
     "iopub.status.busy": "2024-05-31T05:35:10.304089Z",
     "iopub.status.idle": "2024-05-31T05:36:31.805180Z",
     "shell.execute_reply": "2024-05-31T05:36:31.804206Z",
     "shell.execute_reply.started": "2024-05-31T05:35:10.304425Z"
    }
   },
   "outputs": [
    {
     "data": {
      "application/vnd.jupyter.widget-view+json": {
       "model_id": "4526f3cf3148472b92924cb78163a17c",
       "version_major": 2,
       "version_minor": 0
      },
      "text/plain": [
       "VBox()"
      ]
     },
     "metadata": {},
     "output_type": "display_data"
    },
    {
     "data": {
      "application/vnd.jupyter.widget-view+json": {
       "model_id": "",
       "version_major": 2,
       "version_minor": 0
      },
      "text/plain": [
       "FloatProgress(value=0.0, bar_style='info', description='Progress:', layout=Layout(height='25px', width='50%'),…"
      ]
     },
     "metadata": {},
     "output_type": "display_data"
    },
    {
     "name": "stdout",
     "output_type": "stream",
     "text": [
      "{'ResponseMetadata': {'RequestId': 'B5M2W1G406KG47MV', 'HostId': '4Btua29XwMiziDq1ilodAuLgy98Fbvt/Obz1A6F8BO7OJtZw0CKJHj0SyxMC/QnmVco8KWKweak5baDBn+JExg==', 'HTTPStatusCode': 200, 'HTTPHeaders': {'x-amz-id-2': '4Btua29XwMiziDq1ilodAuLgy98Fbvt/Obz1A6F8BO7OJtZw0CKJHj0SyxMC/QnmVco8KWKweak5baDBn+JExg==', 'x-amz-request-id': 'B5M2W1G406KG47MV', 'date': 'Fri, 31 May 2024 05:36:27 GMT', 'x-amz-expiration': 'expiry-date=\"Thu, 06 Jun 2024 00:00:00 GMT\", rule-id=\"Delete in temp folder\"', 'x-amz-server-side-encryption': 'AES256', 'etag': '\"51e2419437c5813d72043102273be4c8\"', 'server': 'AmazonS3', 'content-length': '0'}, 'RetryAttempts': 1}, 'Expiration': 'expiry-date=\"Thu, 06 Jun 2024 00:00:00 GMT\", rule-id=\"Delete in temp folder\"', 'ETag': '\"51e2419437c5813d72043102273be4c8\"', 'ServerSideEncryption': 'AES256'}"
     ]
    }
   ],
   "source": [
    "from io import StringIO # python3; python2: BytesIO import boto3\n",
    "import boto3\n",
    "\n",
    "\n",
    "bucket = 'draup-command-center' # already created on S3\n",
    "csv_buffer = StringIO()\n",
    "\n",
    "res2=split_df9.toPandas()\n",
    "res2.to_csv(csv_buffer)\n",
    "s3_resource = boto3.resource('s3')\n",
    "s3_resource.Object(bucket, 'temp/cc/Renukumar_Draup/karthika/output/Xverum_data_dump_set9_31-05-2024.csv').put(Body=csv_buffer.getvalue())"
   ]
  },
  {
   "cell_type": "code",
   "execution_count": null,
   "id": "44654428-97f5-4dd6-a556-1abd14c9c67c",
   "metadata": {},
   "outputs": [],
   "source": []
  },
  {
   "cell_type": "code",
   "execution_count": null,
   "id": "29c0919b-9ea1-40b1-9750-252375c43ef7",
   "metadata": {},
   "outputs": [],
   "source": []
  },
  {
   "cell_type": "code",
   "execution_count": null,
   "id": "b9e76e03-68f3-442e-bbdd-de8bb8f490d7",
   "metadata": {},
   "outputs": [],
   "source": []
  },
  {
   "cell_type": "code",
   "execution_count": null,
   "id": "03502add-a27e-4ed3-b1f1-d9d4b04c4a41",
   "metadata": {},
   "outputs": [],
   "source": []
  }
 ],
 "metadata": {
  "kernelspec": {
   "display_name": "PySpark",
   "language": "python",
   "name": "pysparkkernel"
  },
  "language_info": {
   "codemirror_mode": {
    "name": "python",
    "version": 3
   },
   "file_extension": ".py",
   "mimetype": "text/x-python",
   "name": "pyspark",
   "pygments_lexer": "python3"
  }
 },
 "nbformat": 4,
 "nbformat_minor": 5
}
