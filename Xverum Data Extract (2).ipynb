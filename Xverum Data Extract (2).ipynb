{
 "cells": [
  {
   "cell_type": "code",
   "execution_count": 1,
   "metadata": {
    "execution": {
     "iopub.execute_input": "2024-09-30T05:32:59.909647Z",
     "iopub.status.busy": "2024-09-30T05:32:59.909270Z",
     "iopub.status.idle": "2024-09-30T05:33:28.547934Z",
     "shell.execute_reply": "2024-09-30T05:33:28.547116Z",
     "shell.execute_reply.started": "2024-09-30T05:32:59.909612Z"
    },
    "tags": []
   },
   "outputs": [
    {
     "data": {
      "application/vnd.jupyter.widget-view+json": {
       "model_id": "d45b010ce0ee4042a278bc14f0e29771",
       "version_major": 2,
       "version_minor": 0
      },
      "text/plain": [
       "VBox()"
      ]
     },
     "metadata": {},
     "output_type": "display_data"
    },
    {
     "name": "stdout",
     "output_type": "stream",
     "text": [
      "Starting Spark application\n"
     ]
    },
    {
     "data": {
      "text/html": [
       "<table>\n<tbody><tr><th>ID</th><th>YARN Application ID</th><th>Kind</th><th>State</th><th>Spark UI</th><th>Driver log</th><th>User</th><th>Current session?</th></tr><tr><td>11</td><td>application_1727667530908_0013</td><td>pyspark</td><td>idle</td><td><a target=\"_blank\" href=\"http://ip-172-22-10-177.us-east-2.compute.internal:20888/proxy/application_1727667530908_0013/\" class=\"emr-proxy-link j-16XJVUA3B16HO application_1727667530908_0013\" emr-resource=\"j-16XJVUA3B16HO\n\" application-id=\"application_1727667530908_0013\">Link</a></td><td><a target=\"_blank\" href=\"http://ip-172-22-10-86.us-east-2.compute.internal:8042/node/containerlogs/container_1727667530908_0013_01_000001/user_n-renukumar_rajendran_draup_com\">Link</a></td><td>user_n-renukumar_rajendran_draup_com</td><td>✔</td></tr></tbody></table>"
      ],
      "text/plain": [
       "<IPython.core.display.HTML object>"
      ]
     },
     "metadata": {},
     "output_type": "display_data"
    },
    {
     "data": {
      "application/vnd.jupyter.widget-view+json": {
       "model_id": "",
       "version_major": 2,
       "version_minor": 0
      },
      "text/plain": [
       "FloatProgress(value=0.0, bar_style='info', description='Progress:', layout=Layout(height='25px', width='50%'),…"
      ]
     },
     "metadata": {},
     "output_type": "display_data"
    },
    {
     "name": "stdout",
     "output_type": "stream",
     "text": [
      "SparkSession available as 'spark'.\n"
     ]
    },
    {
     "data": {
      "application/vnd.jupyter.widget-view+json": {
       "model_id": "",
       "version_major": 2,
       "version_minor": 0
      },
      "text/plain": [
       "FloatProgress(value=0.0, bar_style='info', description='Progress:', layout=Layout(height='25px', width='50%'),…"
      ]
     },
     "metadata": {},
     "output_type": "display_data"
    }
   ],
   "source": [
    "#start\n"
   ]
  },
  {
   "cell_type": "code",
   "execution_count": 2,
   "metadata": {
    "execution": {
     "iopub.execute_input": "2024-09-30T05:33:28.549569Z",
     "iopub.status.busy": "2024-09-30T05:33:28.549316Z",
     "iopub.status.idle": "2024-09-30T05:33:35.841603Z",
     "shell.execute_reply": "2024-09-30T05:33:35.840622Z",
     "shell.execute_reply.started": "2024-09-30T05:33:28.549537Z"
    },
    "tags": []
   },
   "outputs": [
    {
     "data": {
      "application/vnd.jupyter.widget-view+json": {
       "model_id": "b6ab8098304c4ff29c75cdb7859bb171",
       "version_major": 2,
       "version_minor": 0
      },
      "text/plain": [
       "VBox()"
      ]
     },
     "metadata": {},
     "output_type": "display_data"
    },
    {
     "data": {
      "application/vnd.jupyter.widget-view+json": {
       "model_id": "",
       "version_major": 2,
       "version_minor": 0
      },
      "text/plain": [
       "FloatProgress(value=0.0, bar_style='info', description='Progress:', layout=Layout(height='25px', width='50%'),…"
      ]
     },
     "metadata": {},
     "output_type": "display_data"
    },
    {
     "name": "stdout",
     "output_type": "stream",
     "text": [
      "404\n",
      "404\n",
      "/usr/local/lib/python3.9/site-packages/urllib3/connectionpool.py:1063: InsecureRequestWarning: Unverified HTTPS request is being made to host 'gateway.draup.com'. Adding certificate verification is strongly advised. See: https://urllib3.readthedocs.io/en/1.26.x/advanced-usage.html#ssl-warnings\n",
      "  warnings.warn(\n",
      "/usr/local/lib/python3.9/site-packages/urllib3/connectionpool.py:1063: InsecureRequestWarning: Unverified HTTPS request is being made to host 'gateway.draup.com'. Adding certificate verification is strongly advised. See: https://urllib3.readthedocs.io/en/1.26.x/advanced-usage.html#ssl-warnings\n",
      "  warnings.warn("
     ]
    }
   ],
   "source": [
    "sc.addPyFile(\"s3://jobs-emr-etl-config/jobs_run/prod/cc/ML_ETL_Config.py\")\n",
    "from ML_ETL_Config import *\n",
    "utils_module = MlEtlUtils(spark, sc)\n",
    "to_import = [name for name in dir(utils_module) if not (name.startswith('_') | (name==\"spark\") | (name==\"sc\"))]\n",
    "globals().update({name: getattr(utils_module, name) for name in to_import})\n",
    "from pyspark.sql.functions import *"
   ]
  },
  {
   "cell_type": "code",
   "execution_count": 3,
   "metadata": {
    "execution": {
     "iopub.execute_input": "2024-09-30T05:33:40.653544Z",
     "iopub.status.busy": "2024-09-30T05:33:40.653271Z",
     "iopub.status.idle": "2024-09-30T05:33:47.953439Z",
     "shell.execute_reply": "2024-09-30T05:33:47.952466Z",
     "shell.execute_reply.started": "2024-09-30T05:33:40.653510Z"
    },
    "tags": []
   },
   "outputs": [
    {
     "data": {
      "application/vnd.jupyter.widget-view+json": {
       "model_id": "6689f8f3d97843ca9909627aef14bee8",
       "version_major": 2,
       "version_minor": 0
      },
      "text/plain": [
       "VBox()"
      ]
     },
     "metadata": {},
     "output_type": "display_data"
    },
    {
     "data": {
      "application/vnd.jupyter.widget-view+json": {
       "model_id": "",
       "version_major": 2,
       "version_minor": 0
      },
      "text/plain": [
       "FloatProgress(value=0.0, bar_style='info', description='Progress:', layout=Layout(height='25px', width='50%'),…"
      ]
     },
     "metadata": {},
     "output_type": "display_data"
    }
   ],
   "source": [
    "linkedin=spark.read.format('delta').load('s3://etl-datahouse/prod/dcd/xverum/delta/').selectExpr('account_name as linkedin_Name','social_url as Linkedin_link','website as Linkedin_website','permalink','industry','headquarter','about','company_size','employee_count','year_established','logo_url','account_type','date_updated')"
   ]
  },
  {
   "cell_type": "code",
   "execution_count": 4,
   "metadata": {
    "execution": {
     "iopub.execute_input": "2024-09-30T05:33:47.955145Z",
     "iopub.status.busy": "2024-09-30T05:33:47.954907Z",
     "iopub.status.idle": "2024-09-30T05:33:48.043904Z",
     "shell.execute_reply": "2024-09-30T05:33:48.042941Z",
     "shell.execute_reply.started": "2024-09-30T05:33:47.955111Z"
    },
    "tags": []
   },
   "outputs": [
    {
     "data": {
      "application/vnd.jupyter.widget-view+json": {
       "model_id": "8512c398df8b49d5addf4d46a3733c80",
       "version_major": 2,
       "version_minor": 0
      },
      "text/plain": [
       "VBox()"
      ]
     },
     "metadata": {},
     "output_type": "display_data"
    },
    {
     "data": {
      "application/vnd.jupyter.widget-view+json": {
       "model_id": "",
       "version_major": 2,
       "version_minor": 0
      },
      "text/plain": [
       "FloatProgress(value=0.0, bar_style='info', description='Progress:', layout=Layout(height='25px', width='50%'),…"
      ]
     },
     "metadata": {},
     "output_type": "display_data"
    },
    {
     "name": "stdout",
     "output_type": "stream",
     "text": [
      "['linkedin_Name', 'Linkedin_link', 'Linkedin_website', 'permalink', 'industry', 'headquarter', 'about', 'company_size', 'employee_count', 'year_established', 'logo_url', 'account_type', 'date_updated']"
     ]
    }
   ],
   "source": [
    "linkedin.columns"
   ]
  },
  {
   "cell_type": "markdown",
   "metadata": {},
   "source": [
    "# using domain"
   ]
  },
  {
   "cell_type": "code",
   "execution_count": 5,
   "metadata": {
    "execution": {
     "iopub.execute_input": "2024-09-27T08:45:45.073822Z",
     "iopub.status.busy": "2024-09-27T08:45:45.073548Z",
     "iopub.status.idle": "2024-09-27T08:45:45.835952Z",
     "shell.execute_reply": "2024-09-27T08:45:45.835142Z",
     "shell.execute_reply.started": "2024-09-27T08:45:45.073789Z"
    },
    "tags": []
   },
   "outputs": [
    {
     "data": {
      "application/vnd.jupyter.widget-view+json": {
       "model_id": "cffa0dc4897245df9e5cec5b265fc741",
       "version_major": 2,
       "version_minor": 0
      },
      "text/plain": [
       "VBox()"
      ]
     },
     "metadata": {},
     "output_type": "display_data"
    },
    {
     "data": {
      "application/vnd.jupyter.widget-view+json": {
       "model_id": "",
       "version_major": 2,
       "version_minor": 0
      },
      "text/plain": [
       "FloatProgress(value=0.0, bar_style='info', description='Progress:', layout=Layout(height='25px', width='50%'),…"
      ]
     },
     "metadata": {},
     "output_type": "display_data"
    }
   ],
   "source": [
    "df=spark.read.csv(\"s3://draup-command-center/temp/cc/Renukumar_Draup/karthika/Input/LinkedIn_permalink_27-09-24.csv\",header=True)"
   ]
  },
  {
   "cell_type": "code",
   "execution_count": 6,
   "metadata": {
    "execution": {
     "iopub.execute_input": "2024-09-27T08:45:45.837569Z",
     "iopub.status.busy": "2024-09-27T08:45:45.837346Z",
     "iopub.status.idle": "2024-09-27T08:45:45.892546Z",
     "shell.execute_reply": "2024-09-27T08:45:45.891748Z",
     "shell.execute_reply.started": "2024-09-27T08:45:45.837537Z"
    },
    "tags": []
   },
   "outputs": [
    {
     "data": {
      "application/vnd.jupyter.widget-view+json": {
       "model_id": "7874ec5d70e440caa67b054964e73ae8",
       "version_major": 2,
       "version_minor": 0
      },
      "text/plain": [
       "VBox()"
      ]
     },
     "metadata": {},
     "output_type": "display_data"
    },
    {
     "data": {
      "application/vnd.jupyter.widget-view+json": {
       "model_id": "",
       "version_major": 2,
       "version_minor": 0
      },
      "text/plain": [
       "FloatProgress(value=0.0, bar_style='info', description='Progress:', layout=Layout(height='25px', width='50%'),…"
      ]
     },
     "metadata": {},
     "output_type": "display_data"
    },
    {
     "name": "stdout",
     "output_type": "stream",
     "text": [
      "['Name', 'Cleaned Url', 'Linkedin Link']"
     ]
    }
   ],
   "source": [
    "df.columns"
   ]
  },
  {
   "cell_type": "code",
   "execution_count": 7,
   "metadata": {
    "execution": {
     "iopub.execute_input": "2024-09-27T08:45:46.137263Z",
     "iopub.status.busy": "2024-09-27T08:45:46.137000Z",
     "iopub.status.idle": "2024-09-27T08:45:48.410974Z",
     "shell.execute_reply": "2024-09-27T08:45:48.410036Z",
     "shell.execute_reply.started": "2024-09-27T08:45:46.137230Z"
    },
    "tags": []
   },
   "outputs": [
    {
     "data": {
      "application/vnd.jupyter.widget-view+json": {
       "model_id": "47815a824e8546d6a5a0f3cbe75fa239",
       "version_major": 2,
       "version_minor": 0
      },
      "text/plain": [
       "VBox()"
      ]
     },
     "metadata": {},
     "output_type": "display_data"
    },
    {
     "data": {
      "application/vnd.jupyter.widget-view+json": {
       "model_id": "",
       "version_major": 2,
       "version_minor": 0
      },
      "text/plain": [
       "FloatProgress(value=0.0, bar_style='info', description='Progress:', layout=Layout(height='25px', width='50%'),…"
      ]
     },
     "metadata": {},
     "output_type": "display_data"
    },
    {
     "name": "stdout",
     "output_type": "stream",
     "text": [
      "1048"
     ]
    }
   ],
   "source": [
    "df.count()"
   ]
  },
  {
   "cell_type": "code",
   "execution_count": 8,
   "metadata": {
    "execution": {
     "iopub.execute_input": "2024-09-27T08:45:59.112739Z",
     "iopub.status.busy": "2024-09-27T08:45:59.112437Z",
     "iopub.status.idle": "2024-09-27T08:45:59.370192Z",
     "shell.execute_reply": "2024-09-27T08:45:59.369316Z",
     "shell.execute_reply.started": "2024-09-27T08:45:59.112678Z"
    },
    "tags": []
   },
   "outputs": [
    {
     "data": {
      "application/vnd.jupyter.widget-view+json": {
       "model_id": "b31f7e04e47945678c9bb770d4953329",
       "version_major": 2,
       "version_minor": 0
      },
      "text/plain": [
       "VBox()"
      ]
     },
     "metadata": {},
     "output_type": "display_data"
    },
    {
     "data": {
      "application/vnd.jupyter.widget-view+json": {
       "model_id": "",
       "version_major": 2,
       "version_minor": 0
      },
      "text/plain": [
       "FloatProgress(value=0.0, bar_style='info', description='Progress:', layout=Layout(height='25px', width='50%'),…"
      ]
     },
     "metadata": {},
     "output_type": "display_data"
    }
   ],
   "source": [
    "#cleaning domain urls\n",
    "from pyspark.sql.functions import udf\n",
    "from pyspark.sql.types import StringType\n",
    "\n",
    "# Define a UDF to extract the domain name from a URL https://www.linkedin.com/company/draupplatform/\n",
    "def extract_parma(url):\n",
    "    try:\n",
    "        if \"www.\" in url:\n",
    "            url = url.split(\"www.\")[1].split('/')[0]\n",
    "        elif \"//\"in url:\n",
    "            url = url.split(\"//\")[1].split('/')[0]\n",
    "        return url\n",
    "    except:\n",
    "        return url\n",
    "\n",
    "# Register the UDF with Spark\n",
    "extract_parma_udf = udf(extract_parma, StringType())\n",
    "\n",
    "df1 = df.withColumn('domain_url', extract_parma_udf(df['Linkedin Link'])).distinct()"
   ]
  },
  {
   "cell_type": "code",
   "execution_count": 9,
   "metadata": {
    "execution": {
     "iopub.execute_input": "2024-09-27T08:46:00.106076Z",
     "iopub.status.busy": "2024-09-27T08:46:00.105786Z",
     "iopub.status.idle": "2024-09-27T08:46:00.157373Z",
     "shell.execute_reply": "2024-09-27T08:46:00.156506Z",
     "shell.execute_reply.started": "2024-09-27T08:46:00.106043Z"
    },
    "tags": []
   },
   "outputs": [
    {
     "data": {
      "application/vnd.jupyter.widget-view+json": {
       "model_id": "d2a5ade891bb418ca02455da814382bc",
       "version_major": 2,
       "version_minor": 0
      },
      "text/plain": [
       "VBox()"
      ]
     },
     "metadata": {},
     "output_type": "display_data"
    },
    {
     "data": {
      "application/vnd.jupyter.widget-view+json": {
       "model_id": "",
       "version_major": 2,
       "version_minor": 0
      },
      "text/plain": [
       "FloatProgress(value=0.0, bar_style='info', description='Progress:', layout=Layout(height='25px', width='50%'),…"
      ]
     },
     "metadata": {},
     "output_type": "display_data"
    },
    {
     "name": "stdout",
     "output_type": "stream",
     "text": [
      "['Name', 'Cleaned Url', 'Linkedin Link', 'domain_url']"
     ]
    }
   ],
   "source": [
    "df1.columns"
   ]
  },
  {
   "cell_type": "markdown",
   "metadata": {
    "execution": {
     "iopub.execute_input": "2024-05-17T09:23:59.774405Z",
     "iopub.status.busy": "2024-05-17T09:23:59.774029Z",
     "iopub.status.idle": "2024-05-17T09:23:59.827094Z",
     "shell.execute_reply": "2024-05-17T09:23:59.826005Z",
     "shell.execute_reply.started": "2024-05-17T09:23:59.774373Z"
    },
    "tags": []
   },
   "source": [
    "# Cleaning linkedin domain"
   ]
  },
  {
   "cell_type": "code",
   "execution_count": 10,
   "metadata": {
    "execution": {
     "iopub.execute_input": "2024-09-27T08:46:04.426292Z",
     "iopub.status.busy": "2024-09-27T08:46:04.426023Z",
     "iopub.status.idle": "2024-09-27T08:46:04.685655Z",
     "shell.execute_reply": "2024-09-27T08:46:04.684813Z",
     "shell.execute_reply.started": "2024-09-27T08:46:04.426259Z"
    },
    "tags": []
   },
   "outputs": [
    {
     "data": {
      "application/vnd.jupyter.widget-view+json": {
       "model_id": "c7c316022c324f47ad0b6c47d223dd8e",
       "version_major": 2,
       "version_minor": 0
      },
      "text/plain": [
       "VBox()"
      ]
     },
     "metadata": {},
     "output_type": "display_data"
    },
    {
     "data": {
      "application/vnd.jupyter.widget-view+json": {
       "model_id": "",
       "version_major": 2,
       "version_minor": 0
      },
      "text/plain": [
       "FloatProgress(value=0.0, bar_style='info', description='Progress:', layout=Layout(height='25px', width='50%'),…"
      ]
     },
     "metadata": {},
     "output_type": "display_data"
    }
   ],
   "source": [
    "#cleaning domain urls\n",
    "from pyspark.sql.functions import udf\n",
    "from pyspark.sql.types import StringType\n",
    "\n",
    "# Define a UDF to extract the domain name from a URL https://www.linkedin.com/company/draupplatform/\n",
    "def extract_parma(url):\n",
    "    try:\n",
    "        if \"www.\" in url:\n",
    "            url = url.split(\"www.\")[1].split('/')[0]\n",
    "        elif \"//\"in url:\n",
    "            url = url.split(\"//\")[1].split('/')[0]\n",
    "        return url\n",
    "    except:\n",
    "        return url\n",
    "\n",
    "# Register the UDF with Spark\n",
    "extract_parma_udf = udf(extract_parma, StringType())\n",
    "\n",
    "cmp1 = linkedin.withColumn('Linkedin_domain', extract_parma_udf(linkedin['Linkedin_website']))"
   ]
  },
  {
   "cell_type": "code",
   "execution_count": 11,
   "metadata": {
    "execution": {
     "iopub.execute_input": "2024-09-27T08:46:04.807965Z",
     "iopub.status.busy": "2024-09-27T08:46:04.807701Z",
     "iopub.status.idle": "2024-09-27T08:46:04.861367Z",
     "shell.execute_reply": "2024-09-27T08:46:04.860499Z",
     "shell.execute_reply.started": "2024-09-27T08:46:04.807932Z"
    },
    "tags": []
   },
   "outputs": [
    {
     "data": {
      "application/vnd.jupyter.widget-view+json": {
       "model_id": "3dbfefef32984923ac74adcd5a362945",
       "version_major": 2,
       "version_minor": 0
      },
      "text/plain": [
       "VBox()"
      ]
     },
     "metadata": {},
     "output_type": "display_data"
    },
    {
     "data": {
      "application/vnd.jupyter.widget-view+json": {
       "model_id": "",
       "version_major": 2,
       "version_minor": 0
      },
      "text/plain": [
       "FloatProgress(value=0.0, bar_style='info', description='Progress:', layout=Layout(height='25px', width='50%'),…"
      ]
     },
     "metadata": {},
     "output_type": "display_data"
    },
    {
     "name": "stdout",
     "output_type": "stream",
     "text": [
      "['linkedin_Name', 'Linkedin_link', 'Linkedin_website', 'permalink', 'industry', 'headquarter', 'about', 'company_size', 'employee_count', 'year_established', 'logo_url', 'account_type', 'date_updated', 'Linkedin_domain']"
     ]
    }
   ],
   "source": [
    "cmp1.columns"
   ]
  },
  {
   "cell_type": "code",
   "execution_count": 12,
   "metadata": {
    "execution": {
     "iopub.execute_input": "2024-09-27T08:46:05.346630Z",
     "iopub.status.busy": "2024-09-27T08:46:05.346345Z",
     "iopub.status.idle": "2024-09-27T08:46:05.602329Z",
     "shell.execute_reply": "2024-09-27T08:46:05.601426Z",
     "shell.execute_reply.started": "2024-09-27T08:46:05.346598Z"
    },
    "tags": []
   },
   "outputs": [
    {
     "data": {
      "application/vnd.jupyter.widget-view+json": {
       "model_id": "27c8e9a06ec64d648ca6a433ac40d25e",
       "version_major": 2,
       "version_minor": 0
      },
      "text/plain": [
       "VBox()"
      ]
     },
     "metadata": {},
     "output_type": "display_data"
    },
    {
     "data": {
      "application/vnd.jupyter.widget-view+json": {
       "model_id": "",
       "version_major": 2,
       "version_minor": 0
      },
      "text/plain": [
       "FloatProgress(value=0.0, bar_style='info', description='Progress:', layout=Layout(height='25px', width='50%'),…"
      ]
     },
     "metadata": {},
     "output_type": "display_data"
    }
   ],
   "source": [
    "main_df=df1.join(cmp1,df1['domain_url']==cmp1['Linkedin_domain'],how=\"left\")#.distinct().drop(\"Linkedin_domain\").filter(col('Domain URL')!=\"linkedin.com\")"
   ]
  },
  {
   "cell_type": "code",
   "execution_count": 13,
   "metadata": {
    "execution": {
     "iopub.execute_input": "2024-09-27T08:46:09.568873Z",
     "iopub.status.busy": "2024-09-27T08:46:09.568594Z",
     "iopub.status.idle": "2024-09-27T08:46:09.626396Z",
     "shell.execute_reply": "2024-09-27T08:46:09.625396Z",
     "shell.execute_reply.started": "2024-09-27T08:46:09.568839Z"
    },
    "tags": []
   },
   "outputs": [
    {
     "data": {
      "application/vnd.jupyter.widget-view+json": {
       "model_id": "e8ab60acbf6140b1bcf74388abef1d50",
       "version_major": 2,
       "version_minor": 0
      },
      "text/plain": [
       "VBox()"
      ]
     },
     "metadata": {},
     "output_type": "display_data"
    },
    {
     "data": {
      "application/vnd.jupyter.widget-view+json": {
       "model_id": "",
       "version_major": 2,
       "version_minor": 0
      },
      "text/plain": [
       "FloatProgress(value=0.0, bar_style='info', description='Progress:', layout=Layout(height='25px', width='50%'),…"
      ]
     },
     "metadata": {},
     "output_type": "display_data"
    },
    {
     "name": "stdout",
     "output_type": "stream",
     "text": [
      "['Name', 'Cleaned Url', 'Linkedin Link', 'domain_url', 'linkedin_Name', 'Linkedin_link', 'Linkedin_website', 'permalink', 'industry', 'headquarter', 'about', 'company_size', 'employee_count', 'year_established', 'logo_url', 'account_type', 'date_updated', 'Linkedin_domain']"
     ]
    }
   ],
   "source": [
    "main_df.columns"
   ]
  },
  {
   "cell_type": "code",
   "execution_count": 14,
   "metadata": {
    "execution": {
     "iopub.execute_input": "2024-09-27T08:46:12.936950Z",
     "iopub.status.busy": "2024-09-27T08:46:12.936612Z",
     "iopub.status.idle": "2024-09-27T08:46:38.295949Z",
     "shell.execute_reply": "2024-09-27T08:46:38.295015Z",
     "shell.execute_reply.started": "2024-09-27T08:46:12.936909Z"
    },
    "tags": []
   },
   "outputs": [
    {
     "data": {
      "application/vnd.jupyter.widget-view+json": {
       "model_id": "7e1d646b08a1474da5f99c4cad6fb0e8",
       "version_major": 2,
       "version_minor": 0
      },
      "text/plain": [
       "VBox()"
      ]
     },
     "metadata": {},
     "output_type": "display_data"
    },
    {
     "data": {
      "application/vnd.jupyter.widget-view+json": {
       "model_id": "",
       "version_major": 2,
       "version_minor": 0
      },
      "text/plain": [
       "FloatProgress(value=0.0, bar_style='info', description='Progress:', layout=Layout(height='25px', width='50%'),…"
      ]
     },
     "metadata": {},
     "output_type": "display_data"
    },
    {
     "name": "stdout",
     "output_type": "stream",
     "text": [
      "20508860"
     ]
    }
   ],
   "source": [
    "main_df.count()"
   ]
  },
  {
   "cell_type": "code",
   "execution_count": 15,
   "metadata": {
    "execution": {
     "iopub.execute_input": "2024-09-27T08:47:37.340486Z",
     "iopub.status.busy": "2024-09-27T08:47:37.340212Z",
     "iopub.status.idle": "2024-09-27T08:47:54.669613Z",
     "shell.execute_reply": "2024-09-27T08:47:54.668607Z",
     "shell.execute_reply.started": "2024-09-27T08:47:37.340453Z"
    },
    "tags": []
   },
   "outputs": [
    {
     "data": {
      "application/vnd.jupyter.widget-view+json": {
       "model_id": "87d8358e693f4afbb4672a14009982db",
       "version_major": 2,
       "version_minor": 0
      },
      "text/plain": [
       "VBox()"
      ]
     },
     "metadata": {},
     "output_type": "display_data"
    },
    {
     "data": {
      "application/vnd.jupyter.widget-view+json": {
       "model_id": "",
       "version_major": 2,
       "version_minor": 0
      },
      "text/plain": [
       "FloatProgress(value=0.0, bar_style='info', description='Progress:', layout=Layout(height='25px', width='50%'),…"
      ]
     },
     "metadata": {},
     "output_type": "display_data"
    },
    {
     "name": "stdout",
     "output_type": "stream",
     "text": [
      "+---------------+--------+\n",
      "|domain_url     |count   |\n",
      "+---------------+--------+\n",
      "|linkedin.com   |20507634|\n",
      "|in.linkedin.com|648     |\n",
      "|NULL           |351     |\n",
      "|uk.linkedin.com|172     |\n",
      "|es.linkedin.com|54      |\n",
      "|gt.linkedin.com|1       |\n",
      "+---------------+--------+"
     ]
    }
   ],
   "source": [
    "main_df.groupBy(\"domain_url\").count().orderBy('count',ascending=False).show(truncate = False)"
   ]
  },
  {
   "cell_type": "code",
   "execution_count": 16,
   "metadata": {
    "execution": {
     "iopub.execute_input": "2024-09-27T08:47:54.671865Z",
     "iopub.status.busy": "2024-09-27T08:47:54.671531Z",
     "iopub.status.idle": "2024-09-27T08:47:54.940427Z",
     "shell.execute_reply": "2024-09-27T08:47:54.939284Z",
     "shell.execute_reply.started": "2024-09-27T08:47:54.671824Z"
    },
    "tags": []
   },
   "outputs": [
    {
     "data": {
      "application/vnd.jupyter.widget-view+json": {
       "model_id": "f5889d897131495bb59a32b8b71fcbfb",
       "version_major": 2,
       "version_minor": 0
      },
      "text/plain": [
       "VBox()"
      ]
     },
     "metadata": {},
     "output_type": "display_data"
    },
    {
     "data": {
      "application/vnd.jupyter.widget-view+json": {
       "model_id": "",
       "version_major": 2,
       "version_minor": 0
      },
      "text/plain": [
       "FloatProgress(value=0.0, bar_style='info', description='Progress:', layout=Layout(height='25px', width='50%'),…"
      ]
     },
     "metadata": {},
     "output_type": "display_data"
    }
   ],
   "source": [
    "main_df1 = main_df.groupBy(\"domain_url\").count().orderBy('count',ascending=False).filter(F.col(\"count\") <=5)"
   ]
  },
  {
   "cell_type": "code",
   "execution_count": 17,
   "metadata": {
    "execution": {
     "iopub.execute_input": "2024-09-27T08:47:54.943186Z",
     "iopub.status.busy": "2024-09-27T08:47:54.942885Z",
     "iopub.status.idle": "2024-09-27T08:47:55.004615Z",
     "shell.execute_reply": "2024-09-27T08:47:55.003572Z",
     "shell.execute_reply.started": "2024-09-27T08:47:54.943147Z"
    },
    "tags": []
   },
   "outputs": [
    {
     "data": {
      "application/vnd.jupyter.widget-view+json": {
       "model_id": "bad15eab1e6c4c2e97b9d21b9613f59e",
       "version_major": 2,
       "version_minor": 0
      },
      "text/plain": [
       "VBox()"
      ]
     },
     "metadata": {},
     "output_type": "display_data"
    },
    {
     "data": {
      "application/vnd.jupyter.widget-view+json": {
       "model_id": "",
       "version_major": 2,
       "version_minor": 0
      },
      "text/plain": [
       "FloatProgress(value=0.0, bar_style='info', description='Progress:', layout=Layout(height='25px', width='50%'),…"
      ]
     },
     "metadata": {},
     "output_type": "display_data"
    }
   ],
   "source": [
    "df1 = df1.withColumnRenamed(\"domain_url\", \"domain_url1\")"
   ]
  },
  {
   "cell_type": "code",
   "execution_count": 18,
   "metadata": {
    "execution": {
     "iopub.execute_input": "2024-09-27T08:47:55.006593Z",
     "iopub.status.busy": "2024-09-27T08:47:55.006284Z",
     "iopub.status.idle": "2024-09-27T08:47:55.269535Z",
     "shell.execute_reply": "2024-09-27T08:47:55.268554Z",
     "shell.execute_reply.started": "2024-09-27T08:47:55.006548Z"
    },
    "tags": []
   },
   "outputs": [
    {
     "data": {
      "application/vnd.jupyter.widget-view+json": {
       "model_id": "9eb7110547b8477d83182f39ce9c432b",
       "version_major": 2,
       "version_minor": 0
      },
      "text/plain": [
       "VBox()"
      ]
     },
     "metadata": {},
     "output_type": "display_data"
    },
    {
     "data": {
      "application/vnd.jupyter.widget-view+json": {
       "model_id": "",
       "version_major": 2,
       "version_minor": 0
      },
      "text/plain": [
       "FloatProgress(value=0.0, bar_style='info', description='Progress:', layout=Layout(height='25px', width='50%'),…"
      ]
     },
     "metadata": {},
     "output_type": "display_data"
    }
   ],
   "source": [
    "fin_df = df1.join(main_df1,df1['domain_url1']==main_df1['domain_url'],how=\"left\").drop('domain_url1')"
   ]
  },
  {
   "cell_type": "code",
   "execution_count": 19,
   "metadata": {
    "execution": {
     "iopub.execute_input": "2024-09-27T08:47:55.271090Z",
     "iopub.status.busy": "2024-09-27T08:47:55.270765Z",
     "iopub.status.idle": "2024-09-27T08:47:55.534696Z",
     "shell.execute_reply": "2024-09-27T08:47:55.533610Z",
     "shell.execute_reply.started": "2024-09-27T08:47:55.271052Z"
    },
    "tags": []
   },
   "outputs": [
    {
     "data": {
      "application/vnd.jupyter.widget-view+json": {
       "model_id": "4429ab24c6974965bd3955d4c8e468b5",
       "version_major": 2,
       "version_minor": 0
      },
      "text/plain": [
       "VBox()"
      ]
     },
     "metadata": {},
     "output_type": "display_data"
    },
    {
     "data": {
      "application/vnd.jupyter.widget-view+json": {
       "model_id": "",
       "version_major": 2,
       "version_minor": 0
      },
      "text/plain": [
       "FloatProgress(value=0.0, bar_style='info', description='Progress:', layout=Layout(height='25px', width='50%'),…"
      ]
     },
     "metadata": {},
     "output_type": "display_data"
    }
   ],
   "source": [
    "main_df1 = fin_df.join(cmp1,fin_df['domain_url']==cmp1['Linkedin_domain'],how=\"left\").drop('domain_url1')"
   ]
  },
  {
   "cell_type": "code",
   "execution_count": 20,
   "metadata": {
    "execution": {
     "iopub.execute_input": "2024-09-27T08:47:55.536337Z",
     "iopub.status.busy": "2024-09-27T08:47:55.536090Z",
     "iopub.status.idle": "2024-09-27T08:48:10.873395Z",
     "shell.execute_reply": "2024-09-27T08:48:10.872408Z",
     "shell.execute_reply.started": "2024-09-27T08:47:55.536305Z"
    },
    "tags": []
   },
   "outputs": [
    {
     "data": {
      "application/vnd.jupyter.widget-view+json": {
       "model_id": "6a035c2bb9804ea2acef869d6e896583",
       "version_major": 2,
       "version_minor": 0
      },
      "text/plain": [
       "VBox()"
      ]
     },
     "metadata": {},
     "output_type": "display_data"
    },
    {
     "data": {
      "application/vnd.jupyter.widget-view+json": {
       "model_id": "",
       "version_major": 2,
       "version_minor": 0
      },
      "text/plain": [
       "FloatProgress(value=0.0, bar_style='info', description='Progress:', layout=Layout(height='25px', width='50%'),…"
      ]
     },
     "metadata": {},
     "output_type": "display_data"
    },
    {
     "name": "stdout",
     "output_type": "stream",
     "text": [
      "1048"
     ]
    }
   ],
   "source": [
    "main_df1.count()"
   ]
  },
  {
   "cell_type": "code",
   "execution_count": 22,
   "metadata": {
    "execution": {
     "iopub.execute_input": "2024-09-26T07:11:01.827528Z",
     "iopub.status.busy": "2024-09-26T07:11:01.827258Z",
     "iopub.status.idle": "2024-09-26T07:11:01.885098Z",
     "shell.execute_reply": "2024-09-26T07:11:01.884067Z",
     "shell.execute_reply.started": "2024-09-26T07:11:01.827495Z"
    },
    "tags": []
   },
   "outputs": [
    {
     "data": {
      "application/vnd.jupyter.widget-view+json": {
       "model_id": "25e2ca8fb0ad47e290609532733cfbf7",
       "version_major": 2,
       "version_minor": 0
      },
      "text/plain": [
       "VBox()"
      ]
     },
     "metadata": {},
     "output_type": "display_data"
    },
    {
     "data": {
      "application/vnd.jupyter.widget-view+json": {
       "model_id": "",
       "version_major": 2,
       "version_minor": 0
      },
      "text/plain": [
       "FloatProgress(value=0.0, bar_style='info', description='Progress:', layout=Layout(height='25px', width='50%'),…"
      ]
     },
     "metadata": {},
     "output_type": "display_data"
    },
    {
     "name": "stdout",
     "output_type": "stream",
     "text": [
      "['Company Name', 'Cleaned Company Url', 'domain_url', 'count', 'linkedin_Name', 'Linkedin_link', 'Linkedin_website', 'permalink', 'industry', 'headquarter', 'about', 'company_size', 'employee_count', 'year_established', 'logo_url', 'account_type', 'date_updated', 'Linkedin_domain']"
     ]
    }
   ],
   "source": [
    "main_df1.columns"
   ]
  },
  {
   "cell_type": "code",
   "execution_count": null,
   "metadata": {
    "execution": {
     "iopub.execute_input": "2024-09-26T07:11:18.086693Z",
     "iopub.status.busy": "2024-09-26T07:11:18.086408Z"
    },
    "scrolled": true,
    "tags": []
   },
   "outputs": [
    {
     "data": {
      "application/vnd.jupyter.widget-view+json": {
       "model_id": "67a6c705bbc641f0aea14204038457f7",
       "version_major": 2,
       "version_minor": 0
      },
      "text/plain": [
       "VBox()"
      ]
     },
     "metadata": {},
     "output_type": "display_data"
    },
    {
     "data": {
      "application/vnd.jupyter.widget-view+json": {
       "model_id": "b5bd394b34e04cf284f26ea74f90fdcc",
       "version_major": 2,
       "version_minor": 0
      },
      "text/plain": [
       "FloatProgress(value=0.0, bar_style='info', description='Progress:', layout=Layout(height='25px', width='50%'),…"
      ]
     },
     "metadata": {},
     "output_type": "display_data"
    }
   ],
   "source": [
    "from io import StringIO # python3; python2: BytesIO import boto3\n",
    "import boto3\n",
    "\n",
    "\n",
    "bucket = 'draup-command-center' # already created on S3\n",
    "csv_buffer = StringIO()\n",
    "\n",
    "res2=main_df1.toPandas()\n",
    "res2.to_csv(csv_buffer)\n",
    "s3_resource = boto3.resource('s3')\n",
    "s3_resource.Object(bucket, 'temp/cc/Renukumar_Draup/karthika/output/Linkedin_Details_use_domain_26-09-2024.csv').put(Body=csv_buffer.getvalue())"
   ]
  },
  {
   "cell_type": "markdown",
   "metadata": {},
   "source": [
    "# using name"
   ]
  },
  {
   "cell_type": "code",
   "execution_count": 30,
   "metadata": {
    "execution": {
     "iopub.execute_input": "2024-09-27T08:55:29.951475Z",
     "iopub.status.busy": "2024-09-27T08:55:29.951176Z",
     "iopub.status.idle": "2024-09-27T08:55:30.715607Z",
     "shell.execute_reply": "2024-09-27T08:55:30.714706Z",
     "shell.execute_reply.started": "2024-09-27T08:55:29.951443Z"
    },
    "tags": []
   },
   "outputs": [
    {
     "data": {
      "application/vnd.jupyter.widget-view+json": {
       "model_id": "ca279a17e8dd4ad686fcad85b5bcadde",
       "version_major": 2,
       "version_minor": 0
      },
      "text/plain": [
       "VBox()"
      ]
     },
     "metadata": {},
     "output_type": "display_data"
    },
    {
     "data": {
      "application/vnd.jupyter.widget-view+json": {
       "model_id": "",
       "version_major": 2,
       "version_minor": 0
      },
      "text/plain": [
       "FloatProgress(value=0.0, bar_style='info', description='Progress:', layout=Layout(height='25px', width='50%'),…"
      ]
     },
     "metadata": {},
     "output_type": "display_data"
    }
   ],
   "source": [
    "df=spark.read.csv(\"s3://draup-command-center/temp/cc/Renukumar_Draup/karthika/Input/LinkedIn_permalink_27-09-24.csv\",header = True)"
   ]
  },
  {
   "cell_type": "code",
   "execution_count": 31,
   "metadata": {
    "execution": {
     "iopub.execute_input": "2024-09-27T08:55:30.717208Z",
     "iopub.status.busy": "2024-09-27T08:55:30.716986Z",
     "iopub.status.idle": "2024-09-27T08:55:30.770246Z",
     "shell.execute_reply": "2024-09-27T08:55:30.769321Z",
     "shell.execute_reply.started": "2024-09-27T08:55:30.717177Z"
    },
    "tags": []
   },
   "outputs": [
    {
     "data": {
      "application/vnd.jupyter.widget-view+json": {
       "model_id": "26c4e2db4c884e30baf21491040d0c03",
       "version_major": 2,
       "version_minor": 0
      },
      "text/plain": [
       "VBox()"
      ]
     },
     "metadata": {},
     "output_type": "display_data"
    },
    {
     "data": {
      "application/vnd.jupyter.widget-view+json": {
       "model_id": "",
       "version_major": 2,
       "version_minor": 0
      },
      "text/plain": [
       "FloatProgress(value=0.0, bar_style='info', description='Progress:', layout=Layout(height='25px', width='50%'),…"
      ]
     },
     "metadata": {},
     "output_type": "display_data"
    },
    {
     "name": "stdout",
     "output_type": "stream",
     "text": [
      "['Name', 'Cleaned Url', 'Linkedin Link']"
     ]
    }
   ],
   "source": [
    "df.columns"
   ]
  },
  {
   "cell_type": "code",
   "execution_count": 32,
   "metadata": {
    "execution": {
     "iopub.execute_input": "2024-09-27T08:55:30.772125Z",
     "iopub.status.busy": "2024-09-27T08:55:30.771904Z",
     "iopub.status.idle": "2024-09-27T08:55:31.028284Z",
     "shell.execute_reply": "2024-09-27T08:55:31.027364Z",
     "shell.execute_reply.started": "2024-09-27T08:55:30.772093Z"
    },
    "tags": []
   },
   "outputs": [
    {
     "data": {
      "application/vnd.jupyter.widget-view+json": {
       "model_id": "f0f9ee9ae262497e9f8a5681c8412a23",
       "version_major": 2,
       "version_minor": 0
      },
      "text/plain": [
       "VBox()"
      ]
     },
     "metadata": {},
     "output_type": "display_data"
    },
    {
     "data": {
      "application/vnd.jupyter.widget-view+json": {
       "model_id": "",
       "version_major": 2,
       "version_minor": 0
      },
      "text/plain": [
       "FloatProgress(value=0.0, bar_style='info', description='Progress:', layout=Layout(height='25px', width='50%'),…"
      ]
     },
     "metadata": {},
     "output_type": "display_data"
    },
    {
     "name": "stdout",
     "output_type": "stream",
     "text": [
      "1048"
     ]
    }
   ],
   "source": [
    "df.count()"
   ]
  },
  {
   "cell_type": "code",
   "execution_count": 33,
   "metadata": {
    "execution": {
     "iopub.execute_input": "2024-09-27T08:55:41.710106Z",
     "iopub.status.busy": "2024-09-27T08:55:41.709823Z",
     "iopub.status.idle": "2024-09-27T08:55:41.762218Z",
     "shell.execute_reply": "2024-09-27T08:55:41.761343Z",
     "shell.execute_reply.started": "2024-09-27T08:55:41.710074Z"
    },
    "tags": []
   },
   "outputs": [
    {
     "data": {
      "application/vnd.jupyter.widget-view+json": {
       "model_id": "1d6b7670cb7b47c2aae82b0b787eb185",
       "version_major": 2,
       "version_minor": 0
      },
      "text/plain": [
       "VBox()"
      ]
     },
     "metadata": {},
     "output_type": "display_data"
    },
    {
     "data": {
      "application/vnd.jupyter.widget-view+json": {
       "model_id": "",
       "version_major": 2,
       "version_minor": 0
      },
      "text/plain": [
       "FloatProgress(value=0.0, bar_style='info', description='Progress:', layout=Layout(height='25px', width='50%'),…"
      ]
     },
     "metadata": {},
     "output_type": "display_data"
    }
   ],
   "source": [
    "df1=df.withColumn('lower_name',lower(col('Name')))"
   ]
  },
  {
   "cell_type": "code",
   "execution_count": 34,
   "metadata": {
    "execution": {
     "iopub.execute_input": "2024-09-27T08:55:43.228985Z",
     "iopub.status.busy": "2024-09-27T08:55:43.228713Z",
     "iopub.status.idle": "2024-09-27T08:55:43.281498Z",
     "shell.execute_reply": "2024-09-27T08:55:43.280700Z",
     "shell.execute_reply.started": "2024-09-27T08:55:43.228952Z"
    },
    "tags": []
   },
   "outputs": [
    {
     "data": {
      "application/vnd.jupyter.widget-view+json": {
       "model_id": "707df135d2824884baf213cc0a7df33e",
       "version_major": 2,
       "version_minor": 0
      },
      "text/plain": [
       "VBox()"
      ]
     },
     "metadata": {},
     "output_type": "display_data"
    },
    {
     "data": {
      "application/vnd.jupyter.widget-view+json": {
       "model_id": "",
       "version_major": 2,
       "version_minor": 0
      },
      "text/plain": [
       "FloatProgress(value=0.0, bar_style='info', description='Progress:', layout=Layout(height='25px', width='50%'),…"
      ]
     },
     "metadata": {},
     "output_type": "display_data"
    }
   ],
   "source": [
    "linkedin1=linkedin.withColumn('lower_name_',lower(col('linkedin_Name')))"
   ]
  },
  {
   "cell_type": "code",
   "execution_count": 35,
   "metadata": {
    "execution": {
     "iopub.execute_input": "2024-09-27T08:55:47.000693Z",
     "iopub.status.busy": "2024-09-27T08:55:47.000423Z",
     "iopub.status.idle": "2024-09-27T08:55:47.053736Z",
     "shell.execute_reply": "2024-09-27T08:55:47.052876Z",
     "shell.execute_reply.started": "2024-09-27T08:55:47.000660Z"
    },
    "tags": []
   },
   "outputs": [
    {
     "data": {
      "application/vnd.jupyter.widget-view+json": {
       "model_id": "0fe5a2ab40884c508ad6868fbf73a3fc",
       "version_major": 2,
       "version_minor": 0
      },
      "text/plain": [
       "VBox()"
      ]
     },
     "metadata": {},
     "output_type": "display_data"
    },
    {
     "data": {
      "application/vnd.jupyter.widget-view+json": {
       "model_id": "",
       "version_major": 2,
       "version_minor": 0
      },
      "text/plain": [
       "FloatProgress(value=0.0, bar_style='info', description='Progress:', layout=Layout(height='25px', width='50%'),…"
      ]
     },
     "metadata": {},
     "output_type": "display_data"
    }
   ],
   "source": [
    "fin_df=df1.join(linkedin1,df1[\"lower_name\"]==linkedin1[\"lower_name_\"],how=\"left\").drop(\"lower_name_\",\"lower_name\")"
   ]
  },
  {
   "cell_type": "code",
   "execution_count": 36,
   "metadata": {
    "execution": {
     "iopub.execute_input": "2024-09-27T08:55:49.605081Z",
     "iopub.status.busy": "2024-09-27T08:55:49.604818Z",
     "iopub.status.idle": "2024-09-27T08:56:00.905552Z",
     "shell.execute_reply": "2024-09-27T08:56:00.904578Z",
     "shell.execute_reply.started": "2024-09-27T08:55:49.605049Z"
    },
    "tags": []
   },
   "outputs": [
    {
     "data": {
      "application/vnd.jupyter.widget-view+json": {
       "model_id": "edf4960996bd448d8eea1a1a5d3d38c6",
       "version_major": 2,
       "version_minor": 0
      },
      "text/plain": [
       "VBox()"
      ]
     },
     "metadata": {},
     "output_type": "display_data"
    },
    {
     "data": {
      "application/vnd.jupyter.widget-view+json": {
       "model_id": "",
       "version_major": 2,
       "version_minor": 0
      },
      "text/plain": [
       "FloatProgress(value=0.0, bar_style='info', description='Progress:', layout=Layout(height='25px', width='50%'),…"
      ]
     },
     "metadata": {},
     "output_type": "display_data"
    },
    {
     "name": "stdout",
     "output_type": "stream",
     "text": [
      "1425"
     ]
    }
   ],
   "source": [
    "fin_df.count()"
   ]
  },
  {
   "cell_type": "code",
   "execution_count": 37,
   "metadata": {
    "execution": {
     "iopub.execute_input": "2024-09-27T08:56:04.699221Z",
     "iopub.status.busy": "2024-09-27T08:56:04.698951Z",
     "iopub.status.idle": "2024-09-27T08:56:04.754967Z",
     "shell.execute_reply": "2024-09-27T08:56:04.753975Z",
     "shell.execute_reply.started": "2024-09-27T08:56:04.699188Z"
    },
    "tags": []
   },
   "outputs": [
    {
     "data": {
      "application/vnd.jupyter.widget-view+json": {
       "model_id": "3574cc33b8894225abb7aaf42311d871",
       "version_major": 2,
       "version_minor": 0
      },
      "text/plain": [
       "VBox()"
      ]
     },
     "metadata": {},
     "output_type": "display_data"
    },
    {
     "data": {
      "application/vnd.jupyter.widget-view+json": {
       "model_id": "",
       "version_major": 2,
       "version_minor": 0
      },
      "text/plain": [
       "FloatProgress(value=0.0, bar_style='info', description='Progress:', layout=Layout(height='25px', width='50%'),…"
      ]
     },
     "metadata": {},
     "output_type": "display_data"
    },
    {
     "name": "stdout",
     "output_type": "stream",
     "text": [
      "['Name', 'Cleaned Url', 'Linkedin Link', 'linkedin_Name', 'Linkedin_link', 'Linkedin_website', 'permalink', 'industry', 'headquarter', 'about', 'company_size', 'employee_count', 'year_established', 'logo_url', 'account_type', 'date_updated']"
     ]
    }
   ],
   "source": [
    "fin_df.columns"
   ]
  },
  {
   "cell_type": "code",
   "execution_count": null,
   "metadata": {},
   "outputs": [],
   "source": []
  },
  {
   "cell_type": "code",
   "execution_count": 58,
   "metadata": {
    "execution": {
     "iopub.execute_input": "2024-08-09T06:38:37.698981Z",
     "iopub.status.busy": "2024-08-09T06:38:37.698706Z",
     "iopub.status.idle": "2024-08-09T06:38:37.755889Z",
     "shell.execute_reply": "2024-08-09T06:38:37.755061Z",
     "shell.execute_reply.started": "2024-08-09T06:38:37.698948Z"
    },
    "tags": []
   },
   "outputs": [
    {
     "data": {
      "application/vnd.jupyter.widget-view+json": {
       "model_id": "b778569eb43f459c89b0f240adf57a56",
       "version_major": 2,
       "version_minor": 0
      },
      "text/plain": [
       "VBox()"
      ]
     },
     "metadata": {},
     "output_type": "display_data"
    },
    {
     "data": {
      "application/vnd.jupyter.widget-view+json": {
       "model_id": "",
       "version_major": 2,
       "version_minor": 0
      },
      "text/plain": [
       "FloatProgress(value=0.0, bar_style='info', description='Progress:', layout=Layout(height='25px', width='50%'),…"
      ]
     },
     "metadata": {},
     "output_type": "display_data"
    }
   ],
   "source": [
    "#fin_df1 = fin_df.select('LinkedIn Name','employee_count')"
   ]
  },
  {
   "cell_type": "code",
   "execution_count": 38,
   "metadata": {
    "execution": {
     "iopub.execute_input": "2024-09-27T08:56:23.900154Z",
     "iopub.status.busy": "2024-09-27T08:56:23.899885Z",
     "iopub.status.idle": "2024-09-27T08:57:13.306114Z",
     "shell.execute_reply": "2024-09-27T08:57:13.305085Z",
     "shell.execute_reply.started": "2024-09-27T08:56:23.900122Z"
    },
    "tags": []
   },
   "outputs": [
    {
     "data": {
      "application/vnd.jupyter.widget-view+json": {
       "model_id": "e5e7bbca89924b5d9b2f1e1f0c0c3941",
       "version_major": 2,
       "version_minor": 0
      },
      "text/plain": [
       "VBox()"
      ]
     },
     "metadata": {},
     "output_type": "display_data"
    },
    {
     "data": {
      "application/vnd.jupyter.widget-view+json": {
       "model_id": "",
       "version_major": 2,
       "version_minor": 0
      },
      "text/plain": [
       "FloatProgress(value=0.0, bar_style='info', description='Progress:', layout=Layout(height='25px', width='50%'),…"
      ]
     },
     "metadata": {},
     "output_type": "display_data"
    },
    {
     "name": "stdout",
     "output_type": "stream",
     "text": [
      "{'ResponseMetadata': {'RequestId': '7JF5EMA0H19HDMEK', 'HostId': '2A/leN4Vkb1XMalmTWK1I93vQAlmbqETQof7TGd7N9CoVtL2G0XwW+HMwnivk0fatttFPt5nXQ0pkRj3KrnRjA==', 'HTTPStatusCode': 200, 'HTTPHeaders': {'x-amz-id-2': '2A/leN4Vkb1XMalmTWK1I93vQAlmbqETQof7TGd7N9CoVtL2G0XwW+HMwnivk0fatttFPt5nXQ0pkRj3KrnRjA==', 'x-amz-request-id': '7JF5EMA0H19HDMEK', 'date': 'Fri, 27 Sep 2024 08:57:13 GMT', 'x-amz-expiration': 'expiry-date=\"Thu, 03 Oct 2024 00:00:00 GMT\", rule-id=\"Delete in temp folder\"', 'x-amz-server-side-encryption': 'AES256', 'etag': '\"4f28ff1f72a19381cc2c6ee377935556\"', 'content-length': '0', 'server': 'AmazonS3'}, 'RetryAttempts': 1}, 'Expiration': 'expiry-date=\"Thu, 03 Oct 2024 00:00:00 GMT\", rule-id=\"Delete in temp folder\"', 'ETag': '\"4f28ff1f72a19381cc2c6ee377935556\"', 'ServerSideEncryption': 'AES256'}"
     ]
    }
   ],
   "source": [
    "from io import StringIO # python3; python2: BytesIO import boto3\n",
    "import boto3\n",
    "\n",
    "\n",
    "bucket = 'draup-command-center' # already created on S3\n",
    "csv_buffer = StringIO()\n",
    "\n",
    "res2=fin_df.toPandas()\n",
    "res2.to_csv(csv_buffer)\n",
    "s3_resource = boto3.resource('s3')\n",
    "s3_resource.Object(bucket, 'temp/cc/Renukumar_Draup/karthika/output/Linkedin_Details_use_name_27-09_2024.csv').put(Body=csv_buffer.getvalue())"
   ]
  },
  {
   "cell_type": "code",
   "execution_count": null,
   "metadata": {},
   "outputs": [],
   "source": []
  },
  {
   "cell_type": "code",
   "execution_count": 11,
   "metadata": {
    "execution": {
     "iopub.execute_input": "2024-05-30T07:11:42.848952Z",
     "iopub.status.busy": "2024-05-30T07:11:42.848580Z",
     "iopub.status.idle": "2024-05-30T07:11:43.107808Z",
     "shell.execute_reply": "2024-05-30T07:11:43.106821Z",
     "shell.execute_reply.started": "2024-05-30T07:11:42.848919Z"
    },
    "tags": []
   },
   "outputs": [
    {
     "data": {
      "application/vnd.jupyter.widget-view+json": {
       "model_id": "12a4423c29324077b2f6833a501d5456",
       "version_major": 2,
       "version_minor": 0
      },
      "text/plain": [
       "VBox()"
      ]
     },
     "metadata": {},
     "output_type": "display_data"
    },
    {
     "data": {
      "application/vnd.jupyter.widget-view+json": {
       "model_id": "",
       "version_major": 2,
       "version_minor": 0
      },
      "text/plain": [
       "FloatProgress(value=0.0, bar_style='info', description='Progress:', layout=Layout(height='25px', width='50%'),…"
      ]
     },
     "metadata": {},
     "output_type": "display_data"
    }
   ],
   "source": [
    "from pyspark.sql.functions import udf\n",
    "from pyspark.sql.types import StringType\n",
    "import re\n",
    "\n",
    "\n",
    "def generalize_company_name(name):\n",
    "    name = str(name).lower()\n",
    "    name = re.sub(r'\\([^)]*\\)', '', name)\n",
    "    # end_char = r'[^\\w\\s]+$'\n",
    "    name = re.sub(r'[^\\w\\s]+$', '', name)\n",
    "    # ms_pattern = r'^m/s[^\\w\\s]*\\s*'\n",
    "    name = re.sub(r'^m/s[^\\w\\s]*\\s*', '', name)\n",
    "    name = re.sub(' +', ' ', name)\n",
    "    name = name.strip()\n",
    "    common_terms = [\n",
    "        'PRIVATE.', 'PVT.', 'PVT. LTD.', 'PVT. LTD', 'CO.', 'CORPORATION',\n",
    "        'CORP', 'INC.', 'INC', 'LLC', 'LLLP.', 'LIMITED LIABILITY', 'L.L.C.',\n",
    "        'L.L.P.', 'L.P.', 'L.L.L.P.', 'L.L.L.P', 'LTD.', 'LIMITED.',\n",
    "        'PRIVATE LIMITED.', 'PVT LTD.', 'PVT. LTD.', 'PVT. LTD', 'INDIA.',\n",
    "        'PRIVATE', 'PVT', 'LTD', 'LIMITED', 'PRIVATE LIMITED', 'PVT LTD', 'CO',\n",
    "        'LLP', 'LP', 'LLLP', '&', '\\.', '\\(\\)', '(P)', 'Corporates', 'Corporate'\n",
    "        'SOLUTIONS', 'SOLUTION', 'P.', 'P', '\\.', 'india.', 'india',\n",
    "        'Liabili Ty', 'Servic Es', 'Limi Ted', 'Private.Limited.', 'Limted',\n",
    "        'Lim Ited', 'Lmited', 'Limted', 'L Imited', 'Liability', 'L iability',\n",
    "        'Li ability', 'Lia bility', 'Liab ility', 'Liabi lity', 'Liabil ity',\n",
    "        'Liabilit y', 'L imited', 'Lim ited', 'Limit ed', 'Limite d',\n",
    "        'Services', 'Service', 'PARTNERSHIPS', 'PARTNERSHIP', 'TECHNOLOGIES',\n",
    "        'GROUP', 'TECHNOLOGIE', 'TECHNOLOGY', 'Infotech'\n",
    "    ]\n",
    "    for term in common_terms:\n",
    "        og_name = name\n",
    "        name = re.sub(rf'(?i)\\s{term}$', '', name, flags=re.IGNORECASE).strip()\n",
    "        if og_name != name:\n",
    "            name = generalize_company_name(name)\n",
    "\n",
    "    name = re.sub(' +', ' ', name).replace(\" \",\"\")\n",
    "    return name\n",
    "\n",
    "\n",
    "# Register the UDF with Spark\n",
    "clean_name_udf = udf(generalize_company_name, StringType())\n",
    "\n",
    "cmp = linkedin1.withColumn('cleaned_name', clean_name_udf(linkedin1['lower_name_'])).drop('clean_name')"
   ]
  },
  {
   "cell_type": "code",
   "execution_count": 12,
   "metadata": {
    "execution": {
     "iopub.execute_input": "2024-05-30T07:11:45.863781Z",
     "iopub.status.busy": "2024-05-30T07:11:45.863423Z",
     "iopub.status.idle": "2024-05-30T07:11:46.118617Z",
     "shell.execute_reply": "2024-05-30T07:11:46.117624Z",
     "shell.execute_reply.started": "2024-05-30T07:11:45.863749Z"
    },
    "tags": []
   },
   "outputs": [
    {
     "data": {
      "application/vnd.jupyter.widget-view+json": {
       "model_id": "7e001353e70449ef9b8672a6ab6c9033",
       "version_major": 2,
       "version_minor": 0
      },
      "text/plain": [
       "VBox()"
      ]
     },
     "metadata": {},
     "output_type": "display_data"
    },
    {
     "data": {
      "application/vnd.jupyter.widget-view+json": {
       "model_id": "",
       "version_major": 2,
       "version_minor": 0
      },
      "text/plain": [
       "FloatProgress(value=0.0, bar_style='info', description='Progress:', layout=Layout(height='25px', width='50%'),…"
      ]
     },
     "metadata": {},
     "output_type": "display_data"
    }
   ],
   "source": [
    "join_df=df1.join(cmp,df1[\"lower_name\"]==cmp[\"cleaned_name\"],how=\"left\")"
   ]
  },
  {
   "cell_type": "code",
   "execution_count": 13,
   "metadata": {
    "execution": {
     "iopub.execute_input": "2024-05-30T07:11:48.689984Z",
     "iopub.status.busy": "2024-05-30T07:11:48.689591Z",
     "iopub.status.idle": "2024-05-30T07:12:03.019705Z",
     "shell.execute_reply": "2024-05-30T07:12:03.018252Z",
     "shell.execute_reply.started": "2024-05-30T07:11:48.689950Z"
    },
    "tags": []
   },
   "outputs": [
    {
     "data": {
      "application/vnd.jupyter.widget-view+json": {
       "model_id": "eaa14c46942a4e47ad2fe2849e7f30bc",
       "version_major": 2,
       "version_minor": 0
      },
      "text/plain": [
       "VBox()"
      ]
     },
     "metadata": {},
     "output_type": "display_data"
    },
    {
     "data": {
      "application/vnd.jupyter.widget-view+json": {
       "model_id": "cf6973d586504b32a87a9e2b647576c2",
       "version_major": 2,
       "version_minor": 0
      },
      "text/plain": [
       "FloatProgress(value=0.0, bar_style='info', description='Progress:', layout=Layout(height='25px', width='50%'),…"
      ]
     },
     "metadata": {},
     "output_type": "display_data"
    },
    {
     "name": "stderr",
     "output_type": "stream",
     "text": [
      "Interrupted by user\n"
     ]
    }
   ],
   "source": [
    "join_df.count()"
   ]
  },
  {
   "cell_type": "code",
   "execution_count": 27,
   "metadata": {
    "execution": {
     "iopub.execute_input": "2024-05-30T05:36:29.698437Z",
     "iopub.status.busy": "2024-05-30T05:36:29.698057Z",
     "iopub.status.idle": "2024-05-30T05:36:29.755304Z",
     "shell.execute_reply": "2024-05-30T05:36:29.754120Z",
     "shell.execute_reply.started": "2024-05-30T05:36:29.698406Z"
    }
   },
   "outputs": [
    {
     "data": {
      "application/vnd.jupyter.widget-view+json": {
       "model_id": "5b19ff5987574c1cbdd8ecbddfccc439",
       "version_major": 2,
       "version_minor": 0
      },
      "text/plain": [
       "VBox()"
      ]
     },
     "metadata": {},
     "output_type": "display_data"
    },
    {
     "data": {
      "application/vnd.jupyter.widget-view+json": {
       "model_id": "",
       "version_major": 2,
       "version_minor": 0
      },
      "text/plain": [
       "FloatProgress(value=0.0, bar_style='info', description='Progress:', layout=Layout(height='25px', width='50%'),…"
      ]
     },
     "metadata": {},
     "output_type": "display_data"
    },
    {
     "name": "stdout",
     "output_type": "stream",
     "text": [
      "['Account Name', 'lower_name']"
     ]
    }
   ],
   "source": [
    "df1.columns"
   ]
  },
  {
   "cell_type": "code",
   "execution_count": 14,
   "metadata": {
    "execution": {
     "iopub.execute_input": "2024-05-30T07:12:24.306531Z",
     "iopub.status.busy": "2024-05-30T07:12:24.306153Z",
     "iopub.status.idle": "2024-05-30T07:12:24.358211Z",
     "shell.execute_reply": "2024-05-30T07:12:24.357193Z",
     "shell.execute_reply.started": "2024-05-30T07:12:24.306498Z"
    },
    "tags": []
   },
   "outputs": [
    {
     "data": {
      "application/vnd.jupyter.widget-view+json": {
       "model_id": "03e02d89f21b4a9fba2957522085e418",
       "version_major": 2,
       "version_minor": 0
      },
      "text/plain": [
       "VBox()"
      ]
     },
     "metadata": {},
     "output_type": "display_data"
    },
    {
     "data": {
      "application/vnd.jupyter.widget-view+json": {
       "model_id": "",
       "version_major": 2,
       "version_minor": 0
      },
      "text/plain": [
       "FloatProgress(value=0.0, bar_style='info', description='Progress:', layout=Layout(height='25px', width='50%'),…"
      ]
     },
     "metadata": {},
     "output_type": "display_data"
    },
    {
     "name": "stdout",
     "output_type": "stream",
     "text": [
      "['Account Name', 'lower_name', 'linkedin_Name', 'Linkedin_link', 'Linkedin_website', 'permalink', 'industry', 'headquarter', 'about', 'company_size', 'employee_count', 'year_established', 'logo_url', 'account_type', 'date_updated', 'lower_name_', 'cleaned_name']"
     ]
    }
   ],
   "source": [
    "join_df.columns"
   ]
  },
  {
   "cell_type": "code",
   "execution_count": null,
   "metadata": {},
   "outputs": [],
   "source": []
  },
  {
   "cell_type": "code",
   "execution_count": 15,
   "metadata": {
    "execution": {
     "iopub.execute_input": "2024-05-30T07:12:39.091664Z",
     "iopub.status.busy": "2024-05-30T07:12:39.091309Z",
     "iopub.status.idle": "2024-05-30T08:12:56.728424Z",
     "shell.execute_reply": "2024-05-30T08:12:56.726991Z",
     "shell.execute_reply.started": "2024-05-30T07:12:39.091632Z"
    },
    "tags": []
   },
   "outputs": [
    {
     "data": {
      "application/vnd.jupyter.widget-view+json": {
       "model_id": "2d4f48a3593d44d6a009068d1caaa8ad",
       "version_major": 2,
       "version_minor": 0
      },
      "text/plain": [
       "VBox()"
      ]
     },
     "metadata": {},
     "output_type": "display_data"
    },
    {
     "data": {
      "application/vnd.jupyter.widget-view+json": {
       "model_id": "",
       "version_major": 2,
       "version_minor": 0
      },
      "text/plain": [
       "FloatProgress(value=0.0, bar_style='info', description='Progress:', layout=Layout(height='25px', width='50%'),…"
      ]
     },
     "metadata": {},
     "output_type": "display_data"
    },
    {
     "name": "stdout",
     "output_type": "stream",
     "text": [
      "{'ResponseMetadata': {'RequestId': '0PHJAPEE50DXHS1T', 'HostId': 'sPBPLo1n9gIJxIO0Cb9OvzkbWq5qVOti0vnQYwzC7kcwkkacqMdc6i5gJMi02Yd3/9f6RGQf4q4=', 'HTTPStatusCode': 200, 'HTTPHeaders': {'x-amz-id-2': 'sPBPLo1n9gIJxIO0Cb9OvzkbWq5qVOti0vnQYwzC7kcwkkacqMdc6i5gJMi02Yd3/9f6RGQf4q4=', 'x-amz-request-id': '0PHJAPEE50DXHS1T', 'date': 'Thu, 30 May 2024 08:12:57 GMT', 'x-amz-expiration': 'expiry-date=\"Wed, 05 Jun 2024 00:00:00 GMT\", rule-id=\"Delete in temp folder\"', 'x-amz-server-side-encryption': 'AES256', 'etag': '\"3ac879349381f5d78984e280f5a4c7f3\"', 'server': 'AmazonS3', 'content-length': '0'}, 'RetryAttempts': 1}, 'Expiration': 'expiry-date=\"Wed, 05 Jun 2024 00:00:00 GMT\", rule-id=\"Delete in temp folder\"', 'ETag': '\"3ac879349381f5d78984e280f5a4c7f3\"', 'ServerSideEncryption': 'AES256'}"
     ]
    }
   ],
   "source": [
    "from io import StringIO # python3; python2: BytesIO import boto3\n",
    "import boto3\n",
    "\n",
    "\n",
    "bucket = 'draup-command-center' # already created on S3\n",
    "csv_buffer = StringIO()\n",
    "\n",
    "res2=join_df.toPandas()\n",
    "res2.to_csv(csv_buffer)\n",
    "s3_resource = boto3.resource('s3')\n",
    "s3_resource.Object(bucket, 'temp/cc/Renukumar_Draup/karthika/output/Linkedin_Details_using_clean_name_30-05_2024.csv').put(Body=csv_buffer.getvalue())"
   ]
  },
  {
   "cell_type": "code",
   "execution_count": null,
   "metadata": {},
   "outputs": [],
   "source": []
  },
  {
   "cell_type": "markdown",
   "metadata": {},
   "source": [
    "# using permalink"
   ]
  },
  {
   "cell_type": "code",
   "execution_count": 5,
   "metadata": {
    "execution": {
     "iopub.execute_input": "2024-09-30T05:33:51.081095Z",
     "iopub.status.busy": "2024-09-30T05:33:51.080827Z",
     "iopub.status.idle": "2024-09-30T05:33:53.354821Z",
     "shell.execute_reply": "2024-09-30T05:33:53.353940Z",
     "shell.execute_reply.started": "2024-09-30T05:33:51.081061Z"
    },
    "tags": []
   },
   "outputs": [
    {
     "data": {
      "application/vnd.jupyter.widget-view+json": {
       "model_id": "798350239f054109a9baedd25ca650ee",
       "version_major": 2,
       "version_minor": 0
      },
      "text/plain": [
       "VBox()"
      ]
     },
     "metadata": {},
     "output_type": "display_data"
    },
    {
     "data": {
      "application/vnd.jupyter.widget-view+json": {
       "model_id": "",
       "version_major": 2,
       "version_minor": 0
      },
      "text/plain": [
       "FloatProgress(value=0.0, bar_style='info', description='Progress:', layout=Layout(height='25px', width='50%'),…"
      ]
     },
     "metadata": {},
     "output_type": "display_data"
    }
   ],
   "source": [
    "df=spark.read.csv(\"s3://draup-command-center/temp/cc/Renukumar_Draup/karthika/Input/linkedin_permalink_input_30-09-2024.csv\",header=True)"
   ]
  },
  {
   "cell_type": "code",
   "execution_count": 6,
   "metadata": {
    "execution": {
     "iopub.execute_input": "2024-09-30T05:33:54.694652Z",
     "iopub.status.busy": "2024-09-30T05:33:54.694393Z",
     "iopub.status.idle": "2024-09-30T05:33:54.749413Z",
     "shell.execute_reply": "2024-09-30T05:33:54.748444Z",
     "shell.execute_reply.started": "2024-09-30T05:33:54.694619Z"
    },
    "tags": []
   },
   "outputs": [
    {
     "data": {
      "application/vnd.jupyter.widget-view+json": {
       "model_id": "f732fbc600e943049e4657e023be9a26",
       "version_major": 2,
       "version_minor": 0
      },
      "text/plain": [
       "VBox()"
      ]
     },
     "metadata": {},
     "output_type": "display_data"
    },
    {
     "data": {
      "application/vnd.jupyter.widget-view+json": {
       "model_id": "",
       "version_major": 2,
       "version_minor": 0
      },
      "text/plain": [
       "FloatProgress(value=0.0, bar_style='info', description='Progress:', layout=Layout(height='25px', width='50%'),…"
      ]
     },
     "metadata": {},
     "output_type": "display_data"
    },
    {
     "name": "stdout",
     "output_type": "stream",
     "text": [
      "['Name', 'Linkedin Url']"
     ]
    }
   ],
   "source": [
    "df.columns"
   ]
  },
  {
   "cell_type": "code",
   "execution_count": 7,
   "metadata": {
    "execution": {
     "iopub.execute_input": "2024-09-30T05:33:57.657488Z",
     "iopub.status.busy": "2024-09-30T05:33:57.657221Z",
     "iopub.status.idle": "2024-09-30T05:33:58.925472Z",
     "shell.execute_reply": "2024-09-30T05:33:58.924620Z",
     "shell.execute_reply.started": "2024-09-30T05:33:57.657455Z"
    },
    "tags": []
   },
   "outputs": [
    {
     "data": {
      "application/vnd.jupyter.widget-view+json": {
       "model_id": "3e62c48fa0ac4808be12d20771893bb6",
       "version_major": 2,
       "version_minor": 0
      },
      "text/plain": [
       "VBox()"
      ]
     },
     "metadata": {},
     "output_type": "display_data"
    },
    {
     "data": {
      "application/vnd.jupyter.widget-view+json": {
       "model_id": "",
       "version_major": 2,
       "version_minor": 0
      },
      "text/plain": [
       "FloatProgress(value=0.0, bar_style='info', description='Progress:', layout=Layout(height='25px', width='50%'),…"
      ]
     },
     "metadata": {},
     "output_type": "display_data"
    },
    {
     "name": "stdout",
     "output_type": "stream",
     "text": [
      "2690"
     ]
    }
   ],
   "source": [
    "df.count()"
   ]
  },
  {
   "cell_type": "code",
   "execution_count": 8,
   "metadata": {
    "execution": {
     "iopub.execute_input": "2024-09-30T05:34:09.331918Z",
     "iopub.status.busy": "2024-09-30T05:34:09.331534Z",
     "iopub.status.idle": "2024-09-30T05:34:09.617683Z",
     "shell.execute_reply": "2024-09-30T05:34:09.616478Z",
     "shell.execute_reply.started": "2024-09-30T05:34:09.331872Z"
    },
    "tags": []
   },
   "outputs": [
    {
     "data": {
      "application/vnd.jupyter.widget-view+json": {
       "model_id": "b079344bd7374e75ba920ec5ae6a406d",
       "version_major": 2,
       "version_minor": 0
      },
      "text/plain": [
       "VBox()"
      ]
     },
     "metadata": {},
     "output_type": "display_data"
    },
    {
     "data": {
      "application/vnd.jupyter.widget-view+json": {
       "model_id": "",
       "version_major": 2,
       "version_minor": 0
      },
      "text/plain": [
       "FloatProgress(value=0.0, bar_style='info', description='Progress:', layout=Layout(height='25px', width='50%'),…"
      ]
     },
     "metadata": {},
     "output_type": "display_data"
    }
   ],
   "source": [
    "# creating permalink\n",
    "from pyspark.sql.functions import udf\n",
    "from pyspark.sql.types import StringType\n",
    "\n",
    "# Define a UDF to extract the domain name from a URL https://www.linkedin.com/company/draupplatform/\n",
    "def extract_parma(url):\n",
    "    try:\n",
    "        if \"/company/\" in url:\n",
    "            url = url.split(\"/company/\")[1].split('/')[0]\n",
    "        elif \"/cmp/\"in url:\n",
    "            url = url.split(\"/cmp/\")[1].split('/')[0]\n",
    "        elif \"/school/\" in url:\n",
    "            url = url.split(\"/school/\")[1].split('/')[0]\n",
    "        elif \"/showcase/\" in url:\n",
    "            url = url.split(\"/showcase/\")[1].split('/')[0]\n",
    "        elif \"/company-beta/\" in url:\n",
    "            url = url.split(\"/company-beta/\")[1].split('/')[0]\n",
    "        elif \"/in/\" in url:\n",
    "            url = url.split(\"/in/\")[1].split('/')[0]\n",
    "        return url\n",
    "    except:\n",
    "        return url\n",
    "\n",
    "# Register the UDF with Spark\n",
    "extract_parma_udf = udf(extract_parma, StringType())\n",
    "\n",
    "df1 = df.withColumn('linkedin_perma', extract_parma_udf(df['Linkedin Url'])).distinct()"
   ]
  },
  {
   "cell_type": "code",
   "execution_count": 9,
   "metadata": {
    "execution": {
     "iopub.execute_input": "2024-09-30T05:34:09.677349Z",
     "iopub.status.busy": "2024-09-30T05:34:09.676950Z",
     "iopub.status.idle": "2024-09-30T05:34:09.748969Z",
     "shell.execute_reply": "2024-09-30T05:34:09.747802Z",
     "shell.execute_reply.started": "2024-09-30T05:34:09.677297Z"
    },
    "tags": []
   },
   "outputs": [
    {
     "data": {
      "application/vnd.jupyter.widget-view+json": {
       "model_id": "7c8147bbc9ff4564b6f786fb56b21051",
       "version_major": 2,
       "version_minor": 0
      },
      "text/plain": [
       "VBox()"
      ]
     },
     "metadata": {},
     "output_type": "display_data"
    },
    {
     "data": {
      "application/vnd.jupyter.widget-view+json": {
       "model_id": "",
       "version_major": 2,
       "version_minor": 0
      },
      "text/plain": [
       "FloatProgress(value=0.0, bar_style='info', description='Progress:', layout=Layout(height='25px', width='50%'),…"
      ]
     },
     "metadata": {},
     "output_type": "display_data"
    },
    {
     "name": "stdout",
     "output_type": "stream",
     "text": [
      "['Name', 'Linkedin Url', 'linkedin_perma']"
     ]
    }
   ],
   "source": [
    "df1.columns"
   ]
  },
  {
   "cell_type": "code",
   "execution_count": 10,
   "metadata": {
    "execution": {
     "iopub.execute_input": "2024-09-30T05:34:11.457419Z",
     "iopub.status.busy": "2024-09-30T05:34:11.457125Z",
     "iopub.status.idle": "2024-09-30T05:34:11.717654Z",
     "shell.execute_reply": "2024-09-30T05:34:11.716782Z",
     "shell.execute_reply.started": "2024-09-30T05:34:11.457385Z"
    },
    "tags": []
   },
   "outputs": [
    {
     "data": {
      "application/vnd.jupyter.widget-view+json": {
       "model_id": "87a5b8f9e3a94cdca797df8a1e958fa9",
       "version_major": 2,
       "version_minor": 0
      },
      "text/plain": [
       "VBox()"
      ]
     },
     "metadata": {},
     "output_type": "display_data"
    },
    {
     "data": {
      "application/vnd.jupyter.widget-view+json": {
       "model_id": "",
       "version_major": 2,
       "version_minor": 0
      },
      "text/plain": [
       "FloatProgress(value=0.0, bar_style='info', description='Progress:', layout=Layout(height='25px', width='50%'),…"
      ]
     },
     "metadata": {},
     "output_type": "display_data"
    }
   ],
   "source": [
    "fin_df=df1.join(linkedin,df1[\"linkedin_perma\"]==linkedin[\"permalink\"],how=\"left\")"
   ]
  },
  {
   "cell_type": "code",
   "execution_count": 11,
   "metadata": {
    "execution": {
     "iopub.execute_input": "2024-09-30T05:34:11.772983Z",
     "iopub.status.busy": "2024-09-30T05:34:11.772681Z",
     "iopub.status.idle": "2024-09-30T05:34:11.828410Z",
     "shell.execute_reply": "2024-09-30T05:34:11.827563Z",
     "shell.execute_reply.started": "2024-09-30T05:34:11.772950Z"
    },
    "tags": []
   },
   "outputs": [
    {
     "data": {
      "application/vnd.jupyter.widget-view+json": {
       "model_id": "2141e574b229498dab2b6b9fbe7a70e6",
       "version_major": 2,
       "version_minor": 0
      },
      "text/plain": [
       "VBox()"
      ]
     },
     "metadata": {},
     "output_type": "display_data"
    },
    {
     "data": {
      "application/vnd.jupyter.widget-view+json": {
       "model_id": "",
       "version_major": 2,
       "version_minor": 0
      },
      "text/plain": [
       "FloatProgress(value=0.0, bar_style='info', description='Progress:', layout=Layout(height='25px', width='50%'),…"
      ]
     },
     "metadata": {},
     "output_type": "display_data"
    },
    {
     "name": "stdout",
     "output_type": "stream",
     "text": [
      "['Name', 'Linkedin Url', 'linkedin_perma', 'linkedin_Name', 'Linkedin_link', 'Linkedin_website', 'permalink', 'industry', 'headquarter', 'about', 'company_size', 'employee_count', 'year_established', 'logo_url', 'account_type', 'date_updated']"
     ]
    }
   ],
   "source": [
    "fin_df.columns"
   ]
  },
  {
   "cell_type": "code",
   "execution_count": 12,
   "metadata": {
    "execution": {
     "iopub.execute_input": "2024-09-30T05:34:13.559596Z",
     "iopub.status.busy": "2024-09-30T05:34:13.559329Z",
     "iopub.status.idle": "2024-09-30T05:34:33.022953Z",
     "shell.execute_reply": "2024-09-30T05:34:33.022023Z",
     "shell.execute_reply.started": "2024-09-30T05:34:13.559563Z"
    },
    "tags": []
   },
   "outputs": [
    {
     "data": {
      "application/vnd.jupyter.widget-view+json": {
       "model_id": "c7bd7e95ab3748308821c02d388d86dc",
       "version_major": 2,
       "version_minor": 0
      },
      "text/plain": [
       "VBox()"
      ]
     },
     "metadata": {},
     "output_type": "display_data"
    },
    {
     "data": {
      "application/vnd.jupyter.widget-view+json": {
       "model_id": "",
       "version_major": 2,
       "version_minor": 0
      },
      "text/plain": [
       "FloatProgress(value=0.0, bar_style='info', description='Progress:', layout=Layout(height='25px', width='50%'),…"
      ]
     },
     "metadata": {},
     "output_type": "display_data"
    },
    {
     "name": "stdout",
     "output_type": "stream",
     "text": [
      "2690"
     ]
    }
   ],
   "source": [
    "fin_df.count()"
   ]
  },
  {
   "cell_type": "code",
   "execution_count": 34,
   "metadata": {
    "execution": {
     "iopub.execute_input": "2024-08-08T11:48:20.737506Z",
     "iopub.status.busy": "2024-08-08T11:48:20.737289Z",
     "iopub.status.idle": "2024-08-08T11:48:20.791465Z",
     "shell.execute_reply": "2024-08-08T11:48:20.790518Z",
     "shell.execute_reply.started": "2024-08-08T11:48:20.737475Z"
    },
    "tags": []
   },
   "outputs": [
    {
     "data": {
      "application/vnd.jupyter.widget-view+json": {
       "model_id": "17c5d76ffe0d49ba8522b9f74ee4189b",
       "version_major": 2,
       "version_minor": 0
      },
      "text/plain": [
       "VBox()"
      ]
     },
     "metadata": {},
     "output_type": "display_data"
    },
    {
     "data": {
      "application/vnd.jupyter.widget-view+json": {
       "model_id": "",
       "version_major": 2,
       "version_minor": 0
      },
      "text/plain": [
       "FloatProgress(value=0.0, bar_style='info', description='Progress:', layout=Layout(height='25px', width='50%'),…"
      ]
     },
     "metadata": {},
     "output_type": "display_data"
    }
   ],
   "source": [
    "#fin_df1 = fin_df[['Company Name', 'Linkedin Url','linkedin_perma','linkedin_Name','Linkedin_website','year_established','headquarter','industry']]"
   ]
  },
  {
   "cell_type": "code",
   "execution_count": 13,
   "metadata": {
    "execution": {
     "iopub.execute_input": "2024-09-30T05:34:42.097876Z",
     "iopub.status.busy": "2024-09-30T05:34:42.097608Z",
     "iopub.status.idle": "2024-09-30T05:35:15.481365Z",
     "shell.execute_reply": "2024-09-30T05:35:15.480319Z",
     "shell.execute_reply.started": "2024-09-30T05:34:42.097844Z"
    },
    "tags": []
   },
   "outputs": [
    {
     "data": {
      "application/vnd.jupyter.widget-view+json": {
       "model_id": "96b90410cdca4a2499785f01f7fd0d5a",
       "version_major": 2,
       "version_minor": 0
      },
      "text/plain": [
       "VBox()"
      ]
     },
     "metadata": {},
     "output_type": "display_data"
    },
    {
     "data": {
      "application/vnd.jupyter.widget-view+json": {
       "model_id": "",
       "version_major": 2,
       "version_minor": 0
      },
      "text/plain": [
       "FloatProgress(value=0.0, bar_style='info', description='Progress:', layout=Layout(height='25px', width='50%'),…"
      ]
     },
     "metadata": {},
     "output_type": "display_data"
    },
    {
     "name": "stdout",
     "output_type": "stream",
     "text": [
      "{'ResponseMetadata': {'RequestId': '4A1CGP8RR9GT4B95', 'HostId': 'x1H+B5WTGoppU8bEVgZJC35ggRUrE/oflPWiZfamSXnFlm47HzujXJiYd4a+w/Kt82DbjfYBA/h6IfAPZzu5wA==', 'HTTPStatusCode': 200, 'HTTPHeaders': {'x-amz-id-2': 'x1H+B5WTGoppU8bEVgZJC35ggRUrE/oflPWiZfamSXnFlm47HzujXJiYd4a+w/Kt82DbjfYBA/h6IfAPZzu5wA==', 'x-amz-request-id': '4A1CGP8RR9GT4B95', 'date': 'Mon, 30 Sep 2024 05:35:16 GMT', 'x-amz-expiration': 'expiry-date=\"Sun, 06 Oct 2024 00:00:00 GMT\", rule-id=\"Delete in temp folder\"', 'x-amz-server-side-encryption': 'AES256', 'etag': '\"982c728fd4e0e725904126029c874c72\"', 'content-length': '0', 'server': 'AmazonS3'}, 'RetryAttempts': 1}, 'Expiration': 'expiry-date=\"Sun, 06 Oct 2024 00:00:00 GMT\", rule-id=\"Delete in temp folder\"', 'ETag': '\"982c728fd4e0e725904126029c874c72\"', 'ServerSideEncryption': 'AES256'}"
     ]
    }
   ],
   "source": [
    "from io import StringIO # python3; python2: BytesIO import boto3\n",
    "import boto3\n",
    "\n",
    "\n",
    "bucket = 'draup-command-center' # already created on S3\n",
    "csv_buffer = StringIO()\n",
    "\n",
    "res2=fin_df.toPandas()\n",
    "res2.to_csv(csv_buffer)\n",
    "s3_resource = boto3.resource('s3')\n",
    "s3_resource.Object(bucket, 'temp/cc/Renukumar_Draup/karthika/output/Linkedin_details_use_permalink_30-09-2024.csv').put(Body=csv_buffer.getvalue())"
   ]
  },
  {
   "cell_type": "code",
   "execution_count": null,
   "metadata": {
    "tags": []
   },
   "outputs": [],
   "source": [
    "linkedin.printSchema()"
   ]
  },
  {
   "cell_type": "code",
   "execution_count": 15,
   "metadata": {
    "execution": {
     "iopub.execute_input": "2024-05-17T05:48:02.729560Z",
     "iopub.status.busy": "2024-05-17T05:48:02.729196Z",
     "iopub.status.idle": "2024-05-17T05:48:02.987226Z",
     "shell.execute_reply": "2024-05-17T05:48:02.986283Z",
     "shell.execute_reply.started": "2024-05-17T05:48:02.729528Z"
    },
    "tags": []
   },
   "outputs": [
    {
     "data": {
      "application/vnd.jupyter.widget-view+json": {
       "model_id": "81df6e9325ea44dc840b99e102650e7a",
       "version_major": 2,
       "version_minor": 0
      },
      "text/plain": [
       "VBox()"
      ]
     },
     "metadata": {},
     "output_type": "display_data"
    },
    {
     "data": {
      "application/vnd.jupyter.widget-view+json": {
       "model_id": "",
       "version_major": 2,
       "version_minor": 0
      },
      "text/plain": [
       "FloatProgress(value=0.0, bar_style='info', description='Progress:', layout=Layout(height='25px', width='50%'),…"
      ]
     },
     "metadata": {},
     "output_type": "display_data"
    }
   ],
   "source": [
    "exp_df=linkedin.select('*', explode(col(\"industry\")).alias('linkedin_industry'))"
   ]
  },
  {
   "cell_type": "code",
   "execution_count": 16,
   "metadata": {
    "execution": {
     "iopub.execute_input": "2024-05-17T05:48:07.949146Z",
     "iopub.status.busy": "2024-05-17T05:48:07.948782Z",
     "iopub.status.idle": "2024-05-17T05:48:08.003053Z",
     "shell.execute_reply": "2024-05-17T05:48:08.001881Z",
     "shell.execute_reply.started": "2024-05-17T05:48:07.949115Z"
    },
    "tags": []
   },
   "outputs": [
    {
     "data": {
      "application/vnd.jupyter.widget-view+json": {
       "model_id": "75f5ea28c43a4379930f202c3f5e93ba",
       "version_major": 2,
       "version_minor": 0
      },
      "text/plain": [
       "VBox()"
      ]
     },
     "metadata": {},
     "output_type": "display_data"
    },
    {
     "data": {
      "application/vnd.jupyter.widget-view+json": {
       "model_id": "",
       "version_major": 2,
       "version_minor": 0
      },
      "text/plain": [
       "FloatProgress(value=0.0, bar_style='info', description='Progress:', layout=Layout(height='25px', width='50%'),…"
      ]
     },
     "metadata": {},
     "output_type": "display_data"
    }
   ],
   "source": [
    "fin_df=exp_df.filter(exp_df.linkedin_industry =='Government Administration')"
   ]
  },
  {
   "cell_type": "code",
   "execution_count": 18,
   "metadata": {
    "execution": {
     "iopub.execute_input": "2024-05-17T05:48:37.926510Z",
     "iopub.status.busy": "2024-05-17T05:48:37.925839Z",
     "iopub.status.idle": "2024-05-17T05:48:43.211973Z",
     "shell.execute_reply": "2024-05-17T05:48:43.210865Z",
     "shell.execute_reply.started": "2024-05-17T05:48:37.926477Z"
    },
    "tags": []
   },
   "outputs": [
    {
     "data": {
      "application/vnd.jupyter.widget-view+json": {
       "model_id": "1fc4693fb0654c829465f3d22641d8e3",
       "version_major": 2,
       "version_minor": 0
      },
      "text/plain": [
       "VBox()"
      ]
     },
     "metadata": {},
     "output_type": "display_data"
    },
    {
     "data": {
      "application/vnd.jupyter.widget-view+json": {
       "model_id": "",
       "version_major": 2,
       "version_minor": 0
      },
      "text/plain": [
       "FloatProgress(value=0.0, bar_style='info', description='Progress:', layout=Layout(height='25px', width='50%'),…"
      ]
     },
     "metadata": {},
     "output_type": "display_data"
    },
    {
     "name": "stdout",
     "output_type": "stream",
     "text": [
      "49108470"
     ]
    }
   ],
   "source": [
    "linkedin.count()"
   ]
  },
  {
   "cell_type": "code",
   "execution_count": 15,
   "metadata": {
    "execution": {
     "iopub.execute_input": "2024-05-13T10:24:34.026956Z",
     "iopub.status.busy": "2024-05-13T10:24:34.026545Z",
     "iopub.status.idle": "2024-05-13T10:25:25.457675Z",
     "shell.execute_reply": "2024-05-13T10:25:25.456728Z",
     "shell.execute_reply.started": "2024-05-13T10:24:34.026924Z"
    }
   },
   "outputs": [
    {
     "data": {
      "application/vnd.jupyter.widget-view+json": {
       "model_id": "dadf9d9bb9bf4aac93d6c08c01b6b25f",
       "version_major": 2,
       "version_minor": 0
      },
      "text/plain": [
       "VBox()"
      ]
     },
     "metadata": {},
     "output_type": "display_data"
    },
    {
     "data": {
      "application/vnd.jupyter.widget-view+json": {
       "model_id": "",
       "version_major": 2,
       "version_minor": 0
      },
      "text/plain": [
       "FloatProgress(value=0.0, bar_style='info', description='Progress:', layout=Layout(height='25px', width='50%'),…"
      ]
     },
     "metadata": {},
     "output_type": "display_data"
    },
    {
     "name": "stdout",
     "output_type": "stream",
     "text": [
      "{'ResponseMetadata': {'RequestId': 'GAQ8R1QAADJZQ3Y0', 'HostId': 'AaRnMWNuJzrFBPmz/G8vqAbaCMJa9ksWV+q3jnVQ4Edr9LyOIsBRCct3D+ryadSKFcvKsGR8t+oC3q0x5croOg==', 'HTTPStatusCode': 200, 'HTTPHeaders': {'x-amz-id-2': 'AaRnMWNuJzrFBPmz/G8vqAbaCMJa9ksWV+q3jnVQ4Edr9LyOIsBRCct3D+ryadSKFcvKsGR8t+oC3q0x5croOg==', 'x-amz-request-id': 'GAQ8R1QAADJZQ3Y0', 'date': 'Mon, 13 May 2024 10:25:23 GMT', 'x-amz-expiration': 'expiry-date=\"Sun, 19 May 2024 00:00:00 GMT\", rule-id=\"Delete in temp folder\"', 'x-amz-server-side-encryption': 'AES256', 'etag': '\"cbaa722d56c0533b0979cf8c30a58623\"', 'server': 'AmazonS3', 'content-length': '0'}, 'RetryAttempts': 1}, 'Expiration': 'expiry-date=\"Sun, 19 May 2024 00:00:00 GMT\", rule-id=\"Delete in temp folder\"', 'ETag': '\"cbaa722d56c0533b0979cf8c30a58623\"', 'ServerSideEncryption': 'AES256'}"
     ]
    }
   ],
   "source": [
    "from io import StringIO # python3; python2: BytesIO import boto3\n",
    "import boto3\n",
    "\n",
    "\n",
    "bucket = 'draup-command-center' # already created on S3\n",
    "csv_buffer = StringIO()\n",
    "\n",
    "res2=fin_df.toPandas()\n",
    "res2.to_csv(csv_buffer)\n",
    "s3_resource = boto3.resource('s3')\n",
    "s3_resource.Object(bucket, 'temp/cc/Renukumar_Draup/Avinash/Output/Linkedin_Government Administration_13-05-2024.csv').put(Body=csv_buffer.getvalue())"
   ]
  },
  {
   "cell_type": "code",
   "execution_count": null,
   "metadata": {},
   "outputs": [],
   "source": []
  },
  {
   "cell_type": "code",
   "execution_count": 36,
   "metadata": {
    "execution": {
     "iopub.execute_input": "2024-08-09T06:28:46.261532Z",
     "iopub.status.busy": "2024-08-09T06:28:46.261247Z",
     "iopub.status.idle": "2024-08-09T06:28:46.315190Z",
     "shell.execute_reply": "2024-08-09T06:28:46.314296Z",
     "shell.execute_reply.started": "2024-08-09T06:28:46.261498Z"
    },
    "tags": []
   },
   "outputs": [
    {
     "data": {
      "application/vnd.jupyter.widget-view+json": {
       "model_id": "455bb8ee12f54c408e5f621b9ede3cb4",
       "version_major": 2,
       "version_minor": 0
      },
      "text/plain": [
       "VBox()"
      ]
     },
     "metadata": {},
     "output_type": "display_data"
    },
    {
     "data": {
      "application/vnd.jupyter.widget-view+json": {
       "model_id": "",
       "version_major": 2,
       "version_minor": 0
      },
      "text/plain": [
       "FloatProgress(value=0.0, bar_style='info', description='Progress:', layout=Layout(height='25px', width='50%'),…"
      ]
     },
     "metadata": {},
     "output_type": "display_data"
    },
    {
     "name": "stdout",
     "output_type": "stream",
     "text": [
      "root\n",
      " |-- linkedin_Name: string (nullable = true)\n",
      " |-- Linkedin_link: string (nullable = true)\n",
      " |-- Linkedin_website: string (nullable = true)\n",
      " |-- permalink: string (nullable = true)\n",
      " |-- industry: array (nullable = true)\n",
      " |    |-- element: string (containsNull = true)\n",
      " |-- headquarter: string (nullable = true)\n",
      " |-- about: string (nullable = true)\n",
      " |-- company_size: string (nullable = true)\n",
      " |-- employee_count: long (nullable = true)\n",
      " |-- year_established: string (nullable = true)\n",
      " |-- logo_url: string (nullable = true)\n",
      " |-- account_type: string (nullable = true)\n",
      " |-- date_updated: string (nullable = true)"
     ]
    }
   ],
   "source": [
    "linkedin.printSchema()"
   ]
  },
  {
   "cell_type": "code",
   "execution_count": 42,
   "metadata": {
    "execution": {
     "iopub.execute_input": "2024-08-09T06:32:45.439936Z",
     "iopub.status.busy": "2024-08-09T06:32:45.439619Z",
     "iopub.status.idle": "2024-08-09T06:32:45.698959Z",
     "shell.execute_reply": "2024-08-09T06:32:45.697999Z",
     "shell.execute_reply.started": "2024-08-09T06:32:45.439901Z"
    },
    "tags": []
   },
   "outputs": [
    {
     "data": {
      "application/vnd.jupyter.widget-view+json": {
       "model_id": "efd356d0a3be4aceb4f56f0629682ef0",
       "version_major": 2,
       "version_minor": 0
      },
      "text/plain": [
       "VBox()"
      ]
     },
     "metadata": {},
     "output_type": "display_data"
    },
    {
     "data": {
      "application/vnd.jupyter.widget-view+json": {
       "model_id": "",
       "version_major": 2,
       "version_minor": 0
      },
      "text/plain": [
       "FloatProgress(value=0.0, bar_style='info', description='Progress:', layout=Layout(height='25px', width='50%'),…"
      ]
     },
     "metadata": {},
     "output_type": "display_data"
    }
   ],
   "source": [
    "group_df = linkedin.groupBy('account_type').count().orderBy(desc('count'))"
   ]
  },
  {
   "cell_type": "code",
   "execution_count": 43,
   "metadata": {
    "execution": {
     "iopub.execute_input": "2024-08-09T06:32:47.949546Z",
     "iopub.status.busy": "2024-08-09T06:32:47.949276Z",
     "iopub.status.idle": "2024-08-09T06:32:48.004156Z",
     "shell.execute_reply": "2024-08-09T06:32:48.003330Z",
     "shell.execute_reply.started": "2024-08-09T06:32:47.949514Z"
    },
    "tags": []
   },
   "outputs": [
    {
     "data": {
      "application/vnd.jupyter.widget-view+json": {
       "model_id": "da21c3057a254f109e57cf23eee45a02",
       "version_major": 2,
       "version_minor": 0
      },
      "text/plain": [
       "VBox()"
      ]
     },
     "metadata": {},
     "output_type": "display_data"
    },
    {
     "data": {
      "application/vnd.jupyter.widget-view+json": {
       "model_id": "",
       "version_major": 2,
       "version_minor": 0
      },
      "text/plain": [
       "FloatProgress(value=0.0, bar_style='info', description='Progress:', layout=Layout(height='25px', width='50%'),…"
      ]
     },
     "metadata": {},
     "output_type": "display_data"
    },
    {
     "name": "stdout",
     "output_type": "stream",
     "text": [
      "['account_type', 'count']"
     ]
    }
   ],
   "source": [
    "group_df.columns"
   ]
  },
  {
   "cell_type": "code",
   "execution_count": 44,
   "metadata": {
    "execution": {
     "iopub.execute_input": "2024-08-09T06:32:52.892116Z",
     "iopub.status.busy": "2024-08-09T06:32:52.891630Z",
     "iopub.status.idle": "2024-08-09T06:33:04.201866Z",
     "shell.execute_reply": "2024-08-09T06:33:04.200842Z",
     "shell.execute_reply.started": "2024-08-09T06:32:52.892082Z"
    },
    "tags": []
   },
   "outputs": [
    {
     "data": {
      "application/vnd.jupyter.widget-view+json": {
       "model_id": "2dafb2abc12d4e4180e2f554e0f1aa58",
       "version_major": 2,
       "version_minor": 0
      },
      "text/plain": [
       "VBox()"
      ]
     },
     "metadata": {},
     "output_type": "display_data"
    },
    {
     "data": {
      "application/vnd.jupyter.widget-view+json": {
       "model_id": "",
       "version_major": 2,
       "version_minor": 0
      },
      "text/plain": [
       "FloatProgress(value=0.0, bar_style='info', description='Progress:', layout=Layout(height='25px', width='50%'),…"
      ]
     },
     "metadata": {},
     "output_type": "display_data"
    },
    {
     "name": "stdout",
     "output_type": "stream",
     "text": [
      "147"
     ]
    }
   ],
   "source": [
    "group_df.count()"
   ]
  },
  {
   "cell_type": "code",
   "execution_count": 45,
   "metadata": {
    "execution": {
     "iopub.execute_input": "2024-08-09T06:33:40.140782Z",
     "iopub.status.busy": "2024-08-09T06:33:40.140515Z",
     "iopub.status.idle": "2024-08-09T06:33:45.430689Z",
     "shell.execute_reply": "2024-08-09T06:33:45.429762Z",
     "shell.execute_reply.started": "2024-08-09T06:33:40.140750Z"
    },
    "tags": []
   },
   "outputs": [
    {
     "data": {
      "application/vnd.jupyter.widget-view+json": {
       "model_id": "8cbbae3d925e457b8bcb3ed269d77277",
       "version_major": 2,
       "version_minor": 0
      },
      "text/plain": [
       "VBox()"
      ]
     },
     "metadata": {},
     "output_type": "display_data"
    },
    {
     "data": {
      "application/vnd.jupyter.widget-view+json": {
       "model_id": "",
       "version_major": 2,
       "version_minor": 0
      },
      "text/plain": [
       "FloatProgress(value=0.0, bar_style='info', description='Progress:', layout=Layout(height='25px', width='50%'),…"
      ]
     },
     "metadata": {},
     "output_type": "display_data"
    },
    {
     "name": "stdout",
     "output_type": "stream",
     "text": [
      "{'ResponseMetadata': {'RequestId': '1ZMWDHM5PCWD1QBM', 'HostId': 'zniNA+A/ImujRfC63ehLyK2I51IuxEG7IAb0/uJbxq9YwTRkmGiDsfnxZ8zrekTxwIRr1RlIX5IMMRBgFPgTzw==', 'HTTPStatusCode': 200, 'HTTPHeaders': {'x-amz-id-2': 'zniNA+A/ImujRfC63ehLyK2I51IuxEG7IAb0/uJbxq9YwTRkmGiDsfnxZ8zrekTxwIRr1RlIX5IMMRBgFPgTzw==', 'x-amz-request-id': '1ZMWDHM5PCWD1QBM', 'date': 'Fri, 09 Aug 2024 06:33:45 GMT', 'x-amz-expiration': 'expiry-date=\"Thu, 15 Aug 2024 00:00:00 GMT\", rule-id=\"Delete in temp folder\"', 'x-amz-server-side-encryption': 'AES256', 'etag': '\"cb95b861710272196f4852a5e093b4d2\"', 'server': 'AmazonS3', 'content-length': '0'}, 'RetryAttempts': 1}, 'Expiration': 'expiry-date=\"Thu, 15 Aug 2024 00:00:00 GMT\", rule-id=\"Delete in temp folder\"', 'ETag': '\"cb95b861710272196f4852a5e093b4d2\"', 'ServerSideEncryption': 'AES256'}"
     ]
    }
   ],
   "source": [
    "from io import StringIO # python3; python2: BytesIO import boto3\n",
    "import boto3\n",
    "\n",
    "\n",
    "bucket = 'draup-command-center' # already created on S3\n",
    "csv_buffer = StringIO()\n",
    "\n",
    "res2=group_df.toPandas()\n",
    "res2.to_csv(csv_buffer)\n",
    "s3_resource = boto3.resource('s3')\n",
    "s3_resource.Object(bucket, 'temp/cc/Renukumar_Draup/karthika/output/Linkedin_account_count_09-08-2024.csv').put(Body=csv_buffer.getvalue())"
   ]
  },
  {
   "cell_type": "code",
   "execution_count": null,
   "metadata": {},
   "outputs": [],
   "source": []
  }
 ],
 "metadata": {
  "kernelspec": {
   "display_name": "PySpark",
   "language": "python",
   "name": "pysparkkernel"
  },
  "language_info": {
   "codemirror_mode": {
    "name": "python",
    "version": 3
   },
   "file_extension": ".py",
   "mimetype": "text/x-python",
   "name": "pyspark",
   "pygments_lexer": "python3"
  }
 },
 "nbformat": 4,
 "nbformat_minor": 4
}
