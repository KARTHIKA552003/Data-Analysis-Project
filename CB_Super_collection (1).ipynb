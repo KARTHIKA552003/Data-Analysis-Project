{
 "cells": [
  {
   "cell_type": "code",
   "execution_count": 1,
   "id": "657686a8-ce72-4736-a2d7-cd57b11ff28d",
   "metadata": {
    "execution": {
     "iopub.execute_input": "2024-09-19T05:36:36.547363Z",
     "iopub.status.busy": "2024-09-19T05:36:36.547004Z",
     "iopub.status.idle": "2024-09-19T05:37:02.162968Z",
     "shell.execute_reply": "2024-09-19T05:37:02.161585Z",
     "shell.execute_reply.started": "2024-09-19T05:36:36.547329Z"
    },
    "tags": []
   },
   "outputs": [
    {
     "data": {
      "application/vnd.jupyter.widget-view+json": {
       "model_id": "193a23ef24a949cea65655d0aa1b7746",
       "version_major": 2,
       "version_minor": 0
      },
      "text/plain": [
       "VBox()"
      ]
     },
     "metadata": {},
     "output_type": "display_data"
    },
    {
     "name": "stdout",
     "output_type": "stream",
     "text": [
      "Starting Spark application\n"
     ]
    },
    {
     "data": {
      "text/html": [
       "<table>\n",
       "<tbody><tr><th>ID</th><th>YARN Application ID</th><th>Kind</th><th>State</th><th>Spark UI</th><th>Driver log</th><th>User</th><th>Current session?</th></tr><tr><td>16</td><td>application_1726718440129_0018</td><td>pyspark</td><td>idle</td><td><a target=\"_blank\" href=\"http://ip-172-22-10-4.us-east-2.compute.internal:20888/proxy/application_1726718440129_0018/\" class=\"emr-proxy-link j-SFO66X0TQ2ZH application_1726718440129_0018\" emr-resource=\"j-SFO66X0TQ2ZH\n",
       "\" application-id=\"application_1726718440129_0018\">Link</a></td><td><a target=\"_blank\" href=\"http://ip-172-22-10-65.us-east-2.compute.internal:8042/node/containerlogs/container_1726718440129_0018_01_000002/user_n-renukumar_rajendran_draup_com\">Link</a></td><td>user_n-renukumar_rajendran_draup_com</td><td>✔</td></tr></tbody></table>"
      ],
      "text/plain": [
       "<IPython.core.display.HTML object>"
      ]
     },
     "metadata": {},
     "output_type": "display_data"
    },
    {
     "data": {
      "application/vnd.jupyter.widget-view+json": {
       "model_id": "",
       "version_major": 2,
       "version_minor": 0
      },
      "text/plain": [
       "FloatProgress(value=0.0, bar_style='info', description='Progress:', layout=Layout(height='25px', width='50%'),…"
      ]
     },
     "metadata": {},
     "output_type": "display_data"
    },
    {
     "name": "stdout",
     "output_type": "stream",
     "text": [
      "SparkSession available as 'spark'.\n"
     ]
    },
    {
     "data": {
      "application/vnd.jupyter.widget-view+json": {
       "model_id": "",
       "version_major": 2,
       "version_minor": 0
      },
      "text/plain": [
       "FloatProgress(value=0.0, bar_style='info', description='Progress:', layout=Layout(height='25px', width='50%'),…"
      ]
     },
     "metadata": {},
     "output_type": "display_data"
    }
   ],
   "source": [
    "#start"
   ]
  },
  {
   "cell_type": "code",
   "execution_count": 2,
   "id": "dd60baac-d880-4929-8d09-4e90899b876a",
   "metadata": {
    "execution": {
     "iopub.execute_input": "2024-09-19T05:37:02.169817Z",
     "iopub.status.busy": "2024-09-19T05:37:02.169431Z",
     "iopub.status.idle": "2024-09-19T05:37:07.486317Z",
     "shell.execute_reply": "2024-09-19T05:37:07.485466Z",
     "shell.execute_reply.started": "2024-09-19T05:37:02.169773Z"
    },
    "tags": []
   },
   "outputs": [
    {
     "data": {
      "application/vnd.jupyter.widget-view+json": {
       "model_id": "60fb95e9f8404037a9766a75814c8920",
       "version_major": 2,
       "version_minor": 0
      },
      "text/plain": [
       "VBox()"
      ]
     },
     "metadata": {},
     "output_type": "display_data"
    },
    {
     "data": {
      "application/vnd.jupyter.widget-view+json": {
       "model_id": "",
       "version_major": 2,
       "version_minor": 0
      },
      "text/plain": [
       "FloatProgress(value=0.0, bar_style='info', description='Progress:', layout=Layout(height='25px', width='50%'),…"
      ]
     },
     "metadata": {},
     "output_type": "display_data"
    },
    {
     "name": "stdout",
     "output_type": "stream",
     "text": [
      "404\n",
      "404\n",
      "/usr/local/lib/python3.9/site-packages/urllib3/connectionpool.py:1063: InsecureRequestWarning: Unverified HTTPS request is being made to host 'gateway.draup.com'. Adding certificate verification is strongly advised. See: https://urllib3.readthedocs.io/en/1.26.x/advanced-usage.html#ssl-warnings\n",
      "  warnings.warn(\n",
      "/usr/local/lib/python3.9/site-packages/urllib3/connectionpool.py:1063: InsecureRequestWarning: Unverified HTTPS request is being made to host 'gateway.draup.com'. Adding certificate verification is strongly advised. See: https://urllib3.readthedocs.io/en/1.26.x/advanced-usage.html#ssl-warnings\n",
      "  warnings.warn("
     ]
    }
   ],
   "source": [
    "sc.addPyFile(\"s3://jobs-emr-etl-config/jobs_run/prod/cc/ML_ETL_Config.py\")\n",
    "from ML_ETL_Config import *\n",
    "utils_module = MlEtlUtils(spark, sc)\n",
    "to_import = [name for name in dir(utils_module) if not (name.startswith('_') | (name==\"spark\") | (name==\"sc\"))]\n",
    "globals().update({name: getattr(utils_module, name) for name in to_import})\n",
    "from pyspark.sql.functions import *"
   ]
  },
  {
   "cell_type": "markdown",
   "id": "2d5673b5-e808-4e0e-8fb2-25ba32803c3c",
   "metadata": {},
   "source": [
    "# Reading CB data"
   ]
  },
  {
   "cell_type": "code",
   "execution_count": 3,
   "id": "67ebee03-5eee-4c4e-abb0-efa2a9ede0a9",
   "metadata": {
    "execution": {
     "iopub.execute_input": "2024-09-19T05:37:07.487757Z",
     "iopub.status.busy": "2024-09-19T05:37:07.487539Z",
     "iopub.status.idle": "2024-09-19T05:37:12.780529Z",
     "shell.execute_reply": "2024-09-19T05:37:12.779627Z",
     "shell.execute_reply.started": "2024-09-19T05:37:07.487726Z"
    },
    "tags": []
   },
   "outputs": [
    {
     "data": {
      "application/vnd.jupyter.widget-view+json": {
       "model_id": "38e76284ecbc4e70a0174dcd3eaa9ba2",
       "version_major": 2,
       "version_minor": 0
      },
      "text/plain": [
       "VBox()"
      ]
     },
     "metadata": {},
     "output_type": "display_data"
    },
    {
     "data": {
      "application/vnd.jupyter.widget-view+json": {
       "model_id": "",
       "version_major": 2,
       "version_minor": 0
      },
      "text/plain": [
       "FloatProgress(value=0.0, bar_style='info', description='Progress:', layout=Layout(height='25px', width='50%'),…"
      ]
     },
     "metadata": {},
     "output_type": "display_data"
    }
   ],
   "source": [
    "company=read_superadmin_collection('crunchbase_daily_sample','crunchbase_merged_collection').selectExpr('cb_markets','company_type','permalink','crunchbase_overview.founded_on','crunchbase_overview.name','crunchbase_overview.legal_name','crunchbase_overview.description','crunchbase_overview.short_description','crunchbase_overview.employee_count','funding_info.num_funding_rounds','funding_rounds.funding_rounds_name','websites.cb_url','websites.homepage_url','websites.domain_url','websites.email','websites.facebook_url','websites.linkedin_url','websites.twitter_url','websites.logo_url','company_markets.category as category','company_markets.category_groups as category_groups','company_industry','markets','headquarters.organizations_location','headquarters.organizations_msa','headquarters.country_code','headquarters.address','headquarters.city','headquarters.regoin','headquarters.state_code','headquarters.organizations_synon_location','ipo_list.stock_exchange_symbol','ipo_list.stock_symbol','investments.investor_info.investor_type')"
   ]
  },
  {
   "cell_type": "code",
   "execution_count": 4,
   "id": "9ec95361-b8b7-4bcb-9dc4-b16ce88fb004",
   "metadata": {
    "execution": {
     "iopub.execute_input": "2024-09-19T05:37:12.781833Z",
     "iopub.status.busy": "2024-09-19T05:37:12.781618Z",
     "iopub.status.idle": "2024-09-19T05:37:13.039964Z",
     "shell.execute_reply": "2024-09-19T05:37:13.039146Z",
     "shell.execute_reply.started": "2024-09-19T05:37:12.781803Z"
    },
    "tags": []
   },
   "outputs": [
    {
     "data": {
      "application/vnd.jupyter.widget-view+json": {
       "model_id": "f46346672d3d49ae8760dac809d4c083",
       "version_major": 2,
       "version_minor": 0
      },
      "text/plain": [
       "VBox()"
      ]
     },
     "metadata": {},
     "output_type": "display_data"
    },
    {
     "data": {
      "application/vnd.jupyter.widget-view+json": {
       "model_id": "",
       "version_major": 2,
       "version_minor": 0
      },
      "text/plain": [
       "FloatProgress(value=0.0, bar_style='info', description='Progress:', layout=Layout(height='25px', width='50%'),…"
      ]
     },
     "metadata": {},
     "output_type": "display_data"
    }
   ],
   "source": [
    "company_str_data=company.select([col(c).cast('string') for c in company.columns]).drop_duplicates()"
   ]
  },
  {
   "cell_type": "code",
   "execution_count": null,
   "id": "4450bfa9-9ed6-4205-8683-c3ef35fcc6e6",
   "metadata": {},
   "outputs": [],
   "source": []
  },
  {
   "cell_type": "markdown",
   "id": "fc7b6c14-179d-4f30-8fb3-dbd4e937e80f",
   "metadata": {},
   "source": [
    "# Permalink Input"
   ]
  },
  {
   "cell_type": "code",
   "execution_count": 10,
   "id": "f34c9903-b6e5-4b24-b22c-d2d621c8f0e8",
   "metadata": {
    "execution": {
     "iopub.execute_input": "2024-09-04T11:32:53.531318Z",
     "iopub.status.busy": "2024-09-04T11:32:53.530999Z",
     "iopub.status.idle": "2024-09-04T11:32:54.295768Z",
     "shell.execute_reply": "2024-09-04T11:32:54.294915Z",
     "shell.execute_reply.started": "2024-09-04T11:32:53.531278Z"
    },
    "tags": []
   },
   "outputs": [
    {
     "data": {
      "application/vnd.jupyter.widget-view+json": {
       "model_id": "6601c4928cfa48d5b14081ccdd3acf06",
       "version_major": 2,
       "version_minor": 0
      },
      "text/plain": [
       "VBox()"
      ]
     },
     "metadata": {},
     "output_type": "display_data"
    },
    {
     "data": {
      "application/vnd.jupyter.widget-view+json": {
       "model_id": "",
       "version_major": 2,
       "version_minor": 0
      },
      "text/plain": [
       "FloatProgress(value=0.0, bar_style='info', description='Progress:', layout=Layout(height='25px', width='50%'),…"
      ]
     },
     "metadata": {},
     "output_type": "display_data"
    }
   ],
   "source": [
    "df=spark.read.csv(\"s3://draup-command-center/temp/cc/Renukumar_Draup/karthika/output/Linkedin_Details_use_domain_URL_03-09-2024.csv\",header=True)"
   ]
  },
  {
   "cell_type": "code",
   "execution_count": 11,
   "id": "81e5b42f-e312-4fa5-bb0b-65a48d6e02b8",
   "metadata": {
    "execution": {
     "iopub.execute_input": "2024-09-04T11:32:55.214910Z",
     "iopub.status.busy": "2024-09-04T11:32:55.214636Z",
     "iopub.status.idle": "2024-09-04T11:32:55.306111Z",
     "shell.execute_reply": "2024-09-04T11:32:55.305054Z",
     "shell.execute_reply.started": "2024-09-04T11:32:55.214878Z"
    },
    "tags": []
   },
   "outputs": [
    {
     "data": {
      "application/vnd.jupyter.widget-view+json": {
       "model_id": "7c8eda98a8a7491e8102114fc1c09e18",
       "version_major": 2,
       "version_minor": 0
      },
      "text/plain": [
       "VBox()"
      ]
     },
     "metadata": {},
     "output_type": "display_data"
    },
    {
     "data": {
      "application/vnd.jupyter.widget-view+json": {
       "model_id": "",
       "version_major": 2,
       "version_minor": 0
      },
      "text/plain": [
       "FloatProgress(value=0.0, bar_style='info', description='Progress:', layout=Layout(height='25px', width='50%'),…"
      ]
     },
     "metadata": {},
     "output_type": "display_data"
    },
    {
     "name": "stdout",
     "output_type": "stream",
     "text": [
      "['_c0', 'Updated Draup Name', 'Cleaned URL', 'domain_url', 'linkedin_Name', 'Linkedin_link', 'Linkedin_website', 'permalink', 'industry', 'headquarter', 'about', 'company_size', 'employee_count', 'year_established', 'logo_url', 'account_type', 'date_updated', 'Linkedin_domain']"
     ]
    }
   ],
   "source": [
    "df.columns"
   ]
  },
  {
   "cell_type": "code",
   "execution_count": 12,
   "id": "9b065b0f-0204-4649-ad19-7237bb8cf4d9",
   "metadata": {
    "execution": {
     "iopub.execute_input": "2024-09-04T11:32:56.423549Z",
     "iopub.status.busy": "2024-09-04T11:32:56.423270Z",
     "iopub.status.idle": "2024-09-04T11:32:57.193186Z",
     "shell.execute_reply": "2024-09-04T11:32:57.192285Z",
     "shell.execute_reply.started": "2024-09-04T11:32:56.423515Z"
    },
    "tags": []
   },
   "outputs": [
    {
     "data": {
      "application/vnd.jupyter.widget-view+json": {
       "model_id": "2ff28915aed24cd09d22b9111d575e04",
       "version_major": 2,
       "version_minor": 0
      },
      "text/plain": [
       "VBox()"
      ]
     },
     "metadata": {},
     "output_type": "display_data"
    },
    {
     "data": {
      "application/vnd.jupyter.widget-view+json": {
       "model_id": "",
       "version_major": 2,
       "version_minor": 0
      },
      "text/plain": [
       "FloatProgress(value=0.0, bar_style='info', description='Progress:', layout=Layout(height='25px', width='50%'),…"
      ]
     },
     "metadata": {},
     "output_type": "display_data"
    },
    {
     "name": "stdout",
     "output_type": "stream",
     "text": [
      "1121"
     ]
    }
   ],
   "source": [
    "df.count()"
   ]
  },
  {
   "cell_type": "code",
   "execution_count": 11,
   "id": "7f9a26d7-6e71-4ea9-8231-5b06e43d17de",
   "metadata": {
    "execution": {
     "iopub.execute_input": "2024-08-20T07:46:15.673755Z",
     "iopub.status.busy": "2024-08-20T07:46:15.673489Z",
     "iopub.status.idle": "2024-08-20T07:46:15.932452Z",
     "shell.execute_reply": "2024-08-20T07:46:15.931609Z",
     "shell.execute_reply.started": "2024-08-20T07:46:15.673722Z"
    },
    "tags": []
   },
   "outputs": [
    {
     "data": {
      "application/vnd.jupyter.widget-view+json": {
       "model_id": "5c937ca12c294ff09a77cf062e68c57f",
       "version_major": 2,
       "version_minor": 0
      },
      "text/plain": [
       "VBox()"
      ]
     },
     "metadata": {},
     "output_type": "display_data"
    },
    {
     "data": {
      "application/vnd.jupyter.widget-view+json": {
       "model_id": "",
       "version_major": 2,
       "version_minor": 0
      },
      "text/plain": [
       "FloatProgress(value=0.0, bar_style='info', description='Progress:', layout=Layout(height='25px', width='50%'),…"
      ]
     },
     "metadata": {},
     "output_type": "display_data"
    }
   ],
   "source": [
    "main_df=df.join(company_str_data,df['CB URL']==company_str_data[\"permalink\"],how=\"left\").distinct()"
   ]
  },
  {
   "cell_type": "code",
   "execution_count": 12,
   "id": "4d3e30b9-cb91-4d00-a00c-14aa6273a81e",
   "metadata": {
    "execution": {
     "iopub.execute_input": "2024-08-20T07:46:17.295425Z",
     "iopub.status.busy": "2024-08-20T07:46:17.295164Z",
     "iopub.status.idle": "2024-08-20T07:46:17.353058Z",
     "shell.execute_reply": "2024-08-20T07:46:17.352044Z",
     "shell.execute_reply.started": "2024-08-20T07:46:17.295393Z"
    },
    "tags": []
   },
   "outputs": [
    {
     "data": {
      "application/vnd.jupyter.widget-view+json": {
       "model_id": "8e125602bcda45a7b6761bc8d2d7a1b9",
       "version_major": 2,
       "version_minor": 0
      },
      "text/plain": [
       "VBox()"
      ]
     },
     "metadata": {},
     "output_type": "display_data"
    },
    {
     "data": {
      "application/vnd.jupyter.widget-view+json": {
       "model_id": "",
       "version_major": 2,
       "version_minor": 0
      },
      "text/plain": [
       "FloatProgress(value=0.0, bar_style='info', description='Progress:', layout=Layout(height='25px', width='50%'),…"
      ]
     },
     "metadata": {},
     "output_type": "display_data"
    },
    {
     "name": "stdout",
     "output_type": "stream",
     "text": [
      "['Company Name', 'CB URL', 'cb_markets', 'company_type', 'permalink', 'founded_on', 'name', 'legal_name', 'description', 'short_description', 'employee_count', 'num_funding_rounds', 'funding_rounds_name', 'cb_url', 'homepage_url', 'domain_url', 'email', 'facebook_url', 'linkedin_url', 'twitter_url', 'logo_url', 'category', 'category_groups', 'company_industry', 'markets', 'organizations_location', 'organizations_msa', 'country_code', 'address', 'city', 'regoin', 'state_code', 'organizations_synon_location', 'stock_exchange_symbol', 'stock_symbol', 'investor_type']"
     ]
    }
   ],
   "source": [
    "main_df.columns"
   ]
  },
  {
   "cell_type": "code",
   "execution_count": 13,
   "id": "6233457d-1a1f-4344-83b3-02bd0f343b20",
   "metadata": {
    "execution": {
     "iopub.execute_input": "2024-08-20T07:46:27.079850Z",
     "iopub.status.busy": "2024-08-20T07:46:27.079500Z",
     "iopub.status.idle": "2024-08-20T07:47:26.527781Z",
     "shell.execute_reply": "2024-08-20T07:47:26.526804Z",
     "shell.execute_reply.started": "2024-08-20T07:46:27.079817Z"
    },
    "tags": []
   },
   "outputs": [
    {
     "data": {
      "application/vnd.jupyter.widget-view+json": {
       "model_id": "401c252fb94440468c38581c72e30c3a",
       "version_major": 2,
       "version_minor": 0
      },
      "text/plain": [
       "VBox()"
      ]
     },
     "metadata": {},
     "output_type": "display_data"
    },
    {
     "data": {
      "application/vnd.jupyter.widget-view+json": {
       "model_id": "",
       "version_major": 2,
       "version_minor": 0
      },
      "text/plain": [
       "FloatProgress(value=0.0, bar_style='info', description='Progress:', layout=Layout(height='25px', width='50%'),…"
      ]
     },
     "metadata": {},
     "output_type": "display_data"
    },
    {
     "name": "stdout",
     "output_type": "stream",
     "text": [
      "390"
     ]
    }
   ],
   "source": [
    "main_df.count()"
   ]
  },
  {
   "cell_type": "code",
   "execution_count": null,
   "id": "6b02ad15-abe4-4422-865c-c92ef4876a42",
   "metadata": {
    "execution": {
     "iopub.execute_input": "2024-08-20T07:47:48.871236Z",
     "iopub.status.busy": "2024-08-20T07:47:48.870972Z"
    },
    "tags": []
   },
   "outputs": [
    {
     "data": {
      "application/vnd.jupyter.widget-view+json": {
       "model_id": "1ddf5358ab3649129b3da933b05e60be",
       "version_major": 2,
       "version_minor": 0
      },
      "text/plain": [
       "VBox()"
      ]
     },
     "metadata": {},
     "output_type": "display_data"
    },
    {
     "data": {
      "application/vnd.jupyter.widget-view+json": {
       "model_id": "",
       "version_major": 2,
       "version_minor": 0
      },
      "text/plain": [
       "FloatProgress(value=0.0, bar_style='info', description='Progress:', layout=Layout(height='25px', width='50%'),…"
      ]
     },
     "metadata": {},
     "output_type": "display_data"
    }
   ],
   "source": [
    "from io import StringIO # python3; python2: BytesIO import boto3\n",
    "import boto3\n",
    "\n",
    "\n",
    "bucket = 'draup-command-center' # already created on S3\n",
    "csv_buffer = StringIO()\n",
    "\n",
    "res2=main_df.toPandas()\n",
    "res2.to_csv(csv_buffer)\n",
    "s3_resource = boto3.resource('s3')\n",
    "s3_resource.Object(bucket, 'temp/cc/Renukumar_Draup/karthika/output/CB_Details_use_permalinks_data_20-08-2024.csv').put(Body=csv_buffer.getvalue())"
   ]
  },
  {
   "cell_type": "code",
   "execution_count": null,
   "id": "c403b5b0-2993-42d6-a03c-f7959b205bc9",
   "metadata": {},
   "outputs": [],
   "source": []
  },
  {
   "cell_type": "code",
   "execution_count": null,
   "id": "e4329535-68b2-4de8-a35a-839e3028c902",
   "metadata": {},
   "outputs": [],
   "source": []
  },
  {
   "cell_type": "markdown",
   "id": "fd725f4a-9af6-46c0-98c9-3af13f78cad7",
   "metadata": {},
   "source": [
    "# Domain input"
   ]
  },
  {
   "cell_type": "code",
   "execution_count": 5,
   "id": "03620501-79d2-4ce1-bd3b-1f77360496d1",
   "metadata": {
    "execution": {
     "iopub.execute_input": "2024-09-19T05:37:13.041892Z",
     "iopub.status.busy": "2024-09-19T05:37:13.041672Z",
     "iopub.status.idle": "2024-09-19T05:37:15.318084Z",
     "shell.execute_reply": "2024-09-19T05:37:15.317258Z",
     "shell.execute_reply.started": "2024-09-19T05:37:13.041861Z"
    },
    "tags": []
   },
   "outputs": [
    {
     "data": {
      "application/vnd.jupyter.widget-view+json": {
       "model_id": "45a3729c2a124438801f66d20f856767",
       "version_major": 2,
       "version_minor": 0
      },
      "text/plain": [
       "VBox()"
      ]
     },
     "metadata": {},
     "output_type": "display_data"
    },
    {
     "data": {
      "application/vnd.jupyter.widget-view+json": {
       "model_id": "",
       "version_major": 2,
       "version_minor": 0
      },
      "text/plain": [
       "FloatProgress(value=0.0, bar_style='info', description='Progress:', layout=Layout(height='25px', width='50%'),…"
      ]
     },
     "metadata": {},
     "output_type": "display_data"
    }
   ],
   "source": [
    "df=spark.read.csv(\"s3://draup-command-center/temp/cc/Renukumar_Draup/karthika/Input/linkedin_CB_19-09-24.csv\",header=True)"
   ]
  },
  {
   "cell_type": "code",
   "execution_count": 6,
   "id": "0151bfa1-1e47-409a-a076-a6ca8a05743a",
   "metadata": {
    "execution": {
     "iopub.execute_input": "2024-09-19T05:37:15.319703Z",
     "iopub.status.busy": "2024-09-19T05:37:15.319484Z",
     "iopub.status.idle": "2024-09-19T05:37:15.407778Z",
     "shell.execute_reply": "2024-09-19T05:37:15.406561Z",
     "shell.execute_reply.started": "2024-09-19T05:37:15.319672Z"
    },
    "tags": []
   },
   "outputs": [
    {
     "data": {
      "application/vnd.jupyter.widget-view+json": {
       "model_id": "a2cea164cf3245e68db8981941979960",
       "version_major": 2,
       "version_minor": 0
      },
      "text/plain": [
       "VBox()"
      ]
     },
     "metadata": {},
     "output_type": "display_data"
    },
    {
     "data": {
      "application/vnd.jupyter.widget-view+json": {
       "model_id": "",
       "version_major": 2,
       "version_minor": 0
      },
      "text/plain": [
       "FloatProgress(value=0.0, bar_style='info', description='Progress:', layout=Layout(height='25px', width='50%'),…"
      ]
     },
     "metadata": {},
     "output_type": "display_data"
    },
    {
     "name": "stdout",
     "output_type": "stream",
     "text": [
      "['Company Name', 'Cleaned Company Url']"
     ]
    }
   ],
   "source": [
    "df.columns"
   ]
  },
  {
   "cell_type": "code",
   "execution_count": 7,
   "id": "976aa9fa-0da6-4233-b9f8-843ec9fa14fd",
   "metadata": {
    "execution": {
     "iopub.execute_input": "2024-09-19T05:37:15.409281Z",
     "iopub.status.busy": "2024-09-19T05:37:15.409030Z",
     "iopub.status.idle": "2024-09-19T05:37:16.259270Z",
     "shell.execute_reply": "2024-09-19T05:37:16.258285Z",
     "shell.execute_reply.started": "2024-09-19T05:37:15.409250Z"
    },
    "tags": []
   },
   "outputs": [
    {
     "data": {
      "application/vnd.jupyter.widget-view+json": {
       "model_id": "7d2c311faa9e40e08d70a1a4736ba863",
       "version_major": 2,
       "version_minor": 0
      },
      "text/plain": [
       "VBox()"
      ]
     },
     "metadata": {},
     "output_type": "display_data"
    },
    {
     "data": {
      "application/vnd.jupyter.widget-view+json": {
       "model_id": "",
       "version_major": 2,
       "version_minor": 0
      },
      "text/plain": [
       "FloatProgress(value=0.0, bar_style='info', description='Progress:', layout=Layout(height='25px', width='50%'),…"
      ]
     },
     "metadata": {},
     "output_type": "display_data"
    },
    {
     "name": "stdout",
     "output_type": "stream",
     "text": [
      "876"
     ]
    }
   ],
   "source": [
    "df.count()"
   ]
  },
  {
   "cell_type": "code",
   "execution_count": 8,
   "id": "bd0f87a2-b98d-494d-9ce9-9f2755a6365e",
   "metadata": {
    "execution": {
     "iopub.execute_input": "2024-09-19T05:37:54.501515Z",
     "iopub.status.busy": "2024-09-19T05:37:54.501172Z",
     "iopub.status.idle": "2024-09-19T05:37:54.766259Z",
     "shell.execute_reply": "2024-09-19T05:37:54.765345Z",
     "shell.execute_reply.started": "2024-09-19T05:37:54.501471Z"
    },
    "tags": []
   },
   "outputs": [
    {
     "data": {
      "application/vnd.jupyter.widget-view+json": {
       "model_id": "54774938940b41d3a4a5b683733a7a44",
       "version_major": 2,
       "version_minor": 0
      },
      "text/plain": [
       "VBox()"
      ]
     },
     "metadata": {},
     "output_type": "display_data"
    },
    {
     "data": {
      "application/vnd.jupyter.widget-view+json": {
       "model_id": "",
       "version_major": 2,
       "version_minor": 0
      },
      "text/plain": [
       "FloatProgress(value=0.0, bar_style='info', description='Progress:', layout=Layout(height='25px', width='50%'),…"
      ]
     },
     "metadata": {},
     "output_type": "display_data"
    }
   ],
   "source": [
    "#cleaning domain urls\n",
    "from pyspark.sql.functions import udf\n",
    "from pyspark.sql.types import StringType\n",
    "\n",
    "# Define a UDF to extract the domain name from a URL https://www.linkedin.com/company/draupplatform/\n",
    "def extract_parma(url):\n",
    "    try:\n",
    "        if \"www.\" in url:\n",
    "            url = url.split(\"www.\")[1].split('/')[0]\n",
    "        elif \"//\"in url:\n",
    "            url = url.split(\"//\")[1].split('/')[0]\n",
    "        return url\n",
    "    except:\n",
    "        return url\n",
    "\n",
    "# Register the UDF with Spark\n",
    "extract_parma_udf = udf(extract_parma, StringType())\n",
    "\n",
    "df1 = df.withColumn('cleaned_domain', extract_parma_udf(df['Cleaned Company Url']))"
   ]
  },
  {
   "cell_type": "code",
   "execution_count": 9,
   "id": "3ac14f92-e5fd-432d-977a-5909f4495a6a",
   "metadata": {
    "execution": {
     "iopub.execute_input": "2024-09-19T05:37:55.150690Z",
     "iopub.status.busy": "2024-09-19T05:37:55.150411Z",
     "iopub.status.idle": "2024-09-19T05:37:55.413854Z",
     "shell.execute_reply": "2024-09-19T05:37:55.412827Z",
     "shell.execute_reply.started": "2024-09-19T05:37:55.150657Z"
    },
    "tags": []
   },
   "outputs": [
    {
     "data": {
      "application/vnd.jupyter.widget-view+json": {
       "model_id": "fb7c7e8deee84c56aa58a481ee0bfb84",
       "version_major": 2,
       "version_minor": 0
      },
      "text/plain": [
       "VBox()"
      ]
     },
     "metadata": {},
     "output_type": "display_data"
    },
    {
     "data": {
      "application/vnd.jupyter.widget-view+json": {
       "model_id": "",
       "version_major": 2,
       "version_minor": 0
      },
      "text/plain": [
       "FloatProgress(value=0.0, bar_style='info', description='Progress:', layout=Layout(height='25px', width='50%'),…"
      ]
     },
     "metadata": {},
     "output_type": "display_data"
    }
   ],
   "source": [
    "fin_df=df1.join(company_str_data,df1[\"cleaned_domain\"]==company_str_data[\"domain_url\"],how=\"left\").distinct()"
   ]
  },
  {
   "cell_type": "code",
   "execution_count": 10,
   "id": "c1584dc1-bdd5-4006-8321-fce624443925",
   "metadata": {
    "execution": {
     "iopub.execute_input": "2024-09-19T05:37:55.604520Z",
     "iopub.status.busy": "2024-09-19T05:37:55.604216Z",
     "iopub.status.idle": "2024-09-19T05:37:55.669320Z",
     "shell.execute_reply": "2024-09-19T05:37:55.668248Z",
     "shell.execute_reply.started": "2024-09-19T05:37:55.604485Z"
    },
    "tags": []
   },
   "outputs": [
    {
     "data": {
      "application/vnd.jupyter.widget-view+json": {
       "model_id": "6b9e3c39269c4532beb9d9d02b165e94",
       "version_major": 2,
       "version_minor": 0
      },
      "text/plain": [
       "VBox()"
      ]
     },
     "metadata": {},
     "output_type": "display_data"
    },
    {
     "data": {
      "application/vnd.jupyter.widget-view+json": {
       "model_id": "",
       "version_major": 2,
       "version_minor": 0
      },
      "text/plain": [
       "FloatProgress(value=0.0, bar_style='info', description='Progress:', layout=Layout(height='25px', width='50%'),…"
      ]
     },
     "metadata": {},
     "output_type": "display_data"
    },
    {
     "name": "stdout",
     "output_type": "stream",
     "text": [
      "['Company Name', 'Cleaned Company Url', 'cleaned_domain', 'cb_markets', 'company_type', 'permalink', 'founded_on', 'name', 'legal_name', 'description', 'short_description', 'employee_count', 'num_funding_rounds', 'funding_rounds_name', 'cb_url', 'homepage_url', 'domain_url', 'email', 'facebook_url', 'linkedin_url', 'twitter_url', 'logo_url', 'category', 'category_groups', 'company_industry', 'markets', 'organizations_location', 'organizations_msa', 'country_code', 'address', 'city', 'regoin', 'state_code', 'organizations_synon_location', 'stock_exchange_symbol', 'stock_symbol', 'investor_type']"
     ]
    }
   ],
   "source": [
    "fin_df.columns"
   ]
  },
  {
   "cell_type": "code",
   "execution_count": 11,
   "id": "9b9c863e-13d3-4311-a474-e8efc924c66f",
   "metadata": {
    "execution": {
     "iopub.execute_input": "2024-09-19T05:37:56.866651Z",
     "iopub.status.busy": "2024-09-19T05:37:56.866358Z",
     "iopub.status.idle": "2024-09-19T05:39:40.450539Z",
     "shell.execute_reply": "2024-09-19T05:39:40.449620Z",
     "shell.execute_reply.started": "2024-09-19T05:37:56.866618Z"
    },
    "tags": []
   },
   "outputs": [
    {
     "data": {
      "application/vnd.jupyter.widget-view+json": {
       "model_id": "0e647c18243b4362a79f344844ca41c8",
       "version_major": 2,
       "version_minor": 0
      },
      "text/plain": [
       "VBox()"
      ]
     },
     "metadata": {},
     "output_type": "display_data"
    },
    {
     "data": {
      "application/vnd.jupyter.widget-view+json": {
       "model_id": "",
       "version_major": 2,
       "version_minor": 0
      },
      "text/plain": [
       "FloatProgress(value=0.0, bar_style='info', description='Progress:', layout=Layout(height='25px', width='50%'),…"
      ]
     },
     "metadata": {},
     "output_type": "display_data"
    },
    {
     "name": "stdout",
     "output_type": "stream",
     "text": [
      "896"
     ]
    }
   ],
   "source": [
    "fin_df.count()"
   ]
  },
  {
   "cell_type": "code",
   "execution_count": 12,
   "id": "2bec27f3-668b-41b4-b7cc-9513a184ceac",
   "metadata": {
    "execution": {
     "iopub.execute_input": "2024-09-19T05:39:58.050441Z",
     "iopub.status.busy": "2024-09-19T05:39:58.050162Z",
     "iopub.status.idle": "2024-09-19T05:40:45.495327Z",
     "shell.execute_reply": "2024-09-19T05:40:45.494418Z",
     "shell.execute_reply.started": "2024-09-19T05:39:58.050407Z"
    },
    "tags": []
   },
   "outputs": [
    {
     "data": {
      "application/vnd.jupyter.widget-view+json": {
       "model_id": "3c42af1c692347c58745618f3ebe8210",
       "version_major": 2,
       "version_minor": 0
      },
      "text/plain": [
       "VBox()"
      ]
     },
     "metadata": {},
     "output_type": "display_data"
    },
    {
     "data": {
      "application/vnd.jupyter.widget-view+json": {
       "model_id": "",
       "version_major": 2,
       "version_minor": 0
      },
      "text/plain": [
       "FloatProgress(value=0.0, bar_style='info', description='Progress:', layout=Layout(height='25px', width='50%'),…"
      ]
     },
     "metadata": {},
     "output_type": "display_data"
    },
    {
     "name": "stdout",
     "output_type": "stream",
     "text": [
      "{'ResponseMetadata': {'RequestId': 'BHADG921BH8YNRJH', 'HostId': '6Eb4CxFmsP898IkD7Mbj6KGWjGlQ7vNFI44+s6iJiUdY6J+DkqZzvnAt0bekb5OVoXB1t+GpDcs=', 'HTTPStatusCode': 200, 'HTTPHeaders': {'x-amz-id-2': '6Eb4CxFmsP898IkD7Mbj6KGWjGlQ7vNFI44+s6iJiUdY6J+DkqZzvnAt0bekb5OVoXB1t+GpDcs=', 'x-amz-request-id': 'BHADG921BH8YNRJH', 'date': 'Thu, 19 Sep 2024 05:40:44 GMT', 'x-amz-expiration': 'expiry-date=\"Wed, 25 Sep 2024 00:00:00 GMT\", rule-id=\"Delete in temp folder\"', 'x-amz-server-side-encryption': 'AES256', 'etag': '\"1f7ed827b67db2fad4e4453fdcff66ac\"', 'server': 'AmazonS3', 'content-length': '0'}, 'RetryAttempts': 1}, 'Expiration': 'expiry-date=\"Wed, 25 Sep 2024 00:00:00 GMT\", rule-id=\"Delete in temp folder\"', 'ETag': '\"1f7ed827b67db2fad4e4453fdcff66ac\"', 'ServerSideEncryption': 'AES256'}"
     ]
    }
   ],
   "source": [
    "from io import StringIO # python3; python2: BytesIO import boto3\n",
    "import boto3\n",
    "\n",
    "\n",
    "bucket = 'draup-command-center' # already created on S3\n",
    "csv_buffer = StringIO()\n",
    "\n",
    "res2=fin_df.toPandas()\n",
    "res2.to_csv(csv_buffer)\n",
    "s3_resource = boto3.resource('s3')\n",
    "s3_resource.Object(bucket, 'temp/cc/Renukumar_Draup/karthika/output/CB_Details_use_domain_19-09-2024.csv').put(Body=csv_buffer.getvalue())"
   ]
  },
  {
   "cell_type": "markdown",
   "id": "241e8dce-b13f-4186-9d90-7a827a63f09b",
   "metadata": {},
   "source": [
    "# Name match"
   ]
  },
  {
   "cell_type": "code",
   "execution_count": 13,
   "id": "f7cfb3bd-0c4d-4079-94b0-fe0a3420a21d",
   "metadata": {
    "execution": {
     "iopub.execute_input": "2024-09-17T09:47:43.578941Z",
     "iopub.status.busy": "2024-09-17T09:47:43.578675Z",
     "iopub.status.idle": "2024-09-17T09:47:50.863939Z",
     "shell.execute_reply": "2024-09-17T09:47:50.862863Z",
     "shell.execute_reply.started": "2024-09-17T09:47:43.578909Z"
    },
    "tags": []
   },
   "outputs": [
    {
     "data": {
      "application/vnd.jupyter.widget-view+json": {
       "model_id": "d45cd2446ac64243a35ed6ae14d78b11",
       "version_major": 2,
       "version_minor": 0
      },
      "text/plain": [
       "VBox()"
      ]
     },
     "metadata": {},
     "output_type": "display_data"
    },
    {
     "data": {
      "application/vnd.jupyter.widget-view+json": {
       "model_id": "",
       "version_major": 2,
       "version_minor": 0
      },
      "text/plain": [
       "FloatProgress(value=0.0, bar_style='info', description='Progress:', layout=Layout(height='25px', width='50%'),…"
      ]
     },
     "metadata": {},
     "output_type": "display_data"
    }
   ],
   "source": [
    "df=spark.read.csv(\"s3://draup-command-center/temp/cc/Renukumar_Draup/karthika/Input/Linkedin_domin_input_17_09_2024.csv\",header=True)"
   ]
  },
  {
   "cell_type": "code",
   "execution_count": 14,
   "id": "b9cc7a59-cc04-4dec-aa8b-d0f886599be3",
   "metadata": {
    "execution": {
     "iopub.execute_input": "2024-09-17T09:47:50.865623Z",
     "iopub.status.busy": "2024-09-17T09:47:50.865392Z",
     "iopub.status.idle": "2024-09-17T09:47:50.922742Z",
     "shell.execute_reply": "2024-09-17T09:47:50.921659Z",
     "shell.execute_reply.started": "2024-09-17T09:47:50.865591Z"
    },
    "tags": []
   },
   "outputs": [
    {
     "data": {
      "application/vnd.jupyter.widget-view+json": {
       "model_id": "998f6e058efe495dacd90680cd8c3f6a",
       "version_major": 2,
       "version_minor": 0
      },
      "text/plain": [
       "VBox()"
      ]
     },
     "metadata": {},
     "output_type": "display_data"
    },
    {
     "data": {
      "application/vnd.jupyter.widget-view+json": {
       "model_id": "",
       "version_major": 2,
       "version_minor": 0
      },
      "text/plain": [
       "FloatProgress(value=0.0, bar_style='info', description='Progress:', layout=Layout(height='25px', width='50%'),…"
      ]
     },
     "metadata": {},
     "output_type": "display_data"
    },
    {
     "name": "stdout",
     "output_type": "stream",
     "text": [
      "['S.No', 'Company Name', 'Website']"
     ]
    }
   ],
   "source": [
    "df.columns"
   ]
  },
  {
   "cell_type": "code",
   "execution_count": 17,
   "id": "6d0c364b-3d70-4460-99ac-40725b4ec4a9",
   "metadata": {
    "execution": {
     "iopub.execute_input": "2024-09-17T09:48:15.293550Z",
     "iopub.status.busy": "2024-09-17T09:48:15.293278Z",
     "iopub.status.idle": "2024-09-17T09:48:15.350134Z",
     "shell.execute_reply": "2024-09-17T09:48:15.349203Z",
     "shell.execute_reply.started": "2024-09-17T09:48:15.293518Z"
    },
    "tags": []
   },
   "outputs": [
    {
     "data": {
      "application/vnd.jupyter.widget-view+json": {
       "model_id": "222838b60b504729819d4f3142cb5df1",
       "version_major": 2,
       "version_minor": 0
      },
      "text/plain": [
       "VBox()"
      ]
     },
     "metadata": {},
     "output_type": "display_data"
    },
    {
     "data": {
      "application/vnd.jupyter.widget-view+json": {
       "model_id": "",
       "version_major": 2,
       "version_minor": 0
      },
      "text/plain": [
       "FloatProgress(value=0.0, bar_style='info', description='Progress:', layout=Layout(height='25px', width='50%'),…"
      ]
     },
     "metadata": {},
     "output_type": "display_data"
    }
   ],
   "source": [
    "df1=df.withColumn('lower_name',lower(col('Company Name')))"
   ]
  },
  {
   "cell_type": "code",
   "execution_count": 18,
   "id": "b9cbb986-e52a-43bb-90c0-a45712010cdb",
   "metadata": {
    "execution": {
     "iopub.execute_input": "2024-09-17T09:48:16.668652Z",
     "iopub.status.busy": "2024-09-17T09:48:16.668381Z",
     "iopub.status.idle": "2024-09-17T09:48:16.722938Z",
     "shell.execute_reply": "2024-09-17T09:48:16.722070Z",
     "shell.execute_reply.started": "2024-09-17T09:48:16.668619Z"
    },
    "tags": []
   },
   "outputs": [
    {
     "data": {
      "application/vnd.jupyter.widget-view+json": {
       "model_id": "54276de36d9c45b484855292e2fb5b49",
       "version_major": 2,
       "version_minor": 0
      },
      "text/plain": [
       "VBox()"
      ]
     },
     "metadata": {},
     "output_type": "display_data"
    },
    {
     "data": {
      "application/vnd.jupyter.widget-view+json": {
       "model_id": "",
       "version_major": 2,
       "version_minor": 0
      },
      "text/plain": [
       "FloatProgress(value=0.0, bar_style='info', description='Progress:', layout=Layout(height='25px', width='50%'),…"
      ]
     },
     "metadata": {},
     "output_type": "display_data"
    }
   ],
   "source": [
    "company_str_data1=company_str_data.withColumn('lower_name_',lower(col('name')))"
   ]
  },
  {
   "cell_type": "code",
   "execution_count": 19,
   "id": "a0907cef-e5b4-4693-a22e-4c02c50cd6bc",
   "metadata": {
    "execution": {
     "iopub.execute_input": "2024-09-17T09:48:17.627914Z",
     "iopub.status.busy": "2024-09-17T09:48:17.627641Z",
     "iopub.status.idle": "2024-09-17T09:48:17.895481Z",
     "shell.execute_reply": "2024-09-17T09:48:17.894481Z",
     "shell.execute_reply.started": "2024-09-17T09:48:17.627882Z"
    },
    "tags": []
   },
   "outputs": [
    {
     "data": {
      "application/vnd.jupyter.widget-view+json": {
       "model_id": "2cb883406d7742fcb7252781aaf3974d",
       "version_major": 2,
       "version_minor": 0
      },
      "text/plain": [
       "VBox()"
      ]
     },
     "metadata": {},
     "output_type": "display_data"
    },
    {
     "data": {
      "application/vnd.jupyter.widget-view+json": {
       "model_id": "",
       "version_major": 2,
       "version_minor": 0
      },
      "text/plain": [
       "FloatProgress(value=0.0, bar_style='info', description='Progress:', layout=Layout(height='25px', width='50%'),…"
      ]
     },
     "metadata": {},
     "output_type": "display_data"
    }
   ],
   "source": [
    "fin_df=df1.join(company_str_data1,df1[\"lower_name\"]==company_str_data1[\"lower_name_\"],how=\"left\").drop(\"lower_name_\",\"lower_name\")"
   ]
  },
  {
   "cell_type": "code",
   "execution_count": 20,
   "id": "46e325d2-ca2b-44bf-b0ee-76a588ac6354",
   "metadata": {
    "execution": {
     "iopub.execute_input": "2024-09-17T09:48:22.930860Z",
     "iopub.status.busy": "2024-09-17T09:48:22.930571Z",
     "iopub.status.idle": "2024-09-17T09:48:22.986747Z",
     "shell.execute_reply": "2024-09-17T09:48:22.985641Z",
     "shell.execute_reply.started": "2024-09-17T09:48:22.930827Z"
    },
    "tags": []
   },
   "outputs": [
    {
     "data": {
      "application/vnd.jupyter.widget-view+json": {
       "model_id": "62d555c5b9d647e2949fd2dfd9742f9f",
       "version_major": 2,
       "version_minor": 0
      },
      "text/plain": [
       "VBox()"
      ]
     },
     "metadata": {},
     "output_type": "display_data"
    },
    {
     "data": {
      "application/vnd.jupyter.widget-view+json": {
       "model_id": "",
       "version_major": 2,
       "version_minor": 0
      },
      "text/plain": [
       "FloatProgress(value=0.0, bar_style='info', description='Progress:', layout=Layout(height='25px', width='50%'),…"
      ]
     },
     "metadata": {},
     "output_type": "display_data"
    },
    {
     "name": "stdout",
     "output_type": "stream",
     "text": [
      "['S.No', 'Company Name', 'Website', 'cb_markets', 'company_type', 'permalink', 'founded_on', 'name', 'legal_name', 'description', 'short_description', 'employee_count', 'num_funding_rounds', 'funding_rounds_name', 'cb_url', 'homepage_url', 'domain_url', 'email', 'facebook_url', 'linkedin_url', 'twitter_url', 'logo_url', 'category', 'category_groups', 'company_industry', 'markets', 'organizations_location', 'organizations_msa', 'country_code', 'address', 'city', 'regoin', 'state_code', 'organizations_synon_location', 'stock_exchange_symbol', 'stock_symbol', 'investor_type']"
     ]
    }
   ],
   "source": [
    "fin_df.columns"
   ]
  },
  {
   "cell_type": "code",
   "execution_count": 21,
   "id": "9b5ba505-2c1e-46b3-834a-ed28dcdc7169",
   "metadata": {
    "execution": {
     "iopub.execute_input": "2024-09-17T09:48:33.693360Z",
     "iopub.status.busy": "2024-09-17T09:48:33.693092Z",
     "iopub.status.idle": "2024-09-17T09:49:07.078683Z",
     "shell.execute_reply": "2024-09-17T09:49:07.077781Z",
     "shell.execute_reply.started": "2024-09-17T09:48:33.693328Z"
    }
   },
   "outputs": [
    {
     "data": {
      "application/vnd.jupyter.widget-view+json": {
       "model_id": "61a226ae7f1945bf911b9829d040031b",
       "version_major": 2,
       "version_minor": 0
      },
      "text/plain": [
       "VBox()"
      ]
     },
     "metadata": {},
     "output_type": "display_data"
    },
    {
     "data": {
      "application/vnd.jupyter.widget-view+json": {
       "model_id": "",
       "version_major": 2,
       "version_minor": 0
      },
      "text/plain": [
       "FloatProgress(value=0.0, bar_style='info', description='Progress:', layout=Layout(height='25px', width='50%'),…"
      ]
     },
     "metadata": {},
     "output_type": "display_data"
    },
    {
     "name": "stdout",
     "output_type": "stream",
     "text": [
      "122"
     ]
    }
   ],
   "source": [
    "fin_df.count()"
   ]
  },
  {
   "cell_type": "code",
   "execution_count": 22,
   "id": "672b20a4-3ec7-4cf8-bf23-3d82d054685c",
   "metadata": {
    "execution": {
     "iopub.execute_input": "2024-09-17T09:49:14.001638Z",
     "iopub.status.busy": "2024-09-17T09:49:14.001373Z",
     "iopub.status.idle": "2024-09-17T09:49:37.334232Z",
     "shell.execute_reply": "2024-09-17T09:49:37.333398Z",
     "shell.execute_reply.started": "2024-09-17T09:49:14.001606Z"
    },
    "tags": []
   },
   "outputs": [
    {
     "data": {
      "application/vnd.jupyter.widget-view+json": {
       "model_id": "7d7284a28cc64d82af5d6eea4d5be271",
       "version_major": 2,
       "version_minor": 0
      },
      "text/plain": [
       "VBox()"
      ]
     },
     "metadata": {},
     "output_type": "display_data"
    },
    {
     "data": {
      "application/vnd.jupyter.widget-view+json": {
       "model_id": "",
       "version_major": 2,
       "version_minor": 0
      },
      "text/plain": [
       "FloatProgress(value=0.0, bar_style='info', description='Progress:', layout=Layout(height='25px', width='50%'),…"
      ]
     },
     "metadata": {},
     "output_type": "display_data"
    },
    {
     "name": "stdout",
     "output_type": "stream",
     "text": [
      "{'ResponseMetadata': {'RequestId': '207NKA2ZDGN7NFWQ', 'HostId': 'arOL9loRSriQ9zoBUf18GEzftDln+/reBpnGudS+L4ZIUUedKk4fN5Q95NrAooE2AZBS4TsB2o4=', 'HTTPStatusCode': 200, 'HTTPHeaders': {'x-amz-id-2': 'arOL9loRSriQ9zoBUf18GEzftDln+/reBpnGudS+L4ZIUUedKk4fN5Q95NrAooE2AZBS4TsB2o4=', 'x-amz-request-id': '207NKA2ZDGN7NFWQ', 'date': 'Tue, 17 Sep 2024 09:49:37 GMT', 'x-amz-expiration': 'expiry-date=\"Mon, 23 Sep 2024 00:00:00 GMT\", rule-id=\"Delete in temp folder\"', 'x-amz-server-side-encryption': 'AES256', 'etag': '\"b308711192c79f9297b28f4ec65d3381\"', 'server': 'AmazonS3', 'content-length': '0'}, 'RetryAttempts': 1}, 'Expiration': 'expiry-date=\"Mon, 23 Sep 2024 00:00:00 GMT\", rule-id=\"Delete in temp folder\"', 'ETag': '\"b308711192c79f9297b28f4ec65d3381\"', 'ServerSideEncryption': 'AES256'}"
     ]
    }
   ],
   "source": [
    "from io import StringIO # python3; python2: BytesIO import boto3\n",
    "import boto3\n",
    "\n",
    "\n",
    "bucket = 'draup-command-center' # already created on S3\n",
    "csv_buffer = StringIO()\n",
    "\n",
    "res2=fin_df.toPandas()\n",
    "res2.to_csv(csv_buffer)\n",
    "s3_resource = boto3.resource('s3')\n",
    "s3_resource.Object(bucket, 'temp/cc/Renukumar_Draup/karthika/output/CB_Details_using_name_17-09-2024.csv').put(Body=csv_buffer.getvalue())"
   ]
  },
  {
   "cell_type": "code",
   "execution_count": 14,
   "id": "42716e32-878a-40e5-9806-60ffff6eee51",
   "metadata": {
    "execution": {
     "iopub.execute_input": "2024-05-14T07:19:35.003412Z",
     "iopub.status.busy": "2024-05-14T07:19:35.003050Z",
     "iopub.status.idle": "2024-05-14T07:19:35.765249Z",
     "shell.execute_reply": "2024-05-14T07:19:35.764282Z",
     "shell.execute_reply.started": "2024-05-14T07:19:35.003381Z"
    },
    "tags": []
   },
   "outputs": [
    {
     "data": {
      "application/vnd.jupyter.widget-view+json": {
       "model_id": "9c78cf58c3364b378a15c5227eb7f13a",
       "version_major": 2,
       "version_minor": 0
      },
      "text/plain": [
       "VBox()"
      ]
     },
     "metadata": {},
     "output_type": "display_data"
    },
    {
     "data": {
      "application/vnd.jupyter.widget-view+json": {
       "model_id": "",
       "version_major": 2,
       "version_minor": 0
      },
      "text/plain": [
       "FloatProgress(value=0.0, bar_style='info', description='Progress:', layout=Layout(height='25px', width='50%'),…"
      ]
     },
     "metadata": {},
     "output_type": "display_data"
    }
   ],
   "source": [
    "company=read_superadmin_collection('crunchbase_daily_sample','crunchbase_merged_collection').selectExpr('cb_markets','company_type','permalink','crunchbase_overview.founded_on','crunchbase_overview.name','crunchbase_overview.legal_name','crunchbase_overview.description','crunchbase_overview.short_description','websites.cb_url','websites.homepage_url','websites.domain_url','websites.facebook_url','websites.linkedin_url','websites.twitter_url','company_industry','markets','headquarters.organizations_location','headquarters.organizations_msa','headquarters.country_code')"
   ]
  },
  {
   "cell_type": "code",
   "execution_count": 15,
   "id": "6e0072e9-80a4-4da2-9d80-ac4a46ae0106",
   "metadata": {
    "execution": {
     "iopub.execute_input": "2024-05-14T07:19:36.117672Z",
     "iopub.status.busy": "2024-05-14T07:19:36.117314Z",
     "iopub.status.idle": "2024-05-14T07:19:36.172460Z",
     "shell.execute_reply": "2024-05-14T07:19:36.171187Z",
     "shell.execute_reply.started": "2024-05-14T07:19:36.117641Z"
    },
    "tags": []
   },
   "outputs": [
    {
     "data": {
      "application/vnd.jupyter.widget-view+json": {
       "model_id": "4e5e9198f43b40f2b325953773dcb8ab",
       "version_major": 2,
       "version_minor": 0
      },
      "text/plain": [
       "VBox()"
      ]
     },
     "metadata": {},
     "output_type": "display_data"
    },
    {
     "data": {
      "application/vnd.jupyter.widget-view+json": {
       "model_id": "",
       "version_major": 2,
       "version_minor": 0
      },
      "text/plain": [
       "FloatProgress(value=0.0, bar_style='info', description='Progress:', layout=Layout(height='25px', width='50%'),…"
      ]
     },
     "metadata": {},
     "output_type": "display_data"
    },
    {
     "name": "stdout",
     "output_type": "stream",
     "text": [
      "['cb_markets', 'company_type', 'permalink', 'founded_on', 'name', 'legal_name', 'description', 'short_description', 'cb_url', 'homepage_url', 'domain_url', 'facebook_url', 'linkedin_url', 'twitter_url', 'company_industry', 'markets', 'organizations_location', 'organizations_msa', 'country_code']"
     ]
    }
   ],
   "source": [
    "company.columns"
   ]
  },
  {
   "cell_type": "code",
   "execution_count": 18,
   "id": "5f6cc423-061b-4afe-b622-b7c78cb9cfdb",
   "metadata": {
    "execution": {
     "iopub.execute_input": "2024-05-14T07:21:37.510879Z",
     "iopub.status.busy": "2024-05-14T07:21:37.510357Z",
     "iopub.status.idle": "2024-05-14T07:21:37.762619Z",
     "shell.execute_reply": "2024-05-14T07:21:37.761676Z",
     "shell.execute_reply.started": "2024-05-14T07:21:37.510846Z"
    }
   },
   "outputs": [
    {
     "data": {
      "application/vnd.jupyter.widget-view+json": {
       "model_id": "9e089504218c41948cbc10f2d96df5e9",
       "version_major": 2,
       "version_minor": 0
      },
      "text/plain": [
       "VBox()"
      ]
     },
     "metadata": {},
     "output_type": "display_data"
    },
    {
     "data": {
      "application/vnd.jupyter.widget-view+json": {
       "model_id": "",
       "version_major": 2,
       "version_minor": 0
      },
      "text/plain": [
       "FloatProgress(value=0.0, bar_style='info', description='Progress:', layout=Layout(height='25px', width='50%'),…"
      ]
     },
     "metadata": {},
     "output_type": "display_data"
    }
   ],
   "source": [
    "company_str_data=company.select([col(c).cast('string') for c in company.columns])"
   ]
  },
  {
   "cell_type": "code",
   "execution_count": null,
   "id": "1616808f-bf7e-4a70-ad02-6a114e3da362",
   "metadata": {
    "execution": {
     "iopub.execute_input": "2024-05-14T07:11:37.415954Z",
     "iopub.status.busy": "2024-05-14T07:11:37.415570Z"
    },
    "tags": []
   },
   "outputs": [
    {
     "data": {
      "application/vnd.jupyter.widget-view+json": {
       "model_id": "c026dee4c7aa45acbe6c424bee1dfdc1",
       "version_major": 2,
       "version_minor": 0
      },
      "text/plain": [
       "VBox()"
      ]
     },
     "metadata": {},
     "output_type": "display_data"
    },
    {
     "data": {
      "application/vnd.jupyter.widget-view+json": {
       "model_id": "",
       "version_major": 2,
       "version_minor": 0
      },
      "text/plain": [
       "FloatProgress(value=0.0, bar_style='info', description='Progress:', layout=Layout(height='25px', width='50%'),…"
      ]
     },
     "metadata": {},
     "output_type": "display_data"
    },
    {
     "name": "stdout",
     "output_type": "stream",
     "text": [
      "3431489"
     ]
    }
   ],
   "source": [
    "company.count()"
   ]
  },
  {
   "cell_type": "code",
   "execution_count": 19,
   "id": "6ec1baa9-04b5-4552-ba0f-93cc17d8990d",
   "metadata": {
    "execution": {
     "iopub.execute_input": "2024-05-14T07:21:43.298265Z",
     "iopub.status.busy": "2024-05-14T07:21:43.297879Z",
     "iopub.status.idle": "2024-05-14T07:21:43.561681Z",
     "shell.execute_reply": "2024-05-14T07:21:43.560504Z",
     "shell.execute_reply.started": "2024-05-14T07:21:43.298232Z"
    },
    "tags": []
   },
   "outputs": [
    {
     "data": {
      "application/vnd.jupyter.widget-view+json": {
       "model_id": "e217faec203a4b37aabe1d53e5ea47ec",
       "version_major": 2,
       "version_minor": 0
      },
      "text/plain": [
       "VBox()"
      ]
     },
     "metadata": {},
     "output_type": "display_data"
    },
    {
     "data": {
      "application/vnd.jupyter.widget-view+json": {
       "model_id": "",
       "version_major": 2,
       "version_minor": 0
      },
      "text/plain": [
       "FloatProgress(value=0.0, bar_style='info', description='Progress:', layout=Layout(height='25px', width='50%'),…"
      ]
     },
     "metadata": {},
     "output_type": "display_data"
    }
   ],
   "source": [
    "split_ratios = [1/4] * 4  # Equal split ratios for 9 parts\n",
    "split_datasets = company_str_data.randomSplit(split_ratios, seed=42)\n",
    "\n",
    "# Access each split DataFrame\n",
    "split_df1 = split_datasets[0]\n",
    "split_df2 = split_datasets[1]\n",
    "split_df3 = split_datasets[2]\n",
    "split_df4 = split_datasets[3]"
   ]
  },
  {
   "cell_type": "code",
   "execution_count": 13,
   "id": "9ca19fb6-d5ad-48b7-9ba0-9b38d61af400",
   "metadata": {
    "execution": {
     "iopub.execute_input": "2024-05-14T07:17:57.903508Z",
     "iopub.status.busy": "2024-05-14T07:17:57.903158Z",
     "iopub.status.idle": "2024-05-14T07:18:49.336822Z",
     "shell.execute_reply": "2024-05-14T07:18:49.335859Z",
     "shell.execute_reply.started": "2024-05-14T07:17:57.903476Z"
    }
   },
   "outputs": [
    {
     "data": {
      "application/vnd.jupyter.widget-view+json": {
       "model_id": "5280e7f3977840c286f416af3a214234",
       "version_major": 2,
       "version_minor": 0
      },
      "text/plain": [
       "VBox()"
      ]
     },
     "metadata": {},
     "output_type": "display_data"
    },
    {
     "data": {
      "application/vnd.jupyter.widget-view+json": {
       "model_id": "",
       "version_major": 2,
       "version_minor": 0
      },
      "text/plain": [
       "FloatProgress(value=0.0, bar_style='info', description='Progress:', layout=Layout(height='25px', width='50%'),…"
      ]
     },
     "metadata": {},
     "output_type": "display_data"
    },
    {
     "name": "stdout",
     "output_type": "stream",
     "text": [
      "858097"
     ]
    }
   ],
   "source": [
    "split_df1.count()"
   ]
  },
  {
   "cell_type": "code",
   "execution_count": 20,
   "id": "ef603507-b6b7-48bc-b19d-9f6e4012d355",
   "metadata": {
    "execution": {
     "iopub.execute_input": "2024-05-14T07:21:48.011854Z",
     "iopub.status.busy": "2024-05-14T07:21:48.011480Z",
     "iopub.status.idle": "2024-05-14T07:23:05.528192Z",
     "shell.execute_reply": "2024-05-14T07:23:05.527059Z",
     "shell.execute_reply.started": "2024-05-14T07:21:48.011821Z"
    },
    "tags": []
   },
   "outputs": [
    {
     "data": {
      "application/vnd.jupyter.widget-view+json": {
       "model_id": "77b2b7727fb042ec928254a09771eb09",
       "version_major": 2,
       "version_minor": 0
      },
      "text/plain": [
       "VBox()"
      ]
     },
     "metadata": {},
     "output_type": "display_data"
    },
    {
     "data": {
      "application/vnd.jupyter.widget-view+json": {
       "model_id": "",
       "version_major": 2,
       "version_minor": 0
      },
      "text/plain": [
       "FloatProgress(value=0.0, bar_style='info', description='Progress:', layout=Layout(height='25px', width='50%'),…"
      ]
     },
     "metadata": {},
     "output_type": "display_data"
    },
    {
     "name": "stdout",
     "output_type": "stream",
     "text": [
      "{'ResponseMetadata': {'RequestId': 'MY74Z7CNEWGXC8T0', 'HostId': 'ejy8473/GQUnNIwpjTZPFY/SSnP4a4zA16GcLXHjKG0MZZJY4ZoPZ2ixMzgBNdmgN4F/4KbXIMpF7DI89hNTeA==', 'HTTPStatusCode': 200, 'HTTPHeaders': {'x-amz-id-2': 'ejy8473/GQUnNIwpjTZPFY/SSnP4a4zA16GcLXHjKG0MZZJY4ZoPZ2ixMzgBNdmgN4F/4KbXIMpF7DI89hNTeA==', 'x-amz-request-id': 'MY74Z7CNEWGXC8T0', 'date': 'Tue, 14 May 2024 07:23:02 GMT', 'x-amz-expiration': 'expiry-date=\"Mon, 20 May 2024 00:00:00 GMT\", rule-id=\"Delete in temp folder\"', 'x-amz-server-side-encryption': 'AES256', 'etag': '\"7492aca1e8781ada6f0c064874c3550a\"', 'server': 'AmazonS3', 'content-length': '0'}, 'RetryAttempts': 1}, 'Expiration': 'expiry-date=\"Mon, 20 May 2024 00:00:00 GMT\", rule-id=\"Delete in temp folder\"', 'ETag': '\"7492aca1e8781ada6f0c064874c3550a\"', 'ServerSideEncryption': 'AES256'}"
     ]
    }
   ],
   "source": [
    "from io import StringIO # python3; python2: BytesIO import boto3\n",
    "import boto3\n",
    "\n",
    "\n",
    "bucket = 'draup-command-center' # already created on S3\n",
    "csv_buffer = StringIO()\n",
    "\n",
    "res2=split_df1.toPandas()\n",
    "res2.to_csv(csv_buffer)\n",
    "s3_resource = boto3.resource('s3')\n",
    "s3_resource.Object(bucket, 'temp/cc/Renukumar_Draup/Avinash/Output/CB_data_dump_set1_14-05-2024.csv').put(Body=csv_buffer.getvalue())"
   ]
  },
  {
   "cell_type": "code",
   "execution_count": 21,
   "id": "c9031ef4-5475-48c4-88d3-218214cbdbeb",
   "metadata": {
    "execution": {
     "iopub.execute_input": "2024-05-14T07:23:23.469725Z",
     "iopub.status.busy": "2024-05-14T07:23:23.469363Z",
     "iopub.status.idle": "2024-05-14T07:24:44.958639Z",
     "shell.execute_reply": "2024-05-14T07:24:44.957634Z",
     "shell.execute_reply.started": "2024-05-14T07:23:23.469693Z"
    },
    "tags": []
   },
   "outputs": [
    {
     "data": {
      "application/vnd.jupyter.widget-view+json": {
       "model_id": "3bdd8231a70d4d47b84d75ff5bcf0cd7",
       "version_major": 2,
       "version_minor": 0
      },
      "text/plain": [
       "VBox()"
      ]
     },
     "metadata": {},
     "output_type": "display_data"
    },
    {
     "data": {
      "application/vnd.jupyter.widget-view+json": {
       "model_id": "",
       "version_major": 2,
       "version_minor": 0
      },
      "text/plain": [
       "FloatProgress(value=0.0, bar_style='info', description='Progress:', layout=Layout(height='25px', width='50%'),…"
      ]
     },
     "metadata": {},
     "output_type": "display_data"
    },
    {
     "name": "stdout",
     "output_type": "stream",
     "text": [
      "{'ResponseMetadata': {'RequestId': '086TQNBTZ1AXTASV', 'HostId': 'bcrWxTttbymNA8Y1IYiwLJpPIWRTW207IaVV+HgQXhcAP3bPAlHvhb6dK7Mx3PfY6vL21977sOumaQeDiReW6A==', 'HTTPStatusCode': 200, 'HTTPHeaders': {'x-amz-id-2': 'bcrWxTttbymNA8Y1IYiwLJpPIWRTW207IaVV+HgQXhcAP3bPAlHvhb6dK7Mx3PfY6vL21977sOumaQeDiReW6A==', 'x-amz-request-id': '086TQNBTZ1AXTASV', 'date': 'Tue, 14 May 2024 07:24:40 GMT', 'x-amz-expiration': 'expiry-date=\"Mon, 20 May 2024 00:00:00 GMT\", rule-id=\"Delete in temp folder\"', 'x-amz-server-side-encryption': 'AES256', 'etag': '\"eac0b414bb2eacb6e8ca98360d94fd8e\"', 'server': 'AmazonS3', 'content-length': '0'}, 'RetryAttempts': 1}, 'Expiration': 'expiry-date=\"Mon, 20 May 2024 00:00:00 GMT\", rule-id=\"Delete in temp folder\"', 'ETag': '\"eac0b414bb2eacb6e8ca98360d94fd8e\"', 'ServerSideEncryption': 'AES256'}"
     ]
    }
   ],
   "source": [
    "from io import StringIO # python3; python2: BytesIO import boto3\n",
    "import boto3\n",
    "\n",
    "\n",
    "bucket = 'draup-command-center' # already created on S3\n",
    "csv_buffer = StringIO()\n",
    "\n",
    "res2=split_df2.toPandas()\n",
    "res2.to_csv(csv_buffer)\n",
    "s3_resource = boto3.resource('s3')\n",
    "s3_resource.Object(bucket, 'temp/cc/Renukumar_Draup/Avinash/Output/CB_data_dump_set2_14-05-2024.csv').put(Body=csv_buffer.getvalue())"
   ]
  },
  {
   "cell_type": "code",
   "execution_count": null,
   "id": "54d7734f-4c7b-4a9c-86b0-6d61cc0b05de",
   "metadata": {},
   "outputs": [],
   "source": []
  },
  {
   "cell_type": "code",
   "execution_count": null,
   "id": "ee807ce5-e016-40c5-9129-bca5fd9569e7",
   "metadata": {},
   "outputs": [],
   "source": []
  },
  {
   "cell_type": "code",
   "execution_count": null,
   "id": "efe7af3c-bf18-480b-9f5c-2f0dcaf0ba2f",
   "metadata": {},
   "outputs": [],
   "source": []
  },
  {
   "cell_type": "code",
   "execution_count": 19,
   "id": "94052f73-b791-4111-b3c4-d2719915eab4",
   "metadata": {
    "execution": {
     "iopub.execute_input": "2024-07-12T08:03:42.313025Z",
     "iopub.status.busy": "2024-07-12T08:03:42.312673Z",
     "iopub.status.idle": "2024-07-12T08:03:59.631898Z",
     "shell.execute_reply": "2024-07-12T08:03:59.630960Z",
     "shell.execute_reply.started": "2024-07-12T08:03:42.312994Z"
    }
   },
   "outputs": [
    {
     "data": {
      "application/vnd.jupyter.widget-view+json": {
       "model_id": "041859be3ea64e7faf2a8d4b66b70390",
       "version_major": 2,
       "version_minor": 0
      },
      "text/plain": [
       "VBox()"
      ]
     },
     "metadata": {},
     "output_type": "display_data"
    },
    {
     "data": {
      "application/vnd.jupyter.widget-view+json": {
       "model_id": "",
       "version_major": 2,
       "version_minor": 0
      },
      "text/plain": [
       "FloatProgress(value=0.0, bar_style='info', description='Progress:', layout=Layout(height='25px', width='50%'),…"
      ]
     },
     "metadata": {},
     "output_type": "display_data"
    }
   ],
   "source": [
    "pce=spark.read.format('delta').load(\"s3://etl-datahouse/prod/profiles/pce/pce_calc/pce_snapshot/delta\").select('mvp_company_name','currentPositions','pastPositions','publicLink', 'fullName', 'gender','ethnicity','functional_workload','business_function','core_Skills','soft_Skills','msa','experience_in_current_company','experience_in_current_job_role','years_of_experience','languages').selectExpr('*','currentPositions[0].companyName as curr_company','currentPositions[0].company_industry as current_industry','currentPositions[0].job_title_lemmatized as current_job_title','currentPositions.job_role[0] as current_job_role','currentPositions[0].msa as current_msa','currentPositions[0].synon_location as current_synon_location','currentPositions[0].i18nStartDate as current_StartDate','currentPositions[0].i18nEndDate as current_EndDate','currentPositions[0].startDateYear as startDateYear','currentPositions[0].endDateYear as endDateYear').drop('currentPositions','deleted') "
   ]
  },
  {
   "cell_type": "code",
   "execution_count": 20,
   "id": "1cfb28f3-9a8a-4f9e-b973-f8c401ce774c",
   "metadata": {
    "collapsed": true,
    "execution": {
     "iopub.execute_input": "2024-07-12T08:06:06.265733Z",
     "iopub.status.busy": "2024-07-12T08:06:06.265363Z",
     "iopub.status.idle": "2024-07-12T08:06:06.317586Z",
     "shell.execute_reply": "2024-07-12T08:06:06.316520Z",
     "shell.execute_reply.started": "2024-07-12T08:06:06.265701Z"
    },
    "jupyter": {
     "outputs_hidden": true
    },
    "tags": []
   },
   "outputs": [
    {
     "data": {
      "application/vnd.jupyter.widget-view+json": {
       "model_id": "b749a95d6f1d4eef8a65c6253d2c3f74",
       "version_major": 2,
       "version_minor": 0
      },
      "text/plain": [
       "VBox()"
      ]
     },
     "metadata": {},
     "output_type": "display_data"
    },
    {
     "data": {
      "application/vnd.jupyter.widget-view+json": {
       "model_id": "",
       "version_major": 2,
       "version_minor": 0
      },
      "text/plain": [
       "FloatProgress(value=0.0, bar_style='info', description='Progress:', layout=Layout(height='25px', width='50%'),…"
      ]
     },
     "metadata": {},
     "output_type": "display_data"
    },
    {
     "name": "stdout",
     "output_type": "stream",
     "text": [
      "root\n",
      " |-- mvp_company_name: string (nullable = true)\n",
      " |-- pastPositions: array (nullable = true)\n",
      " |    |-- element: struct (containsNull = true)\n",
      " |    |    |-- i18nStartDate: string (nullable = true)\n",
      " |    |    |-- i18nEndDate: string (nullable = true)\n",
      " |    |    |-- companyName: string (nullable = true)\n",
      " |    |    |-- title: string (nullable = true)\n",
      " |    |    |-- location: string (nullable = true)\n",
      " |    |    |-- startDateYear: string (nullable = true)\n",
      " |    |    |-- startDateMonth: string (nullable = true)\n",
      " |    |    |-- endDateYear: string (nullable = true)\n",
      " |    |    |-- endDateMonth: string (nullable = true)\n",
      " |    |    |-- summary: string (nullable = true)\n",
      " |    |    |-- level: string (nullable = true)\n",
      " |    |    |-- experience_years: double (nullable = true)\n",
      " |    |    |-- company_website: string (nullable = true)\n",
      " |    |    |-- company_workforce_size: string (nullable = true)\n",
      " |    |    |-- company_industry: string (nullable = true)\n",
      " |    |    |-- msa: string (nullable = true)\n",
      " |    |    |-- synon_location: string (nullable = true)\n",
      " |    |    |-- latitude: string (nullable = true)\n",
      " |    |    |-- longitude: string (nullable = true)\n",
      " |    |    |-- job_title_lemmatized: string (nullable = true)\n",
      " |    |    |-- job_role: array (nullable = true)\n",
      " |    |    |    |-- element: string (containsNull = true)\n",
      " |    |    |-- companyName_synon: string (nullable = true)\n",
      " |    |    |-- company_type: string (nullable = true)\n",
      " |    |    |-- raw_start_date: string (nullable = true)\n",
      " |    |    |-- raw_end_date: string (nullable = true)\n",
      " |-- publicLink: string (nullable = true)\n",
      " |-- fullName: string (nullable = true)\n",
      " |-- gender: string (nullable = true)\n",
      " |-- ethnicity: struct (nullable = true)\n",
      " |    |-- category: string (nullable = true)\n",
      " |    |-- probability: double (nullable = true)\n",
      " |-- functional_workload: array (nullable = true)\n",
      " |    |-- element: string (containsNull = true)\n",
      " |-- business_function: array (nullable = true)\n",
      " |    |-- element: string (containsNull = true)\n",
      " |-- core_Skills: array (nullable = true)\n",
      " |    |-- element: string (containsNull = true)\n",
      " |-- soft_Skills: array (nullable = true)\n",
      " |    |-- element: string (containsNull = true)\n",
      " |-- msa: string (nullable = true)\n",
      " |-- experience_in_current_company: double (nullable = true)\n",
      " |-- experience_in_current_job_role: double (nullable = true)\n",
      " |-- years_of_experience: double (nullable = true)\n",
      " |-- languages: array (nullable = true)\n",
      " |    |-- element: struct (containsNull = true)\n",
      " |    |    |-- languageName: string (nullable = true)\n",
      " |    |    |-- proficiency: string (nullable = true)\n",
      " |-- curr_company: string (nullable = true)\n",
      " |-- current_industry: string (nullable = true)\n",
      " |-- current_job_title: string (nullable = true)\n",
      " |-- current_job_role: array (nullable = true)\n",
      " |    |-- element: string (containsNull = true)\n",
      " |-- current_msa: string (nullable = true)\n",
      " |-- current_synon_location: string (nullable = true)\n",
      " |-- current_StartDate: string (nullable = true)\n",
      " |-- current_EndDate: string (nullable = true)\n",
      " |-- startDateYear: string (nullable = true)\n",
      " |-- endDateYear: string (nullable = true)"
     ]
    }
   ],
   "source": [
    "pce.printSchema()"
   ]
  },
  {
   "cell_type": "code",
   "execution_count": 21,
   "id": "90b7fadb-378d-4798-b0c7-ae605c8f13c9",
   "metadata": {
    "execution": {
     "iopub.execute_input": "2024-07-12T08:06:20.008059Z",
     "iopub.status.busy": "2024-07-12T08:06:20.007708Z",
     "iopub.status.idle": "2024-07-12T08:06:20.767255Z",
     "shell.execute_reply": "2024-07-12T08:06:20.766318Z",
     "shell.execute_reply.started": "2024-07-12T08:06:20.008029Z"
    }
   },
   "outputs": [
    {
     "data": {
      "application/vnd.jupyter.widget-view+json": {
       "model_id": "4ba7db5cb6fd4c42846d3e5018c88cfc",
       "version_major": 2,
       "version_minor": 0
      },
      "text/plain": [
       "VBox()"
      ]
     },
     "metadata": {},
     "output_type": "display_data"
    },
    {
     "data": {
      "application/vnd.jupyter.widget-view+json": {
       "model_id": "",
       "version_major": 2,
       "version_minor": 0
      },
      "text/plain": [
       "FloatProgress(value=0.0, bar_style='info', description='Progress:', layout=Layout(height='25px', width='50%'),…"
      ]
     },
     "metadata": {},
     "output_type": "display_data"
    }
   ],
   "source": [
    "loc_df=spark.read.csv(\"s3://draup-command-center/temp/cc/Avinash_Draup/Input/Maine_msa.csv\",header=True)"
   ]
  },
  {
   "cell_type": "code",
   "execution_count": 22,
   "id": "233d394f-2743-4fcd-87e0-b5307cf8f0db",
   "metadata": {
    "execution": {
     "iopub.execute_input": "2024-07-12T08:06:31.930229Z",
     "iopub.status.busy": "2024-07-12T08:06:31.929871Z",
     "iopub.status.idle": "2024-07-12T08:06:32.184818Z",
     "shell.execute_reply": "2024-07-12T08:06:32.183877Z",
     "shell.execute_reply.started": "2024-07-12T08:06:31.930197Z"
    }
   },
   "outputs": [
    {
     "data": {
      "application/vnd.jupyter.widget-view+json": {
       "model_id": "da61232c3a124c0eb0f296ca6a50747d",
       "version_major": 2,
       "version_minor": 0
      },
      "text/plain": [
       "VBox()"
      ]
     },
     "metadata": {},
     "output_type": "display_data"
    },
    {
     "data": {
      "application/vnd.jupyter.widget-view+json": {
       "model_id": "",
       "version_major": 2,
       "version_minor": 0
      },
      "text/plain": [
       "FloatProgress(value=0.0, bar_style='info', description='Progress:', layout=Layout(height='25px', width='50%'),…"
      ]
     },
     "metadata": {},
     "output_type": "display_data"
    }
   ],
   "source": [
    "\n",
    "main_df = pce.join(loc_df, pce['msa'] == loc_df['Location'], \"inner\").drop('Location')\n",
    " "
   ]
  },
  {
   "cell_type": "code",
   "execution_count": 23,
   "id": "875f7065-6dfe-4289-9f37-7c7b57797d0c",
   "metadata": {
    "execution": {
     "iopub.execute_input": "2024-07-12T08:07:06.908555Z",
     "iopub.status.busy": "2024-07-12T08:07:06.908201Z",
     "iopub.status.idle": "2024-07-12T08:47:47.971491Z",
     "shell.execute_reply": "2024-07-12T08:47:47.970534Z",
     "shell.execute_reply.started": "2024-07-12T08:07:06.908525Z"
    }
   },
   "outputs": [
    {
     "data": {
      "application/vnd.jupyter.widget-view+json": {
       "model_id": "ed1d4e757b5f487cbba6c2571bc4fd1a",
       "version_major": 2,
       "version_minor": 0
      },
      "text/plain": [
       "VBox()"
      ]
     },
     "metadata": {},
     "output_type": "display_data"
    },
    {
     "data": {
      "application/vnd.jupyter.widget-view+json": {
       "model_id": "",
       "version_major": 2,
       "version_minor": 0
      },
      "text/plain": [
       "FloatProgress(value=0.0, bar_style='info', description='Progress:', layout=Layout(height='25px', width='50%'),…"
      ]
     },
     "metadata": {},
     "output_type": "display_data"
    }
   ],
   "source": [
    "# main_df.write.mode(\"overwrite\").parquet('s3://draup-command-center/temp/cc/Renukumar_Draup/karthika/temp/pce_all_past')"
   ]
  },
  {
   "cell_type": "code",
   "execution_count": null,
   "id": "a1424db7-6c84-4b45-9272-767acdcdf5c6",
   "metadata": {},
   "outputs": [],
   "source": []
  },
  {
   "cell_type": "code",
   "execution_count": 65,
   "id": "b5df7981-6ba2-421a-8500-64d5f5da0a39",
   "metadata": {
    "execution": {
     "iopub.execute_input": "2024-09-03T07:13:30.107242Z",
     "iopub.status.busy": "2024-09-03T07:13:30.106974Z",
     "iopub.status.idle": "2024-09-03T07:13:30.873966Z",
     "shell.execute_reply": "2024-09-03T07:13:30.873102Z",
     "shell.execute_reply.started": "2024-09-03T07:13:30.107210Z"
    },
    "tags": []
   },
   "outputs": [
    {
     "data": {
      "application/vnd.jupyter.widget-view+json": {
       "model_id": "4285a2367d944bfb80fc4f9683ecd50a",
       "version_major": 2,
       "version_minor": 0
      },
      "text/plain": [
       "VBox()"
      ]
     },
     "metadata": {},
     "output_type": "display_data"
    },
    {
     "data": {
      "application/vnd.jupyter.widget-view+json": {
       "model_id": "",
       "version_major": 2,
       "version_minor": 0
      },
      "text/plain": [
       "FloatProgress(value=0.0, bar_style='info', description='Progress:', layout=Layout(height='25px', width='50%'),…"
      ]
     },
     "metadata": {},
     "output_type": "display_data"
    }
   ],
   "source": [
    "df4 = spark.read.csv(\"s3://draup-command-center/temp/cc/Renukumar_Draup/karthika/output/CB_Details_use_set4_02-09-2024.csv\",header = True)"
   ]
  },
  {
   "cell_type": "code",
   "execution_count": 47,
   "id": "9a33bc23-6a33-4dbb-be7c-22dc0baea408",
   "metadata": {
    "execution": {
     "iopub.execute_input": "2024-09-03T07:01:40.224753Z",
     "iopub.status.busy": "2024-09-03T07:01:40.224462Z",
     "iopub.status.idle": "2024-09-03T07:01:40.280877Z",
     "shell.execute_reply": "2024-09-03T07:01:40.279963Z",
     "shell.execute_reply.started": "2024-09-03T07:01:40.224710Z"
    }
   },
   "outputs": [
    {
     "data": {
      "application/vnd.jupyter.widget-view+json": {
       "model_id": "0c12e75e413d428c8b1b74aacaea8e41",
       "version_major": 2,
       "version_minor": 0
      },
      "text/plain": [
       "VBox()"
      ]
     },
     "metadata": {},
     "output_type": "display_data"
    },
    {
     "data": {
      "application/vnd.jupyter.widget-view+json": {
       "model_id": "",
       "version_major": 2,
       "version_minor": 0
      },
      "text/plain": [
       "FloatProgress(value=0.0, bar_style='info', description='Progress:', layout=Layout(height='25px', width='50%'),…"
      ]
     },
     "metadata": {},
     "output_type": "display_data"
    },
    {
     "name": "stdout",
     "output_type": "stream",
     "text": [
      "['_c0', 'cb_markets', 'company_type', 'permalink', 'founded_on', 'name', 'legal_name', 'description', 'short_description', 'employee_count', 'num_funding_rounds', 'funding_rounds_name', 'cb_url', 'homepage_url', 'domain_url', 'email', 'facebook_url', 'linkedin_url', 'twitter_url', 'logo_url', 'category', 'category_groups', 'company_industry', 'markets', 'organizations_location', 'organizations_msa', 'country_code', 'address', 'city', 'regoin', 'state_code', 'organizations_synon_location', 'stock_exchange_symbol', 'stock_symbol', 'investor_type']"
     ]
    }
   ],
   "source": [
    "df1.columns"
   ]
  },
  {
   "cell_type": "code",
   "execution_count": 66,
   "id": "593d840b-41ab-4435-bfc6-80db391c6609",
   "metadata": {
    "execution": {
     "iopub.execute_input": "2024-09-03T07:13:48.731739Z",
     "iopub.status.busy": "2024-09-03T07:13:48.731474Z",
     "iopub.status.idle": "2024-09-03T07:13:49.496529Z",
     "shell.execute_reply": "2024-09-03T07:13:49.495642Z",
     "shell.execute_reply.started": "2024-09-03T07:13:48.731706Z"
    },
    "tags": []
   },
   "outputs": [
    {
     "data": {
      "application/vnd.jupyter.widget-view+json": {
       "model_id": "aeee3c58a4d1410bbab0bbb983a02f7f",
       "version_major": 2,
       "version_minor": 0
      },
      "text/plain": [
       "VBox()"
      ]
     },
     "metadata": {},
     "output_type": "display_data"
    },
    {
     "data": {
      "application/vnd.jupyter.widget-view+json": {
       "model_id": "",
       "version_major": 2,
       "version_minor": 0
      },
      "text/plain": [
       "FloatProgress(value=0.0, bar_style='info', description='Progress:', layout=Layout(height='25px', width='50%'),…"
      ]
     },
     "metadata": {},
     "output_type": "display_data"
    }
   ],
   "source": [
    "df2 = spark.read.csv(\"s3://draup-command-center/temp/cc/Renukumar_Draup/karthika/output/CB_Details_use_set2_02-09-2024.csv\",header = True)"
   ]
  },
  {
   "cell_type": "code",
   "execution_count": 67,
   "id": "3e17c0ae-2df0-4ebf-99a7-a77b8157f325",
   "metadata": {
    "execution": {
     "iopub.execute_input": "2024-09-03T07:13:49.995531Z",
     "iopub.status.busy": "2024-09-03T07:13:49.995256Z",
     "iopub.status.idle": "2024-09-03T07:13:50.058226Z",
     "shell.execute_reply": "2024-09-03T07:13:50.057035Z",
     "shell.execute_reply.started": "2024-09-03T07:13:49.995498Z"
    },
    "tags": []
   },
   "outputs": [
    {
     "data": {
      "application/vnd.jupyter.widget-view+json": {
       "model_id": "8f19deddfd014a7fb4713c4544070b6c",
       "version_major": 2,
       "version_minor": 0
      },
      "text/plain": [
       "VBox()"
      ]
     },
     "metadata": {},
     "output_type": "display_data"
    },
    {
     "data": {
      "application/vnd.jupyter.widget-view+json": {
       "model_id": "",
       "version_major": 2,
       "version_minor": 0
      },
      "text/plain": [
       "FloatProgress(value=0.0, bar_style='info', description='Progress:', layout=Layout(height='25px', width='50%'),…"
      ]
     },
     "metadata": {},
     "output_type": "display_data"
    }
   ],
   "source": [
    "join_df = df1.join(df3, on='permalink', how='inner')\n"
   ]
  },
  {
   "cell_type": "code",
   "execution_count": 68,
   "id": "defef871-6b14-4b27-9392-a21cb4dfd821",
   "metadata": {
    "execution": {
     "iopub.execute_input": "2024-09-03T07:13:51.200379Z",
     "iopub.status.busy": "2024-09-03T07:13:51.200040Z",
     "iopub.status.idle": "2024-09-03T07:13:56.522413Z",
     "shell.execute_reply": "2024-09-03T07:13:56.521465Z",
     "shell.execute_reply.started": "2024-09-03T07:13:51.200344Z"
    },
    "tags": []
   },
   "outputs": [
    {
     "data": {
      "application/vnd.jupyter.widget-view+json": {
       "model_id": "7b03dacb9b014aeeb4c8e11496293306",
       "version_major": 2,
       "version_minor": 0
      },
      "text/plain": [
       "VBox()"
      ]
     },
     "metadata": {},
     "output_type": "display_data"
    },
    {
     "data": {
      "application/vnd.jupyter.widget-view+json": {
       "model_id": "",
       "version_major": 2,
       "version_minor": 0
      },
      "text/plain": [
       "FloatProgress(value=0.0, bar_style='info', description='Progress:', layout=Layout(height='25px', width='50%'),…"
      ]
     },
     "metadata": {},
     "output_type": "display_data"
    },
    {
     "name": "stdout",
     "output_type": "stream",
     "text": [
      "218081"
     ]
    }
   ],
   "source": [
    "join_df.count()"
   ]
  },
  {
   "cell_type": "code",
   "execution_count": null,
   "id": "cc352e5e-0018-419f-8217-1fa973ff4a5b",
   "metadata": {},
   "outputs": [],
   "source": []
  }
 ],
 "metadata": {
  "kernelspec": {
   "display_name": "PySpark",
   "language": "python",
   "name": "pysparkkernel"
  },
  "language_info": {
   "codemirror_mode": {
    "name": "python",
    "version": 3
   },
   "file_extension": ".py",
   "mimetype": "text/x-python",
   "name": "pyspark",
   "pygments_lexer": "python3"
  }
 },
 "nbformat": 4,
 "nbformat_minor": 5
}
