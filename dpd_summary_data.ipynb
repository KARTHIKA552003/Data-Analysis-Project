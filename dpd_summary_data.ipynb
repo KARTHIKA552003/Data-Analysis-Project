{
 "cells": [
  {
   "cell_type": "code",
   "execution_count": 1,
   "id": "4cec986f-9704-4c23-8aa8-a4f6ba191fc1",
   "metadata": {
    "execution": {
     "iopub.execute_input": "2024-09-30T03:51:41.972407Z",
     "iopub.status.busy": "2024-09-30T03:51:41.972028Z",
     "iopub.status.idle": "2024-09-30T03:52:12.676944Z",
     "shell.execute_reply": "2024-09-30T03:52:12.675987Z",
     "shell.execute_reply.started": "2024-09-30T03:51:41.972341Z"
    },
    "tags": []
   },
   "outputs": [
    {
     "data": {
      "application/vnd.jupyter.widget-view+json": {
       "model_id": "1b09cc78abf646bfa8c8a9ad6d5a8ea5",
       "version_major": 2,
       "version_minor": 0
      },
      "text/plain": [
       "VBox()"
      ]
     },
     "metadata": {},
     "output_type": "display_data"
    },
    {
     "name": "stdout",
     "output_type": "stream",
     "text": [
      "Starting Spark application\n"
     ]
    },
    {
     "data": {
      "text/html": [
       "<table>\n",
       "<tbody><tr><th>ID</th><th>YARN Application ID</th><th>Kind</th><th>State</th><th>Spark UI</th><th>Driver log</th><th>User</th><th>Current session?</th></tr><tr><td>0</td><td>application_1727667530908_0002</td><td>pyspark</td><td>idle</td><td><a target=\"_blank\" href=\"http://ip-172-22-10-177.us-east-2.compute.internal:20888/proxy/application_1727667530908_0002/\" class=\"emr-proxy-link j-16XJVUA3B16HO application_1727667530908_0002\" emr-resource=\"j-16XJVUA3B16HO\n",
       "\" application-id=\"application_1727667530908_0002\">Link</a></td><td><a target=\"_blank\" href=\"http://ip-172-22-10-87.us-east-2.compute.internal:8042/node/containerlogs/container_1727667530908_0002_01_000001/user_n-renukumar_rajendran_draup_com\">Link</a></td><td>user_n-renukumar_rajendran_draup_com</td><td>✔</td></tr></tbody></table>"
      ],
      "text/plain": [
       "<IPython.core.display.HTML object>"
      ]
     },
     "metadata": {},
     "output_type": "display_data"
    },
    {
     "data": {
      "application/vnd.jupyter.widget-view+json": {
       "model_id": "",
       "version_major": 2,
       "version_minor": 0
      },
      "text/plain": [
       "FloatProgress(value=0.0, bar_style='info', description='Progress:', layout=Layout(height='25px', width='50%'),…"
      ]
     },
     "metadata": {},
     "output_type": "display_data"
    },
    {
     "name": "stdout",
     "output_type": "stream",
     "text": [
      "SparkSession available as 'spark'.\n"
     ]
    },
    {
     "data": {
      "application/vnd.jupyter.widget-view+json": {
       "model_id": "",
       "version_major": 2,
       "version_minor": 0
      },
      "text/plain": [
       "FloatProgress(value=0.0, bar_style='info', description='Progress:', layout=Layout(height='25px', width='50%'),…"
      ]
     },
     "metadata": {},
     "output_type": "display_data"
    }
   ],
   "source": [
    "#start"
   ]
  },
  {
   "cell_type": "code",
   "execution_count": 2,
   "id": "3d11cd76-9328-4956-a7d5-95b5487558bd",
   "metadata": {
    "execution": {
     "iopub.execute_input": "2024-09-30T03:52:12.684761Z",
     "iopub.status.busy": "2024-09-30T03:52:12.684544Z",
     "iopub.status.idle": "2024-09-30T03:52:32.090312Z",
     "shell.execute_reply": "2024-09-30T03:52:32.089445Z",
     "shell.execute_reply.started": "2024-09-30T03:52:12.684729Z"
    },
    "tags": []
   },
   "outputs": [
    {
     "data": {
      "application/vnd.jupyter.widget-view+json": {
       "model_id": "f75ed33594304348b793e03587960de4",
       "version_major": 2,
       "version_minor": 0
      },
      "text/plain": [
       "VBox()"
      ]
     },
     "metadata": {},
     "output_type": "display_data"
    },
    {
     "data": {
      "application/vnd.jupyter.widget-view+json": {
       "model_id": "",
       "version_major": 2,
       "version_minor": 0
      },
      "text/plain": [
       "FloatProgress(value=0.0, bar_style='info', description='Progress:', layout=Layout(height='25px', width='50%'),…"
      ]
     },
     "metadata": {},
     "output_type": "display_data"
    },
    {
     "name": "stdout",
     "output_type": "stream",
     "text": [
      "404\n",
      "404\n",
      "/usr/local/lib/python3.9/site-packages/urllib3/connectionpool.py:1063: InsecureRequestWarning: Unverified HTTPS request is being made to host 'gateway.draup.com'. Adding certificate verification is strongly advised. See: https://urllib3.readthedocs.io/en/1.26.x/advanced-usage.html#ssl-warnings\n",
      "  warnings.warn(\n",
      "/usr/local/lib/python3.9/site-packages/urllib3/connectionpool.py:1063: InsecureRequestWarning: Unverified HTTPS request is being made to host 'gateway.draup.com'. Adding certificate verification is strongly advised. See: https://urllib3.readthedocs.io/en/1.26.x/advanced-usage.html#ssl-warnings\n",
      "  warnings.warn("
     ]
    }
   ],
   "source": [
    "sc.addPyFile(\"s3://jobs-emr-etl-config/jobs_run/prod/cc/ML_ETL_Config.py\")\n",
    "from ML_ETL_Config import *\n",
    "utils_module = MlEtlUtils(spark, sc)\n",
    "to_import = [name for name in dir(utils_module) if not (name.startswith('_') | (name==\"spark\") | (name==\"sc\"))]\n",
    "globals().update({name: getattr(utils_module, name) for name in to_import})\n",
    "from pyspark.sql.functions import *\n",
    "from pyspark.sql import Window"
   ]
  },
  {
   "cell_type": "code",
   "execution_count": 3,
   "id": "a06c8d1d-0b6c-424e-9c43-7e9d9278e9d7",
   "metadata": {
    "execution": {
     "iopub.execute_input": "2024-09-30T03:52:32.091759Z",
     "iopub.status.busy": "2024-09-30T03:52:32.091536Z",
     "iopub.status.idle": "2024-09-30T03:52:41.458428Z",
     "shell.execute_reply": "2024-09-30T03:52:41.457580Z",
     "shell.execute_reply.started": "2024-09-30T03:52:32.091728Z"
    },
    "tags": []
   },
   "outputs": [
    {
     "data": {
      "application/vnd.jupyter.widget-view+json": {
       "model_id": "c65eabb1c2bf42dca5c8e1d0250b776e",
       "version_major": 2,
       "version_minor": 0
      },
      "text/plain": [
       "VBox()"
      ]
     },
     "metadata": {},
     "output_type": "display_data"
    },
    {
     "data": {
      "application/vnd.jupyter.widget-view+json": {
       "model_id": "",
       "version_major": 2,
       "version_minor": 0
      },
      "text/plain": [
       "FloatProgress(value=0.0, bar_style='info', description='Progress:', layout=Layout(height='25px', width='50%'),…"
      ]
     },
     "metadata": {},
     "output_type": "display_data"
    }
   ],
   "source": [
    "dpd=spark.read.format('delta').load(\"s3://etl-datahouse/prod/profiles/dpd/delta\").select('currentPositions','pastPositions','publicLink', 'fullName', 'gender','ethnicity','functional_workload','business_function','skills','msa','country','industry').selectExpr('*','currentPositions[0].companyName as curr_company','currentPositions[0].job_title_lemmatized as current_job_title','currentPositions[0].msa as current_msa','currentPositions[0].synon_location as current_synon_location','currentPositions[0].i18nStartDate as current_StartDate','currentPositions[0].i18nEndDate as current_EndDate','currentPositions[0].startDateYear as startDateYear','currentPositions[0].endDateYear as endDateYear','currentPositions.summary[0] as curr_summary','pastPositions[0].companyName as past_company','pastPositions[0].i18nStartDate as past_startDateYear','pastPositions[0].i18nEndDate as past_endDateYear','pastPositions[0].job_title_lemmatized as past_title','pastPositions[0].msa as past_msa','pastPositions[0].synon_location as past_synon_location').withColumn('lower_curr_company',F.lower(col('curr_company'))).withColumn('lower_past_company',F.lower(col('past_company'))).withColumn('past_data',col('pastPositions').getItem(0)).drop('currentPositions','pastPositions','past_data')"
   ]
  },
  {
   "cell_type": "code",
   "execution_count": 12,
   "id": "02a72e99-b2af-4ac0-b085-5a1f36c18ca1",
   "metadata": {
    "execution": {
     "iopub.execute_input": "2024-09-30T04:15:38.523026Z",
     "iopub.status.busy": "2024-09-30T04:15:38.522757Z",
     "iopub.status.idle": "2024-09-30T04:15:43.808323Z",
     "shell.execute_reply": "2024-09-30T04:15:43.807360Z",
     "shell.execute_reply.started": "2024-09-30T04:15:38.522992Z"
    },
    "tags": []
   },
   "outputs": [
    {
     "data": {
      "application/vnd.jupyter.widget-view+json": {
       "model_id": "7e38b1fdd33a4b94ba5be60c8eabef8d",
       "version_major": 2,
       "version_minor": 0
      },
      "text/plain": [
       "VBox()"
      ]
     },
     "metadata": {},
     "output_type": "display_data"
    },
    {
     "data": {
      "application/vnd.jupyter.widget-view+json": {
       "model_id": "",
       "version_major": 2,
       "version_minor": 0
      },
      "text/plain": [
       "FloatProgress(value=0.0, bar_style='info', description='Progress:', layout=Layout(height='25px', width='50%'),…"
      ]
     },
     "metadata": {},
     "output_type": "display_data"
    }
   ],
   "source": [
    "dpd = spark.read.parquet('s3://draup-command-center/temp/cc/Renukumar_Draup/karthika/temp/dpd_profile_data_27-09-2024')"
   ]
  },
  {
   "cell_type": "code",
   "execution_count": 13,
   "id": "7908317e-c850-4b7d-8efe-3c6ecd85a7bd",
   "metadata": {
    "execution": {
     "iopub.execute_input": "2024-09-30T04:15:46.744012Z",
     "iopub.status.busy": "2024-09-30T04:15:46.743745Z",
     "iopub.status.idle": "2024-09-30T04:15:46.800166Z",
     "shell.execute_reply": "2024-09-30T04:15:46.799331Z",
     "shell.execute_reply.started": "2024-09-30T04:15:46.743979Z"
    },
    "tags": []
   },
   "outputs": [
    {
     "data": {
      "application/vnd.jupyter.widget-view+json": {
       "model_id": "7393eabcf2bc46eea3089ca3e4a0b5b4",
       "version_major": 2,
       "version_minor": 0
      },
      "text/plain": [
       "VBox()"
      ]
     },
     "metadata": {},
     "output_type": "display_data"
    },
    {
     "data": {
      "application/vnd.jupyter.widget-view+json": {
       "model_id": "",
       "version_major": 2,
       "version_minor": 0
      },
      "text/plain": [
       "FloatProgress(value=0.0, bar_style='info', description='Progress:', layout=Layout(height='25px', width='50%'),…"
      ]
     },
     "metadata": {},
     "output_type": "display_data"
    },
    {
     "name": "stdout",
     "output_type": "stream",
     "text": [
      "root\n",
      " |-- publicLink: string (nullable = true)\n",
      " |-- fullName: string (nullable = true)\n",
      " |-- gender: string (nullable = true)\n",
      " |-- ethnicity: struct (nullable = true)\n",
      " |    |-- category: string (nullable = true)\n",
      " |    |-- probability: double (nullable = true)\n",
      " |-- functional_workload: array (nullable = true)\n",
      " |    |-- element: string (containsNull = true)\n",
      " |-- business_function: array (nullable = true)\n",
      " |    |-- element: string (containsNull = true)\n",
      " |-- skills: array (nullable = true)\n",
      " |    |-- element: string (containsNull = true)\n",
      " |-- msa: string (nullable = true)\n",
      " |-- country: string (nullable = true)\n",
      " |-- industry: string (nullable = true)\n",
      " |-- curr_company: string (nullable = true)\n",
      " |-- current_job_title: string (nullable = true)\n",
      " |-- current_msa: string (nullable = true)\n",
      " |-- current_synon_location: string (nullable = true)\n",
      " |-- current_StartDate: string (nullable = true)\n",
      " |-- current_EndDate: string (nullable = true)\n",
      " |-- startDateYear: string (nullable = true)\n",
      " |-- endDateYear: string (nullable = true)\n",
      " |-- curr_summary: string (nullable = true)\n",
      " |-- past_company: string (nullable = true)\n",
      " |-- past_startDateYear: string (nullable = true)\n",
      " |-- past_endDateYear: string (nullable = true)\n",
      " |-- past_title: string (nullable = true)\n",
      " |-- past_msa: string (nullable = true)\n",
      " |-- past_synon_location: string (nullable = true)\n",
      " |-- lower_curr_company: string (nullable = true)\n",
      " |-- lower_past_company: string (nullable = true)"
     ]
    }
   ],
   "source": [
    "dpd.printSchema()"
   ]
  },
  {
   "cell_type": "markdown",
   "id": "bfb1796a-aa7b-4c8a-82c3-6959ca3612c7",
   "metadata": {},
   "source": [
    "### Input File"
   ]
  },
  {
   "cell_type": "code",
   "execution_count": 19,
   "id": "5cf8c48a-1435-4d0e-824d-613a3db857f8",
   "metadata": {
    "execution": {
     "iopub.execute_input": "2024-09-30T04:19:57.937008Z",
     "iopub.status.busy": "2024-09-30T04:19:57.936743Z",
     "iopub.status.idle": "2024-09-30T04:19:58.699181Z",
     "shell.execute_reply": "2024-09-30T04:19:58.698297Z",
     "shell.execute_reply.started": "2024-09-30T04:19:57.936977Z"
    },
    "tags": []
   },
   "outputs": [
    {
     "data": {
      "application/vnd.jupyter.widget-view+json": {
       "model_id": "c1d295a4bb3b4cf281e631ea69cf3593",
       "version_major": 2,
       "version_minor": 0
      },
      "text/plain": [
       "VBox()"
      ]
     },
     "metadata": {},
     "output_type": "display_data"
    },
    {
     "data": {
      "application/vnd.jupyter.widget-view+json": {
       "model_id": "",
       "version_major": 2,
       "version_minor": 0
      },
      "text/plain": [
       "FloatProgress(value=0.0, bar_style='info', description='Progress:', layout=Layout(height='25px', width='50%'),…"
      ]
     },
     "metadata": {},
     "output_type": "display_data"
    }
   ],
   "source": [
    "df = spark.read.csv(\"s3://draup-command-center/temp/cc/Renukumar_Draup/karthika/Input/keyword_samplie_input_30-09-24.csv\",header = True).withColumn('companyName_lower', lower(col('Company Name')))"
   ]
  },
  {
   "cell_type": "code",
   "execution_count": 20,
   "id": "3fe5ff5f-67df-4026-99f3-01e1f047a799",
   "metadata": {
    "execution": {
     "iopub.execute_input": "2024-09-30T04:19:58.700818Z",
     "iopub.status.busy": "2024-09-30T04:19:58.700598Z",
     "iopub.status.idle": "2024-09-30T04:19:58.757192Z",
     "shell.execute_reply": "2024-09-30T04:19:58.756070Z",
     "shell.execute_reply.started": "2024-09-30T04:19:58.700787Z"
    },
    "tags": []
   },
   "outputs": [
    {
     "data": {
      "application/vnd.jupyter.widget-view+json": {
       "model_id": "90c5ddc2c0fe4086b934262f15178491",
       "version_major": 2,
       "version_minor": 0
      },
      "text/plain": [
       "VBox()"
      ]
     },
     "metadata": {},
     "output_type": "display_data"
    },
    {
     "data": {
      "application/vnd.jupyter.widget-view+json": {
       "model_id": "",
       "version_major": 2,
       "version_minor": 0
      },
      "text/plain": [
       "FloatProgress(value=0.0, bar_style='info', description='Progress:', layout=Layout(height='25px', width='50%'),…"
      ]
     },
     "metadata": {},
     "output_type": "display_data"
    },
    {
     "name": "stdout",
     "output_type": "stream",
     "text": [
      "['Company Name', 'Keywords', 'companyName_lower']"
     ]
    }
   ],
   "source": [
    "df.columns"
   ]
  },
  {
   "cell_type": "code",
   "execution_count": 21,
   "id": "385129ba-6fb1-4152-8705-22db1f2d3a1f",
   "metadata": {
    "execution": {
     "iopub.execute_input": "2024-09-30T04:19:58.977378Z",
     "iopub.status.busy": "2024-09-30T04:19:58.977014Z",
     "iopub.status.idle": "2024-09-30T04:19:59.238026Z",
     "shell.execute_reply": "2024-09-30T04:19:59.237213Z",
     "shell.execute_reply.started": "2024-09-30T04:19:58.977332Z"
    },
    "tags": []
   },
   "outputs": [
    {
     "data": {
      "application/vnd.jupyter.widget-view+json": {
       "model_id": "015c0a5b98364ec098d9c1af01d3d092",
       "version_major": 2,
       "version_minor": 0
      },
      "text/plain": [
       "VBox()"
      ]
     },
     "metadata": {},
     "output_type": "display_data"
    },
    {
     "data": {
      "application/vnd.jupyter.widget-view+json": {
       "model_id": "",
       "version_major": 2,
       "version_minor": 0
      },
      "text/plain": [
       "FloatProgress(value=0.0, bar_style='info', description='Progress:', layout=Layout(height='25px', width='50%'),…"
      ]
     },
     "metadata": {},
     "output_type": "display_data"
    },
    {
     "name": "stdout",
     "output_type": "stream",
     "text": [
      "49"
     ]
    }
   ],
   "source": [
    "df.count()"
   ]
  },
  {
   "cell_type": "code",
   "execution_count": 22,
   "id": "ee7104e7-37ec-4c0b-be26-bc3a1f9a4f7b",
   "metadata": {
    "execution": {
     "iopub.execute_input": "2024-09-30T04:20:05.315115Z",
     "iopub.status.busy": "2024-09-30T04:20:05.314846Z",
     "iopub.status.idle": "2024-09-30T04:20:05.574015Z",
     "shell.execute_reply": "2024-09-30T04:20:05.573113Z",
     "shell.execute_reply.started": "2024-09-30T04:20:05.315082Z"
    },
    "tags": []
   },
   "outputs": [
    {
     "data": {
      "application/vnd.jupyter.widget-view+json": {
       "model_id": "ce7aef74d62d4246b4fe81d2a0b5bcc4",
       "version_major": 2,
       "version_minor": 0
      },
      "text/plain": [
       "VBox()"
      ]
     },
     "metadata": {},
     "output_type": "display_data"
    },
    {
     "data": {
      "application/vnd.jupyter.widget-view+json": {
       "model_id": "",
       "version_major": 2,
       "version_minor": 0
      },
      "text/plain": [
       "FloatProgress(value=0.0, bar_style='info', description='Progress:', layout=Layout(height='25px', width='50%'),…"
      ]
     },
     "metadata": {},
     "output_type": "display_data"
    }
   ],
   "source": [
    "result_df = dpd.crossJoin(df).filter(col('curr_summary').contains(col('Keywords'))).drop('past_company', 'past_startDateYear', 'past_endDateYear', 'past_title', 'past_msa', 'past_synon_location', 'lower_curr_company', 'lower_past_company','companyName_lower')"
   ]
  },
  {
   "cell_type": "code",
   "execution_count": 23,
   "id": "19a38150-3968-499f-92c3-4d9b20a36480",
   "metadata": {
    "execution": {
     "iopub.execute_input": "2024-09-30T04:20:05.800219Z",
     "iopub.status.busy": "2024-09-30T04:20:05.799963Z",
     "iopub.status.idle": "2024-09-30T04:23:53.733378Z",
     "shell.execute_reply": "2024-09-30T04:23:53.731955Z",
     "shell.execute_reply.started": "2024-09-30T04:20:05.800187Z"
    },
    "tags": []
   },
   "outputs": [
    {
     "data": {
      "application/vnd.jupyter.widget-view+json": {
       "model_id": "5d6003ba54ee49aaa3b7a5719e729c51",
       "version_major": 2,
       "version_minor": 0
      },
      "text/plain": [
       "VBox()"
      ]
     },
     "metadata": {},
     "output_type": "display_data"
    },
    {
     "data": {
      "application/vnd.jupyter.widget-view+json": {
       "model_id": "",
       "version_major": 2,
       "version_minor": 0
      },
      "text/plain": [
       "FloatProgress(value=0.0, bar_style='info', description='Progress:', layout=Layout(height='25px', width='50%'),…"
      ]
     },
     "metadata": {},
     "output_type": "display_data"
    },
    {
     "name": "stdout",
     "output_type": "stream",
     "text": [
      "408079"
     ]
    }
   ],
   "source": [
    "result_df.count()"
   ]
  },
  {
   "cell_type": "code",
   "execution_count": 9,
   "id": "fa1f90f0-b479-4f67-b59d-a4a025211ec9",
   "metadata": {
    "execution": {
     "iopub.execute_input": "2024-09-30T03:53:11.721617Z",
     "iopub.status.busy": "2024-09-30T03:53:11.721355Z",
     "iopub.status.idle": "2024-09-30T03:53:11.786402Z",
     "shell.execute_reply": "2024-09-30T03:53:11.785597Z",
     "shell.execute_reply.started": "2024-09-30T03:53:11.721584Z"
    },
    "tags": []
   },
   "outputs": [
    {
     "data": {
      "application/vnd.jupyter.widget-view+json": {
       "model_id": "d971367936d04d1a8fd1a5912b99ef37",
       "version_major": 2,
       "version_minor": 0
      },
      "text/plain": [
       "VBox()"
      ]
     },
     "metadata": {},
     "output_type": "display_data"
    },
    {
     "data": {
      "application/vnd.jupyter.widget-view+json": {
       "model_id": "",
       "version_major": 2,
       "version_minor": 0
      },
      "text/plain": [
       "FloatProgress(value=0.0, bar_style='info', description='Progress:', layout=Layout(height='25px', width='50%'),…"
      ]
     },
     "metadata": {},
     "output_type": "display_data"
    },
    {
     "name": "stdout",
     "output_type": "stream",
     "text": [
      "['publicLink', 'fullName', 'gender', 'ethnicity', 'functional_workload', 'business_function', 'skills', 'msa', 'country', 'industry', 'curr_company', 'current_job_title', 'current_msa', 'current_synon_location', 'current_StartDate', 'current_EndDate', 'startDateYear', 'endDateYear', 'curr_summary', 'Company Name', 'Keywords']"
     ]
    }
   ],
   "source": [
    "result_df.columns"
   ]
  },
  {
   "cell_type": "code",
   "execution_count": 10,
   "id": "4bd7fa6c-77c5-453a-a6bf-c1133ea712c1",
   "metadata": {
    "execution": {
     "iopub.execute_input": "2024-09-30T03:53:15.864473Z",
     "iopub.status.busy": "2024-09-30T03:53:15.864201Z",
     "iopub.status.idle": "2024-09-30T03:53:16.140239Z",
     "shell.execute_reply": "2024-09-30T03:53:16.139029Z",
     "shell.execute_reply.started": "2024-09-30T03:53:15.864439Z"
    },
    "tags": []
   },
   "outputs": [
    {
     "data": {
      "application/vnd.jupyter.widget-view+json": {
       "model_id": "eaa25b9e77034e27901efe340a1d2f7a",
       "version_major": 2,
       "version_minor": 0
      },
      "text/plain": [
       "VBox()"
      ]
     },
     "metadata": {},
     "output_type": "display_data"
    },
    {
     "data": {
      "application/vnd.jupyter.widget-view+json": {
       "model_id": "",
       "version_major": 2,
       "version_minor": 0
      },
      "text/plain": [
       "FloatProgress(value=0.0, bar_style='info', description='Progress:', layout=Layout(height='25px', width='50%'),…"
      ]
     },
     "metadata": {},
     "output_type": "display_data"
    }
   ],
   "source": [
    "split_ratios = [1/4] * 4  # Equal split ratios for 9 parts\n",
    "split_datasets = result_df.randomSplit(split_ratios, seed=42)\n",
    "\n",
    "# Access each split DataFrame\n",
    "split_df1 = split_datasets[0]\n",
    "split_df2 = split_datasets[1]\n",
    "split_df3 = split_datasets[2]\n",
    "split_df4 = split_datasets[3]"
   ]
  },
  {
   "cell_type": "code",
   "execution_count": 24,
   "id": "357317d6-626f-4fdb-b0ec-b79befd3eee1",
   "metadata": {
    "execution": {
     "iopub.execute_input": "2024-09-30T04:26:23.763066Z",
     "iopub.status.busy": "2024-09-30T04:26:23.762796Z",
     "iopub.status.idle": "2024-09-30T04:31:35.957758Z",
     "shell.execute_reply": "2024-09-30T04:31:35.956711Z",
     "shell.execute_reply.started": "2024-09-30T04:26:23.763033Z"
    },
    "tags": []
   },
   "outputs": [
    {
     "data": {
      "application/vnd.jupyter.widget-view+json": {
       "model_id": "af78898ac8944f2c870beb4de5525a69",
       "version_major": 2,
       "version_minor": 0
      },
      "text/plain": [
       "VBox()"
      ]
     },
     "metadata": {},
     "output_type": "display_data"
    },
    {
     "data": {
      "application/vnd.jupyter.widget-view+json": {
       "model_id": "",
       "version_major": 2,
       "version_minor": 0
      },
      "text/plain": [
       "FloatProgress(value=0.0, bar_style='info', description='Progress:', layout=Layout(height='25px', width='50%'),…"
      ]
     },
     "metadata": {},
     "output_type": "display_data"
    },
    {
     "name": "stdout",
     "output_type": "stream",
     "text": [
      "{'ResponseMetadata': {'RequestId': '709BR37CFYMRAXDF', 'HostId': 'NzbO7zXRdcWnpN978r0WM0HuuXqpnN+jvY+xHh36RTpSPLlVm9W2jnbfO3vSDVBMFmKDJOvBkZhglNXkZVLtmQ==', 'HTTPStatusCode': 200, 'HTTPHeaders': {'x-amz-id-2': 'NzbO7zXRdcWnpN978r0WM0HuuXqpnN+jvY+xHh36RTpSPLlVm9W2jnbfO3vSDVBMFmKDJOvBkZhglNXkZVLtmQ==', 'x-amz-request-id': '709BR37CFYMRAXDF', 'date': 'Mon, 30 Sep 2024 04:31:31 GMT', 'x-amz-expiration': 'expiry-date=\"Sun, 06 Oct 2024 00:00:00 GMT\", rule-id=\"Delete in temp folder\"', 'x-amz-server-side-encryption': 'AES256', 'etag': '\"baf8ec0027cb795486d9471c1f3e8a87\"', 'server': 'AmazonS3', 'content-length': '0'}, 'RetryAttempts': 1}, 'Expiration': 'expiry-date=\"Sun, 06 Oct 2024 00:00:00 GMT\", rule-id=\"Delete in temp folder\"', 'ETag': '\"baf8ec0027cb795486d9471c1f3e8a87\"', 'ServerSideEncryption': 'AES256'}"
     ]
    }
   ],
   "source": [
    "from io import StringIO # python3; python2: BytesIO import boto3\n",
    "import boto3\n",
    "\n",
    "\n",
    "bucket = 'draup-command-center' # already created on S3\n",
    "csv_buffer = StringIO()\n",
    "\n",
    "res2=result_df.toPandas()\n",
    "res2.to_csv(csv_buffer)\n",
    "s3_resource = boto3.resource('s3')\n",
    "s3_resource.Object(bucket, 'temp/cc/Renukumar_Draup/karthika/output/dpd_profile_summary_data_set1_30-09-2024.csv').put(Body=csv_buffer.getvalue())"
   ]
  },
  {
   "cell_type": "code",
   "execution_count": null,
   "id": "bb3a3a53-efd1-42f4-bbab-2714a35972af",
   "metadata": {},
   "outputs": [],
   "source": []
  },
  {
   "cell_type": "code",
   "execution_count": 15,
   "id": "72fdb54e-a5c3-4c41-af33-89b8474f9895",
   "metadata": {
    "execution": {
     "iopub.execute_input": "2024-09-20T10:04:52.076757Z",
     "iopub.status.busy": "2024-09-20T10:04:52.076470Z",
     "iopub.status.idle": "2024-09-20T10:04:52.130685Z",
     "shell.execute_reply": "2024-09-20T10:04:52.129713Z",
     "shell.execute_reply.started": "2024-09-20T10:04:52.076723Z"
    },
    "tags": []
   },
   "outputs": [
    {
     "data": {
      "application/vnd.jupyter.widget-view+json": {
       "model_id": "39ce6ba6010a438a99e6a4ea05b6e331",
       "version_major": 2,
       "version_minor": 0
      },
      "text/plain": [
       "VBox()"
      ]
     },
     "metadata": {},
     "output_type": "display_data"
    },
    {
     "data": {
      "application/vnd.jupyter.widget-view+json": {
       "model_id": "",
       "version_major": 2,
       "version_minor": 0
      },
      "text/plain": [
       "FloatProgress(value=0.0, bar_style='info', description='Progress:', layout=Layout(height='25px', width='50%'),…"
      ]
     },
     "metadata": {},
     "output_type": "display_data"
    },
    {
     "name": "stdout",
     "output_type": "stream",
     "text": [
      "['publicLink', 'fullName', 'gender', 'ethnicity', 'functional_workload', 'business_function', 'skills', 'msa', 'country', 'industry', 'curr_company', 'current_job_title', 'current_msa', 'current_synon_location', 'current_StartDate', 'current_EndDate', 'startDateYear', 'endDateYear', 'curr_summary', 'past_company', 'past_startDateYear', 'past_endDateYear', 'past_title', 'past_msa', 'past_synon_location', 'lower_curr_company', 'lower_past_company', 'Company Name', 'Keywords', 'companyName_lower']"
     ]
    }
   ],
   "source": [
    "com_df.columns"
   ]
  },
  {
   "cell_type": "code",
   "execution_count": null,
   "id": "1471c979-7874-489b-8d5b-44c9660eac91",
   "metadata": {},
   "outputs": [],
   "source": []
  },
  {
   "cell_type": "code",
   "execution_count": null,
   "id": "b0b40453-5cd9-48fa-834b-a0bb7145ac88",
   "metadata": {},
   "outputs": [],
   "source": []
  },
  {
   "cell_type": "code",
   "execution_count": null,
   "id": "2ae72e1b-a7e7-457d-bc0f-20b6449b086e",
   "metadata": {},
   "outputs": [],
   "source": []
  }
 ],
 "metadata": {
  "kernelspec": {
   "display_name": "PySpark",
   "language": "python",
   "name": "pysparkkernel"
  },
  "language_info": {
   "codemirror_mode": {
    "name": "python",
    "version": 3
   },
   "file_extension": ".py",
   "mimetype": "text/x-python",
   "name": "pyspark",
   "pygments_lexer": "python3"
  }
 },
 "nbformat": 4,
 "nbformat_minor": 5
}
