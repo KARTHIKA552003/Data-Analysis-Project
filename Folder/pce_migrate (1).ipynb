{
 "cells": [
  {
   "cell_type": "code",
   "execution_count": 1,
   "metadata": {
    "execution": {
     "iopub.execute_input": "2024-09-23T04:50:01.972621Z",
     "iopub.status.busy": "2024-09-23T04:50:01.972168Z",
     "iopub.status.idle": "2024-09-23T04:50:25.591491Z",
     "shell.execute_reply": "2024-09-23T04:50:25.590615Z",
     "shell.execute_reply.started": "2024-09-23T04:50:01.972577Z"
    },
    "tags": []
   },
   "outputs": [
    {
     "data": {
      "application/vnd.jupyter.widget-view+json": {
       "model_id": "782c84df79c0401bb2546dff1d655567",
       "version_major": 2,
       "version_minor": 0
      },
      "text/plain": [
       "VBox()"
      ]
     },
     "metadata": {},
     "output_type": "display_data"
    },
    {
     "name": "stdout",
     "output_type": "stream",
     "text": [
      "Starting Spark application\n"
     ]
    },
    {
     "data": {
      "text/html": [
       "<table>\n",
       "<tbody><tr><th>ID</th><th>YARN Application ID</th><th>Kind</th><th>State</th><th>Spark UI</th><th>Driver log</th><th>User</th><th>Current session?</th></tr><tr><td>7</td><td>application_1727057780008_0009</td><td>pyspark</td><td>idle</td><td><a target=\"_blank\" href=\"http://ip-172-22-10-117.us-east-2.compute.internal:20888/proxy/application_1727057780008_0009/\" class=\"emr-proxy-link j-3MBS1FXZDS5NA application_1727057780008_0009\" emr-resource=\"j-3MBS1FXZDS5NA\n",
       "\" application-id=\"application_1727057780008_0009\">Link</a></td><td><a target=\"_blank\" href=\"http://ip-172-22-10-9.us-east-2.compute.internal:8042/node/containerlogs/container_1727057780008_0009_01_000002/user_n-renukumar_rajendran_draup_com\">Link</a></td><td>user_n-renukumar_rajendran_draup_com</td><td>✔</td></tr></tbody></table>"
      ],
      "text/plain": [
       "<IPython.core.display.HTML object>"
      ]
     },
     "metadata": {},
     "output_type": "display_data"
    },
    {
     "data": {
      "application/vnd.jupyter.widget-view+json": {
       "model_id": "",
       "version_major": 2,
       "version_minor": 0
      },
      "text/plain": [
       "FloatProgress(value=0.0, bar_style='info', description='Progress:', layout=Layout(height='25px', width='50%'),…"
      ]
     },
     "metadata": {},
     "output_type": "display_data"
    },
    {
     "name": "stdout",
     "output_type": "stream",
     "text": [
      "SparkSession available as 'spark'.\n"
     ]
    },
    {
     "data": {
      "application/vnd.jupyter.widget-view+json": {
       "model_id": "",
       "version_major": 2,
       "version_minor": 0
      },
      "text/plain": [
       "FloatProgress(value=0.0, bar_style='info', description='Progress:', layout=Layout(height='25px', width='50%'),…"
      ]
     },
     "metadata": {},
     "output_type": "display_data"
    }
   ],
   "source": [
    "#start"
   ]
  },
  {
   "cell_type": "code",
   "execution_count": 6,
   "metadata": {
    "execution": {
     "iopub.execute_input": "2024-09-23T04:51:29.955416Z",
     "iopub.status.busy": "2024-09-23T04:51:29.955149Z",
     "iopub.status.idle": "2024-09-23T04:51:30.215440Z",
     "shell.execute_reply": "2024-09-23T04:51:30.214566Z",
     "shell.execute_reply.started": "2024-09-23T04:51:29.955383Z"
    },
    "tags": []
   },
   "outputs": [
    {
     "data": {
      "application/vnd.jupyter.widget-view+json": {
       "model_id": "58efe648fa99413fbc6211648ee4fb72",
       "version_major": 2,
       "version_minor": 0
      },
      "text/plain": [
       "VBox()"
      ]
     },
     "metadata": {},
     "output_type": "display_data"
    },
    {
     "data": {
      "application/vnd.jupyter.widget-view+json": {
       "model_id": "",
       "version_major": 2,
       "version_minor": 0
      },
      "text/plain": [
       "FloatProgress(value=0.0, bar_style='info', description='Progress:', layout=Layout(height='25px', width='50%'),…"
      ]
     },
     "metadata": {},
     "output_type": "display_data"
    }
   ],
   "source": [
    "sc.addPyFile(\"s3://jobs-emr-etl-config/jobs_run/prod/cc/ML_ETL_Config.py\")\n",
    "from ML_ETL_Config import *\n",
    "utils_module = MlEtlUtils(spark, sc)\n",
    "to_import = [name for name in dir(utils_module) if not (name.startswith('_') | (name==\"spark\") | (name==\"sc\"))]\n",
    "globals().update({name: getattr(utils_module, name) for name in to_import})\n",
    "from pyspark.sql.functions import *\n",
    "from pyspark.sql import Window"
   ]
  },
  {
   "cell_type": "code",
   "execution_count": 7,
   "metadata": {
    "execution": {
     "iopub.execute_input": "2024-09-23T04:51:33.011269Z",
     "iopub.status.busy": "2024-09-23T04:51:33.011004Z",
     "iopub.status.idle": "2024-09-23T04:51:33.777061Z",
     "shell.execute_reply": "2024-09-23T04:51:33.776205Z",
     "shell.execute_reply.started": "2024-09-23T04:51:33.011235Z"
    },
    "tags": []
   },
   "outputs": [
    {
     "data": {
      "application/vnd.jupyter.widget-view+json": {
       "model_id": "74ab18e6e6e1459697c07ee83e532a8d",
       "version_major": 2,
       "version_minor": 0
      },
      "text/plain": [
       "VBox()"
      ]
     },
     "metadata": {},
     "output_type": "display_data"
    },
    {
     "data": {
      "application/vnd.jupyter.widget-view+json": {
       "model_id": "",
       "version_major": 2,
       "version_minor": 0
      },
      "text/plain": [
       "FloatProgress(value=0.0, bar_style='info', description='Progress:', layout=Layout(height='25px', width='50%'),…"
      ]
     },
     "metadata": {},
     "output_type": "display_data"
    }
   ],
   "source": [
    "pce_data = spark.read.parquet('s3://draup-command-center/temp/cc/Renukumar_Draup/karthika/pce_profile_past_role_data_17-09-2024')"
   ]
  },
  {
   "cell_type": "code",
   "execution_count": 8,
   "metadata": {
    "execution": {
     "iopub.execute_input": "2024-09-23T04:51:33.778728Z",
     "iopub.status.busy": "2024-09-23T04:51:33.778504Z",
     "iopub.status.idle": "2024-09-23T04:51:33.834035Z",
     "shell.execute_reply": "2024-09-23T04:51:33.833156Z",
     "shell.execute_reply.started": "2024-09-23T04:51:33.778697Z"
    },
    "tags": []
   },
   "outputs": [
    {
     "data": {
      "application/vnd.jupyter.widget-view+json": {
       "model_id": "ef33885b9c1648c2a4ad78afaf3e858e",
       "version_major": 2,
       "version_minor": 0
      },
      "text/plain": [
       "VBox()"
      ]
     },
     "metadata": {},
     "output_type": "display_data"
    },
    {
     "data": {
      "application/vnd.jupyter.widget-view+json": {
       "model_id": "",
       "version_major": 2,
       "version_minor": 0
      },
      "text/plain": [
       "FloatProgress(value=0.0, bar_style='info', description='Progress:', layout=Layout(height='25px', width='50%'),…"
      ]
     },
     "metadata": {},
     "output_type": "display_data"
    },
    {
     "name": "stdout",
     "output_type": "stream",
     "text": [
      "root\n",
      " |-- mvp_company_name: string (nullable = true)\n",
      " |-- publicLink: string (nullable = true)\n",
      " |-- fullName: string (nullable = true)\n",
      " |-- gender: string (nullable = true)\n",
      " |-- ethnicity: struct (nullable = true)\n",
      " |    |-- category: string (nullable = true)\n",
      " |    |-- probability: double (nullable = true)\n",
      " |-- functional_workload: array (nullable = true)\n",
      " |    |-- element: string (containsNull = true)\n",
      " |-- business_function: array (nullable = true)\n",
      " |    |-- element: string (containsNull = true)\n",
      " |-- msa: string (nullable = true)\n",
      " |-- experience_in_current_company: double (nullable = true)\n",
      " |-- experience_in_current_job_role: double (nullable = true)\n",
      " |-- years_of_experience: double (nullable = true)\n",
      " |-- languages: array (nullable = true)\n",
      " |    |-- element: struct (containsNull = true)\n",
      " |    |    |-- languageName: string (nullable = true)\n",
      " |    |    |-- proficiency: string (nullable = true)\n",
      " |-- country: string (nullable = true)\n",
      " |-- curr_company: string (nullable = true)\n",
      " |-- current_industry: string (nullable = true)\n",
      " |-- current_job_title: string (nullable = true)\n",
      " |-- current_job_role: array (nullable = true)\n",
      " |    |-- element: string (containsNull = true)\n",
      " |-- current_msa: string (nullable = true)\n",
      " |-- current_synon_location: string (nullable = true)\n",
      " |-- current_StartDate: string (nullable = true)\n",
      " |-- current_EndDate: string (nullable = true)\n",
      " |-- startDateYear: string (nullable = true)\n",
      " |-- endDateYear: string (nullable = true)\n",
      " |-- past_company: string (nullable = true)\n",
      " |-- past_industry: string (nullable = true)\n",
      " |-- past_company_experience: double (nullable = true)\n",
      " |-- past_startDateYear: string (nullable = true)\n",
      " |-- past_endDateYear: string (nullable = true)\n",
      " |-- past_title: string (nullable = true)\n",
      " |-- past_msa: string (nullable = true)\n",
      " |-- past_synon_location: string (nullable = true)"
     ]
    }
   ],
   "source": [
    "pce_data.printSchema()"
   ]
  },
  {
   "cell_type": "markdown",
   "metadata": {},
   "source": [
    "### Role input file"
   ]
  },
  {
   "cell_type": "code",
   "execution_count": 9,
   "metadata": {
    "execution": {
     "iopub.execute_input": "2024-09-23T04:59:18.403647Z",
     "iopub.status.busy": "2024-09-23T04:59:18.403381Z",
     "iopub.status.idle": "2024-09-23T04:59:27.699346Z",
     "shell.execute_reply": "2024-09-23T04:59:27.698406Z",
     "shell.execute_reply.started": "2024-09-23T04:59:18.403613Z"
    },
    "tags": []
   },
   "outputs": [
    {
     "data": {
      "application/vnd.jupyter.widget-view+json": {
       "model_id": "760c7325cc6a4c639ee1823163dbfc54",
       "version_major": 2,
       "version_minor": 0
      },
      "text/plain": [
       "VBox()"
      ]
     },
     "metadata": {},
     "output_type": "display_data"
    },
    {
     "data": {
      "application/vnd.jupyter.widget-view+json": {
       "model_id": "",
       "version_major": 2,
       "version_minor": 0
      },
      "text/plain": [
       "FloatProgress(value=0.0, bar_style='info', description='Progress:', layout=Layout(height='25px', width='50%'),…"
      ]
     },
     "metadata": {},
     "output_type": "display_data"
    }
   ],
   "source": [
    "role_df = spark.read.csv('s3://draup-command-center/temp/cc/Renukumar_Draup/karthika/Input/platform_role_india_23_09_2024.csv', header=True)"
   ]
  },
  {
   "cell_type": "code",
   "execution_count": 10,
   "metadata": {
    "execution": {
     "iopub.execute_input": "2024-09-23T04:59:27.701045Z",
     "iopub.status.busy": "2024-09-23T04:59:27.700828Z",
     "iopub.status.idle": "2024-09-23T04:59:27.967619Z",
     "shell.execute_reply": "2024-09-23T04:59:27.966492Z",
     "shell.execute_reply.started": "2024-09-23T04:59:27.701014Z"
    },
    "tags": []
   },
   "outputs": [
    {
     "data": {
      "application/vnd.jupyter.widget-view+json": {
       "model_id": "66da5f09f5d64c6d8d4ece65d9a4b050",
       "version_major": 2,
       "version_minor": 0
      },
      "text/plain": [
       "VBox()"
      ]
     },
     "metadata": {},
     "output_type": "display_data"
    },
    {
     "data": {
      "application/vnd.jupyter.widget-view+json": {
       "model_id": "",
       "version_major": 2,
       "version_minor": 0
      },
      "text/plain": [
       "FloatProgress(value=0.0, bar_style='info', description='Progress:', layout=Layout(height='25px', width='50%'),…"
      ]
     },
     "metadata": {},
     "output_type": "display_data"
    },
    {
     "name": "stdout",
     "output_type": "stream",
     "text": [
      "['Platform Roles']"
     ]
    }
   ],
   "source": [
    "role_df.columns"
   ]
  },
  {
   "cell_type": "code",
   "execution_count": 18,
   "metadata": {
    "execution": {
     "iopub.execute_input": "2024-09-23T05:01:33.037528Z",
     "iopub.status.busy": "2024-09-23T05:01:33.037262Z",
     "iopub.status.idle": "2024-09-23T05:01:40.329396Z",
     "shell.execute_reply": "2024-09-23T05:01:40.328501Z",
     "shell.execute_reply.started": "2024-09-23T05:01:33.037494Z"
    }
   },
   "outputs": [
    {
     "data": {
      "application/vnd.jupyter.widget-view+json": {
       "model_id": "6d191cd9cb4740c6a20bcfce54693537",
       "version_major": 2,
       "version_minor": 0
      },
      "text/plain": [
       "VBox()"
      ]
     },
     "metadata": {},
     "output_type": "display_data"
    },
    {
     "data": {
      "application/vnd.jupyter.widget-view+json": {
       "model_id": "",
       "version_major": 2,
       "version_minor": 0
      },
      "text/plain": [
       "FloatProgress(value=0.0, bar_style='info', description='Progress:', layout=Layout(height='25px', width='50%'),…"
      ]
     },
     "metadata": {},
     "output_type": "display_data"
    },
    {
     "name": "stdout",
     "output_type": "stream",
     "text": [
      "+-------------------+\n",
      "|Platform Roles     |\n",
      "+-------------------+\n",
      "|Data Annotator     |\n",
      "|Data Entry Operator|\n",
      "|Content Writer     |\n",
      "|Copywriter         |\n",
      "|Data Analyst       |\n",
      "|Content Curator    |\n",
      "|Content Editor     |\n",
      "|Content Strategist |\n",
      "+-------------------+"
     ]
    }
   ],
   "source": [
    "role_df.show(truncate = False)"
   ]
  },
  {
   "cell_type": "code",
   "execution_count": 11,
   "metadata": {
    "execution": {
     "iopub.execute_input": "2024-09-23T04:59:37.639501Z",
     "iopub.status.busy": "2024-09-23T04:59:37.639229Z",
     "iopub.status.idle": "2024-09-23T04:59:37.900054Z",
     "shell.execute_reply": "2024-09-23T04:59:37.899083Z",
     "shell.execute_reply.started": "2024-09-23T04:59:37.639467Z"
    },
    "tags": []
   },
   "outputs": [
    {
     "data": {
      "application/vnd.jupyter.widget-view+json": {
       "model_id": "f4223c8ed3f64290ab4669753b83d60c",
       "version_major": 2,
       "version_minor": 0
      },
      "text/plain": [
       "VBox()"
      ]
     },
     "metadata": {},
     "output_type": "display_data"
    },
    {
     "data": {
      "application/vnd.jupyter.widget-view+json": {
       "model_id": "",
       "version_major": 2,
       "version_minor": 0
      },
      "text/plain": [
       "FloatProgress(value=0.0, bar_style='info', description='Progress:', layout=Layout(height='25px', width='50%'),…"
      ]
     },
     "metadata": {},
     "output_type": "display_data"
    }
   ],
   "source": [
    "pce_df1 = pce_data.withColumn('Job Role',explode(col('current_job_role')))"
   ]
  },
  {
   "cell_type": "code",
   "execution_count": 7,
   "metadata": {
    "execution": {
     "iopub.execute_input": "2024-09-20T06:42:02.660683Z",
     "iopub.status.busy": "2024-09-20T06:42:02.660399Z",
     "iopub.status.idle": "2024-09-20T06:42:02.715831Z",
     "shell.execute_reply": "2024-09-20T06:42:02.714917Z",
     "shell.execute_reply.started": "2024-09-20T06:42:02.660650Z"
    },
    "tags": []
   },
   "outputs": [
    {
     "data": {
      "application/vnd.jupyter.widget-view+json": {
       "model_id": "18ed567ca7a04b4d958f8dfb7571b7c5",
       "version_major": 2,
       "version_minor": 0
      },
      "text/plain": [
       "VBox()"
      ]
     },
     "metadata": {},
     "output_type": "display_data"
    },
    {
     "data": {
      "application/vnd.jupyter.widget-view+json": {
       "model_id": "",
       "version_major": 2,
       "version_minor": 0
      },
      "text/plain": [
       "FloatProgress(value=0.0, bar_style='info', description='Progress:', layout=Layout(height='25px', width='50%'),…"
      ]
     },
     "metadata": {},
     "output_type": "display_data"
    }
   ],
   "source": [
    "#role_df = pce_df1.filter(col('Job Role') == 'Product Marketing Manager')\n"
   ]
  },
  {
   "cell_type": "code",
   "execution_count": 12,
   "metadata": {
    "execution": {
     "iopub.execute_input": "2024-09-23T04:59:41.296403Z",
     "iopub.status.busy": "2024-09-23T04:59:41.296100Z",
     "iopub.status.idle": "2024-09-23T04:59:41.555016Z",
     "shell.execute_reply": "2024-09-23T04:59:41.554061Z",
     "shell.execute_reply.started": "2024-09-23T04:59:41.296370Z"
    },
    "tags": []
   },
   "outputs": [
    {
     "data": {
      "application/vnd.jupyter.widget-view+json": {
       "model_id": "1b9ae5d1ee6d4d2b8189dd6df8a7e3fd",
       "version_major": 2,
       "version_minor": 0
      },
      "text/plain": [
       "VBox()"
      ]
     },
     "metadata": {},
     "output_type": "display_data"
    },
    {
     "data": {
      "application/vnd.jupyter.widget-view+json": {
       "model_id": "",
       "version_major": 2,
       "version_minor": 0
      },
      "text/plain": [
       "FloatProgress(value=0.0, bar_style='info', description='Progress:', layout=Layout(height='25px', width='50%'),…"
      ]
     },
     "metadata": {},
     "output_type": "display_data"
    }
   ],
   "source": [
    "join_df = pce_df1.join(role_df, pce_df1['Job Role'] == role_df['Platform Roles'], 'inner').drop('Platform Roles')"
   ]
  },
  {
   "cell_type": "markdown",
   "metadata": {},
   "source": [
    "### mas input file"
   ]
  },
  {
   "cell_type": "code",
   "execution_count": 21,
   "metadata": {
    "execution": {
     "iopub.execute_input": "2024-09-23T05:07:27.683641Z",
     "iopub.status.busy": "2024-09-23T05:07:27.683375Z",
     "iopub.status.idle": "2024-09-23T05:07:34.974904Z",
     "shell.execute_reply": "2024-09-23T05:07:34.973970Z",
     "shell.execute_reply.started": "2024-09-23T05:07:27.683608Z"
    },
    "tags": []
   },
   "outputs": [
    {
     "data": {
      "application/vnd.jupyter.widget-view+json": {
       "model_id": "9f994479bb4247f79ebcc5038ff9731e",
       "version_major": 2,
       "version_minor": 0
      },
      "text/plain": [
       "VBox()"
      ]
     },
     "metadata": {},
     "output_type": "display_data"
    },
    {
     "data": {
      "application/vnd.jupyter.widget-view+json": {
       "model_id": "",
       "version_major": 2,
       "version_minor": 0
      },
      "text/plain": [
       "FloatProgress(value=0.0, bar_style='info', description='Progress:', layout=Layout(height='25px', width='50%'),…"
      ]
     },
     "metadata": {},
     "output_type": "display_data"
    }
   ],
   "source": [
    "loc_df=spark.read.csv('s3://draup-command-center/temp/cc/Renukumar_Draup/karthika/Input/india_msa_23_09_2024.csv',header=True).withColumnRenamed('msa', 'msa_data')"
   ]
  },
  {
   "cell_type": "code",
   "execution_count": 22,
   "metadata": {
    "execution": {
     "iopub.execute_input": "2024-09-23T05:07:34.976512Z",
     "iopub.status.busy": "2024-09-23T05:07:34.976283Z",
     "iopub.status.idle": "2024-09-23T05:07:35.028591Z",
     "shell.execute_reply": "2024-09-23T05:07:35.027726Z",
     "shell.execute_reply.started": "2024-09-23T05:07:34.976481Z"
    },
    "tags": []
   },
   "outputs": [
    {
     "data": {
      "application/vnd.jupyter.widget-view+json": {
       "model_id": "94994ba88f06421895b93e663c78613f",
       "version_major": 2,
       "version_minor": 0
      },
      "text/plain": [
       "VBox()"
      ]
     },
     "metadata": {},
     "output_type": "display_data"
    },
    {
     "data": {
      "application/vnd.jupyter.widget-view+json": {
       "model_id": "",
       "version_major": 2,
       "version_minor": 0
      },
      "text/plain": [
       "FloatProgress(value=0.0, bar_style='info', description='Progress:', layout=Layout(height='25px', width='50%'),…"
      ]
     },
     "metadata": {},
     "output_type": "display_data"
    },
    {
     "name": "stdout",
     "output_type": "stream",
     "text": [
      "['msa_data', 'Country', 'Region']"
     ]
    }
   ],
   "source": [
    "loc_df.columns"
   ]
  },
  {
   "cell_type": "code",
   "execution_count": 23,
   "metadata": {
    "execution": {
     "iopub.execute_input": "2024-09-23T05:07:51.435450Z",
     "iopub.status.busy": "2024-09-23T05:07:51.435176Z",
     "iopub.status.idle": "2024-09-23T05:07:51.697702Z",
     "shell.execute_reply": "2024-09-23T05:07:51.696694Z",
     "shell.execute_reply.started": "2024-09-23T05:07:51.435417Z"
    }
   },
   "outputs": [
    {
     "data": {
      "application/vnd.jupyter.widget-view+json": {
       "model_id": "97719f924341466a936a703f6c7ee1f3",
       "version_major": 2,
       "version_minor": 0
      },
      "text/plain": [
       "VBox()"
      ]
     },
     "metadata": {},
     "output_type": "display_data"
    },
    {
     "data": {
      "application/vnd.jupyter.widget-view+json": {
       "model_id": "",
       "version_major": 2,
       "version_minor": 0
      },
      "text/plain": [
       "FloatProgress(value=0.0, bar_style='info', description='Progress:', layout=Layout(height='25px', width='50%'),…"
      ]
     },
     "metadata": {},
     "output_type": "display_data"
    },
    {
     "name": "stdout",
     "output_type": "stream",
     "text": [
      "+-------+\n",
      "|Country|\n",
      "+-------+\n",
      "|India  |\n",
      "|India  |\n",
      "|India  |\n",
      "|India  |\n",
      "|India  |\n",
      "|India  |\n",
      "|India  |\n",
      "|India  |\n",
      "|India  |\n",
      "|India  |\n",
      "|India  |\n",
      "|India  |\n",
      "|India  |\n",
      "|India  |\n",
      "|India  |\n",
      "|India  |\n",
      "|India  |\n",
      "|India  |\n",
      "|India  |\n",
      "|India  |\n",
      "+-------+\n",
      "only showing top 20 rows"
     ]
    }
   ],
   "source": [
    "loc_df[['Country']].show(truncate = False)"
   ]
  },
  {
   "cell_type": "code",
   "execution_count": 15,
   "metadata": {
    "execution": {
     "iopub.execute_input": "2024-09-23T05:00:13.443586Z",
     "iopub.status.busy": "2024-09-23T05:00:13.443318Z",
     "iopub.status.idle": "2024-09-23T05:00:13.702812Z",
     "shell.execute_reply": "2024-09-23T05:00:13.701897Z",
     "shell.execute_reply.started": "2024-09-23T05:00:13.443553Z"
    },
    "tags": []
   },
   "outputs": [
    {
     "data": {
      "application/vnd.jupyter.widget-view+json": {
       "model_id": "72a2e1418e58456bb9df4a4698597343",
       "version_major": 2,
       "version_minor": 0
      },
      "text/plain": [
       "VBox()"
      ]
     },
     "metadata": {},
     "output_type": "display_data"
    },
    {
     "data": {
      "application/vnd.jupyter.widget-view+json": {
       "model_id": "",
       "version_major": 2,
       "version_minor": 0
      },
      "text/plain": [
       "FloatProgress(value=0.0, bar_style='info', description='Progress:', layout=Layout(height='25px', width='50%'),…"
      ]
     },
     "metadata": {},
     "output_type": "display_data"
    }
   ],
   "source": [
    "main_df = join_df.join(loc_df, join_df['msa'] == loc_df['msa_data'], 'inner').drop('msa_data')\n"
   ]
  },
  {
   "cell_type": "code",
   "execution_count": 16,
   "metadata": {
    "execution": {
     "iopub.execute_input": "2024-09-23T05:00:14.465498Z",
     "iopub.status.busy": "2024-09-23T05:00:14.465239Z",
     "iopub.status.idle": "2024-09-23T05:00:14.523132Z",
     "shell.execute_reply": "2024-09-23T05:00:14.522179Z",
     "shell.execute_reply.started": "2024-09-23T05:00:14.465466Z"
    },
    "tags": []
   },
   "outputs": [
    {
     "data": {
      "application/vnd.jupyter.widget-view+json": {
       "model_id": "eb3b307441a44e6796d85219aaf39765",
       "version_major": 2,
       "version_minor": 0
      },
      "text/plain": [
       "VBox()"
      ]
     },
     "metadata": {},
     "output_type": "display_data"
    },
    {
     "data": {
      "application/vnd.jupyter.widget-view+json": {
       "model_id": "",
       "version_major": 2,
       "version_minor": 0
      },
      "text/plain": [
       "FloatProgress(value=0.0, bar_style='info', description='Progress:', layout=Layout(height='25px', width='50%'),…"
      ]
     },
     "metadata": {},
     "output_type": "display_data"
    },
    {
     "name": "stdout",
     "output_type": "stream",
     "text": [
      "['mvp_company_name', 'publicLink', 'fullName', 'gender', 'ethnicity', 'functional_workload', 'business_function', 'msa', 'experience_in_current_company', 'experience_in_current_job_role', 'years_of_experience', 'languages', 'country', 'curr_company', 'current_industry', 'current_job_title', 'current_job_role', 'current_msa', 'current_synon_location', 'current_StartDate', 'current_EndDate', 'startDateYear', 'endDateYear', 'past_company', 'past_industry', 'past_company_experience', 'past_startDateYear', 'past_endDateYear', 'past_title', 'past_msa', 'past_synon_location', 'Job Role', 'Country', 'Region']"
     ]
    }
   ],
   "source": [
    "main_df.columns"
   ]
  },
  {
   "cell_type": "code",
   "execution_count": 17,
   "metadata": {
    "execution": {
     "iopub.execute_input": "2024-09-23T05:00:19.506985Z",
     "iopub.status.busy": "2024-09-23T05:00:19.506714Z",
     "iopub.status.idle": "2024-09-23T05:00:32.826684Z",
     "shell.execute_reply": "2024-09-23T05:00:32.825806Z",
     "shell.execute_reply.started": "2024-09-23T05:00:19.506951Z"
    },
    "tags": []
   },
   "outputs": [
    {
     "data": {
      "application/vnd.jupyter.widget-view+json": {
       "model_id": "cebcb4ecf36f434686bf3d91a16773c9",
       "version_major": 2,
       "version_minor": 0
      },
      "text/plain": [
       "VBox()"
      ]
     },
     "metadata": {},
     "output_type": "display_data"
    },
    {
     "data": {
      "application/vnd.jupyter.widget-view+json": {
       "model_id": "",
       "version_major": 2,
       "version_minor": 0
      },
      "text/plain": [
       "FloatProgress(value=0.0, bar_style='info', description='Progress:', layout=Layout(height='25px', width='50%'),…"
      ]
     },
     "metadata": {},
     "output_type": "display_data"
    },
    {
     "name": "stdout",
     "output_type": "stream",
     "text": [
      "97854"
     ]
    }
   ],
   "source": [
    "main_df.count()"
   ]
  },
  {
   "cell_type": "markdown",
   "metadata": {},
   "source": [
    "### Inbount Output"
   ]
  },
  {
   "cell_type": "code",
   "execution_count": 20,
   "metadata": {
    "execution": {
     "iopub.execute_input": "2024-09-23T05:04:38.084911Z",
     "iopub.status.busy": "2024-09-23T05:04:38.084644Z",
     "iopub.status.idle": "2024-09-23T05:05:05.436461Z",
     "shell.execute_reply": "2024-09-23T05:05:05.435471Z",
     "shell.execute_reply.started": "2024-09-23T05:04:38.084878Z"
    },
    "tags": []
   },
   "outputs": [
    {
     "data": {
      "application/vnd.jupyter.widget-view+json": {
       "model_id": "1ebb1e48c9f349c4917a69bb5c73960f",
       "version_major": 2,
       "version_minor": 0
      },
      "text/plain": [
       "VBox()"
      ]
     },
     "metadata": {},
     "output_type": "display_data"
    },
    {
     "data": {
      "application/vnd.jupyter.widget-view+json": {
       "model_id": "",
       "version_major": 2,
       "version_minor": 0
      },
      "text/plain": [
       "FloatProgress(value=0.0, bar_style='info', description='Progress:', layout=Layout(height='25px', width='50%'),…"
      ]
     },
     "metadata": {},
     "output_type": "display_data"
    },
    {
     "name": "stdout",
     "output_type": "stream",
     "text": [
      "{'ResponseMetadata': {'RequestId': 'GKWATXF0MQ63B222', 'HostId': 'NjZllV3XPXtsuj5c8PduqKUBl1APr7zy2YB0aSsWv1rLUSCiXQNEJJkSVCGsyMxnqvdRNm0UqUlHpFhslHPS6d0MuyfeCE5y2wjqTc0J8dY=', 'HTTPStatusCode': 200, 'HTTPHeaders': {'x-amz-id-2': 'NjZllV3XPXtsuj5c8PduqKUBl1APr7zy2YB0aSsWv1rLUSCiXQNEJJkSVCGsyMxnqvdRNm0UqUlHpFhslHPS6d0MuyfeCE5y2wjqTc0J8dY=', 'x-amz-request-id': 'GKWATXF0MQ63B222', 'date': 'Mon, 23 Sep 2024 05:05:04 GMT', 'x-amz-expiration': 'expiry-date=\"Sun, 29 Sep 2024 00:00:00 GMT\", rule-id=\"Delete in temp folder\"', 'x-amz-server-side-encryption': 'AES256', 'etag': '\"293f1af61dd42e12bef86910ee856c41\"', 'server': 'AmazonS3', 'content-length': '0'}, 'RetryAttempts': 1}, 'Expiration': 'expiry-date=\"Sun, 29 Sep 2024 00:00:00 GMT\", rule-id=\"Delete in temp folder\"', 'ETag': '\"293f1af61dd42e12bef86910ee856c41\"', 'ServerSideEncryption': 'AES256'}"
     ]
    }
   ],
   "source": [
    "from io import StringIO # python3; python2: BytesIO import boto3\n",
    "import boto3\n",
    "\n",
    "\n",
    "bucket = 'draup-command-center' # already created on S3\n",
    "csv_buffer = StringIO()\n",
    "\n",
    "res2=main_df.toPandas()\n",
    "res2.to_csv(csv_buffer)\n",
    "s3_resource = boto3.resource('s3')\n",
    "s3_resource.Object(bucket, 'temp/cc/Renukumar_Draup/karthika/output/pce_migration_india_Inbount_data_23-09-2024.csv').put(Body=csv_buffer.getvalue())"
   ]
  },
  {
   "cell_type": "markdown",
   "metadata": {},
   "source": [
    "### Outbount "
   ]
  },
  {
   "cell_type": "code",
   "execution_count": 15,
   "metadata": {
    "execution": {
     "iopub.execute_input": "2024-09-20T04:19:12.656610Z",
     "iopub.status.busy": "2024-09-20T04:19:12.656075Z",
     "iopub.status.idle": "2024-09-20T04:19:12.771043Z",
     "shell.execute_reply": "2024-09-20T04:19:12.768624Z",
     "shell.execute_reply.started": "2024-09-20T04:19:12.656545Z"
    }
   },
   "outputs": [
    {
     "data": {
      "application/vnd.jupyter.widget-view+json": {
       "model_id": "18eefce5fb284868822917038907ddab",
       "version_major": 2,
       "version_minor": 0
      },
      "text/plain": [
       "VBox()"
      ]
     },
     "metadata": {},
     "output_type": "display_data"
    },
    {
     "data": {
      "application/vnd.jupyter.widget-view+json": {
       "model_id": "",
       "version_major": 2,
       "version_minor": 0
      },
      "text/plain": [
       "FloatProgress(value=0.0, bar_style='info', description='Progress:', layout=Layout(height='25px', width='50%'),…"
      ]
     },
     "metadata": {},
     "output_type": "display_data"
    }
   ],
   "source": [
    "main_df1 = role_df.join(loc_df,role_df['past_msa'] == loc_df['msa_data'],'inner')"
   ]
  },
  {
   "cell_type": "code",
   "execution_count": 16,
   "metadata": {
    "execution": {
     "iopub.execute_input": "2024-09-20T04:19:12.930141Z",
     "iopub.status.busy": "2024-09-20T04:19:12.929727Z",
     "iopub.status.idle": "2024-09-20T04:19:36.313695Z",
     "shell.execute_reply": "2024-09-20T04:19:36.312841Z",
     "shell.execute_reply.started": "2024-09-20T04:19:12.930098Z"
    }
   },
   "outputs": [
    {
     "data": {
      "application/vnd.jupyter.widget-view+json": {
       "model_id": "285d77436c6e4d6fa8e8a1f0ab7667b9",
       "version_major": 2,
       "version_minor": 0
      },
      "text/plain": [
       "VBox()"
      ]
     },
     "metadata": {},
     "output_type": "display_data"
    },
    {
     "data": {
      "application/vnd.jupyter.widget-view+json": {
       "model_id": "",
       "version_major": 2,
       "version_minor": 0
      },
      "text/plain": [
       "FloatProgress(value=0.0, bar_style='info', description='Progress:', layout=Layout(height='25px', width='50%'),…"
      ]
     },
     "metadata": {},
     "output_type": "display_data"
    },
    {
     "name": "stdout",
     "output_type": "stream",
     "text": [
      "398"
     ]
    }
   ],
   "source": [
    "main_df1.count()"
   ]
  },
  {
   "cell_type": "code",
   "execution_count": 17,
   "metadata": {
    "execution": {
     "iopub.execute_input": "2024-09-20T04:19:47.593713Z",
     "iopub.status.busy": "2024-09-20T04:19:47.593447Z",
     "iopub.status.idle": "2024-09-20T04:21:09.216512Z",
     "shell.execute_reply": "2024-09-20T04:21:09.215662Z",
     "shell.execute_reply.started": "2024-09-20T04:19:47.593681Z"
    }
   },
   "outputs": [
    {
     "data": {
      "application/vnd.jupyter.widget-view+json": {
       "model_id": "a847a24562f24638a607df943efceec6",
       "version_major": 2,
       "version_minor": 0
      },
      "text/plain": [
       "VBox()"
      ]
     },
     "metadata": {},
     "output_type": "display_data"
    },
    {
     "data": {
      "application/vnd.jupyter.widget-view+json": {
       "model_id": "",
       "version_major": 2,
       "version_minor": 0
      },
      "text/plain": [
       "FloatProgress(value=0.0, bar_style='info', description='Progress:', layout=Layout(height='25px', width='50%'),…"
      ]
     },
     "metadata": {},
     "output_type": "display_data"
    },
    {
     "name": "stdout",
     "output_type": "stream",
     "text": [
      "{'ResponseMetadata': {'RequestId': 'MGQESVVFCXNTBXQF', 'HostId': 'oWAJaPVws2Yct6lBeh0hBhxbIhceTB5VP85Tad1ab7c0j9Dtk8JpuRcCMg04jLiYZp4sJVverBUvkdptgz3+cA==', 'HTTPStatusCode': 200, 'HTTPHeaders': {'x-amz-id-2': 'oWAJaPVws2Yct6lBeh0hBhxbIhceTB5VP85Tad1ab7c0j9Dtk8JpuRcCMg04jLiYZp4sJVverBUvkdptgz3+cA==', 'x-amz-request-id': 'MGQESVVFCXNTBXQF', 'date': 'Fri, 20 Sep 2024 04:21:09 GMT', 'x-amz-expiration': 'expiry-date=\"Thu, 26 Sep 2024 00:00:00 GMT\", rule-id=\"Delete in temp folder\"', 'x-amz-server-side-encryption': 'AES256', 'etag': '\"62a0f2fba74fc40a08492479accc3ebd\"', 'server': 'AmazonS3', 'content-length': '0'}, 'RetryAttempts': 1}, 'Expiration': 'expiry-date=\"Thu, 26 Sep 2024 00:00:00 GMT\", rule-id=\"Delete in temp folder\"', 'ETag': '\"62a0f2fba74fc40a08492479accc3ebd\"', 'ServerSideEncryption': 'AES256'}"
     ]
    }
   ],
   "source": [
    "from io import StringIO # python3; python2: BytesIO import boto3\n",
    "import boto3\n",
    "\n",
    "\n",
    "bucket = 'draup-command-center' # already created on S3\n",
    "csv_buffer = StringIO()\n",
    "\n",
    "res2=main_df1.toPandas()\n",
    "res2.to_csv(csv_buffer)\n",
    "s3_resource = boto3.resource('s3')\n",
    "s3_resource.Object(bucket, 'temp/cc/Renukumar_Draup/karthika/output/pce_migration_canada_Outbount_data_20-09-2024.csv').put(Body=csv_buffer.getvalue())"
   ]
  },
  {
   "cell_type": "code",
   "execution_count": null,
   "metadata": {},
   "outputs": [],
   "source": []
  },
  {
   "cell_type": "code",
   "execution_count": null,
   "metadata": {},
   "outputs": [],
   "source": []
  },
  {
   "cell_type": "code",
   "execution_count": null,
   "metadata": {},
   "outputs": [],
   "source": []
  }
 ],
 "metadata": {
  "kernelspec": {
   "display_name": "PySpark",
   "language": "python",
   "name": "pysparkkernel"
  },
  "language_info": {
   "codemirror_mode": {
    "name": "python",
    "version": 3
   },
   "file_extension": ".py",
   "mimetype": "text/x-python",
   "name": "pyspark",
   "pygments_lexer": "python3"
  }
 },
 "nbformat": 4,
 "nbformat_minor": 4
}
